{
  "nbformat": 4,
  "nbformat_minor": 0,
  "metadata": {
    "colab": {
      "provenance": [],
      "machine_shape": "hm",
      "gpuType": "A100"
    },
    "kernelspec": {
      "name": "python3",
      "display_name": "Python 3"
    },
    "language_info": {
      "name": "python"
    },
    "accelerator": "GPU",
    "widgets": {
      "application/vnd.jupyter.widget-state+json": {
        "6836e077daab45e28e649a6d96a3483e": {
          "model_module": "@jupyter-widgets/controls",
          "model_name": "HBoxModel",
          "model_module_version": "1.5.0",
          "state": {
            "_dom_classes": [],
            "_model_module": "@jupyter-widgets/controls",
            "_model_module_version": "1.5.0",
            "_model_name": "HBoxModel",
            "_view_count": null,
            "_view_module": "@jupyter-widgets/controls",
            "_view_module_version": "1.5.0",
            "_view_name": "HBoxView",
            "box_style": "",
            "children": [
              "IPY_MODEL_95079ec0a6e04a62982678f760969bfd",
              "IPY_MODEL_c9da7ad1545a41699b9db70d1146e62f",
              "IPY_MODEL_fc8a0af79012409b8576a9a4cbefce3f"
            ],
            "layout": "IPY_MODEL_111c85608e62404cb906f354bce6ee60"
          }
        },
        "95079ec0a6e04a62982678f760969bfd": {
          "model_module": "@jupyter-widgets/controls",
          "model_name": "HTMLModel",
          "model_module_version": "1.5.0",
          "state": {
            "_dom_classes": [],
            "_model_module": "@jupyter-widgets/controls",
            "_model_module_version": "1.5.0",
            "_model_name": "HTMLModel",
            "_view_count": null,
            "_view_module": "@jupyter-widgets/controls",
            "_view_module_version": "1.5.0",
            "_view_name": "HTMLView",
            "description": "",
            "description_tooltip": null,
            "layout": "IPY_MODEL_0ec9208d2f4a48ad91b6f4428fd99933",
            "placeholder": "​",
            "style": "IPY_MODEL_57bbb13fe2c6447e9b6a969cacf92804",
            "value": "tokenizer_config.json: 100%"
          }
        },
        "c9da7ad1545a41699b9db70d1146e62f": {
          "model_module": "@jupyter-widgets/controls",
          "model_name": "FloatProgressModel",
          "model_module_version": "1.5.0",
          "state": {
            "_dom_classes": [],
            "_model_module": "@jupyter-widgets/controls",
            "_model_module_version": "1.5.0",
            "_model_name": "FloatProgressModel",
            "_view_count": null,
            "_view_module": "@jupyter-widgets/controls",
            "_view_module_version": "1.5.0",
            "_view_name": "ProgressView",
            "bar_style": "success",
            "description": "",
            "description_tooltip": null,
            "layout": "IPY_MODEL_1aa35cf98863416181f0b1be0edbd0e6",
            "max": 7305,
            "min": 0,
            "orientation": "horizontal",
            "style": "IPY_MODEL_61d16ad7b7574e97a9f505e609926eea",
            "value": 7305
          }
        },
        "fc8a0af79012409b8576a9a4cbefce3f": {
          "model_module": "@jupyter-widgets/controls",
          "model_name": "HTMLModel",
          "model_module_version": "1.5.0",
          "state": {
            "_dom_classes": [],
            "_model_module": "@jupyter-widgets/controls",
            "_model_module_version": "1.5.0",
            "_model_name": "HTMLModel",
            "_view_count": null,
            "_view_module": "@jupyter-widgets/controls",
            "_view_module_version": "1.5.0",
            "_view_name": "HTMLView",
            "description": "",
            "description_tooltip": null,
            "layout": "IPY_MODEL_166bd3df49e34dbda2dbb2c92e804a5e",
            "placeholder": "​",
            "style": "IPY_MODEL_84fa77ad03424ae097cb00c2b0505229",
            "value": " 7.30k/7.30k [00:00&lt;00:00, 816kB/s]"
          }
        },
        "111c85608e62404cb906f354bce6ee60": {
          "model_module": "@jupyter-widgets/base",
          "model_name": "LayoutModel",
          "model_module_version": "1.2.0",
          "state": {
            "_model_module": "@jupyter-widgets/base",
            "_model_module_version": "1.2.0",
            "_model_name": "LayoutModel",
            "_view_count": null,
            "_view_module": "@jupyter-widgets/base",
            "_view_module_version": "1.2.0",
            "_view_name": "LayoutView",
            "align_content": null,
            "align_items": null,
            "align_self": null,
            "border": null,
            "bottom": null,
            "display": null,
            "flex": null,
            "flex_flow": null,
            "grid_area": null,
            "grid_auto_columns": null,
            "grid_auto_flow": null,
            "grid_auto_rows": null,
            "grid_column": null,
            "grid_gap": null,
            "grid_row": null,
            "grid_template_areas": null,
            "grid_template_columns": null,
            "grid_template_rows": null,
            "height": null,
            "justify_content": null,
            "justify_items": null,
            "left": null,
            "margin": null,
            "max_height": null,
            "max_width": null,
            "min_height": null,
            "min_width": null,
            "object_fit": null,
            "object_position": null,
            "order": null,
            "overflow": null,
            "overflow_x": null,
            "overflow_y": null,
            "padding": null,
            "right": null,
            "top": null,
            "visibility": null,
            "width": null
          }
        },
        "0ec9208d2f4a48ad91b6f4428fd99933": {
          "model_module": "@jupyter-widgets/base",
          "model_name": "LayoutModel",
          "model_module_version": "1.2.0",
          "state": {
            "_model_module": "@jupyter-widgets/base",
            "_model_module_version": "1.2.0",
            "_model_name": "LayoutModel",
            "_view_count": null,
            "_view_module": "@jupyter-widgets/base",
            "_view_module_version": "1.2.0",
            "_view_name": "LayoutView",
            "align_content": null,
            "align_items": null,
            "align_self": null,
            "border": null,
            "bottom": null,
            "display": null,
            "flex": null,
            "flex_flow": null,
            "grid_area": null,
            "grid_auto_columns": null,
            "grid_auto_flow": null,
            "grid_auto_rows": null,
            "grid_column": null,
            "grid_gap": null,
            "grid_row": null,
            "grid_template_areas": null,
            "grid_template_columns": null,
            "grid_template_rows": null,
            "height": null,
            "justify_content": null,
            "justify_items": null,
            "left": null,
            "margin": null,
            "max_height": null,
            "max_width": null,
            "min_height": null,
            "min_width": null,
            "object_fit": null,
            "object_position": null,
            "order": null,
            "overflow": null,
            "overflow_x": null,
            "overflow_y": null,
            "padding": null,
            "right": null,
            "top": null,
            "visibility": null,
            "width": null
          }
        },
        "57bbb13fe2c6447e9b6a969cacf92804": {
          "model_module": "@jupyter-widgets/controls",
          "model_name": "DescriptionStyleModel",
          "model_module_version": "1.5.0",
          "state": {
            "_model_module": "@jupyter-widgets/controls",
            "_model_module_version": "1.5.0",
            "_model_name": "DescriptionStyleModel",
            "_view_count": null,
            "_view_module": "@jupyter-widgets/base",
            "_view_module_version": "1.2.0",
            "_view_name": "StyleView",
            "description_width": ""
          }
        },
        "1aa35cf98863416181f0b1be0edbd0e6": {
          "model_module": "@jupyter-widgets/base",
          "model_name": "LayoutModel",
          "model_module_version": "1.2.0",
          "state": {
            "_model_module": "@jupyter-widgets/base",
            "_model_module_version": "1.2.0",
            "_model_name": "LayoutModel",
            "_view_count": null,
            "_view_module": "@jupyter-widgets/base",
            "_view_module_version": "1.2.0",
            "_view_name": "LayoutView",
            "align_content": null,
            "align_items": null,
            "align_self": null,
            "border": null,
            "bottom": null,
            "display": null,
            "flex": null,
            "flex_flow": null,
            "grid_area": null,
            "grid_auto_columns": null,
            "grid_auto_flow": null,
            "grid_auto_rows": null,
            "grid_column": null,
            "grid_gap": null,
            "grid_row": null,
            "grid_template_areas": null,
            "grid_template_columns": null,
            "grid_template_rows": null,
            "height": null,
            "justify_content": null,
            "justify_items": null,
            "left": null,
            "margin": null,
            "max_height": null,
            "max_width": null,
            "min_height": null,
            "min_width": null,
            "object_fit": null,
            "object_position": null,
            "order": null,
            "overflow": null,
            "overflow_x": null,
            "overflow_y": null,
            "padding": null,
            "right": null,
            "top": null,
            "visibility": null,
            "width": null
          }
        },
        "61d16ad7b7574e97a9f505e609926eea": {
          "model_module": "@jupyter-widgets/controls",
          "model_name": "ProgressStyleModel",
          "model_module_version": "1.5.0",
          "state": {
            "_model_module": "@jupyter-widgets/controls",
            "_model_module_version": "1.5.0",
            "_model_name": "ProgressStyleModel",
            "_view_count": null,
            "_view_module": "@jupyter-widgets/base",
            "_view_module_version": "1.2.0",
            "_view_name": "StyleView",
            "bar_color": null,
            "description_width": ""
          }
        },
        "166bd3df49e34dbda2dbb2c92e804a5e": {
          "model_module": "@jupyter-widgets/base",
          "model_name": "LayoutModel",
          "model_module_version": "1.2.0",
          "state": {
            "_model_module": "@jupyter-widgets/base",
            "_model_module_version": "1.2.0",
            "_model_name": "LayoutModel",
            "_view_count": null,
            "_view_module": "@jupyter-widgets/base",
            "_view_module_version": "1.2.0",
            "_view_name": "LayoutView",
            "align_content": null,
            "align_items": null,
            "align_self": null,
            "border": null,
            "bottom": null,
            "display": null,
            "flex": null,
            "flex_flow": null,
            "grid_area": null,
            "grid_auto_columns": null,
            "grid_auto_flow": null,
            "grid_auto_rows": null,
            "grid_column": null,
            "grid_gap": null,
            "grid_row": null,
            "grid_template_areas": null,
            "grid_template_columns": null,
            "grid_template_rows": null,
            "height": null,
            "justify_content": null,
            "justify_items": null,
            "left": null,
            "margin": null,
            "max_height": null,
            "max_width": null,
            "min_height": null,
            "min_width": null,
            "object_fit": null,
            "object_position": null,
            "order": null,
            "overflow": null,
            "overflow_x": null,
            "overflow_y": null,
            "padding": null,
            "right": null,
            "top": null,
            "visibility": null,
            "width": null
          }
        },
        "84fa77ad03424ae097cb00c2b0505229": {
          "model_module": "@jupyter-widgets/controls",
          "model_name": "DescriptionStyleModel",
          "model_module_version": "1.5.0",
          "state": {
            "_model_module": "@jupyter-widgets/controls",
            "_model_module_version": "1.5.0",
            "_model_name": "DescriptionStyleModel",
            "_view_count": null,
            "_view_module": "@jupyter-widgets/base",
            "_view_module_version": "1.2.0",
            "_view_name": "StyleView",
            "description_width": ""
          }
        },
        "3731e17998c64520b5fe23e251383241": {
          "model_module": "@jupyter-widgets/controls",
          "model_name": "HBoxModel",
          "model_module_version": "1.5.0",
          "state": {
            "_dom_classes": [],
            "_model_module": "@jupyter-widgets/controls",
            "_model_module_version": "1.5.0",
            "_model_name": "HBoxModel",
            "_view_count": null,
            "_view_module": "@jupyter-widgets/controls",
            "_view_module_version": "1.5.0",
            "_view_name": "HBoxView",
            "box_style": "",
            "children": [
              "IPY_MODEL_b9d79a98d582445db8629f19e8233bd8",
              "IPY_MODEL_45af751a0b604c34a5b800214d3bab22",
              "IPY_MODEL_75e01d2308e042d4a64ce63eac68961a"
            ],
            "layout": "IPY_MODEL_689c5807af3041a089d415fc70758bb5"
          }
        },
        "b9d79a98d582445db8629f19e8233bd8": {
          "model_module": "@jupyter-widgets/controls",
          "model_name": "HTMLModel",
          "model_module_version": "1.5.0",
          "state": {
            "_dom_classes": [],
            "_model_module": "@jupyter-widgets/controls",
            "_model_module_version": "1.5.0",
            "_model_name": "HTMLModel",
            "_view_count": null,
            "_view_module": "@jupyter-widgets/controls",
            "_view_module_version": "1.5.0",
            "_view_name": "HTMLView",
            "description": "",
            "description_tooltip": null,
            "layout": "IPY_MODEL_88e1b3716d9440c398bec0ea23e65d43",
            "placeholder": "​",
            "style": "IPY_MODEL_bb8f7df5cc3647b9b2669c3a144f3f07",
            "value": "vocab.json: 100%"
          }
        },
        "45af751a0b604c34a5b800214d3bab22": {
          "model_module": "@jupyter-widgets/controls",
          "model_name": "FloatProgressModel",
          "model_module_version": "1.5.0",
          "state": {
            "_dom_classes": [],
            "_model_module": "@jupyter-widgets/controls",
            "_model_module_version": "1.5.0",
            "_model_name": "FloatProgressModel",
            "_view_count": null,
            "_view_module": "@jupyter-widgets/controls",
            "_view_module_version": "1.5.0",
            "_view_name": "ProgressView",
            "bar_style": "success",
            "description": "",
            "description_tooltip": null,
            "layout": "IPY_MODEL_5412592537d14bd2b964c428fe0c4a69",
            "max": 2776833,
            "min": 0,
            "orientation": "horizontal",
            "style": "IPY_MODEL_dbd388b59eee4fba8f0d4e013ef005f2",
            "value": 2776833
          }
        },
        "75e01d2308e042d4a64ce63eac68961a": {
          "model_module": "@jupyter-widgets/controls",
          "model_name": "HTMLModel",
          "model_module_version": "1.5.0",
          "state": {
            "_dom_classes": [],
            "_model_module": "@jupyter-widgets/controls",
            "_model_module_version": "1.5.0",
            "_model_name": "HTMLModel",
            "_view_count": null,
            "_view_module": "@jupyter-widgets/controls",
            "_view_module_version": "1.5.0",
            "_view_name": "HTMLView",
            "description": "",
            "description_tooltip": null,
            "layout": "IPY_MODEL_d644b65afbfd4b65a2bb42d163f97397",
            "placeholder": "​",
            "style": "IPY_MODEL_6a95e6786c4d4068846bac6b87cef4c4",
            "value": " 2.78M/2.78M [00:00&lt;00:00, 25.3MB/s]"
          }
        },
        "689c5807af3041a089d415fc70758bb5": {
          "model_module": "@jupyter-widgets/base",
          "model_name": "LayoutModel",
          "model_module_version": "1.2.0",
          "state": {
            "_model_module": "@jupyter-widgets/base",
            "_model_module_version": "1.2.0",
            "_model_name": "LayoutModel",
            "_view_count": null,
            "_view_module": "@jupyter-widgets/base",
            "_view_module_version": "1.2.0",
            "_view_name": "LayoutView",
            "align_content": null,
            "align_items": null,
            "align_self": null,
            "border": null,
            "bottom": null,
            "display": null,
            "flex": null,
            "flex_flow": null,
            "grid_area": null,
            "grid_auto_columns": null,
            "grid_auto_flow": null,
            "grid_auto_rows": null,
            "grid_column": null,
            "grid_gap": null,
            "grid_row": null,
            "grid_template_areas": null,
            "grid_template_columns": null,
            "grid_template_rows": null,
            "height": null,
            "justify_content": null,
            "justify_items": null,
            "left": null,
            "margin": null,
            "max_height": null,
            "max_width": null,
            "min_height": null,
            "min_width": null,
            "object_fit": null,
            "object_position": null,
            "order": null,
            "overflow": null,
            "overflow_x": null,
            "overflow_y": null,
            "padding": null,
            "right": null,
            "top": null,
            "visibility": null,
            "width": null
          }
        },
        "88e1b3716d9440c398bec0ea23e65d43": {
          "model_module": "@jupyter-widgets/base",
          "model_name": "LayoutModel",
          "model_module_version": "1.2.0",
          "state": {
            "_model_module": "@jupyter-widgets/base",
            "_model_module_version": "1.2.0",
            "_model_name": "LayoutModel",
            "_view_count": null,
            "_view_module": "@jupyter-widgets/base",
            "_view_module_version": "1.2.0",
            "_view_name": "LayoutView",
            "align_content": null,
            "align_items": null,
            "align_self": null,
            "border": null,
            "bottom": null,
            "display": null,
            "flex": null,
            "flex_flow": null,
            "grid_area": null,
            "grid_auto_columns": null,
            "grid_auto_flow": null,
            "grid_auto_rows": null,
            "grid_column": null,
            "grid_gap": null,
            "grid_row": null,
            "grid_template_areas": null,
            "grid_template_columns": null,
            "grid_template_rows": null,
            "height": null,
            "justify_content": null,
            "justify_items": null,
            "left": null,
            "margin": null,
            "max_height": null,
            "max_width": null,
            "min_height": null,
            "min_width": null,
            "object_fit": null,
            "object_position": null,
            "order": null,
            "overflow": null,
            "overflow_x": null,
            "overflow_y": null,
            "padding": null,
            "right": null,
            "top": null,
            "visibility": null,
            "width": null
          }
        },
        "bb8f7df5cc3647b9b2669c3a144f3f07": {
          "model_module": "@jupyter-widgets/controls",
          "model_name": "DescriptionStyleModel",
          "model_module_version": "1.5.0",
          "state": {
            "_model_module": "@jupyter-widgets/controls",
            "_model_module_version": "1.5.0",
            "_model_name": "DescriptionStyleModel",
            "_view_count": null,
            "_view_module": "@jupyter-widgets/base",
            "_view_module_version": "1.2.0",
            "_view_name": "StyleView",
            "description_width": ""
          }
        },
        "5412592537d14bd2b964c428fe0c4a69": {
          "model_module": "@jupyter-widgets/base",
          "model_name": "LayoutModel",
          "model_module_version": "1.2.0",
          "state": {
            "_model_module": "@jupyter-widgets/base",
            "_model_module_version": "1.2.0",
            "_model_name": "LayoutModel",
            "_view_count": null,
            "_view_module": "@jupyter-widgets/base",
            "_view_module_version": "1.2.0",
            "_view_name": "LayoutView",
            "align_content": null,
            "align_items": null,
            "align_self": null,
            "border": null,
            "bottom": null,
            "display": null,
            "flex": null,
            "flex_flow": null,
            "grid_area": null,
            "grid_auto_columns": null,
            "grid_auto_flow": null,
            "grid_auto_rows": null,
            "grid_column": null,
            "grid_gap": null,
            "grid_row": null,
            "grid_template_areas": null,
            "grid_template_columns": null,
            "grid_template_rows": null,
            "height": null,
            "justify_content": null,
            "justify_items": null,
            "left": null,
            "margin": null,
            "max_height": null,
            "max_width": null,
            "min_height": null,
            "min_width": null,
            "object_fit": null,
            "object_position": null,
            "order": null,
            "overflow": null,
            "overflow_x": null,
            "overflow_y": null,
            "padding": null,
            "right": null,
            "top": null,
            "visibility": null,
            "width": null
          }
        },
        "dbd388b59eee4fba8f0d4e013ef005f2": {
          "model_module": "@jupyter-widgets/controls",
          "model_name": "ProgressStyleModel",
          "model_module_version": "1.5.0",
          "state": {
            "_model_module": "@jupyter-widgets/controls",
            "_model_module_version": "1.5.0",
            "_model_name": "ProgressStyleModel",
            "_view_count": null,
            "_view_module": "@jupyter-widgets/base",
            "_view_module_version": "1.2.0",
            "_view_name": "StyleView",
            "bar_color": null,
            "description_width": ""
          }
        },
        "d644b65afbfd4b65a2bb42d163f97397": {
          "model_module": "@jupyter-widgets/base",
          "model_name": "LayoutModel",
          "model_module_version": "1.2.0",
          "state": {
            "_model_module": "@jupyter-widgets/base",
            "_model_module_version": "1.2.0",
            "_model_name": "LayoutModel",
            "_view_count": null,
            "_view_module": "@jupyter-widgets/base",
            "_view_module_version": "1.2.0",
            "_view_name": "LayoutView",
            "align_content": null,
            "align_items": null,
            "align_self": null,
            "border": null,
            "bottom": null,
            "display": null,
            "flex": null,
            "flex_flow": null,
            "grid_area": null,
            "grid_auto_columns": null,
            "grid_auto_flow": null,
            "grid_auto_rows": null,
            "grid_column": null,
            "grid_gap": null,
            "grid_row": null,
            "grid_template_areas": null,
            "grid_template_columns": null,
            "grid_template_rows": null,
            "height": null,
            "justify_content": null,
            "justify_items": null,
            "left": null,
            "margin": null,
            "max_height": null,
            "max_width": null,
            "min_height": null,
            "min_width": null,
            "object_fit": null,
            "object_position": null,
            "order": null,
            "overflow": null,
            "overflow_x": null,
            "overflow_y": null,
            "padding": null,
            "right": null,
            "top": null,
            "visibility": null,
            "width": null
          }
        },
        "6a95e6786c4d4068846bac6b87cef4c4": {
          "model_module": "@jupyter-widgets/controls",
          "model_name": "DescriptionStyleModel",
          "model_module_version": "1.5.0",
          "state": {
            "_model_module": "@jupyter-widgets/controls",
            "_model_module_version": "1.5.0",
            "_model_name": "DescriptionStyleModel",
            "_view_count": null,
            "_view_module": "@jupyter-widgets/base",
            "_view_module_version": "1.2.0",
            "_view_name": "StyleView",
            "description_width": ""
          }
        },
        "f34d73a2d4444c14a303a8987ba33fb6": {
          "model_module": "@jupyter-widgets/controls",
          "model_name": "HBoxModel",
          "model_module_version": "1.5.0",
          "state": {
            "_dom_classes": [],
            "_model_module": "@jupyter-widgets/controls",
            "_model_module_version": "1.5.0",
            "_model_name": "HBoxModel",
            "_view_count": null,
            "_view_module": "@jupyter-widgets/controls",
            "_view_module_version": "1.5.0",
            "_view_name": "HBoxView",
            "box_style": "",
            "children": [
              "IPY_MODEL_8c558a79b09846618d3e7a92814b266c",
              "IPY_MODEL_d2e25a18b63c41d8bc389a394d6525f8",
              "IPY_MODEL_56c21dfb7734484482ab32b7b3954bbd"
            ],
            "layout": "IPY_MODEL_963479fc5cde403b90d8103f07ff3ff7"
          }
        },
        "8c558a79b09846618d3e7a92814b266c": {
          "model_module": "@jupyter-widgets/controls",
          "model_name": "HTMLModel",
          "model_module_version": "1.5.0",
          "state": {
            "_dom_classes": [],
            "_model_module": "@jupyter-widgets/controls",
            "_model_module_version": "1.5.0",
            "_model_name": "HTMLModel",
            "_view_count": null,
            "_view_module": "@jupyter-widgets/controls",
            "_view_module_version": "1.5.0",
            "_view_name": "HTMLView",
            "description": "",
            "description_tooltip": null,
            "layout": "IPY_MODEL_76f05078f4c6427e8d5d333ec0769b8f",
            "placeholder": "​",
            "style": "IPY_MODEL_beb45c6433cb4470a63c098911faacc7",
            "value": "merges.txt: 100%"
          }
        },
        "d2e25a18b63c41d8bc389a394d6525f8": {
          "model_module": "@jupyter-widgets/controls",
          "model_name": "FloatProgressModel",
          "model_module_version": "1.5.0",
          "state": {
            "_dom_classes": [],
            "_model_module": "@jupyter-widgets/controls",
            "_model_module_version": "1.5.0",
            "_model_name": "FloatProgressModel",
            "_view_count": null,
            "_view_module": "@jupyter-widgets/controls",
            "_view_module_version": "1.5.0",
            "_view_name": "ProgressView",
            "bar_style": "success",
            "description": "",
            "description_tooltip": null,
            "layout": "IPY_MODEL_95f9a069d19a467e8aa633ad14490234",
            "max": 1671839,
            "min": 0,
            "orientation": "horizontal",
            "style": "IPY_MODEL_e2af53b250b6449f98a4f8153683d4ad",
            "value": 1671839
          }
        },
        "56c21dfb7734484482ab32b7b3954bbd": {
          "model_module": "@jupyter-widgets/controls",
          "model_name": "HTMLModel",
          "model_module_version": "1.5.0",
          "state": {
            "_dom_classes": [],
            "_model_module": "@jupyter-widgets/controls",
            "_model_module_version": "1.5.0",
            "_model_name": "HTMLModel",
            "_view_count": null,
            "_view_module": "@jupyter-widgets/controls",
            "_view_module_version": "1.5.0",
            "_view_name": "HTMLView",
            "description": "",
            "description_tooltip": null,
            "layout": "IPY_MODEL_9f8c647a0d3948639c84f79ee68ee4df",
            "placeholder": "​",
            "style": "IPY_MODEL_a0ad76428ad64505aea42cae36e04e78",
            "value": " 1.67M/1.67M [00:00&lt;00:00, 5.33MB/s]"
          }
        },
        "963479fc5cde403b90d8103f07ff3ff7": {
          "model_module": "@jupyter-widgets/base",
          "model_name": "LayoutModel",
          "model_module_version": "1.2.0",
          "state": {
            "_model_module": "@jupyter-widgets/base",
            "_model_module_version": "1.2.0",
            "_model_name": "LayoutModel",
            "_view_count": null,
            "_view_module": "@jupyter-widgets/base",
            "_view_module_version": "1.2.0",
            "_view_name": "LayoutView",
            "align_content": null,
            "align_items": null,
            "align_self": null,
            "border": null,
            "bottom": null,
            "display": null,
            "flex": null,
            "flex_flow": null,
            "grid_area": null,
            "grid_auto_columns": null,
            "grid_auto_flow": null,
            "grid_auto_rows": null,
            "grid_column": null,
            "grid_gap": null,
            "grid_row": null,
            "grid_template_areas": null,
            "grid_template_columns": null,
            "grid_template_rows": null,
            "height": null,
            "justify_content": null,
            "justify_items": null,
            "left": null,
            "margin": null,
            "max_height": null,
            "max_width": null,
            "min_height": null,
            "min_width": null,
            "object_fit": null,
            "object_position": null,
            "order": null,
            "overflow": null,
            "overflow_x": null,
            "overflow_y": null,
            "padding": null,
            "right": null,
            "top": null,
            "visibility": null,
            "width": null
          }
        },
        "76f05078f4c6427e8d5d333ec0769b8f": {
          "model_module": "@jupyter-widgets/base",
          "model_name": "LayoutModel",
          "model_module_version": "1.2.0",
          "state": {
            "_model_module": "@jupyter-widgets/base",
            "_model_module_version": "1.2.0",
            "_model_name": "LayoutModel",
            "_view_count": null,
            "_view_module": "@jupyter-widgets/base",
            "_view_module_version": "1.2.0",
            "_view_name": "LayoutView",
            "align_content": null,
            "align_items": null,
            "align_self": null,
            "border": null,
            "bottom": null,
            "display": null,
            "flex": null,
            "flex_flow": null,
            "grid_area": null,
            "grid_auto_columns": null,
            "grid_auto_flow": null,
            "grid_auto_rows": null,
            "grid_column": null,
            "grid_gap": null,
            "grid_row": null,
            "grid_template_areas": null,
            "grid_template_columns": null,
            "grid_template_rows": null,
            "height": null,
            "justify_content": null,
            "justify_items": null,
            "left": null,
            "margin": null,
            "max_height": null,
            "max_width": null,
            "min_height": null,
            "min_width": null,
            "object_fit": null,
            "object_position": null,
            "order": null,
            "overflow": null,
            "overflow_x": null,
            "overflow_y": null,
            "padding": null,
            "right": null,
            "top": null,
            "visibility": null,
            "width": null
          }
        },
        "beb45c6433cb4470a63c098911faacc7": {
          "model_module": "@jupyter-widgets/controls",
          "model_name": "DescriptionStyleModel",
          "model_module_version": "1.5.0",
          "state": {
            "_model_module": "@jupyter-widgets/controls",
            "_model_module_version": "1.5.0",
            "_model_name": "DescriptionStyleModel",
            "_view_count": null,
            "_view_module": "@jupyter-widgets/base",
            "_view_module_version": "1.2.0",
            "_view_name": "StyleView",
            "description_width": ""
          }
        },
        "95f9a069d19a467e8aa633ad14490234": {
          "model_module": "@jupyter-widgets/base",
          "model_name": "LayoutModel",
          "model_module_version": "1.2.0",
          "state": {
            "_model_module": "@jupyter-widgets/base",
            "_model_module_version": "1.2.0",
            "_model_name": "LayoutModel",
            "_view_count": null,
            "_view_module": "@jupyter-widgets/base",
            "_view_module_version": "1.2.0",
            "_view_name": "LayoutView",
            "align_content": null,
            "align_items": null,
            "align_self": null,
            "border": null,
            "bottom": null,
            "display": null,
            "flex": null,
            "flex_flow": null,
            "grid_area": null,
            "grid_auto_columns": null,
            "grid_auto_flow": null,
            "grid_auto_rows": null,
            "grid_column": null,
            "grid_gap": null,
            "grid_row": null,
            "grid_template_areas": null,
            "grid_template_columns": null,
            "grid_template_rows": null,
            "height": null,
            "justify_content": null,
            "justify_items": null,
            "left": null,
            "margin": null,
            "max_height": null,
            "max_width": null,
            "min_height": null,
            "min_width": null,
            "object_fit": null,
            "object_position": null,
            "order": null,
            "overflow": null,
            "overflow_x": null,
            "overflow_y": null,
            "padding": null,
            "right": null,
            "top": null,
            "visibility": null,
            "width": null
          }
        },
        "e2af53b250b6449f98a4f8153683d4ad": {
          "model_module": "@jupyter-widgets/controls",
          "model_name": "ProgressStyleModel",
          "model_module_version": "1.5.0",
          "state": {
            "_model_module": "@jupyter-widgets/controls",
            "_model_module_version": "1.5.0",
            "_model_name": "ProgressStyleModel",
            "_view_count": null,
            "_view_module": "@jupyter-widgets/base",
            "_view_module_version": "1.2.0",
            "_view_name": "StyleView",
            "bar_color": null,
            "description_width": ""
          }
        },
        "9f8c647a0d3948639c84f79ee68ee4df": {
          "model_module": "@jupyter-widgets/base",
          "model_name": "LayoutModel",
          "model_module_version": "1.2.0",
          "state": {
            "_model_module": "@jupyter-widgets/base",
            "_model_module_version": "1.2.0",
            "_model_name": "LayoutModel",
            "_view_count": null,
            "_view_module": "@jupyter-widgets/base",
            "_view_module_version": "1.2.0",
            "_view_name": "LayoutView",
            "align_content": null,
            "align_items": null,
            "align_self": null,
            "border": null,
            "bottom": null,
            "display": null,
            "flex": null,
            "flex_flow": null,
            "grid_area": null,
            "grid_auto_columns": null,
            "grid_auto_flow": null,
            "grid_auto_rows": null,
            "grid_column": null,
            "grid_gap": null,
            "grid_row": null,
            "grid_template_areas": null,
            "grid_template_columns": null,
            "grid_template_rows": null,
            "height": null,
            "justify_content": null,
            "justify_items": null,
            "left": null,
            "margin": null,
            "max_height": null,
            "max_width": null,
            "min_height": null,
            "min_width": null,
            "object_fit": null,
            "object_position": null,
            "order": null,
            "overflow": null,
            "overflow_x": null,
            "overflow_y": null,
            "padding": null,
            "right": null,
            "top": null,
            "visibility": null,
            "width": null
          }
        },
        "a0ad76428ad64505aea42cae36e04e78": {
          "model_module": "@jupyter-widgets/controls",
          "model_name": "DescriptionStyleModel",
          "model_module_version": "1.5.0",
          "state": {
            "_model_module": "@jupyter-widgets/controls",
            "_model_module_version": "1.5.0",
            "_model_name": "DescriptionStyleModel",
            "_view_count": null,
            "_view_module": "@jupyter-widgets/base",
            "_view_module_version": "1.2.0",
            "_view_name": "StyleView",
            "description_width": ""
          }
        },
        "39fea31ee58c4ee491b14c10070656ca": {
          "model_module": "@jupyter-widgets/controls",
          "model_name": "HBoxModel",
          "model_module_version": "1.5.0",
          "state": {
            "_dom_classes": [],
            "_model_module": "@jupyter-widgets/controls",
            "_model_module_version": "1.5.0",
            "_model_name": "HBoxModel",
            "_view_count": null,
            "_view_module": "@jupyter-widgets/controls",
            "_view_module_version": "1.5.0",
            "_view_name": "HBoxView",
            "box_style": "",
            "children": [
              "IPY_MODEL_c5d5c71ea39d46fda0d1a91bd2ebcb63",
              "IPY_MODEL_392451ec689c4e2fa5bc1db339ba7d12",
              "IPY_MODEL_a43eedc847e642f6a3a6fa823634a1a4"
            ],
            "layout": "IPY_MODEL_d935146a39bf4f93bfd5880968f0e8be"
          }
        },
        "c5d5c71ea39d46fda0d1a91bd2ebcb63": {
          "model_module": "@jupyter-widgets/controls",
          "model_name": "HTMLModel",
          "model_module_version": "1.5.0",
          "state": {
            "_dom_classes": [],
            "_model_module": "@jupyter-widgets/controls",
            "_model_module_version": "1.5.0",
            "_model_name": "HTMLModel",
            "_view_count": null,
            "_view_module": "@jupyter-widgets/controls",
            "_view_module_version": "1.5.0",
            "_view_name": "HTMLView",
            "description": "",
            "description_tooltip": null,
            "layout": "IPY_MODEL_ba28478522914dbbbccf8ee47ee7d4f8",
            "placeholder": "​",
            "style": "IPY_MODEL_e7bdd70203e04139a352b578eb72adf9",
            "value": "tokenizer.json: 100%"
          }
        },
        "392451ec689c4e2fa5bc1db339ba7d12": {
          "model_module": "@jupyter-widgets/controls",
          "model_name": "FloatProgressModel",
          "model_module_version": "1.5.0",
          "state": {
            "_dom_classes": [],
            "_model_module": "@jupyter-widgets/controls",
            "_model_module_version": "1.5.0",
            "_model_name": "FloatProgressModel",
            "_view_count": null,
            "_view_module": "@jupyter-widgets/controls",
            "_view_module_version": "1.5.0",
            "_view_name": "ProgressView",
            "bar_style": "success",
            "description": "",
            "description_tooltip": null,
            "layout": "IPY_MODEL_a12f5c1499d147ffa3cf8181f6d0728c",
            "max": 7031645,
            "min": 0,
            "orientation": "horizontal",
            "style": "IPY_MODEL_56df6bdc362d4d32af36bc3fdf319c65",
            "value": 7031645
          }
        },
        "a43eedc847e642f6a3a6fa823634a1a4": {
          "model_module": "@jupyter-widgets/controls",
          "model_name": "HTMLModel",
          "model_module_version": "1.5.0",
          "state": {
            "_dom_classes": [],
            "_model_module": "@jupyter-widgets/controls",
            "_model_module_version": "1.5.0",
            "_model_name": "HTMLModel",
            "_view_count": null,
            "_view_module": "@jupyter-widgets/controls",
            "_view_module_version": "1.5.0",
            "_view_name": "HTMLView",
            "description": "",
            "description_tooltip": null,
            "layout": "IPY_MODEL_1380397adb4342a7b039303808243b84",
            "placeholder": "​",
            "style": "IPY_MODEL_16b735c6bb3944a48ac91f242609fe5b",
            "value": " 7.03M/7.03M [00:00&lt;00:00, 30.8MB/s]"
          }
        },
        "d935146a39bf4f93bfd5880968f0e8be": {
          "model_module": "@jupyter-widgets/base",
          "model_name": "LayoutModel",
          "model_module_version": "1.2.0",
          "state": {
            "_model_module": "@jupyter-widgets/base",
            "_model_module_version": "1.2.0",
            "_model_name": "LayoutModel",
            "_view_count": null,
            "_view_module": "@jupyter-widgets/base",
            "_view_module_version": "1.2.0",
            "_view_name": "LayoutView",
            "align_content": null,
            "align_items": null,
            "align_self": null,
            "border": null,
            "bottom": null,
            "display": null,
            "flex": null,
            "flex_flow": null,
            "grid_area": null,
            "grid_auto_columns": null,
            "grid_auto_flow": null,
            "grid_auto_rows": null,
            "grid_column": null,
            "grid_gap": null,
            "grid_row": null,
            "grid_template_areas": null,
            "grid_template_columns": null,
            "grid_template_rows": null,
            "height": null,
            "justify_content": null,
            "justify_items": null,
            "left": null,
            "margin": null,
            "max_height": null,
            "max_width": null,
            "min_height": null,
            "min_width": null,
            "object_fit": null,
            "object_position": null,
            "order": null,
            "overflow": null,
            "overflow_x": null,
            "overflow_y": null,
            "padding": null,
            "right": null,
            "top": null,
            "visibility": null,
            "width": null
          }
        },
        "ba28478522914dbbbccf8ee47ee7d4f8": {
          "model_module": "@jupyter-widgets/base",
          "model_name": "LayoutModel",
          "model_module_version": "1.2.0",
          "state": {
            "_model_module": "@jupyter-widgets/base",
            "_model_module_version": "1.2.0",
            "_model_name": "LayoutModel",
            "_view_count": null,
            "_view_module": "@jupyter-widgets/base",
            "_view_module_version": "1.2.0",
            "_view_name": "LayoutView",
            "align_content": null,
            "align_items": null,
            "align_self": null,
            "border": null,
            "bottom": null,
            "display": null,
            "flex": null,
            "flex_flow": null,
            "grid_area": null,
            "grid_auto_columns": null,
            "grid_auto_flow": null,
            "grid_auto_rows": null,
            "grid_column": null,
            "grid_gap": null,
            "grid_row": null,
            "grid_template_areas": null,
            "grid_template_columns": null,
            "grid_template_rows": null,
            "height": null,
            "justify_content": null,
            "justify_items": null,
            "left": null,
            "margin": null,
            "max_height": null,
            "max_width": null,
            "min_height": null,
            "min_width": null,
            "object_fit": null,
            "object_position": null,
            "order": null,
            "overflow": null,
            "overflow_x": null,
            "overflow_y": null,
            "padding": null,
            "right": null,
            "top": null,
            "visibility": null,
            "width": null
          }
        },
        "e7bdd70203e04139a352b578eb72adf9": {
          "model_module": "@jupyter-widgets/controls",
          "model_name": "DescriptionStyleModel",
          "model_module_version": "1.5.0",
          "state": {
            "_model_module": "@jupyter-widgets/controls",
            "_model_module_version": "1.5.0",
            "_model_name": "DescriptionStyleModel",
            "_view_count": null,
            "_view_module": "@jupyter-widgets/base",
            "_view_module_version": "1.2.0",
            "_view_name": "StyleView",
            "description_width": ""
          }
        },
        "a12f5c1499d147ffa3cf8181f6d0728c": {
          "model_module": "@jupyter-widgets/base",
          "model_name": "LayoutModel",
          "model_module_version": "1.2.0",
          "state": {
            "_model_module": "@jupyter-widgets/base",
            "_model_module_version": "1.2.0",
            "_model_name": "LayoutModel",
            "_view_count": null,
            "_view_module": "@jupyter-widgets/base",
            "_view_module_version": "1.2.0",
            "_view_name": "LayoutView",
            "align_content": null,
            "align_items": null,
            "align_self": null,
            "border": null,
            "bottom": null,
            "display": null,
            "flex": null,
            "flex_flow": null,
            "grid_area": null,
            "grid_auto_columns": null,
            "grid_auto_flow": null,
            "grid_auto_rows": null,
            "grid_column": null,
            "grid_gap": null,
            "grid_row": null,
            "grid_template_areas": null,
            "grid_template_columns": null,
            "grid_template_rows": null,
            "height": null,
            "justify_content": null,
            "justify_items": null,
            "left": null,
            "margin": null,
            "max_height": null,
            "max_width": null,
            "min_height": null,
            "min_width": null,
            "object_fit": null,
            "object_position": null,
            "order": null,
            "overflow": null,
            "overflow_x": null,
            "overflow_y": null,
            "padding": null,
            "right": null,
            "top": null,
            "visibility": null,
            "width": null
          }
        },
        "56df6bdc362d4d32af36bc3fdf319c65": {
          "model_module": "@jupyter-widgets/controls",
          "model_name": "ProgressStyleModel",
          "model_module_version": "1.5.0",
          "state": {
            "_model_module": "@jupyter-widgets/controls",
            "_model_module_version": "1.5.0",
            "_model_name": "ProgressStyleModel",
            "_view_count": null,
            "_view_module": "@jupyter-widgets/base",
            "_view_module_version": "1.2.0",
            "_view_name": "StyleView",
            "bar_color": null,
            "description_width": ""
          }
        },
        "1380397adb4342a7b039303808243b84": {
          "model_module": "@jupyter-widgets/base",
          "model_name": "LayoutModel",
          "model_module_version": "1.2.0",
          "state": {
            "_model_module": "@jupyter-widgets/base",
            "_model_module_version": "1.2.0",
            "_model_name": "LayoutModel",
            "_view_count": null,
            "_view_module": "@jupyter-widgets/base",
            "_view_module_version": "1.2.0",
            "_view_name": "LayoutView",
            "align_content": null,
            "align_items": null,
            "align_self": null,
            "border": null,
            "bottom": null,
            "display": null,
            "flex": null,
            "flex_flow": null,
            "grid_area": null,
            "grid_auto_columns": null,
            "grid_auto_flow": null,
            "grid_auto_rows": null,
            "grid_column": null,
            "grid_gap": null,
            "grid_row": null,
            "grid_template_areas": null,
            "grid_template_columns": null,
            "grid_template_rows": null,
            "height": null,
            "justify_content": null,
            "justify_items": null,
            "left": null,
            "margin": null,
            "max_height": null,
            "max_width": null,
            "min_height": null,
            "min_width": null,
            "object_fit": null,
            "object_position": null,
            "order": null,
            "overflow": null,
            "overflow_x": null,
            "overflow_y": null,
            "padding": null,
            "right": null,
            "top": null,
            "visibility": null,
            "width": null
          }
        },
        "16b735c6bb3944a48ac91f242609fe5b": {
          "model_module": "@jupyter-widgets/controls",
          "model_name": "DescriptionStyleModel",
          "model_module_version": "1.5.0",
          "state": {
            "_model_module": "@jupyter-widgets/controls",
            "_model_module_version": "1.5.0",
            "_model_name": "DescriptionStyleModel",
            "_view_count": null,
            "_view_module": "@jupyter-widgets/base",
            "_view_module_version": "1.2.0",
            "_view_name": "StyleView",
            "description_width": ""
          }
        },
        "d14d7a253c1a408ea54a816b75864813": {
          "model_module": "@jupyter-widgets/controls",
          "model_name": "HBoxModel",
          "model_module_version": "1.5.0",
          "state": {
            "_dom_classes": [],
            "_model_module": "@jupyter-widgets/controls",
            "_model_module_version": "1.5.0",
            "_model_name": "HBoxModel",
            "_view_count": null,
            "_view_module": "@jupyter-widgets/controls",
            "_view_module_version": "1.5.0",
            "_view_name": "HBoxView",
            "box_style": "",
            "children": [
              "IPY_MODEL_1730bce09eef4928aca5bd8b2c16b147",
              "IPY_MODEL_7572bfc5710c4c6ca7568b673df02554",
              "IPY_MODEL_9e957f2aefd940829fc2724f6213e2fa"
            ],
            "layout": "IPY_MODEL_ec69e9e4032a41ccae757c8fe45d888a"
          }
        },
        "1730bce09eef4928aca5bd8b2c16b147": {
          "model_module": "@jupyter-widgets/controls",
          "model_name": "HTMLModel",
          "model_module_version": "1.5.0",
          "state": {
            "_dom_classes": [],
            "_model_module": "@jupyter-widgets/controls",
            "_model_module_version": "1.5.0",
            "_model_name": "HTMLModel",
            "_view_count": null,
            "_view_module": "@jupyter-widgets/controls",
            "_view_module_version": "1.5.0",
            "_view_name": "HTMLView",
            "description": "",
            "description_tooltip": null,
            "layout": "IPY_MODEL_5a0b6294624d43ddb45797a4e7d8dce5",
            "placeholder": "​",
            "style": "IPY_MODEL_3908309d7bf242f69fbcae2de48079a9",
            "value": "config.json: 100%"
          }
        },
        "7572bfc5710c4c6ca7568b673df02554": {
          "model_module": "@jupyter-widgets/controls",
          "model_name": "FloatProgressModel",
          "model_module_version": "1.5.0",
          "state": {
            "_dom_classes": [],
            "_model_module": "@jupyter-widgets/controls",
            "_model_module_version": "1.5.0",
            "_model_name": "FloatProgressModel",
            "_view_count": null,
            "_view_module": "@jupyter-widgets/controls",
            "_view_module_version": "1.5.0",
            "_view_name": "ProgressView",
            "bar_style": "success",
            "description": "",
            "description_tooltip": null,
            "layout": "IPY_MODEL_43097e80ea8741f4a601f0bbdfc109ca",
            "max": 659,
            "min": 0,
            "orientation": "horizontal",
            "style": "IPY_MODEL_38a35b7e0b244fd0b144ac41205de379",
            "value": 659
          }
        },
        "9e957f2aefd940829fc2724f6213e2fa": {
          "model_module": "@jupyter-widgets/controls",
          "model_name": "HTMLModel",
          "model_module_version": "1.5.0",
          "state": {
            "_dom_classes": [],
            "_model_module": "@jupyter-widgets/controls",
            "_model_module_version": "1.5.0",
            "_model_name": "HTMLModel",
            "_view_count": null,
            "_view_module": "@jupyter-widgets/controls",
            "_view_module_version": "1.5.0",
            "_view_name": "HTMLView",
            "description": "",
            "description_tooltip": null,
            "layout": "IPY_MODEL_b339c91c4516470595a69e0fb6bf2088",
            "placeholder": "​",
            "style": "IPY_MODEL_a16367f561904aeabcfaa45cc6ae85be",
            "value": " 659/659 [00:00&lt;00:00, 81.5kB/s]"
          }
        },
        "ec69e9e4032a41ccae757c8fe45d888a": {
          "model_module": "@jupyter-widgets/base",
          "model_name": "LayoutModel",
          "model_module_version": "1.2.0",
          "state": {
            "_model_module": "@jupyter-widgets/base",
            "_model_module_version": "1.2.0",
            "_model_name": "LayoutModel",
            "_view_count": null,
            "_view_module": "@jupyter-widgets/base",
            "_view_module_version": "1.2.0",
            "_view_name": "LayoutView",
            "align_content": null,
            "align_items": null,
            "align_self": null,
            "border": null,
            "bottom": null,
            "display": null,
            "flex": null,
            "flex_flow": null,
            "grid_area": null,
            "grid_auto_columns": null,
            "grid_auto_flow": null,
            "grid_auto_rows": null,
            "grid_column": null,
            "grid_gap": null,
            "grid_row": null,
            "grid_template_areas": null,
            "grid_template_columns": null,
            "grid_template_rows": null,
            "height": null,
            "justify_content": null,
            "justify_items": null,
            "left": null,
            "margin": null,
            "max_height": null,
            "max_width": null,
            "min_height": null,
            "min_width": null,
            "object_fit": null,
            "object_position": null,
            "order": null,
            "overflow": null,
            "overflow_x": null,
            "overflow_y": null,
            "padding": null,
            "right": null,
            "top": null,
            "visibility": null,
            "width": null
          }
        },
        "5a0b6294624d43ddb45797a4e7d8dce5": {
          "model_module": "@jupyter-widgets/base",
          "model_name": "LayoutModel",
          "model_module_version": "1.2.0",
          "state": {
            "_model_module": "@jupyter-widgets/base",
            "_model_module_version": "1.2.0",
            "_model_name": "LayoutModel",
            "_view_count": null,
            "_view_module": "@jupyter-widgets/base",
            "_view_module_version": "1.2.0",
            "_view_name": "LayoutView",
            "align_content": null,
            "align_items": null,
            "align_self": null,
            "border": null,
            "bottom": null,
            "display": null,
            "flex": null,
            "flex_flow": null,
            "grid_area": null,
            "grid_auto_columns": null,
            "grid_auto_flow": null,
            "grid_auto_rows": null,
            "grid_column": null,
            "grid_gap": null,
            "grid_row": null,
            "grid_template_areas": null,
            "grid_template_columns": null,
            "grid_template_rows": null,
            "height": null,
            "justify_content": null,
            "justify_items": null,
            "left": null,
            "margin": null,
            "max_height": null,
            "max_width": null,
            "min_height": null,
            "min_width": null,
            "object_fit": null,
            "object_position": null,
            "order": null,
            "overflow": null,
            "overflow_x": null,
            "overflow_y": null,
            "padding": null,
            "right": null,
            "top": null,
            "visibility": null,
            "width": null
          }
        },
        "3908309d7bf242f69fbcae2de48079a9": {
          "model_module": "@jupyter-widgets/controls",
          "model_name": "DescriptionStyleModel",
          "model_module_version": "1.5.0",
          "state": {
            "_model_module": "@jupyter-widgets/controls",
            "_model_module_version": "1.5.0",
            "_model_name": "DescriptionStyleModel",
            "_view_count": null,
            "_view_module": "@jupyter-widgets/base",
            "_view_module_version": "1.2.0",
            "_view_name": "StyleView",
            "description_width": ""
          }
        },
        "43097e80ea8741f4a601f0bbdfc109ca": {
          "model_module": "@jupyter-widgets/base",
          "model_name": "LayoutModel",
          "model_module_version": "1.2.0",
          "state": {
            "_model_module": "@jupyter-widgets/base",
            "_model_module_version": "1.2.0",
            "_model_name": "LayoutModel",
            "_view_count": null,
            "_view_module": "@jupyter-widgets/base",
            "_view_module_version": "1.2.0",
            "_view_name": "LayoutView",
            "align_content": null,
            "align_items": null,
            "align_self": null,
            "border": null,
            "bottom": null,
            "display": null,
            "flex": null,
            "flex_flow": null,
            "grid_area": null,
            "grid_auto_columns": null,
            "grid_auto_flow": null,
            "grid_auto_rows": null,
            "grid_column": null,
            "grid_gap": null,
            "grid_row": null,
            "grid_template_areas": null,
            "grid_template_columns": null,
            "grid_template_rows": null,
            "height": null,
            "justify_content": null,
            "justify_items": null,
            "left": null,
            "margin": null,
            "max_height": null,
            "max_width": null,
            "min_height": null,
            "min_width": null,
            "object_fit": null,
            "object_position": null,
            "order": null,
            "overflow": null,
            "overflow_x": null,
            "overflow_y": null,
            "padding": null,
            "right": null,
            "top": null,
            "visibility": null,
            "width": null
          }
        },
        "38a35b7e0b244fd0b144ac41205de379": {
          "model_module": "@jupyter-widgets/controls",
          "model_name": "ProgressStyleModel",
          "model_module_version": "1.5.0",
          "state": {
            "_model_module": "@jupyter-widgets/controls",
            "_model_module_version": "1.5.0",
            "_model_name": "ProgressStyleModel",
            "_view_count": null,
            "_view_module": "@jupyter-widgets/base",
            "_view_module_version": "1.2.0",
            "_view_name": "StyleView",
            "bar_color": null,
            "description_width": ""
          }
        },
        "b339c91c4516470595a69e0fb6bf2088": {
          "model_module": "@jupyter-widgets/base",
          "model_name": "LayoutModel",
          "model_module_version": "1.2.0",
          "state": {
            "_model_module": "@jupyter-widgets/base",
            "_model_module_version": "1.2.0",
            "_model_name": "LayoutModel",
            "_view_count": null,
            "_view_module": "@jupyter-widgets/base",
            "_view_module_version": "1.2.0",
            "_view_name": "LayoutView",
            "align_content": null,
            "align_items": null,
            "align_self": null,
            "border": null,
            "bottom": null,
            "display": null,
            "flex": null,
            "flex_flow": null,
            "grid_area": null,
            "grid_auto_columns": null,
            "grid_auto_flow": null,
            "grid_auto_rows": null,
            "grid_column": null,
            "grid_gap": null,
            "grid_row": null,
            "grid_template_areas": null,
            "grid_template_columns": null,
            "grid_template_rows": null,
            "height": null,
            "justify_content": null,
            "justify_items": null,
            "left": null,
            "margin": null,
            "max_height": null,
            "max_width": null,
            "min_height": null,
            "min_width": null,
            "object_fit": null,
            "object_position": null,
            "order": null,
            "overflow": null,
            "overflow_x": null,
            "overflow_y": null,
            "padding": null,
            "right": null,
            "top": null,
            "visibility": null,
            "width": null
          }
        },
        "a16367f561904aeabcfaa45cc6ae85be": {
          "model_module": "@jupyter-widgets/controls",
          "model_name": "DescriptionStyleModel",
          "model_module_version": "1.5.0",
          "state": {
            "_model_module": "@jupyter-widgets/controls",
            "_model_module_version": "1.5.0",
            "_model_name": "DescriptionStyleModel",
            "_view_count": null,
            "_view_module": "@jupyter-widgets/base",
            "_view_module_version": "1.2.0",
            "_view_name": "StyleView",
            "description_width": ""
          }
        },
        "1a3e6f24454241a8b9ccf07840337273": {
          "model_module": "@jupyter-widgets/controls",
          "model_name": "HBoxModel",
          "model_module_version": "1.5.0",
          "state": {
            "_dom_classes": [],
            "_model_module": "@jupyter-widgets/controls",
            "_model_module_version": "1.5.0",
            "_model_name": "HBoxModel",
            "_view_count": null,
            "_view_module": "@jupyter-widgets/controls",
            "_view_module_version": "1.5.0",
            "_view_name": "HBoxView",
            "box_style": "",
            "children": [
              "IPY_MODEL_38e9c7699a384f6cb46d1e916bda5986",
              "IPY_MODEL_dc3753372e284da7b68813358ec5dcdb",
              "IPY_MODEL_d703ac8154ea4096885441326a22c363"
            ],
            "layout": "IPY_MODEL_2793080a437149eeb17b9ec8a433f1cb"
          }
        },
        "38e9c7699a384f6cb46d1e916bda5986": {
          "model_module": "@jupyter-widgets/controls",
          "model_name": "HTMLModel",
          "model_module_version": "1.5.0",
          "state": {
            "_dom_classes": [],
            "_model_module": "@jupyter-widgets/controls",
            "_model_module_version": "1.5.0",
            "_model_name": "HTMLModel",
            "_view_count": null,
            "_view_module": "@jupyter-widgets/controls",
            "_view_module_version": "1.5.0",
            "_view_name": "HTMLView",
            "description": "",
            "description_tooltip": null,
            "layout": "IPY_MODEL_42dc46ead3ec4e59a8ce47e24a2f518a",
            "placeholder": "​",
            "style": "IPY_MODEL_39339966e5174f44ba722979b7cf4c6b",
            "value": "model.safetensors: 100%"
          }
        },
        "dc3753372e284da7b68813358ec5dcdb": {
          "model_module": "@jupyter-widgets/controls",
          "model_name": "FloatProgressModel",
          "model_module_version": "1.5.0",
          "state": {
            "_dom_classes": [],
            "_model_module": "@jupyter-widgets/controls",
            "_model_module_version": "1.5.0",
            "_model_name": "FloatProgressModel",
            "_view_count": null,
            "_view_module": "@jupyter-widgets/controls",
            "_view_module_version": "1.5.0",
            "_view_name": "ProgressView",
            "bar_style": "success",
            "description": "",
            "description_tooltip": null,
            "layout": "IPY_MODEL_6fef1a71e37c4bfdb9fbd4519bcfcee3",
            "max": 988097824,
            "min": 0,
            "orientation": "horizontal",
            "style": "IPY_MODEL_e5833cc56623419db6e88e79bbeeb0d9",
            "value": 988097824
          }
        },
        "d703ac8154ea4096885441326a22c363": {
          "model_module": "@jupyter-widgets/controls",
          "model_name": "HTMLModel",
          "model_module_version": "1.5.0",
          "state": {
            "_dom_classes": [],
            "_model_module": "@jupyter-widgets/controls",
            "_model_module_version": "1.5.0",
            "_model_name": "HTMLModel",
            "_view_count": null,
            "_view_module": "@jupyter-widgets/controls",
            "_view_module_version": "1.5.0",
            "_view_name": "HTMLView",
            "description": "",
            "description_tooltip": null,
            "layout": "IPY_MODEL_c2306911a4604a50a5a25e42b228ad1b",
            "placeholder": "​",
            "style": "IPY_MODEL_85b61280d5534c2b99c1d0e771b9b24d",
            "value": " 988M/988M [00:14&lt;00:00, 66.7MB/s]"
          }
        },
        "2793080a437149eeb17b9ec8a433f1cb": {
          "model_module": "@jupyter-widgets/base",
          "model_name": "LayoutModel",
          "model_module_version": "1.2.0",
          "state": {
            "_model_module": "@jupyter-widgets/base",
            "_model_module_version": "1.2.0",
            "_model_name": "LayoutModel",
            "_view_count": null,
            "_view_module": "@jupyter-widgets/base",
            "_view_module_version": "1.2.0",
            "_view_name": "LayoutView",
            "align_content": null,
            "align_items": null,
            "align_self": null,
            "border": null,
            "bottom": null,
            "display": null,
            "flex": null,
            "flex_flow": null,
            "grid_area": null,
            "grid_auto_columns": null,
            "grid_auto_flow": null,
            "grid_auto_rows": null,
            "grid_column": null,
            "grid_gap": null,
            "grid_row": null,
            "grid_template_areas": null,
            "grid_template_columns": null,
            "grid_template_rows": null,
            "height": null,
            "justify_content": null,
            "justify_items": null,
            "left": null,
            "margin": null,
            "max_height": null,
            "max_width": null,
            "min_height": null,
            "min_width": null,
            "object_fit": null,
            "object_position": null,
            "order": null,
            "overflow": null,
            "overflow_x": null,
            "overflow_y": null,
            "padding": null,
            "right": null,
            "top": null,
            "visibility": null,
            "width": null
          }
        },
        "42dc46ead3ec4e59a8ce47e24a2f518a": {
          "model_module": "@jupyter-widgets/base",
          "model_name": "LayoutModel",
          "model_module_version": "1.2.0",
          "state": {
            "_model_module": "@jupyter-widgets/base",
            "_model_module_version": "1.2.0",
            "_model_name": "LayoutModel",
            "_view_count": null,
            "_view_module": "@jupyter-widgets/base",
            "_view_module_version": "1.2.0",
            "_view_name": "LayoutView",
            "align_content": null,
            "align_items": null,
            "align_self": null,
            "border": null,
            "bottom": null,
            "display": null,
            "flex": null,
            "flex_flow": null,
            "grid_area": null,
            "grid_auto_columns": null,
            "grid_auto_flow": null,
            "grid_auto_rows": null,
            "grid_column": null,
            "grid_gap": null,
            "grid_row": null,
            "grid_template_areas": null,
            "grid_template_columns": null,
            "grid_template_rows": null,
            "height": null,
            "justify_content": null,
            "justify_items": null,
            "left": null,
            "margin": null,
            "max_height": null,
            "max_width": null,
            "min_height": null,
            "min_width": null,
            "object_fit": null,
            "object_position": null,
            "order": null,
            "overflow": null,
            "overflow_x": null,
            "overflow_y": null,
            "padding": null,
            "right": null,
            "top": null,
            "visibility": null,
            "width": null
          }
        },
        "39339966e5174f44ba722979b7cf4c6b": {
          "model_module": "@jupyter-widgets/controls",
          "model_name": "DescriptionStyleModel",
          "model_module_version": "1.5.0",
          "state": {
            "_model_module": "@jupyter-widgets/controls",
            "_model_module_version": "1.5.0",
            "_model_name": "DescriptionStyleModel",
            "_view_count": null,
            "_view_module": "@jupyter-widgets/base",
            "_view_module_version": "1.2.0",
            "_view_name": "StyleView",
            "description_width": ""
          }
        },
        "6fef1a71e37c4bfdb9fbd4519bcfcee3": {
          "model_module": "@jupyter-widgets/base",
          "model_name": "LayoutModel",
          "model_module_version": "1.2.0",
          "state": {
            "_model_module": "@jupyter-widgets/base",
            "_model_module_version": "1.2.0",
            "_model_name": "LayoutModel",
            "_view_count": null,
            "_view_module": "@jupyter-widgets/base",
            "_view_module_version": "1.2.0",
            "_view_name": "LayoutView",
            "align_content": null,
            "align_items": null,
            "align_self": null,
            "border": null,
            "bottom": null,
            "display": null,
            "flex": null,
            "flex_flow": null,
            "grid_area": null,
            "grid_auto_columns": null,
            "grid_auto_flow": null,
            "grid_auto_rows": null,
            "grid_column": null,
            "grid_gap": null,
            "grid_row": null,
            "grid_template_areas": null,
            "grid_template_columns": null,
            "grid_template_rows": null,
            "height": null,
            "justify_content": null,
            "justify_items": null,
            "left": null,
            "margin": null,
            "max_height": null,
            "max_width": null,
            "min_height": null,
            "min_width": null,
            "object_fit": null,
            "object_position": null,
            "order": null,
            "overflow": null,
            "overflow_x": null,
            "overflow_y": null,
            "padding": null,
            "right": null,
            "top": null,
            "visibility": null,
            "width": null
          }
        },
        "e5833cc56623419db6e88e79bbeeb0d9": {
          "model_module": "@jupyter-widgets/controls",
          "model_name": "ProgressStyleModel",
          "model_module_version": "1.5.0",
          "state": {
            "_model_module": "@jupyter-widgets/controls",
            "_model_module_version": "1.5.0",
            "_model_name": "ProgressStyleModel",
            "_view_count": null,
            "_view_module": "@jupyter-widgets/base",
            "_view_module_version": "1.2.0",
            "_view_name": "StyleView",
            "bar_color": null,
            "description_width": ""
          }
        },
        "c2306911a4604a50a5a25e42b228ad1b": {
          "model_module": "@jupyter-widgets/base",
          "model_name": "LayoutModel",
          "model_module_version": "1.2.0",
          "state": {
            "_model_module": "@jupyter-widgets/base",
            "_model_module_version": "1.2.0",
            "_model_name": "LayoutModel",
            "_view_count": null,
            "_view_module": "@jupyter-widgets/base",
            "_view_module_version": "1.2.0",
            "_view_name": "LayoutView",
            "align_content": null,
            "align_items": null,
            "align_self": null,
            "border": null,
            "bottom": null,
            "display": null,
            "flex": null,
            "flex_flow": null,
            "grid_area": null,
            "grid_auto_columns": null,
            "grid_auto_flow": null,
            "grid_auto_rows": null,
            "grid_column": null,
            "grid_gap": null,
            "grid_row": null,
            "grid_template_areas": null,
            "grid_template_columns": null,
            "grid_template_rows": null,
            "height": null,
            "justify_content": null,
            "justify_items": null,
            "left": null,
            "margin": null,
            "max_height": null,
            "max_width": null,
            "min_height": null,
            "min_width": null,
            "object_fit": null,
            "object_position": null,
            "order": null,
            "overflow": null,
            "overflow_x": null,
            "overflow_y": null,
            "padding": null,
            "right": null,
            "top": null,
            "visibility": null,
            "width": null
          }
        },
        "85b61280d5534c2b99c1d0e771b9b24d": {
          "model_module": "@jupyter-widgets/controls",
          "model_name": "DescriptionStyleModel",
          "model_module_version": "1.5.0",
          "state": {
            "_model_module": "@jupyter-widgets/controls",
            "_model_module_version": "1.5.0",
            "_model_name": "DescriptionStyleModel",
            "_view_count": null,
            "_view_module": "@jupyter-widgets/base",
            "_view_module_version": "1.2.0",
            "_view_name": "StyleView",
            "description_width": ""
          }
        },
        "99c0b29a07b24d28994ee85b098feb50": {
          "model_module": "@jupyter-widgets/controls",
          "model_name": "HBoxModel",
          "model_module_version": "1.5.0",
          "state": {
            "_dom_classes": [],
            "_model_module": "@jupyter-widgets/controls",
            "_model_module_version": "1.5.0",
            "_model_name": "HBoxModel",
            "_view_count": null,
            "_view_module": "@jupyter-widgets/controls",
            "_view_module_version": "1.5.0",
            "_view_name": "HBoxView",
            "box_style": "",
            "children": [
              "IPY_MODEL_833c64e2681a4de1b0f5dd1f2cc8cb15",
              "IPY_MODEL_78c9e9c7c9ff4157bf344adec0d27485",
              "IPY_MODEL_7573b6e5cc0a427686d3a67cdfda1f8f"
            ],
            "layout": "IPY_MODEL_7f6ff3b421904a8188f5d7e6e3a36c29"
          }
        },
        "833c64e2681a4de1b0f5dd1f2cc8cb15": {
          "model_module": "@jupyter-widgets/controls",
          "model_name": "HTMLModel",
          "model_module_version": "1.5.0",
          "state": {
            "_dom_classes": [],
            "_model_module": "@jupyter-widgets/controls",
            "_model_module_version": "1.5.0",
            "_model_name": "HTMLModel",
            "_view_count": null,
            "_view_module": "@jupyter-widgets/controls",
            "_view_module_version": "1.5.0",
            "_view_name": "HTMLView",
            "description": "",
            "description_tooltip": null,
            "layout": "IPY_MODEL_eda9c4b188564db0a96498d07f489afb",
            "placeholder": "​",
            "style": "IPY_MODEL_121f48d91e604a9eabe7db4b2867b04f",
            "value": "generation_config.json: 100%"
          }
        },
        "78c9e9c7c9ff4157bf344adec0d27485": {
          "model_module": "@jupyter-widgets/controls",
          "model_name": "FloatProgressModel",
          "model_module_version": "1.5.0",
          "state": {
            "_dom_classes": [],
            "_model_module": "@jupyter-widgets/controls",
            "_model_module_version": "1.5.0",
            "_model_name": "FloatProgressModel",
            "_view_count": null,
            "_view_module": "@jupyter-widgets/controls",
            "_view_module_version": "1.5.0",
            "_view_name": "ProgressView",
            "bar_style": "success",
            "description": "",
            "description_tooltip": null,
            "layout": "IPY_MODEL_e8921e8a5092438c8e8e1b61a851186c",
            "max": 242,
            "min": 0,
            "orientation": "horizontal",
            "style": "IPY_MODEL_25a576985f9744499b73bf8fffcabaca",
            "value": 242
          }
        },
        "7573b6e5cc0a427686d3a67cdfda1f8f": {
          "model_module": "@jupyter-widgets/controls",
          "model_name": "HTMLModel",
          "model_module_version": "1.5.0",
          "state": {
            "_dom_classes": [],
            "_model_module": "@jupyter-widgets/controls",
            "_model_module_version": "1.5.0",
            "_model_name": "HTMLModel",
            "_view_count": null,
            "_view_module": "@jupyter-widgets/controls",
            "_view_module_version": "1.5.0",
            "_view_name": "HTMLView",
            "description": "",
            "description_tooltip": null,
            "layout": "IPY_MODEL_7f73502c82da4a31998394a7eb2d646a",
            "placeholder": "​",
            "style": "IPY_MODEL_be7b970a98da4069a82fe7c17943a2ad",
            "value": " 242/242 [00:00&lt;00:00, 31.3kB/s]"
          }
        },
        "7f6ff3b421904a8188f5d7e6e3a36c29": {
          "model_module": "@jupyter-widgets/base",
          "model_name": "LayoutModel",
          "model_module_version": "1.2.0",
          "state": {
            "_model_module": "@jupyter-widgets/base",
            "_model_module_version": "1.2.0",
            "_model_name": "LayoutModel",
            "_view_count": null,
            "_view_module": "@jupyter-widgets/base",
            "_view_module_version": "1.2.0",
            "_view_name": "LayoutView",
            "align_content": null,
            "align_items": null,
            "align_self": null,
            "border": null,
            "bottom": null,
            "display": null,
            "flex": null,
            "flex_flow": null,
            "grid_area": null,
            "grid_auto_columns": null,
            "grid_auto_flow": null,
            "grid_auto_rows": null,
            "grid_column": null,
            "grid_gap": null,
            "grid_row": null,
            "grid_template_areas": null,
            "grid_template_columns": null,
            "grid_template_rows": null,
            "height": null,
            "justify_content": null,
            "justify_items": null,
            "left": null,
            "margin": null,
            "max_height": null,
            "max_width": null,
            "min_height": null,
            "min_width": null,
            "object_fit": null,
            "object_position": null,
            "order": null,
            "overflow": null,
            "overflow_x": null,
            "overflow_y": null,
            "padding": null,
            "right": null,
            "top": null,
            "visibility": null,
            "width": null
          }
        },
        "eda9c4b188564db0a96498d07f489afb": {
          "model_module": "@jupyter-widgets/base",
          "model_name": "LayoutModel",
          "model_module_version": "1.2.0",
          "state": {
            "_model_module": "@jupyter-widgets/base",
            "_model_module_version": "1.2.0",
            "_model_name": "LayoutModel",
            "_view_count": null,
            "_view_module": "@jupyter-widgets/base",
            "_view_module_version": "1.2.0",
            "_view_name": "LayoutView",
            "align_content": null,
            "align_items": null,
            "align_self": null,
            "border": null,
            "bottom": null,
            "display": null,
            "flex": null,
            "flex_flow": null,
            "grid_area": null,
            "grid_auto_columns": null,
            "grid_auto_flow": null,
            "grid_auto_rows": null,
            "grid_column": null,
            "grid_gap": null,
            "grid_row": null,
            "grid_template_areas": null,
            "grid_template_columns": null,
            "grid_template_rows": null,
            "height": null,
            "justify_content": null,
            "justify_items": null,
            "left": null,
            "margin": null,
            "max_height": null,
            "max_width": null,
            "min_height": null,
            "min_width": null,
            "object_fit": null,
            "object_position": null,
            "order": null,
            "overflow": null,
            "overflow_x": null,
            "overflow_y": null,
            "padding": null,
            "right": null,
            "top": null,
            "visibility": null,
            "width": null
          }
        },
        "121f48d91e604a9eabe7db4b2867b04f": {
          "model_module": "@jupyter-widgets/controls",
          "model_name": "DescriptionStyleModel",
          "model_module_version": "1.5.0",
          "state": {
            "_model_module": "@jupyter-widgets/controls",
            "_model_module_version": "1.5.0",
            "_model_name": "DescriptionStyleModel",
            "_view_count": null,
            "_view_module": "@jupyter-widgets/base",
            "_view_module_version": "1.2.0",
            "_view_name": "StyleView",
            "description_width": ""
          }
        },
        "e8921e8a5092438c8e8e1b61a851186c": {
          "model_module": "@jupyter-widgets/base",
          "model_name": "LayoutModel",
          "model_module_version": "1.2.0",
          "state": {
            "_model_module": "@jupyter-widgets/base",
            "_model_module_version": "1.2.0",
            "_model_name": "LayoutModel",
            "_view_count": null,
            "_view_module": "@jupyter-widgets/base",
            "_view_module_version": "1.2.0",
            "_view_name": "LayoutView",
            "align_content": null,
            "align_items": null,
            "align_self": null,
            "border": null,
            "bottom": null,
            "display": null,
            "flex": null,
            "flex_flow": null,
            "grid_area": null,
            "grid_auto_columns": null,
            "grid_auto_flow": null,
            "grid_auto_rows": null,
            "grid_column": null,
            "grid_gap": null,
            "grid_row": null,
            "grid_template_areas": null,
            "grid_template_columns": null,
            "grid_template_rows": null,
            "height": null,
            "justify_content": null,
            "justify_items": null,
            "left": null,
            "margin": null,
            "max_height": null,
            "max_width": null,
            "min_height": null,
            "min_width": null,
            "object_fit": null,
            "object_position": null,
            "order": null,
            "overflow": null,
            "overflow_x": null,
            "overflow_y": null,
            "padding": null,
            "right": null,
            "top": null,
            "visibility": null,
            "width": null
          }
        },
        "25a576985f9744499b73bf8fffcabaca": {
          "model_module": "@jupyter-widgets/controls",
          "model_name": "ProgressStyleModel",
          "model_module_version": "1.5.0",
          "state": {
            "_model_module": "@jupyter-widgets/controls",
            "_model_module_version": "1.5.0",
            "_model_name": "ProgressStyleModel",
            "_view_count": null,
            "_view_module": "@jupyter-widgets/base",
            "_view_module_version": "1.2.0",
            "_view_name": "StyleView",
            "bar_color": null,
            "description_width": ""
          }
        },
        "7f73502c82da4a31998394a7eb2d646a": {
          "model_module": "@jupyter-widgets/base",
          "model_name": "LayoutModel",
          "model_module_version": "1.2.0",
          "state": {
            "_model_module": "@jupyter-widgets/base",
            "_model_module_version": "1.2.0",
            "_model_name": "LayoutModel",
            "_view_count": null,
            "_view_module": "@jupyter-widgets/base",
            "_view_module_version": "1.2.0",
            "_view_name": "LayoutView",
            "align_content": null,
            "align_items": null,
            "align_self": null,
            "border": null,
            "bottom": null,
            "display": null,
            "flex": null,
            "flex_flow": null,
            "grid_area": null,
            "grid_auto_columns": null,
            "grid_auto_flow": null,
            "grid_auto_rows": null,
            "grid_column": null,
            "grid_gap": null,
            "grid_row": null,
            "grid_template_areas": null,
            "grid_template_columns": null,
            "grid_template_rows": null,
            "height": null,
            "justify_content": null,
            "justify_items": null,
            "left": null,
            "margin": null,
            "max_height": null,
            "max_width": null,
            "min_height": null,
            "min_width": null,
            "object_fit": null,
            "object_position": null,
            "order": null,
            "overflow": null,
            "overflow_x": null,
            "overflow_y": null,
            "padding": null,
            "right": null,
            "top": null,
            "visibility": null,
            "width": null
          }
        },
        "be7b970a98da4069a82fe7c17943a2ad": {
          "model_module": "@jupyter-widgets/controls",
          "model_name": "DescriptionStyleModel",
          "model_module_version": "1.5.0",
          "state": {
            "_model_module": "@jupyter-widgets/controls",
            "_model_module_version": "1.5.0",
            "_model_name": "DescriptionStyleModel",
            "_view_count": null,
            "_view_module": "@jupyter-widgets/base",
            "_view_module_version": "1.2.0",
            "_view_name": "StyleView",
            "description_width": ""
          }
        },
        "efc30a5f852e4e34a6e7313766bf9269": {
          "model_module": "@jupyter-widgets/controls",
          "model_name": "HBoxModel",
          "model_module_version": "1.5.0",
          "state": {
            "_dom_classes": [],
            "_model_module": "@jupyter-widgets/controls",
            "_model_module_version": "1.5.0",
            "_model_name": "HBoxModel",
            "_view_count": null,
            "_view_module": "@jupyter-widgets/controls",
            "_view_module_version": "1.5.0",
            "_view_name": "HBoxView",
            "box_style": "",
            "children": [
              "IPY_MODEL_f9bc39bc3ef94908a1dfb667065b9f5d",
              "IPY_MODEL_72807e4a354b475795c27f26f9e0c525",
              "IPY_MODEL_76d2c683b79347e3beadffa0b81d4e74"
            ],
            "layout": "IPY_MODEL_7289bc9addbf401db97b49755b4c3df0"
          }
        },
        "f9bc39bc3ef94908a1dfb667065b9f5d": {
          "model_module": "@jupyter-widgets/controls",
          "model_name": "HTMLModel",
          "model_module_version": "1.5.0",
          "state": {
            "_dom_classes": [],
            "_model_module": "@jupyter-widgets/controls",
            "_model_module_version": "1.5.0",
            "_model_name": "HTMLModel",
            "_view_count": null,
            "_view_module": "@jupyter-widgets/controls",
            "_view_module_version": "1.5.0",
            "_view_name": "HTMLView",
            "description": "",
            "description_tooltip": null,
            "layout": "IPY_MODEL_e2821beecc1e427fbf91ddc3a7b3b026",
            "placeholder": "​",
            "style": "IPY_MODEL_e0e85a66e91743aa9fb6a64c2a0af312",
            "value": "tokenizer_config.json: 100%"
          }
        },
        "72807e4a354b475795c27f26f9e0c525": {
          "model_module": "@jupyter-widgets/controls",
          "model_name": "FloatProgressModel",
          "model_module_version": "1.5.0",
          "state": {
            "_dom_classes": [],
            "_model_module": "@jupyter-widgets/controls",
            "_model_module_version": "1.5.0",
            "_model_name": "FloatProgressModel",
            "_view_count": null,
            "_view_module": "@jupyter-widgets/controls",
            "_view_module_version": "1.5.0",
            "_view_name": "ProgressView",
            "bar_style": "success",
            "description": "",
            "description_tooltip": null,
            "layout": "IPY_MODEL_f08f6b0731e44f40b7f7070dd2786558",
            "max": 7228,
            "min": 0,
            "orientation": "horizontal",
            "style": "IPY_MODEL_9a55a6c09c904543bd66183cb8f734b4",
            "value": 7228
          }
        },
        "76d2c683b79347e3beadffa0b81d4e74": {
          "model_module": "@jupyter-widgets/controls",
          "model_name": "HTMLModel",
          "model_module_version": "1.5.0",
          "state": {
            "_dom_classes": [],
            "_model_module": "@jupyter-widgets/controls",
            "_model_module_version": "1.5.0",
            "_model_name": "HTMLModel",
            "_view_count": null,
            "_view_module": "@jupyter-widgets/controls",
            "_view_module_version": "1.5.0",
            "_view_name": "HTMLView",
            "description": "",
            "description_tooltip": null,
            "layout": "IPY_MODEL_ed9473adfbaf40b59b9b7b02060eac49",
            "placeholder": "​",
            "style": "IPY_MODEL_87ea44eef11844048001a3c497c3fe2b",
            "value": " 7.23k/7.23k [00:00&lt;00:00, 886kB/s]"
          }
        },
        "7289bc9addbf401db97b49755b4c3df0": {
          "model_module": "@jupyter-widgets/base",
          "model_name": "LayoutModel",
          "model_module_version": "1.2.0",
          "state": {
            "_model_module": "@jupyter-widgets/base",
            "_model_module_version": "1.2.0",
            "_model_name": "LayoutModel",
            "_view_count": null,
            "_view_module": "@jupyter-widgets/base",
            "_view_module_version": "1.2.0",
            "_view_name": "LayoutView",
            "align_content": null,
            "align_items": null,
            "align_self": null,
            "border": null,
            "bottom": null,
            "display": null,
            "flex": null,
            "flex_flow": null,
            "grid_area": null,
            "grid_auto_columns": null,
            "grid_auto_flow": null,
            "grid_auto_rows": null,
            "grid_column": null,
            "grid_gap": null,
            "grid_row": null,
            "grid_template_areas": null,
            "grid_template_columns": null,
            "grid_template_rows": null,
            "height": null,
            "justify_content": null,
            "justify_items": null,
            "left": null,
            "margin": null,
            "max_height": null,
            "max_width": null,
            "min_height": null,
            "min_width": null,
            "object_fit": null,
            "object_position": null,
            "order": null,
            "overflow": null,
            "overflow_x": null,
            "overflow_y": null,
            "padding": null,
            "right": null,
            "top": null,
            "visibility": null,
            "width": null
          }
        },
        "e2821beecc1e427fbf91ddc3a7b3b026": {
          "model_module": "@jupyter-widgets/base",
          "model_name": "LayoutModel",
          "model_module_version": "1.2.0",
          "state": {
            "_model_module": "@jupyter-widgets/base",
            "_model_module_version": "1.2.0",
            "_model_name": "LayoutModel",
            "_view_count": null,
            "_view_module": "@jupyter-widgets/base",
            "_view_module_version": "1.2.0",
            "_view_name": "LayoutView",
            "align_content": null,
            "align_items": null,
            "align_self": null,
            "border": null,
            "bottom": null,
            "display": null,
            "flex": null,
            "flex_flow": null,
            "grid_area": null,
            "grid_auto_columns": null,
            "grid_auto_flow": null,
            "grid_auto_rows": null,
            "grid_column": null,
            "grid_gap": null,
            "grid_row": null,
            "grid_template_areas": null,
            "grid_template_columns": null,
            "grid_template_rows": null,
            "height": null,
            "justify_content": null,
            "justify_items": null,
            "left": null,
            "margin": null,
            "max_height": null,
            "max_width": null,
            "min_height": null,
            "min_width": null,
            "object_fit": null,
            "object_position": null,
            "order": null,
            "overflow": null,
            "overflow_x": null,
            "overflow_y": null,
            "padding": null,
            "right": null,
            "top": null,
            "visibility": null,
            "width": null
          }
        },
        "e0e85a66e91743aa9fb6a64c2a0af312": {
          "model_module": "@jupyter-widgets/controls",
          "model_name": "DescriptionStyleModel",
          "model_module_version": "1.5.0",
          "state": {
            "_model_module": "@jupyter-widgets/controls",
            "_model_module_version": "1.5.0",
            "_model_name": "DescriptionStyleModel",
            "_view_count": null,
            "_view_module": "@jupyter-widgets/base",
            "_view_module_version": "1.2.0",
            "_view_name": "StyleView",
            "description_width": ""
          }
        },
        "f08f6b0731e44f40b7f7070dd2786558": {
          "model_module": "@jupyter-widgets/base",
          "model_name": "LayoutModel",
          "model_module_version": "1.2.0",
          "state": {
            "_model_module": "@jupyter-widgets/base",
            "_model_module_version": "1.2.0",
            "_model_name": "LayoutModel",
            "_view_count": null,
            "_view_module": "@jupyter-widgets/base",
            "_view_module_version": "1.2.0",
            "_view_name": "LayoutView",
            "align_content": null,
            "align_items": null,
            "align_self": null,
            "border": null,
            "bottom": null,
            "display": null,
            "flex": null,
            "flex_flow": null,
            "grid_area": null,
            "grid_auto_columns": null,
            "grid_auto_flow": null,
            "grid_auto_rows": null,
            "grid_column": null,
            "grid_gap": null,
            "grid_row": null,
            "grid_template_areas": null,
            "grid_template_columns": null,
            "grid_template_rows": null,
            "height": null,
            "justify_content": null,
            "justify_items": null,
            "left": null,
            "margin": null,
            "max_height": null,
            "max_width": null,
            "min_height": null,
            "min_width": null,
            "object_fit": null,
            "object_position": null,
            "order": null,
            "overflow": null,
            "overflow_x": null,
            "overflow_y": null,
            "padding": null,
            "right": null,
            "top": null,
            "visibility": null,
            "width": null
          }
        },
        "9a55a6c09c904543bd66183cb8f734b4": {
          "model_module": "@jupyter-widgets/controls",
          "model_name": "ProgressStyleModel",
          "model_module_version": "1.5.0",
          "state": {
            "_model_module": "@jupyter-widgets/controls",
            "_model_module_version": "1.5.0",
            "_model_name": "ProgressStyleModel",
            "_view_count": null,
            "_view_module": "@jupyter-widgets/base",
            "_view_module_version": "1.2.0",
            "_view_name": "StyleView",
            "bar_color": null,
            "description_width": ""
          }
        },
        "ed9473adfbaf40b59b9b7b02060eac49": {
          "model_module": "@jupyter-widgets/base",
          "model_name": "LayoutModel",
          "model_module_version": "1.2.0",
          "state": {
            "_model_module": "@jupyter-widgets/base",
            "_model_module_version": "1.2.0",
            "_model_name": "LayoutModel",
            "_view_count": null,
            "_view_module": "@jupyter-widgets/base",
            "_view_module_version": "1.2.0",
            "_view_name": "LayoutView",
            "align_content": null,
            "align_items": null,
            "align_self": null,
            "border": null,
            "bottom": null,
            "display": null,
            "flex": null,
            "flex_flow": null,
            "grid_area": null,
            "grid_auto_columns": null,
            "grid_auto_flow": null,
            "grid_auto_rows": null,
            "grid_column": null,
            "grid_gap": null,
            "grid_row": null,
            "grid_template_areas": null,
            "grid_template_columns": null,
            "grid_template_rows": null,
            "height": null,
            "justify_content": null,
            "justify_items": null,
            "left": null,
            "margin": null,
            "max_height": null,
            "max_width": null,
            "min_height": null,
            "min_width": null,
            "object_fit": null,
            "object_position": null,
            "order": null,
            "overflow": null,
            "overflow_x": null,
            "overflow_y": null,
            "padding": null,
            "right": null,
            "top": null,
            "visibility": null,
            "width": null
          }
        },
        "87ea44eef11844048001a3c497c3fe2b": {
          "model_module": "@jupyter-widgets/controls",
          "model_name": "DescriptionStyleModel",
          "model_module_version": "1.5.0",
          "state": {
            "_model_module": "@jupyter-widgets/controls",
            "_model_module_version": "1.5.0",
            "_model_name": "DescriptionStyleModel",
            "_view_count": null,
            "_view_module": "@jupyter-widgets/base",
            "_view_module_version": "1.2.0",
            "_view_name": "StyleView",
            "description_width": ""
          }
        },
        "396322b63a924376ae74f3c591b4436b": {
          "model_module": "@jupyter-widgets/controls",
          "model_name": "HBoxModel",
          "model_module_version": "1.5.0",
          "state": {
            "_dom_classes": [],
            "_model_module": "@jupyter-widgets/controls",
            "_model_module_version": "1.5.0",
            "_model_name": "HBoxModel",
            "_view_count": null,
            "_view_module": "@jupyter-widgets/controls",
            "_view_module_version": "1.5.0",
            "_view_name": "HBoxView",
            "box_style": "",
            "children": [
              "IPY_MODEL_4e9f650784804fe6aaa9846d8b2b8a94",
              "IPY_MODEL_ac51887330d74ca4a8c44185ac899e45",
              "IPY_MODEL_40591a8eb3cc4cecab3cc242ac7832b1"
            ],
            "layout": "IPY_MODEL_2624dfe10593453d82dec218036676ee"
          }
        },
        "4e9f650784804fe6aaa9846d8b2b8a94": {
          "model_module": "@jupyter-widgets/controls",
          "model_name": "HTMLModel",
          "model_module_version": "1.5.0",
          "state": {
            "_dom_classes": [],
            "_model_module": "@jupyter-widgets/controls",
            "_model_module_version": "1.5.0",
            "_model_name": "HTMLModel",
            "_view_count": null,
            "_view_module": "@jupyter-widgets/controls",
            "_view_module_version": "1.5.0",
            "_view_name": "HTMLView",
            "description": "",
            "description_tooltip": null,
            "layout": "IPY_MODEL_5c64efea4701401e834bb1bd03ef7507",
            "placeholder": "​",
            "style": "IPY_MODEL_ef3897a506774eb8875691a07f7524b9",
            "value": "vocab.json: 100%"
          }
        },
        "ac51887330d74ca4a8c44185ac899e45": {
          "model_module": "@jupyter-widgets/controls",
          "model_name": "FloatProgressModel",
          "model_module_version": "1.5.0",
          "state": {
            "_dom_classes": [],
            "_model_module": "@jupyter-widgets/controls",
            "_model_module_version": "1.5.0",
            "_model_name": "FloatProgressModel",
            "_view_count": null,
            "_view_module": "@jupyter-widgets/controls",
            "_view_module_version": "1.5.0",
            "_view_name": "ProgressView",
            "bar_style": "success",
            "description": "",
            "description_tooltip": null,
            "layout": "IPY_MODEL_a6e258b1ad184ece8acdbe657cd7471b",
            "max": 2776833,
            "min": 0,
            "orientation": "horizontal",
            "style": "IPY_MODEL_437881bbf2744dcdbe5bac3423590b15",
            "value": 2776833
          }
        },
        "40591a8eb3cc4cecab3cc242ac7832b1": {
          "model_module": "@jupyter-widgets/controls",
          "model_name": "HTMLModel",
          "model_module_version": "1.5.0",
          "state": {
            "_dom_classes": [],
            "_model_module": "@jupyter-widgets/controls",
            "_model_module_version": "1.5.0",
            "_model_name": "HTMLModel",
            "_view_count": null,
            "_view_module": "@jupyter-widgets/controls",
            "_view_module_version": "1.5.0",
            "_view_name": "HTMLView",
            "description": "",
            "description_tooltip": null,
            "layout": "IPY_MODEL_1570a4c9969244efa8f77ffbefdfbe73",
            "placeholder": "​",
            "style": "IPY_MODEL_04e92bfb004747ffa97a5cf0ab552f9d",
            "value": " 2.78M/2.78M [00:00&lt;00:00, 25.9MB/s]"
          }
        },
        "2624dfe10593453d82dec218036676ee": {
          "model_module": "@jupyter-widgets/base",
          "model_name": "LayoutModel",
          "model_module_version": "1.2.0",
          "state": {
            "_model_module": "@jupyter-widgets/base",
            "_model_module_version": "1.2.0",
            "_model_name": "LayoutModel",
            "_view_count": null,
            "_view_module": "@jupyter-widgets/base",
            "_view_module_version": "1.2.0",
            "_view_name": "LayoutView",
            "align_content": null,
            "align_items": null,
            "align_self": null,
            "border": null,
            "bottom": null,
            "display": null,
            "flex": null,
            "flex_flow": null,
            "grid_area": null,
            "grid_auto_columns": null,
            "grid_auto_flow": null,
            "grid_auto_rows": null,
            "grid_column": null,
            "grid_gap": null,
            "grid_row": null,
            "grid_template_areas": null,
            "grid_template_columns": null,
            "grid_template_rows": null,
            "height": null,
            "justify_content": null,
            "justify_items": null,
            "left": null,
            "margin": null,
            "max_height": null,
            "max_width": null,
            "min_height": null,
            "min_width": null,
            "object_fit": null,
            "object_position": null,
            "order": null,
            "overflow": null,
            "overflow_x": null,
            "overflow_y": null,
            "padding": null,
            "right": null,
            "top": null,
            "visibility": null,
            "width": null
          }
        },
        "5c64efea4701401e834bb1bd03ef7507": {
          "model_module": "@jupyter-widgets/base",
          "model_name": "LayoutModel",
          "model_module_version": "1.2.0",
          "state": {
            "_model_module": "@jupyter-widgets/base",
            "_model_module_version": "1.2.0",
            "_model_name": "LayoutModel",
            "_view_count": null,
            "_view_module": "@jupyter-widgets/base",
            "_view_module_version": "1.2.0",
            "_view_name": "LayoutView",
            "align_content": null,
            "align_items": null,
            "align_self": null,
            "border": null,
            "bottom": null,
            "display": null,
            "flex": null,
            "flex_flow": null,
            "grid_area": null,
            "grid_auto_columns": null,
            "grid_auto_flow": null,
            "grid_auto_rows": null,
            "grid_column": null,
            "grid_gap": null,
            "grid_row": null,
            "grid_template_areas": null,
            "grid_template_columns": null,
            "grid_template_rows": null,
            "height": null,
            "justify_content": null,
            "justify_items": null,
            "left": null,
            "margin": null,
            "max_height": null,
            "max_width": null,
            "min_height": null,
            "min_width": null,
            "object_fit": null,
            "object_position": null,
            "order": null,
            "overflow": null,
            "overflow_x": null,
            "overflow_y": null,
            "padding": null,
            "right": null,
            "top": null,
            "visibility": null,
            "width": null
          }
        },
        "ef3897a506774eb8875691a07f7524b9": {
          "model_module": "@jupyter-widgets/controls",
          "model_name": "DescriptionStyleModel",
          "model_module_version": "1.5.0",
          "state": {
            "_model_module": "@jupyter-widgets/controls",
            "_model_module_version": "1.5.0",
            "_model_name": "DescriptionStyleModel",
            "_view_count": null,
            "_view_module": "@jupyter-widgets/base",
            "_view_module_version": "1.2.0",
            "_view_name": "StyleView",
            "description_width": ""
          }
        },
        "a6e258b1ad184ece8acdbe657cd7471b": {
          "model_module": "@jupyter-widgets/base",
          "model_name": "LayoutModel",
          "model_module_version": "1.2.0",
          "state": {
            "_model_module": "@jupyter-widgets/base",
            "_model_module_version": "1.2.0",
            "_model_name": "LayoutModel",
            "_view_count": null,
            "_view_module": "@jupyter-widgets/base",
            "_view_module_version": "1.2.0",
            "_view_name": "LayoutView",
            "align_content": null,
            "align_items": null,
            "align_self": null,
            "border": null,
            "bottom": null,
            "display": null,
            "flex": null,
            "flex_flow": null,
            "grid_area": null,
            "grid_auto_columns": null,
            "grid_auto_flow": null,
            "grid_auto_rows": null,
            "grid_column": null,
            "grid_gap": null,
            "grid_row": null,
            "grid_template_areas": null,
            "grid_template_columns": null,
            "grid_template_rows": null,
            "height": null,
            "justify_content": null,
            "justify_items": null,
            "left": null,
            "margin": null,
            "max_height": null,
            "max_width": null,
            "min_height": null,
            "min_width": null,
            "object_fit": null,
            "object_position": null,
            "order": null,
            "overflow": null,
            "overflow_x": null,
            "overflow_y": null,
            "padding": null,
            "right": null,
            "top": null,
            "visibility": null,
            "width": null
          }
        },
        "437881bbf2744dcdbe5bac3423590b15": {
          "model_module": "@jupyter-widgets/controls",
          "model_name": "ProgressStyleModel",
          "model_module_version": "1.5.0",
          "state": {
            "_model_module": "@jupyter-widgets/controls",
            "_model_module_version": "1.5.0",
            "_model_name": "ProgressStyleModel",
            "_view_count": null,
            "_view_module": "@jupyter-widgets/base",
            "_view_module_version": "1.2.0",
            "_view_name": "StyleView",
            "bar_color": null,
            "description_width": ""
          }
        },
        "1570a4c9969244efa8f77ffbefdfbe73": {
          "model_module": "@jupyter-widgets/base",
          "model_name": "LayoutModel",
          "model_module_version": "1.2.0",
          "state": {
            "_model_module": "@jupyter-widgets/base",
            "_model_module_version": "1.2.0",
            "_model_name": "LayoutModel",
            "_view_count": null,
            "_view_module": "@jupyter-widgets/base",
            "_view_module_version": "1.2.0",
            "_view_name": "LayoutView",
            "align_content": null,
            "align_items": null,
            "align_self": null,
            "border": null,
            "bottom": null,
            "display": null,
            "flex": null,
            "flex_flow": null,
            "grid_area": null,
            "grid_auto_columns": null,
            "grid_auto_flow": null,
            "grid_auto_rows": null,
            "grid_column": null,
            "grid_gap": null,
            "grid_row": null,
            "grid_template_areas": null,
            "grid_template_columns": null,
            "grid_template_rows": null,
            "height": null,
            "justify_content": null,
            "justify_items": null,
            "left": null,
            "margin": null,
            "max_height": null,
            "max_width": null,
            "min_height": null,
            "min_width": null,
            "object_fit": null,
            "object_position": null,
            "order": null,
            "overflow": null,
            "overflow_x": null,
            "overflow_y": null,
            "padding": null,
            "right": null,
            "top": null,
            "visibility": null,
            "width": null
          }
        },
        "04e92bfb004747ffa97a5cf0ab552f9d": {
          "model_module": "@jupyter-widgets/controls",
          "model_name": "DescriptionStyleModel",
          "model_module_version": "1.5.0",
          "state": {
            "_model_module": "@jupyter-widgets/controls",
            "_model_module_version": "1.5.0",
            "_model_name": "DescriptionStyleModel",
            "_view_count": null,
            "_view_module": "@jupyter-widgets/base",
            "_view_module_version": "1.2.0",
            "_view_name": "StyleView",
            "description_width": ""
          }
        },
        "07086e830be24f6eab7f67a2b802bc4c": {
          "model_module": "@jupyter-widgets/controls",
          "model_name": "HBoxModel",
          "model_module_version": "1.5.0",
          "state": {
            "_dom_classes": [],
            "_model_module": "@jupyter-widgets/controls",
            "_model_module_version": "1.5.0",
            "_model_name": "HBoxModel",
            "_view_count": null,
            "_view_module": "@jupyter-widgets/controls",
            "_view_module_version": "1.5.0",
            "_view_name": "HBoxView",
            "box_style": "",
            "children": [
              "IPY_MODEL_f2e7b95a2fd044f09ca29ded6fff1c20",
              "IPY_MODEL_b2ff148b78624ec4a5efab038b371abf",
              "IPY_MODEL_2b0bef08b9ae41e3bc6c757c6164d764"
            ],
            "layout": "IPY_MODEL_aec652d111984d8cb61dc01e1d175df2"
          }
        },
        "f2e7b95a2fd044f09ca29ded6fff1c20": {
          "model_module": "@jupyter-widgets/controls",
          "model_name": "HTMLModel",
          "model_module_version": "1.5.0",
          "state": {
            "_dom_classes": [],
            "_model_module": "@jupyter-widgets/controls",
            "_model_module_version": "1.5.0",
            "_model_name": "HTMLModel",
            "_view_count": null,
            "_view_module": "@jupyter-widgets/controls",
            "_view_module_version": "1.5.0",
            "_view_name": "HTMLView",
            "description": "",
            "description_tooltip": null,
            "layout": "IPY_MODEL_18ccbc2b31ed43b09bac9e59b8c2c774",
            "placeholder": "​",
            "style": "IPY_MODEL_139c1e24696142a384407383fbba25d3",
            "value": "merges.txt: 100%"
          }
        },
        "b2ff148b78624ec4a5efab038b371abf": {
          "model_module": "@jupyter-widgets/controls",
          "model_name": "FloatProgressModel",
          "model_module_version": "1.5.0",
          "state": {
            "_dom_classes": [],
            "_model_module": "@jupyter-widgets/controls",
            "_model_module_version": "1.5.0",
            "_model_name": "FloatProgressModel",
            "_view_count": null,
            "_view_module": "@jupyter-widgets/controls",
            "_view_module_version": "1.5.0",
            "_view_name": "ProgressView",
            "bar_style": "success",
            "description": "",
            "description_tooltip": null,
            "layout": "IPY_MODEL_91d0a795a0f54b2bb810d86acb3da98f",
            "max": 1671839,
            "min": 0,
            "orientation": "horizontal",
            "style": "IPY_MODEL_bedae73d91c24196a0de7039ba6c7740",
            "value": 1671839
          }
        },
        "2b0bef08b9ae41e3bc6c757c6164d764": {
          "model_module": "@jupyter-widgets/controls",
          "model_name": "HTMLModel",
          "model_module_version": "1.5.0",
          "state": {
            "_dom_classes": [],
            "_model_module": "@jupyter-widgets/controls",
            "_model_module_version": "1.5.0",
            "_model_name": "HTMLModel",
            "_view_count": null,
            "_view_module": "@jupyter-widgets/controls",
            "_view_module_version": "1.5.0",
            "_view_name": "HTMLView",
            "description": "",
            "description_tooltip": null,
            "layout": "IPY_MODEL_443fd18025ba44989fbfb5c7956a644f",
            "placeholder": "​",
            "style": "IPY_MODEL_281d9b69950146408e20fdbdc70804d1",
            "value": " 1.67M/1.67M [00:00&lt;00:00, 15.8MB/s]"
          }
        },
        "aec652d111984d8cb61dc01e1d175df2": {
          "model_module": "@jupyter-widgets/base",
          "model_name": "LayoutModel",
          "model_module_version": "1.2.0",
          "state": {
            "_model_module": "@jupyter-widgets/base",
            "_model_module_version": "1.2.0",
            "_model_name": "LayoutModel",
            "_view_count": null,
            "_view_module": "@jupyter-widgets/base",
            "_view_module_version": "1.2.0",
            "_view_name": "LayoutView",
            "align_content": null,
            "align_items": null,
            "align_self": null,
            "border": null,
            "bottom": null,
            "display": null,
            "flex": null,
            "flex_flow": null,
            "grid_area": null,
            "grid_auto_columns": null,
            "grid_auto_flow": null,
            "grid_auto_rows": null,
            "grid_column": null,
            "grid_gap": null,
            "grid_row": null,
            "grid_template_areas": null,
            "grid_template_columns": null,
            "grid_template_rows": null,
            "height": null,
            "justify_content": null,
            "justify_items": null,
            "left": null,
            "margin": null,
            "max_height": null,
            "max_width": null,
            "min_height": null,
            "min_width": null,
            "object_fit": null,
            "object_position": null,
            "order": null,
            "overflow": null,
            "overflow_x": null,
            "overflow_y": null,
            "padding": null,
            "right": null,
            "top": null,
            "visibility": null,
            "width": null
          }
        },
        "18ccbc2b31ed43b09bac9e59b8c2c774": {
          "model_module": "@jupyter-widgets/base",
          "model_name": "LayoutModel",
          "model_module_version": "1.2.0",
          "state": {
            "_model_module": "@jupyter-widgets/base",
            "_model_module_version": "1.2.0",
            "_model_name": "LayoutModel",
            "_view_count": null,
            "_view_module": "@jupyter-widgets/base",
            "_view_module_version": "1.2.0",
            "_view_name": "LayoutView",
            "align_content": null,
            "align_items": null,
            "align_self": null,
            "border": null,
            "bottom": null,
            "display": null,
            "flex": null,
            "flex_flow": null,
            "grid_area": null,
            "grid_auto_columns": null,
            "grid_auto_flow": null,
            "grid_auto_rows": null,
            "grid_column": null,
            "grid_gap": null,
            "grid_row": null,
            "grid_template_areas": null,
            "grid_template_columns": null,
            "grid_template_rows": null,
            "height": null,
            "justify_content": null,
            "justify_items": null,
            "left": null,
            "margin": null,
            "max_height": null,
            "max_width": null,
            "min_height": null,
            "min_width": null,
            "object_fit": null,
            "object_position": null,
            "order": null,
            "overflow": null,
            "overflow_x": null,
            "overflow_y": null,
            "padding": null,
            "right": null,
            "top": null,
            "visibility": null,
            "width": null
          }
        },
        "139c1e24696142a384407383fbba25d3": {
          "model_module": "@jupyter-widgets/controls",
          "model_name": "DescriptionStyleModel",
          "model_module_version": "1.5.0",
          "state": {
            "_model_module": "@jupyter-widgets/controls",
            "_model_module_version": "1.5.0",
            "_model_name": "DescriptionStyleModel",
            "_view_count": null,
            "_view_module": "@jupyter-widgets/base",
            "_view_module_version": "1.2.0",
            "_view_name": "StyleView",
            "description_width": ""
          }
        },
        "91d0a795a0f54b2bb810d86acb3da98f": {
          "model_module": "@jupyter-widgets/base",
          "model_name": "LayoutModel",
          "model_module_version": "1.2.0",
          "state": {
            "_model_module": "@jupyter-widgets/base",
            "_model_module_version": "1.2.0",
            "_model_name": "LayoutModel",
            "_view_count": null,
            "_view_module": "@jupyter-widgets/base",
            "_view_module_version": "1.2.0",
            "_view_name": "LayoutView",
            "align_content": null,
            "align_items": null,
            "align_self": null,
            "border": null,
            "bottom": null,
            "display": null,
            "flex": null,
            "flex_flow": null,
            "grid_area": null,
            "grid_auto_columns": null,
            "grid_auto_flow": null,
            "grid_auto_rows": null,
            "grid_column": null,
            "grid_gap": null,
            "grid_row": null,
            "grid_template_areas": null,
            "grid_template_columns": null,
            "grid_template_rows": null,
            "height": null,
            "justify_content": null,
            "justify_items": null,
            "left": null,
            "margin": null,
            "max_height": null,
            "max_width": null,
            "min_height": null,
            "min_width": null,
            "object_fit": null,
            "object_position": null,
            "order": null,
            "overflow": null,
            "overflow_x": null,
            "overflow_y": null,
            "padding": null,
            "right": null,
            "top": null,
            "visibility": null,
            "width": null
          }
        },
        "bedae73d91c24196a0de7039ba6c7740": {
          "model_module": "@jupyter-widgets/controls",
          "model_name": "ProgressStyleModel",
          "model_module_version": "1.5.0",
          "state": {
            "_model_module": "@jupyter-widgets/controls",
            "_model_module_version": "1.5.0",
            "_model_name": "ProgressStyleModel",
            "_view_count": null,
            "_view_module": "@jupyter-widgets/base",
            "_view_module_version": "1.2.0",
            "_view_name": "StyleView",
            "bar_color": null,
            "description_width": ""
          }
        },
        "443fd18025ba44989fbfb5c7956a644f": {
          "model_module": "@jupyter-widgets/base",
          "model_name": "LayoutModel",
          "model_module_version": "1.2.0",
          "state": {
            "_model_module": "@jupyter-widgets/base",
            "_model_module_version": "1.2.0",
            "_model_name": "LayoutModel",
            "_view_count": null,
            "_view_module": "@jupyter-widgets/base",
            "_view_module_version": "1.2.0",
            "_view_name": "LayoutView",
            "align_content": null,
            "align_items": null,
            "align_self": null,
            "border": null,
            "bottom": null,
            "display": null,
            "flex": null,
            "flex_flow": null,
            "grid_area": null,
            "grid_auto_columns": null,
            "grid_auto_flow": null,
            "grid_auto_rows": null,
            "grid_column": null,
            "grid_gap": null,
            "grid_row": null,
            "grid_template_areas": null,
            "grid_template_columns": null,
            "grid_template_rows": null,
            "height": null,
            "justify_content": null,
            "justify_items": null,
            "left": null,
            "margin": null,
            "max_height": null,
            "max_width": null,
            "min_height": null,
            "min_width": null,
            "object_fit": null,
            "object_position": null,
            "order": null,
            "overflow": null,
            "overflow_x": null,
            "overflow_y": null,
            "padding": null,
            "right": null,
            "top": null,
            "visibility": null,
            "width": null
          }
        },
        "281d9b69950146408e20fdbdc70804d1": {
          "model_module": "@jupyter-widgets/controls",
          "model_name": "DescriptionStyleModel",
          "model_module_version": "1.5.0",
          "state": {
            "_model_module": "@jupyter-widgets/controls",
            "_model_module_version": "1.5.0",
            "_model_name": "DescriptionStyleModel",
            "_view_count": null,
            "_view_module": "@jupyter-widgets/base",
            "_view_module_version": "1.2.0",
            "_view_name": "StyleView",
            "description_width": ""
          }
        },
        "1e2c6a0b3fd1465b8ecde8b3d4c946af": {
          "model_module": "@jupyter-widgets/controls",
          "model_name": "HBoxModel",
          "model_module_version": "1.5.0",
          "state": {
            "_dom_classes": [],
            "_model_module": "@jupyter-widgets/controls",
            "_model_module_version": "1.5.0",
            "_model_name": "HBoxModel",
            "_view_count": null,
            "_view_module": "@jupyter-widgets/controls",
            "_view_module_version": "1.5.0",
            "_view_name": "HBoxView",
            "box_style": "",
            "children": [
              "IPY_MODEL_3fd27175637a4c9a963f7b768ec182b8",
              "IPY_MODEL_77e5802b3db54361a5f47d24e5d50b7d",
              "IPY_MODEL_3b61f28888d34dad85c977630e01a662"
            ],
            "layout": "IPY_MODEL_089f397103e846e0a94a7576e5147424"
          }
        },
        "3fd27175637a4c9a963f7b768ec182b8": {
          "model_module": "@jupyter-widgets/controls",
          "model_name": "HTMLModel",
          "model_module_version": "1.5.0",
          "state": {
            "_dom_classes": [],
            "_model_module": "@jupyter-widgets/controls",
            "_model_module_version": "1.5.0",
            "_model_name": "HTMLModel",
            "_view_count": null,
            "_view_module": "@jupyter-widgets/controls",
            "_view_module_version": "1.5.0",
            "_view_name": "HTMLView",
            "description": "",
            "description_tooltip": null,
            "layout": "IPY_MODEL_7d74fd74ca0743bf8cca4aec0fd5c873",
            "placeholder": "​",
            "style": "IPY_MODEL_13b5bb30d6384bdea199a665d971b952",
            "value": "tokenizer.json: 100%"
          }
        },
        "77e5802b3db54361a5f47d24e5d50b7d": {
          "model_module": "@jupyter-widgets/controls",
          "model_name": "FloatProgressModel",
          "model_module_version": "1.5.0",
          "state": {
            "_dom_classes": [],
            "_model_module": "@jupyter-widgets/controls",
            "_model_module_version": "1.5.0",
            "_model_name": "FloatProgressModel",
            "_view_count": null,
            "_view_module": "@jupyter-widgets/controls",
            "_view_module_version": "1.5.0",
            "_view_name": "ProgressView",
            "bar_style": "success",
            "description": "",
            "description_tooltip": null,
            "layout": "IPY_MODEL_14bd161db9184a839ecf9a7dca5a51ae",
            "max": 7031645,
            "min": 0,
            "orientation": "horizontal",
            "style": "IPY_MODEL_5d5cec111fe54c9d85025f69fd535b14",
            "value": 7031645
          }
        },
        "3b61f28888d34dad85c977630e01a662": {
          "model_module": "@jupyter-widgets/controls",
          "model_name": "HTMLModel",
          "model_module_version": "1.5.0",
          "state": {
            "_dom_classes": [],
            "_model_module": "@jupyter-widgets/controls",
            "_model_module_version": "1.5.0",
            "_model_name": "HTMLModel",
            "_view_count": null,
            "_view_module": "@jupyter-widgets/controls",
            "_view_module_version": "1.5.0",
            "_view_name": "HTMLView",
            "description": "",
            "description_tooltip": null,
            "layout": "IPY_MODEL_a13d1b3780a84e7eb54b1170ef7b4b05",
            "placeholder": "​",
            "style": "IPY_MODEL_98ffa9e4ac7445348709c38e6f6ee83e",
            "value": " 7.03M/7.03M [00:01&lt;00:00, 5.03MB/s]"
          }
        },
        "089f397103e846e0a94a7576e5147424": {
          "model_module": "@jupyter-widgets/base",
          "model_name": "LayoutModel",
          "model_module_version": "1.2.0",
          "state": {
            "_model_module": "@jupyter-widgets/base",
            "_model_module_version": "1.2.0",
            "_model_name": "LayoutModel",
            "_view_count": null,
            "_view_module": "@jupyter-widgets/base",
            "_view_module_version": "1.2.0",
            "_view_name": "LayoutView",
            "align_content": null,
            "align_items": null,
            "align_self": null,
            "border": null,
            "bottom": null,
            "display": null,
            "flex": null,
            "flex_flow": null,
            "grid_area": null,
            "grid_auto_columns": null,
            "grid_auto_flow": null,
            "grid_auto_rows": null,
            "grid_column": null,
            "grid_gap": null,
            "grid_row": null,
            "grid_template_areas": null,
            "grid_template_columns": null,
            "grid_template_rows": null,
            "height": null,
            "justify_content": null,
            "justify_items": null,
            "left": null,
            "margin": null,
            "max_height": null,
            "max_width": null,
            "min_height": null,
            "min_width": null,
            "object_fit": null,
            "object_position": null,
            "order": null,
            "overflow": null,
            "overflow_x": null,
            "overflow_y": null,
            "padding": null,
            "right": null,
            "top": null,
            "visibility": null,
            "width": null
          }
        },
        "7d74fd74ca0743bf8cca4aec0fd5c873": {
          "model_module": "@jupyter-widgets/base",
          "model_name": "LayoutModel",
          "model_module_version": "1.2.0",
          "state": {
            "_model_module": "@jupyter-widgets/base",
            "_model_module_version": "1.2.0",
            "_model_name": "LayoutModel",
            "_view_count": null,
            "_view_module": "@jupyter-widgets/base",
            "_view_module_version": "1.2.0",
            "_view_name": "LayoutView",
            "align_content": null,
            "align_items": null,
            "align_self": null,
            "border": null,
            "bottom": null,
            "display": null,
            "flex": null,
            "flex_flow": null,
            "grid_area": null,
            "grid_auto_columns": null,
            "grid_auto_flow": null,
            "grid_auto_rows": null,
            "grid_column": null,
            "grid_gap": null,
            "grid_row": null,
            "grid_template_areas": null,
            "grid_template_columns": null,
            "grid_template_rows": null,
            "height": null,
            "justify_content": null,
            "justify_items": null,
            "left": null,
            "margin": null,
            "max_height": null,
            "max_width": null,
            "min_height": null,
            "min_width": null,
            "object_fit": null,
            "object_position": null,
            "order": null,
            "overflow": null,
            "overflow_x": null,
            "overflow_y": null,
            "padding": null,
            "right": null,
            "top": null,
            "visibility": null,
            "width": null
          }
        },
        "13b5bb30d6384bdea199a665d971b952": {
          "model_module": "@jupyter-widgets/controls",
          "model_name": "DescriptionStyleModel",
          "model_module_version": "1.5.0",
          "state": {
            "_model_module": "@jupyter-widgets/controls",
            "_model_module_version": "1.5.0",
            "_model_name": "DescriptionStyleModel",
            "_view_count": null,
            "_view_module": "@jupyter-widgets/base",
            "_view_module_version": "1.2.0",
            "_view_name": "StyleView",
            "description_width": ""
          }
        },
        "14bd161db9184a839ecf9a7dca5a51ae": {
          "model_module": "@jupyter-widgets/base",
          "model_name": "LayoutModel",
          "model_module_version": "1.2.0",
          "state": {
            "_model_module": "@jupyter-widgets/base",
            "_model_module_version": "1.2.0",
            "_model_name": "LayoutModel",
            "_view_count": null,
            "_view_module": "@jupyter-widgets/base",
            "_view_module_version": "1.2.0",
            "_view_name": "LayoutView",
            "align_content": null,
            "align_items": null,
            "align_self": null,
            "border": null,
            "bottom": null,
            "display": null,
            "flex": null,
            "flex_flow": null,
            "grid_area": null,
            "grid_auto_columns": null,
            "grid_auto_flow": null,
            "grid_auto_rows": null,
            "grid_column": null,
            "grid_gap": null,
            "grid_row": null,
            "grid_template_areas": null,
            "grid_template_columns": null,
            "grid_template_rows": null,
            "height": null,
            "justify_content": null,
            "justify_items": null,
            "left": null,
            "margin": null,
            "max_height": null,
            "max_width": null,
            "min_height": null,
            "min_width": null,
            "object_fit": null,
            "object_position": null,
            "order": null,
            "overflow": null,
            "overflow_x": null,
            "overflow_y": null,
            "padding": null,
            "right": null,
            "top": null,
            "visibility": null,
            "width": null
          }
        },
        "5d5cec111fe54c9d85025f69fd535b14": {
          "model_module": "@jupyter-widgets/controls",
          "model_name": "ProgressStyleModel",
          "model_module_version": "1.5.0",
          "state": {
            "_model_module": "@jupyter-widgets/controls",
            "_model_module_version": "1.5.0",
            "_model_name": "ProgressStyleModel",
            "_view_count": null,
            "_view_module": "@jupyter-widgets/base",
            "_view_module_version": "1.2.0",
            "_view_name": "StyleView",
            "bar_color": null,
            "description_width": ""
          }
        },
        "a13d1b3780a84e7eb54b1170ef7b4b05": {
          "model_module": "@jupyter-widgets/base",
          "model_name": "LayoutModel",
          "model_module_version": "1.2.0",
          "state": {
            "_model_module": "@jupyter-widgets/base",
            "_model_module_version": "1.2.0",
            "_model_name": "LayoutModel",
            "_view_count": null,
            "_view_module": "@jupyter-widgets/base",
            "_view_module_version": "1.2.0",
            "_view_name": "LayoutView",
            "align_content": null,
            "align_items": null,
            "align_self": null,
            "border": null,
            "bottom": null,
            "display": null,
            "flex": null,
            "flex_flow": null,
            "grid_area": null,
            "grid_auto_columns": null,
            "grid_auto_flow": null,
            "grid_auto_rows": null,
            "grid_column": null,
            "grid_gap": null,
            "grid_row": null,
            "grid_template_areas": null,
            "grid_template_columns": null,
            "grid_template_rows": null,
            "height": null,
            "justify_content": null,
            "justify_items": null,
            "left": null,
            "margin": null,
            "max_height": null,
            "max_width": null,
            "min_height": null,
            "min_width": null,
            "object_fit": null,
            "object_position": null,
            "order": null,
            "overflow": null,
            "overflow_x": null,
            "overflow_y": null,
            "padding": null,
            "right": null,
            "top": null,
            "visibility": null,
            "width": null
          }
        },
        "98ffa9e4ac7445348709c38e6f6ee83e": {
          "model_module": "@jupyter-widgets/controls",
          "model_name": "DescriptionStyleModel",
          "model_module_version": "1.5.0",
          "state": {
            "_model_module": "@jupyter-widgets/controls",
            "_model_module_version": "1.5.0",
            "_model_name": "DescriptionStyleModel",
            "_view_count": null,
            "_view_module": "@jupyter-widgets/base",
            "_view_module_version": "1.2.0",
            "_view_name": "StyleView",
            "description_width": ""
          }
        }
      }
    }
  },
  "cells": [
    {
      "cell_type": "code",
      "source": [
        "from google.colab import drive\n",
        "drive.mount('/content/drive')\n",
        "\n",
        "%cd /content/drive/MyDrive/m2cw"
      ],
      "metadata": {
        "colab": {
          "base_uri": "https://localhost:8080/"
        },
        "id": "7L3-UQNzDg67",
        "outputId": "34a2b64f-f51e-4247-d171-ecece3049727"
      },
      "execution_count": 2,
      "outputs": [
        {
          "output_type": "stream",
          "name": "stdout",
          "text": [
            "Mounted at /content/drive\n",
            "/content/drive/MyDrive/m2cw\n"
          ]
        }
      ]
    },
    {
      "cell_type": "code",
      "execution_count": 3,
      "metadata": {
        "colab": {
          "base_uri": "https://localhost:8080/",
          "height": 501,
          "referenced_widgets": [
            "6836e077daab45e28e649a6d96a3483e",
            "95079ec0a6e04a62982678f760969bfd",
            "c9da7ad1545a41699b9db70d1146e62f",
            "fc8a0af79012409b8576a9a4cbefce3f",
            "111c85608e62404cb906f354bce6ee60",
            "0ec9208d2f4a48ad91b6f4428fd99933",
            "57bbb13fe2c6447e9b6a969cacf92804",
            "1aa35cf98863416181f0b1be0edbd0e6",
            "61d16ad7b7574e97a9f505e609926eea",
            "166bd3df49e34dbda2dbb2c92e804a5e",
            "84fa77ad03424ae097cb00c2b0505229",
            "3731e17998c64520b5fe23e251383241",
            "b9d79a98d582445db8629f19e8233bd8",
            "45af751a0b604c34a5b800214d3bab22",
            "75e01d2308e042d4a64ce63eac68961a",
            "689c5807af3041a089d415fc70758bb5",
            "88e1b3716d9440c398bec0ea23e65d43",
            "bb8f7df5cc3647b9b2669c3a144f3f07",
            "5412592537d14bd2b964c428fe0c4a69",
            "dbd388b59eee4fba8f0d4e013ef005f2",
            "d644b65afbfd4b65a2bb42d163f97397",
            "6a95e6786c4d4068846bac6b87cef4c4",
            "f34d73a2d4444c14a303a8987ba33fb6",
            "8c558a79b09846618d3e7a92814b266c",
            "d2e25a18b63c41d8bc389a394d6525f8",
            "56c21dfb7734484482ab32b7b3954bbd",
            "963479fc5cde403b90d8103f07ff3ff7",
            "76f05078f4c6427e8d5d333ec0769b8f",
            "beb45c6433cb4470a63c098911faacc7",
            "95f9a069d19a467e8aa633ad14490234",
            "e2af53b250b6449f98a4f8153683d4ad",
            "9f8c647a0d3948639c84f79ee68ee4df",
            "a0ad76428ad64505aea42cae36e04e78",
            "39fea31ee58c4ee491b14c10070656ca",
            "c5d5c71ea39d46fda0d1a91bd2ebcb63",
            "392451ec689c4e2fa5bc1db339ba7d12",
            "a43eedc847e642f6a3a6fa823634a1a4",
            "d935146a39bf4f93bfd5880968f0e8be",
            "ba28478522914dbbbccf8ee47ee7d4f8",
            "e7bdd70203e04139a352b578eb72adf9",
            "a12f5c1499d147ffa3cf8181f6d0728c",
            "56df6bdc362d4d32af36bc3fdf319c65",
            "1380397adb4342a7b039303808243b84",
            "16b735c6bb3944a48ac91f242609fe5b",
            "d14d7a253c1a408ea54a816b75864813",
            "1730bce09eef4928aca5bd8b2c16b147",
            "7572bfc5710c4c6ca7568b673df02554",
            "9e957f2aefd940829fc2724f6213e2fa",
            "ec69e9e4032a41ccae757c8fe45d888a",
            "5a0b6294624d43ddb45797a4e7d8dce5",
            "3908309d7bf242f69fbcae2de48079a9",
            "43097e80ea8741f4a601f0bbdfc109ca",
            "38a35b7e0b244fd0b144ac41205de379",
            "b339c91c4516470595a69e0fb6bf2088",
            "a16367f561904aeabcfaa45cc6ae85be",
            "1a3e6f24454241a8b9ccf07840337273",
            "38e9c7699a384f6cb46d1e916bda5986",
            "dc3753372e284da7b68813358ec5dcdb",
            "d703ac8154ea4096885441326a22c363",
            "2793080a437149eeb17b9ec8a433f1cb",
            "42dc46ead3ec4e59a8ce47e24a2f518a",
            "39339966e5174f44ba722979b7cf4c6b",
            "6fef1a71e37c4bfdb9fbd4519bcfcee3",
            "e5833cc56623419db6e88e79bbeeb0d9",
            "c2306911a4604a50a5a25e42b228ad1b",
            "85b61280d5534c2b99c1d0e771b9b24d",
            "99c0b29a07b24d28994ee85b098feb50",
            "833c64e2681a4de1b0f5dd1f2cc8cb15",
            "78c9e9c7c9ff4157bf344adec0d27485",
            "7573b6e5cc0a427686d3a67cdfda1f8f",
            "7f6ff3b421904a8188f5d7e6e3a36c29",
            "eda9c4b188564db0a96498d07f489afb",
            "121f48d91e604a9eabe7db4b2867b04f",
            "e8921e8a5092438c8e8e1b61a851186c",
            "25a576985f9744499b73bf8fffcabaca",
            "7f73502c82da4a31998394a7eb2d646a",
            "be7b970a98da4069a82fe7c17943a2ad"
          ]
        },
        "id": "fHRLjogF6bJ8",
        "outputId": "d5f5d4d5-be3c-4114-c134-756abace5b52"
      },
      "outputs": [
        {
          "output_type": "stream",
          "name": "stderr",
          "text": [
            "/usr/local/lib/python3.11/dist-packages/huggingface_hub/utils/_auth.py:94: UserWarning: \n",
            "The secret `HF_TOKEN` does not exist in your Colab secrets.\n",
            "To authenticate with the Hugging Face Hub, create a token in your settings tab (https://huggingface.co/settings/tokens), set it as secret in your Google Colab and restart your session.\n",
            "You will be able to reuse this secret in all of your notebooks.\n",
            "Please note that authentication is recommended but still optional to access public models or datasets.\n",
            "  warnings.warn(\n"
          ]
        },
        {
          "output_type": "display_data",
          "data": {
            "text/plain": [
              "tokenizer_config.json:   0%|          | 0.00/7.30k [00:00<?, ?B/s]"
            ],
            "application/vnd.jupyter.widget-view+json": {
              "version_major": 2,
              "version_minor": 0,
              "model_id": "6836e077daab45e28e649a6d96a3483e"
            }
          },
          "metadata": {}
        },
        {
          "output_type": "display_data",
          "data": {
            "text/plain": [
              "vocab.json:   0%|          | 0.00/2.78M [00:00<?, ?B/s]"
            ],
            "application/vnd.jupyter.widget-view+json": {
              "version_major": 2,
              "version_minor": 0,
              "model_id": "3731e17998c64520b5fe23e251383241"
            }
          },
          "metadata": {}
        },
        {
          "output_type": "display_data",
          "data": {
            "text/plain": [
              "merges.txt:   0%|          | 0.00/1.67M [00:00<?, ?B/s]"
            ],
            "application/vnd.jupyter.widget-view+json": {
              "version_major": 2,
              "version_minor": 0,
              "model_id": "f34d73a2d4444c14a303a8987ba33fb6"
            }
          },
          "metadata": {}
        },
        {
          "output_type": "display_data",
          "data": {
            "text/plain": [
              "tokenizer.json:   0%|          | 0.00/7.03M [00:00<?, ?B/s]"
            ],
            "application/vnd.jupyter.widget-view+json": {
              "version_major": 2,
              "version_minor": 0,
              "model_id": "39fea31ee58c4ee491b14c10070656ca"
            }
          },
          "metadata": {}
        },
        {
          "output_type": "display_data",
          "data": {
            "text/plain": [
              "config.json:   0%|          | 0.00/659 [00:00<?, ?B/s]"
            ],
            "application/vnd.jupyter.widget-view+json": {
              "version_major": 2,
              "version_minor": 0,
              "model_id": "d14d7a253c1a408ea54a816b75864813"
            }
          },
          "metadata": {}
        },
        {
          "output_type": "display_data",
          "data": {
            "text/plain": [
              "model.safetensors:   0%|          | 0.00/988M [00:00<?, ?B/s]"
            ],
            "application/vnd.jupyter.widget-view+json": {
              "version_major": 2,
              "version_minor": 0,
              "model_id": "1a3e6f24454241a8b9ccf07840337273"
            }
          },
          "metadata": {}
        },
        {
          "output_type": "stream",
          "name": "stderr",
          "text": [
            "Sliding Window Attention is enabled but not implemented for `sdpa`; unexpected results may be encountered.\n"
          ]
        },
        {
          "output_type": "display_data",
          "data": {
            "text/plain": [
              "generation_config.json:   0%|          | 0.00/242 [00:00<?, ?B/s]"
            ],
            "application/vnd.jupyter.widget-view+json": {
              "version_major": 2,
              "version_minor": 0,
              "model_id": "99c0b29a07b24d28994ee85b098feb50"
            }
          },
          "metadata": {}
        },
        {
          "output_type": "stream",
          "name": "stderr",
          "text": [
            "\u001b[34m\u001b[1mwandb\u001b[0m: Using wandb-core as the SDK backend.  Please refer to https://wandb.me/wandb-core for more information.\n"
          ]
        },
        {
          "output_type": "display_data",
          "data": {
            "text/plain": [
              "<IPython.core.display.Javascript object>"
            ],
            "application/javascript": [
              "\n",
              "        window._wandbApiKey = new Promise((resolve, reject) => {\n",
              "            function loadScript(url) {\n",
              "            return new Promise(function(resolve, reject) {\n",
              "                let newScript = document.createElement(\"script\");\n",
              "                newScript.onerror = reject;\n",
              "                newScript.onload = resolve;\n",
              "                document.body.appendChild(newScript);\n",
              "                newScript.src = url;\n",
              "            });\n",
              "            }\n",
              "            loadScript(\"https://cdn.jsdelivr.net/npm/postmate/build/postmate.min.js\").then(() => {\n",
              "            const iframe = document.createElement('iframe')\n",
              "            iframe.style.cssText = \"width:0;height:0;border:none\"\n",
              "            document.body.appendChild(iframe)\n",
              "            const handshake = new Postmate({\n",
              "                container: iframe,\n",
              "                url: 'https://wandb.ai/authorize'\n",
              "            });\n",
              "            const timeout = setTimeout(() => reject(\"Couldn't auto authenticate\"), 5000)\n",
              "            handshake.then(function(child) {\n",
              "                child.on('authorize', data => {\n",
              "                    clearTimeout(timeout)\n",
              "                    resolve(data)\n",
              "                });\n",
              "            });\n",
              "            })\n",
              "        });\n",
              "    "
            ]
          },
          "metadata": {}
        },
        {
          "output_type": "stream",
          "name": "stderr",
          "text": [
            "\u001b[34m\u001b[1mwandb\u001b[0m: \u001b[33mWARNING\u001b[0m If you're specifying your api key in code, ensure this code is not shared publicly.\n",
            "\u001b[34m\u001b[1mwandb\u001b[0m: \u001b[33mWARNING\u001b[0m Consider setting the WANDB_API_KEY environment variable, or running `wandb login` from the command line.\n",
            "\u001b[34m\u001b[1mwandb\u001b[0m: No netrc file found, creating one.\n",
            "\u001b[34m\u001b[1mwandb\u001b[0m: Appending key for api.wandb.ai to your netrc file: /root/.netrc\n",
            "\u001b[34m\u001b[1mwandb\u001b[0m: Currently logged in as: \u001b[33mliuyihao649\u001b[0m (\u001b[33mliuyihao649-university-of-cambridge\u001b[0m) to \u001b[32mhttps://api.wandb.ai\u001b[0m. Use \u001b[1m`wandb login --relogin`\u001b[0m to force relogin\n"
          ]
        },
        {
          "output_type": "execute_result",
          "data": {
            "text/plain": [
              "True"
            ]
          },
          "metadata": {},
          "execution_count": 3
        }
      ],
      "source": [
        "import h5py\n",
        "import numpy as np\n",
        "import torch\n",
        "from transformers import AutoTokenizer\n",
        "import wandb\n",
        "import matplotlib.pyplot as plt\n",
        "from preprocessor import load_and_preprocess\n",
        "from lora_skeleton import apply_lora, train_lora,load_data\n",
        "from qwen import load_qwen\n",
        "from evaluation import evaluation\n",
        "\n",
        "if torch.cuda.is_available():\n",
        "    device = torch.device(\"cuda\")\n",
        "elif torch.backends.mps.is_available():\n",
        "    device = torch.device(\"mps\")\n",
        "else:\n",
        "    device = torch.device(\"cpu\")\n",
        "\n",
        "wandb.login()\n",
        "\n"
      ]
    },
    {
      "cell_type": "code",
      "source": [
        "# Load Qwen2.5 0.5B Model and Tokenizer ---\n",
        "model_name = \"Qwen/Qwen2.5-0.5B\"\n",
        "tokenizer = AutoTokenizer.from_pretrained(model_name, trust_remote_code=True)\n",
        "\n",
        "file_path = \"lotka_volterra_data.h5\"\n",
        "\n",
        "# Use the function to load and preprocess the data\n",
        "train_texts, val_texts, test_texts = load_and_preprocess(\n",
        "    file_path,\n",
        "    decimal_places=2,\n",
        "    max_target_value=9.99\n",
        ")\n",
        "\n",
        "# Demonstrate tokenization using Qwen2.5\n",
        "model_name = \"Qwen/Qwen2.5-0.5B-Instruct\"\n",
        "tokenizer = AutoTokenizer.from_pretrained(model_name, trust_remote_code=True)\n",
        "\n",
        "tokenized_train=[]\n",
        "tokenized_val=[]\n",
        "tokenized_test=[]\n",
        "for i in range(len(train_texts)):\n",
        "    tokenized_train.append(tokenizer(train_texts[i], return_tensors=\"pt\", add_special_tokens=False)[\"input_ids\"][0])\n",
        "for i in range(len(val_texts)):\n",
        "    tokenized_val.append(tokenizer(val_texts[i], return_tensors=\"pt\", add_special_tokens=False)[\"input_ids\"][0])\n",
        "for i in range(len(test_texts)):\n",
        "    tokenized_test.append(tokenizer(test_texts[i], return_tensors=\"pt\", add_special_tokens=False)[\"input_ids\"][0])\n",
        "\n"
      ],
      "metadata": {
        "colab": {
          "base_uri": "https://localhost:8080/",
          "height": 145,
          "referenced_widgets": [
            "efc30a5f852e4e34a6e7313766bf9269",
            "f9bc39bc3ef94908a1dfb667065b9f5d",
            "72807e4a354b475795c27f26f9e0c525",
            "76d2c683b79347e3beadffa0b81d4e74",
            "7289bc9addbf401db97b49755b4c3df0",
            "e2821beecc1e427fbf91ddc3a7b3b026",
            "e0e85a66e91743aa9fb6a64c2a0af312",
            "f08f6b0731e44f40b7f7070dd2786558",
            "9a55a6c09c904543bd66183cb8f734b4",
            "ed9473adfbaf40b59b9b7b02060eac49",
            "87ea44eef11844048001a3c497c3fe2b",
            "396322b63a924376ae74f3c591b4436b",
            "4e9f650784804fe6aaa9846d8b2b8a94",
            "ac51887330d74ca4a8c44185ac899e45",
            "40591a8eb3cc4cecab3cc242ac7832b1",
            "2624dfe10593453d82dec218036676ee",
            "5c64efea4701401e834bb1bd03ef7507",
            "ef3897a506774eb8875691a07f7524b9",
            "a6e258b1ad184ece8acdbe657cd7471b",
            "437881bbf2744dcdbe5bac3423590b15",
            "1570a4c9969244efa8f77ffbefdfbe73",
            "04e92bfb004747ffa97a5cf0ab552f9d",
            "07086e830be24f6eab7f67a2b802bc4c",
            "f2e7b95a2fd044f09ca29ded6fff1c20",
            "b2ff148b78624ec4a5efab038b371abf",
            "2b0bef08b9ae41e3bc6c757c6164d764",
            "aec652d111984d8cb61dc01e1d175df2",
            "18ccbc2b31ed43b09bac9e59b8c2c774",
            "139c1e24696142a384407383fbba25d3",
            "91d0a795a0f54b2bb810d86acb3da98f",
            "bedae73d91c24196a0de7039ba6c7740",
            "443fd18025ba44989fbfb5c7956a644f",
            "281d9b69950146408e20fdbdc70804d1",
            "1e2c6a0b3fd1465b8ecde8b3d4c946af",
            "3fd27175637a4c9a963f7b768ec182b8",
            "77e5802b3db54361a5f47d24e5d50b7d",
            "3b61f28888d34dad85c977630e01a662",
            "089f397103e846e0a94a7576e5147424",
            "7d74fd74ca0743bf8cca4aec0fd5c873",
            "13b5bb30d6384bdea199a665d971b952",
            "14bd161db9184a839ecf9a7dca5a51ae",
            "5d5cec111fe54c9d85025f69fd535b14",
            "a13d1b3780a84e7eb54b1170ef7b4b05",
            "98ffa9e4ac7445348709c38e6f6ee83e"
          ]
        },
        "id": "SxGxPAD7CY11",
        "outputId": "951ee189-de49-402c-c3b5-d39ecd98580f"
      },
      "execution_count": 4,
      "outputs": [
        {
          "output_type": "display_data",
          "data": {
            "text/plain": [
              "tokenizer_config.json:   0%|          | 0.00/7.23k [00:00<?, ?B/s]"
            ],
            "application/vnd.jupyter.widget-view+json": {
              "version_major": 2,
              "version_minor": 0,
              "model_id": "efc30a5f852e4e34a6e7313766bf9269"
            }
          },
          "metadata": {}
        },
        {
          "output_type": "display_data",
          "data": {
            "text/plain": [
              "vocab.json:   0%|          | 0.00/2.78M [00:00<?, ?B/s]"
            ],
            "application/vnd.jupyter.widget-view+json": {
              "version_major": 2,
              "version_minor": 0,
              "model_id": "396322b63a924376ae74f3c591b4436b"
            }
          },
          "metadata": {}
        },
        {
          "output_type": "display_data",
          "data": {
            "text/plain": [
              "merges.txt:   0%|          | 0.00/1.67M [00:00<?, ?B/s]"
            ],
            "application/vnd.jupyter.widget-view+json": {
              "version_major": 2,
              "version_minor": 0,
              "model_id": "07086e830be24f6eab7f67a2b802bc4c"
            }
          },
          "metadata": {}
        },
        {
          "output_type": "display_data",
          "data": {
            "text/plain": [
              "tokenizer.json:   0%|          | 0.00/7.03M [00:00<?, ?B/s]"
            ],
            "application/vnd.jupyter.widget-view+json": {
              "version_major": 2,
              "version_minor": 0,
              "model_id": "1e2c6a0b3fd1465b8ecde8b3d4c946af"
            }
          },
          "metadata": {}
        }
      ]
    },
    {
      "cell_type": "code",
      "source": [
        "train_ids, val_ids, test_ids = load_data(tokenizer)"
      ],
      "metadata": {
        "id": "PK0nWzsPle-k"
      },
      "execution_count": 5,
      "outputs": []
    },
    {
      "cell_type": "code",
      "source": [],
      "metadata": {
        "id": "A7AAg8HUbRXG"
      },
      "execution_count": 5,
      "outputs": []
    },
    {
      "cell_type": "markdown",
      "source": [
        "### 3(b): Grid search"
      ],
      "metadata": {
        "id": "mzlIMAk6bRzn"
      }
    },
    {
      "cell_type": "code",
      "source": [
        "for rank in [2, 4, 8]:\n",
        "    for lr in [1e-5, 5e-5, 1e-4]:\n",
        "        # init each experiments\n",
        "        wandb.init(\n",
        "            project=\"m2-lora-grid-search\",\n",
        "            name=f\"rank{rank}_lr{lr}_train\",\n",
        "            group=\"train_loss_curve\",\n",
        "            reinit=True\n",
        "        )\n",
        "\n",
        "        # load the original model and apply lora to it\n",
        "        base_model,_ = load_qwen()\n",
        "        apply_lora(base_model, r=rank)\n",
        "\n",
        "\n",
        "\n",
        "        # LoRA train\n",
        "        _ = train_lora(\n",
        "            base_model,\n",
        "            train_ids,\n",
        "            learning_rate=lr,\n",
        "            batch_size=4,\n",
        "            max_steps=1000,\n",
        "\n",
        "        )\n",
        "\n",
        "        # Save the weights(only LoRA part, no need to save the whole model)\n",
        "        lora_state_dict = {\n",
        "        k: v for k, v in base_model.state_dict().items() if \"lora_\" in k\n",
        "        }\n",
        "\n",
        "        save_path = f\"/content/drive/MyDrive/m2cw/lora_rank{rank}_lr{lr}.pt\"\n",
        "        torch.save(lora_state_dict, save_path)\n",
        "\n",
        "        # Evaluation\n",
        "        wandb.init(project=\"m2-lora-grid-search\",\n",
        "            name=f\"rank{rank}_lr{lr}_evaluation\",\n",
        "            reinit=True)\n",
        "        val_loss, val_mse = evaluation(base_model, tokenizer, tokenized_val)\n",
        "\n",
        "\n",
        "        print(f\"rank{rank},lr{lr},evalaution results:\")\n",
        "        print(f\"Average Cross-Entropy Loss: {val_loss:.4f}\")\n",
        "        print(f\"Average MSE (Forecast):  {val_mse:.4f}\")\n",
        "\n",
        "\n",
        "\n",
        "        wandb.finish()"
      ],
      "metadata": {
        "colab": {
          "base_uri": "https://localhost:8080/",
          "height": 1000
        },
        "id": "8CTp9RETbY_R",
        "outputId": "9f38b5a2-8226-4d88-8392-6c3e585b93bc"
      },
      "execution_count": 6,
      "outputs": [
        {
          "output_type": "display_data",
          "data": {
            "text/plain": [
              "<IPython.core.display.HTML object>"
            ],
            "text/html": [
              "Tracking run with wandb version 0.19.8"
            ]
          },
          "metadata": {}
        },
        {
          "output_type": "display_data",
          "data": {
            "text/plain": [
              "<IPython.core.display.HTML object>"
            ],
            "text/html": [
              "Run data is saved locally in <code>/content/drive/MyDrive/m2cw/wandb/run-20250329_230333-j1xmvpt6</code>"
            ]
          },
          "metadata": {}
        },
        {
          "output_type": "display_data",
          "data": {
            "text/plain": [
              "<IPython.core.display.HTML object>"
            ],
            "text/html": [
              "Syncing run <strong><a href='https://wandb.ai/liuyihao649-university-of-cambridge/m2-lora-grid-search/runs/j1xmvpt6' target=\"_blank\">rank2_lr1e-05_train</a></strong> to <a href='https://wandb.ai/liuyihao649-university-of-cambridge/m2-lora-grid-search' target=\"_blank\">Weights & Biases</a> (<a href='https://wandb.me/developer-guide' target=\"_blank\">docs</a>)<br>"
            ]
          },
          "metadata": {}
        },
        {
          "output_type": "display_data",
          "data": {
            "text/plain": [
              "<IPython.core.display.HTML object>"
            ],
            "text/html": [
              " View project at <a href='https://wandb.ai/liuyihao649-university-of-cambridge/m2-lora-grid-search' target=\"_blank\">https://wandb.ai/liuyihao649-university-of-cambridge/m2-lora-grid-search</a>"
            ]
          },
          "metadata": {}
        },
        {
          "output_type": "display_data",
          "data": {
            "text/plain": [
              "<IPython.core.display.HTML object>"
            ],
            "text/html": [
              " View run at <a href='https://wandb.ai/liuyihao649-university-of-cambridge/m2-lora-grid-search/runs/j1xmvpt6' target=\"_blank\">https://wandb.ai/liuyihao649-university-of-cambridge/m2-lora-grid-search/runs/j1xmvpt6</a>"
            ]
          },
          "metadata": {}
        },
        {
          "output_type": "stream",
          "name": "stderr",
          "text": [
            "Training:   5%|▌         | 50/1000 [00:15<04:37,  3.42it/s, loss=1.04]"
          ]
        },
        {
          "output_type": "stream",
          "name": "stdout",
          "text": [
            "Step 50: loss = 1.0398\n"
          ]
        },
        {
          "output_type": "stream",
          "name": "stderr",
          "text": [
            "Training:  10%|█         | 100/1000 [00:30<04:22,  3.43it/s, loss=0.929]"
          ]
        },
        {
          "output_type": "stream",
          "name": "stdout",
          "text": [
            "Step 100: loss = 0.9291\n"
          ]
        },
        {
          "output_type": "stream",
          "name": "stderr",
          "text": [
            "Training:  15%|█▌        | 150/1000 [00:44<04:08,  3.42it/s, loss=0.719]"
          ]
        },
        {
          "output_type": "stream",
          "name": "stdout",
          "text": [
            "Step 150: loss = 0.7193\n"
          ]
        },
        {
          "output_type": "stream",
          "name": "stderr",
          "text": [
            "Training:  20%|██        | 200/1000 [00:59<03:53,  3.42it/s, loss=0.843]"
          ]
        },
        {
          "output_type": "stream",
          "name": "stdout",
          "text": [
            "Step 200: loss = 0.8427\n"
          ]
        },
        {
          "output_type": "stream",
          "name": "stderr",
          "text": [
            "Training:  25%|██▌       | 250/1000 [01:14<03:38,  3.43it/s, loss=0.717]"
          ]
        },
        {
          "output_type": "stream",
          "name": "stdout",
          "text": [
            "Step 250: loss = 0.7166\n"
          ]
        },
        {
          "output_type": "stream",
          "name": "stderr",
          "text": [
            "Training:  30%|███       | 300/1000 [01:28<03:24,  3.43it/s, loss=0.725]"
          ]
        },
        {
          "output_type": "stream",
          "name": "stdout",
          "text": [
            "Step 300: loss = 0.7253\n"
          ]
        },
        {
          "output_type": "stream",
          "name": "stderr",
          "text": [
            "Training:  35%|███▌      | 350/1000 [01:43<03:10,  3.42it/s, loss=0.716]"
          ]
        },
        {
          "output_type": "stream",
          "name": "stdout",
          "text": [
            "Step 350: loss = 0.7157\n"
          ]
        },
        {
          "output_type": "stream",
          "name": "stderr",
          "text": [
            "Training:  40%|████      | 400/1000 [01:58<02:55,  3.42it/s, loss=0.761]"
          ]
        },
        {
          "output_type": "stream",
          "name": "stdout",
          "text": [
            "Step 400: loss = 0.7608\n"
          ]
        },
        {
          "output_type": "stream",
          "name": "stderr",
          "text": [
            "Training:  45%|████▌     | 450/1000 [02:12<02:40,  3.43it/s, loss=0.577]"
          ]
        },
        {
          "output_type": "stream",
          "name": "stdout",
          "text": [
            "Step 450: loss = 0.5775\n"
          ]
        },
        {
          "output_type": "stream",
          "name": "stderr",
          "text": [
            "Training:  50%|█████     | 500/1000 [02:27<02:26,  3.41it/s, loss=0.568]"
          ]
        },
        {
          "output_type": "stream",
          "name": "stdout",
          "text": [
            "Step 500: loss = 0.5681\n"
          ]
        },
        {
          "output_type": "stream",
          "name": "stderr",
          "text": [
            "Training:  55%|█████▌    | 550/1000 [02:41<02:11,  3.42it/s, loss=0.492]"
          ]
        },
        {
          "output_type": "stream",
          "name": "stdout",
          "text": [
            "Step 550: loss = 0.4920\n"
          ]
        },
        {
          "output_type": "stream",
          "name": "stderr",
          "text": [
            "Training:  60%|██████    | 600/1000 [02:56<01:56,  3.42it/s, loss=0.694]"
          ]
        },
        {
          "output_type": "stream",
          "name": "stdout",
          "text": [
            "Step 600: loss = 0.6938\n"
          ]
        },
        {
          "output_type": "stream",
          "name": "stderr",
          "text": [
            "Training:  65%|██████▌   | 650/1000 [03:11<01:42,  3.42it/s, loss=0.614]"
          ]
        },
        {
          "output_type": "stream",
          "name": "stdout",
          "text": [
            "Step 650: loss = 0.6145\n"
          ]
        },
        {
          "output_type": "stream",
          "name": "stderr",
          "text": [
            "Training:  70%|███████   | 700/1000 [03:25<01:27,  3.43it/s, loss=0.523]"
          ]
        },
        {
          "output_type": "stream",
          "name": "stdout",
          "text": [
            "Step 700: loss = 0.5233\n"
          ]
        },
        {
          "output_type": "stream",
          "name": "stderr",
          "text": [
            "Training:  75%|███████▌  | 750/1000 [03:40<01:12,  3.43it/s, loss=0.553]"
          ]
        },
        {
          "output_type": "stream",
          "name": "stdout",
          "text": [
            "Step 750: loss = 0.5528\n"
          ]
        },
        {
          "output_type": "stream",
          "name": "stderr",
          "text": [
            "Training:  80%|████████  | 800/1000 [03:54<00:58,  3.42it/s, loss=0.53]"
          ]
        },
        {
          "output_type": "stream",
          "name": "stdout",
          "text": [
            "Step 800: loss = 0.5299\n"
          ]
        },
        {
          "output_type": "stream",
          "name": "stderr",
          "text": [
            "Training:  85%|████████▌ | 850/1000 [04:09<00:43,  3.42it/s, loss=0.504]"
          ]
        },
        {
          "output_type": "stream",
          "name": "stdout",
          "text": [
            "Step 850: loss = 0.5037\n"
          ]
        },
        {
          "output_type": "stream",
          "name": "stderr",
          "text": [
            "Training:  90%|█████████ | 900/1000 [04:24<00:29,  3.42it/s, loss=0.615]"
          ]
        },
        {
          "output_type": "stream",
          "name": "stdout",
          "text": [
            "Step 900: loss = 0.6155\n"
          ]
        },
        {
          "output_type": "stream",
          "name": "stderr",
          "text": [
            "Training:  95%|█████████▌| 950/1000 [04:38<00:14,  3.42it/s, loss=0.537]"
          ]
        },
        {
          "output_type": "stream",
          "name": "stdout",
          "text": [
            "Step 950: loss = 0.5375\n"
          ]
        },
        {
          "output_type": "stream",
          "name": "stderr",
          "text": [
            "Training: 100%|██████████| 1000/1000 [04:53<00:00,  3.41it/s, loss=0.522]\n"
          ]
        },
        {
          "output_type": "stream",
          "name": "stdout",
          "text": [
            "Step 1000: loss = 0.5215\n"
          ]
        },
        {
          "output_type": "display_data",
          "data": {
            "text/plain": [
              "<IPython.core.display.HTML object>"
            ],
            "text/html": []
          },
          "metadata": {}
        },
        {
          "output_type": "display_data",
          "data": {
            "text/plain": [
              "<IPython.core.display.HTML object>"
            ],
            "text/html": [
              "<br>    <style><br>        .wandb-row {<br>            display: flex;<br>            flex-direction: row;<br>            flex-wrap: wrap;<br>            justify-content: flex-start;<br>            width: 100%;<br>        }<br>        .wandb-col {<br>            display: flex;<br>            flex-direction: column;<br>            flex-basis: 100%;<br>            flex: 1;<br>            padding: 10px;<br>        }<br>    </style><br><div class=\"wandb-row\"><div class=\"wandb-col\"><h3>Run history:</h3><br/><table class=\"wandb\"><tr><td>loss</td><td>▅▆▆▂▇▄▆▆▄▄▃▅▂▄▆▅▃▆▃▄█▃▁▆▇▅▄▂▃▄▃▂▂▁▃▄▂▃▂▂</td></tr><tr><td>step</td><td>▁▁▁▁▁▂▂▂▂▂▂▂▂▃▃▃▃▃▄▄▄▄▄▄▄▅▅▅▅▆▆▆▆▇▇▇▇▇▇█</td></tr></table><br/></div><div class=\"wandb-col\"><h3>Run summary:</h3><br/><table class=\"wandb\"><tr><td>loss</td><td>0.52155</td></tr><tr><td>step</td><td>999</td></tr></table><br/></div></div>"
            ]
          },
          "metadata": {}
        },
        {
          "output_type": "display_data",
          "data": {
            "text/plain": [
              "<IPython.core.display.HTML object>"
            ],
            "text/html": [
              " View run <strong style=\"color:#cdcd00\">rank2_lr1e-05_train</strong> at: <a href='https://wandb.ai/liuyihao649-university-of-cambridge/m2-lora-grid-search/runs/j1xmvpt6' target=\"_blank\">https://wandb.ai/liuyihao649-university-of-cambridge/m2-lora-grid-search/runs/j1xmvpt6</a><br> View project at: <a href='https://wandb.ai/liuyihao649-university-of-cambridge/m2-lora-grid-search' target=\"_blank\">https://wandb.ai/liuyihao649-university-of-cambridge/m2-lora-grid-search</a><br>Synced 5 W&B file(s), 1 media file(s), 0 artifact file(s) and 0 other file(s)"
            ]
          },
          "metadata": {}
        },
        {
          "output_type": "display_data",
          "data": {
            "text/plain": [
              "<IPython.core.display.HTML object>"
            ],
            "text/html": [
              "Find logs at: <code>./wandb/run-20250329_230333-j1xmvpt6/logs</code>"
            ]
          },
          "metadata": {}
        },
        {
          "output_type": "display_data",
          "data": {
            "text/plain": [
              "<IPython.core.display.HTML object>"
            ],
            "text/html": [
              "Tracking run with wandb version 0.19.8"
            ]
          },
          "metadata": {}
        },
        {
          "output_type": "display_data",
          "data": {
            "text/plain": [
              "<IPython.core.display.HTML object>"
            ],
            "text/html": [
              "Run data is saved locally in <code>/content/drive/MyDrive/m2cw/wandb/run-20250329_230829-orgdymdn</code>"
            ]
          },
          "metadata": {}
        },
        {
          "output_type": "display_data",
          "data": {
            "text/plain": [
              "<IPython.core.display.HTML object>"
            ],
            "text/html": [
              "Syncing run <strong><a href='https://wandb.ai/liuyihao649-university-of-cambridge/m2-lora-grid-search/runs/orgdymdn' target=\"_blank\">rank2_lr1e-05_evaluation</a></strong> to <a href='https://wandb.ai/liuyihao649-university-of-cambridge/m2-lora-grid-search' target=\"_blank\">Weights & Biases</a> (<a href='https://wandb.me/developer-guide' target=\"_blank\">docs</a>)<br>"
            ]
          },
          "metadata": {}
        },
        {
          "output_type": "display_data",
          "data": {
            "text/plain": [
              "<IPython.core.display.HTML object>"
            ],
            "text/html": [
              " View project at <a href='https://wandb.ai/liuyihao649-university-of-cambridge/m2-lora-grid-search' target=\"_blank\">https://wandb.ai/liuyihao649-university-of-cambridge/m2-lora-grid-search</a>"
            ]
          },
          "metadata": {}
        },
        {
          "output_type": "display_data",
          "data": {
            "text/plain": [
              "<IPython.core.display.HTML object>"
            ],
            "text/html": [
              " View run at <a href='https://wandb.ai/liuyihao649-university-of-cambridge/m2-lora-grid-search/runs/orgdymdn' target=\"_blank\">https://wandb.ai/liuyihao649-university-of-cambridge/m2-lora-grid-search/runs/orgdymdn</a>"
            ]
          },
          "metadata": {}
        },
        {
          "output_type": "stream",
          "name": "stderr",
          "text": [
            "/usr/local/lib/python3.11/dist-packages/transformers/generation/configuration_utils.py:628: UserWarning: `do_sample` is set to `False`. However, `temperature` is set to `0.7` -- this flag is only used in sample-based generation modes. You should set `do_sample=True` or unset `temperature`.\n",
            "  warnings.warn(\n",
            "/usr/local/lib/python3.11/dist-packages/transformers/generation/configuration_utils.py:633: UserWarning: `do_sample` is set to `False`. However, `top_p` is set to `0.8` -- this flag is only used in sample-based generation modes. You should set `do_sample=True` or unset `top_p`.\n",
            "  warnings.warn(\n",
            "/usr/local/lib/python3.11/dist-packages/transformers/generation/configuration_utils.py:650: UserWarning: `do_sample` is set to `False`. However, `top_k` is set to `20` -- this flag is only used in sample-based generation modes. You should set `do_sample=True` or unset `top_k`.\n",
            "  warnings.warn(\n",
            "The attention mask is not set and cannot be inferred from input because pad token is same as eos token. As a consequence, you may observe unexpected behavior. Please pass your input's `attention_mask` to obtain reliable results.\n",
            "\u001b[34m\u001b[1mwandb\u001b[0m: \u001b[33mWARNING\u001b[0m Tried to log to step 1 that is less than the current step 2. Steps must be monotonically increasing, so this data will be ignored. See https://wandb.me/define-metric to log data out of order.\n",
            "\u001b[34m\u001b[1mwandb\u001b[0m: \u001b[33mWARNING\u001b[0m Tried to log to step 2 that is less than the current step 4. Steps must be monotonically increasing, so this data will be ignored. See https://wandb.me/define-metric to log data out of order.\n",
            "\u001b[34m\u001b[1mwandb\u001b[0m: \u001b[33mWARNING\u001b[0m Tried to log to step 3 that is less than the current step 6. Steps must be monotonically increasing, so this data will be ignored. See https://wandb.me/define-metric to log data out of order.\n",
            "\u001b[34m\u001b[1mwandb\u001b[0m: \u001b[33mWARNING\u001b[0m Tried to log to step 4 that is less than the current step 8. Steps must be monotonically increasing, so this data will be ignored. See https://wandb.me/define-metric to log data out of order.\n",
            "\u001b[34m\u001b[1mwandb\u001b[0m: \u001b[33mWARNING\u001b[0m Tried to log to step 5 that is less than the current step 10. Steps must be monotonically increasing, so this data will be ignored. See https://wandb.me/define-metric to log data out of order.\n",
            "\u001b[34m\u001b[1mwandb\u001b[0m: \u001b[33mWARNING\u001b[0m Tried to log to step 6 that is less than the current step 12. Steps must be monotonically increasing, so this data will be ignored. See https://wandb.me/define-metric to log data out of order.\n",
            "\u001b[34m\u001b[1mwandb\u001b[0m: \u001b[33mWARNING\u001b[0m Tried to log to step 7 that is less than the current step 14. Steps must be monotonically increasing, so this data will be ignored. See https://wandb.me/define-metric to log data out of order.\n",
            "\u001b[34m\u001b[1mwandb\u001b[0m: \u001b[33mWARNING\u001b[0m Tried to log to step 8 that is less than the current step 16. Steps must be monotonically increasing, so this data will be ignored. See https://wandb.me/define-metric to log data out of order.\n"
          ]
        },
        {
          "output_type": "stream",
          "name": "stdout",
          "text": [
            "rank2,lr1e-05,evalaution results:\n",
            "Average Cross-Entropy Loss: 1.6983\n",
            "Average MSE (Forecast):  0.0561\n"
          ]
        },
        {
          "output_type": "display_data",
          "data": {
            "text/plain": [
              "<IPython.core.display.HTML object>"
            ],
            "text/html": []
          },
          "metadata": {}
        },
        {
          "output_type": "display_data",
          "data": {
            "text/plain": [
              "<IPython.core.display.HTML object>"
            ],
            "text/html": [
              "<br>    <style><br>        .wandb-row {<br>            display: flex;<br>            flex-direction: row;<br>            flex-wrap: wrap;<br>            justify-content: flex-start;<br>            width: 100%;<br>        }<br>        .wandb-col {<br>            display: flex;<br>            flex-direction: column;<br>            flex-basis: 100%;<br>            flex: 1;<br>            padding: 10px;<br>        }<br>    </style><br><div class=\"wandb-row\"><div class=\"wandb-col\"><h3>Run history:</h3><br/><table class=\"wandb\"><tr><td>avg_loss</td><td>▁</td></tr><tr><td>avg_mse</td><td>▁</td></tr></table><br/></div><div class=\"wandb-col\"><h3>Run summary:</h3><br/><table class=\"wandb\"><tr><td>avg_loss</td><td>1.69833</td></tr><tr><td>avg_mse</td><td>0.05609</td></tr></table><br/></div></div>"
            ]
          },
          "metadata": {}
        },
        {
          "output_type": "display_data",
          "data": {
            "text/plain": [
              "<IPython.core.display.HTML object>"
            ],
            "text/html": [
              " View run <strong style=\"color:#cdcd00\">rank2_lr1e-05_evaluation</strong> at: <a href='https://wandb.ai/liuyihao649-university-of-cambridge/m2-lora-grid-search/runs/orgdymdn' target=\"_blank\">https://wandb.ai/liuyihao649-university-of-cambridge/m2-lora-grid-search/runs/orgdymdn</a><br> View project at: <a href='https://wandb.ai/liuyihao649-university-of-cambridge/m2-lora-grid-search' target=\"_blank\">https://wandb.ai/liuyihao649-university-of-cambridge/m2-lora-grid-search</a><br>Synced 5 W&B file(s), 20 media file(s), 0 artifact file(s) and 0 other file(s)"
            ]
          },
          "metadata": {}
        },
        {
          "output_type": "display_data",
          "data": {
            "text/plain": [
              "<IPython.core.display.HTML object>"
            ],
            "text/html": [
              "Find logs at: <code>./wandb/run-20250329_230829-orgdymdn/logs</code>"
            ]
          },
          "metadata": {}
        },
        {
          "output_type": "display_data",
          "data": {
            "text/plain": [
              "<IPython.core.display.HTML object>"
            ],
            "text/html": [
              "Tried to log to step 9 that is less than the current step 18. Steps must be monotonically increasing, so this data will be ignored. See https://wandb.me/define-metric to log data out of order."
            ]
          },
          "metadata": {}
        },
        {
          "output_type": "display_data",
          "data": {
            "text/plain": [
              "<IPython.core.display.HTML object>"
            ],
            "text/html": [
              "Tried to log to step 10 that is less than the current step 20. Steps must be monotonically increasing, so this data will be ignored. See https://wandb.me/define-metric to log data out of order."
            ]
          },
          "metadata": {}
        },
        {
          "output_type": "display_data",
          "data": {
            "text/plain": [
              "<IPython.core.display.HTML object>"
            ],
            "text/html": [
              "Tracking run with wandb version 0.19.8"
            ]
          },
          "metadata": {}
        },
        {
          "output_type": "display_data",
          "data": {
            "text/plain": [
              "<IPython.core.display.HTML object>"
            ],
            "text/html": [
              "Run data is saved locally in <code>/content/drive/MyDrive/m2cw/wandb/run-20250329_230909-fszku101</code>"
            ]
          },
          "metadata": {}
        },
        {
          "output_type": "display_data",
          "data": {
            "text/plain": [
              "<IPython.core.display.HTML object>"
            ],
            "text/html": [
              "Syncing run <strong><a href='https://wandb.ai/liuyihao649-university-of-cambridge/m2-lora-grid-search/runs/fszku101' target=\"_blank\">rank2_lr5e-05_train</a></strong> to <a href='https://wandb.ai/liuyihao649-university-of-cambridge/m2-lora-grid-search' target=\"_blank\">Weights & Biases</a> (<a href='https://wandb.me/developer-guide' target=\"_blank\">docs</a>)<br>"
            ]
          },
          "metadata": {}
        },
        {
          "output_type": "display_data",
          "data": {
            "text/plain": [
              "<IPython.core.display.HTML object>"
            ],
            "text/html": [
              " View project at <a href='https://wandb.ai/liuyihao649-university-of-cambridge/m2-lora-grid-search' target=\"_blank\">https://wandb.ai/liuyihao649-university-of-cambridge/m2-lora-grid-search</a>"
            ]
          },
          "metadata": {}
        },
        {
          "output_type": "display_data",
          "data": {
            "text/plain": [
              "<IPython.core.display.HTML object>"
            ],
            "text/html": [
              " View run at <a href='https://wandb.ai/liuyihao649-university-of-cambridge/m2-lora-grid-search/runs/fszku101' target=\"_blank\">https://wandb.ai/liuyihao649-university-of-cambridge/m2-lora-grid-search/runs/fszku101</a>"
            ]
          },
          "metadata": {}
        },
        {
          "output_type": "stream",
          "name": "stderr",
          "text": [
            "Training:   5%|▌         | 50/1000 [00:14<04:37,  3.42it/s, loss=0.529]"
          ]
        },
        {
          "output_type": "stream",
          "name": "stdout",
          "text": [
            "Step 50: loss = 0.5289\n"
          ]
        },
        {
          "output_type": "stream",
          "name": "stderr",
          "text": [
            "Training:  10%|█         | 100/1000 [00:29<04:22,  3.42it/s, loss=0.801]"
          ]
        },
        {
          "output_type": "stream",
          "name": "stdout",
          "text": [
            "Step 100: loss = 0.8013\n"
          ]
        },
        {
          "output_type": "stream",
          "name": "stderr",
          "text": [
            "Training:  15%|█▌        | 150/1000 [00:43<04:08,  3.43it/s, loss=0.42]"
          ]
        },
        {
          "output_type": "stream",
          "name": "stdout",
          "text": [
            "Step 150: loss = 0.4200\n"
          ]
        },
        {
          "output_type": "stream",
          "name": "stderr",
          "text": [
            "Training:  20%|██        | 200/1000 [00:58<03:54,  3.42it/s, loss=0.545]"
          ]
        },
        {
          "output_type": "stream",
          "name": "stdout",
          "text": [
            "Step 200: loss = 0.5454\n"
          ]
        },
        {
          "output_type": "stream",
          "name": "stderr",
          "text": [
            "Training:  25%|██▌       | 250/1000 [01:13<03:39,  3.41it/s, loss=0.461]"
          ]
        },
        {
          "output_type": "stream",
          "name": "stdout",
          "text": [
            "Step 250: loss = 0.4613\n"
          ]
        },
        {
          "output_type": "stream",
          "name": "stderr",
          "text": [
            "Training:  30%|███       | 300/1000 [01:27<03:24,  3.42it/s, loss=0.599]"
          ]
        },
        {
          "output_type": "stream",
          "name": "stdout",
          "text": [
            "Step 300: loss = 0.5995\n"
          ]
        },
        {
          "output_type": "stream",
          "name": "stderr",
          "text": [
            "Training:  35%|███▌      | 350/1000 [01:42<03:09,  3.42it/s, loss=0.419]"
          ]
        },
        {
          "output_type": "stream",
          "name": "stdout",
          "text": [
            "Step 350: loss = 0.4195\n"
          ]
        },
        {
          "output_type": "stream",
          "name": "stderr",
          "text": [
            "Training:  40%|████      | 400/1000 [01:56<02:55,  3.43it/s, loss=0.501]"
          ]
        },
        {
          "output_type": "stream",
          "name": "stdout",
          "text": [
            "Step 400: loss = 0.5010\n"
          ]
        },
        {
          "output_type": "stream",
          "name": "stderr",
          "text": [
            "Training:  45%|████▌     | 450/1000 [02:11<02:40,  3.42it/s, loss=0.511]"
          ]
        },
        {
          "output_type": "stream",
          "name": "stdout",
          "text": [
            "Step 450: loss = 0.5114\n"
          ]
        },
        {
          "output_type": "stream",
          "name": "stderr",
          "text": [
            "Training:  50%|█████     | 500/1000 [02:26<02:26,  3.42it/s, loss=0.458]"
          ]
        },
        {
          "output_type": "stream",
          "name": "stdout",
          "text": [
            "Step 500: loss = 0.4583\n"
          ]
        },
        {
          "output_type": "stream",
          "name": "stderr",
          "text": [
            "Training:  55%|█████▌    | 550/1000 [02:40<02:11,  3.43it/s, loss=0.445]"
          ]
        },
        {
          "output_type": "stream",
          "name": "stdout",
          "text": [
            "Step 550: loss = 0.4450\n"
          ]
        },
        {
          "output_type": "stream",
          "name": "stderr",
          "text": [
            "Training:  60%|██████    | 600/1000 [02:55<01:56,  3.42it/s, loss=0.512]"
          ]
        },
        {
          "output_type": "stream",
          "name": "stdout",
          "text": [
            "Step 600: loss = 0.5121\n"
          ]
        },
        {
          "output_type": "stream",
          "name": "stderr",
          "text": [
            "Training:  65%|██████▌   | 650/1000 [03:10<01:42,  3.42it/s, loss=0.44]"
          ]
        },
        {
          "output_type": "stream",
          "name": "stdout",
          "text": [
            "Step 650: loss = 0.4400\n"
          ]
        },
        {
          "output_type": "stream",
          "name": "stderr",
          "text": [
            "Training:  70%|███████   | 700/1000 [03:24<01:27,  3.42it/s, loss=0.439]"
          ]
        },
        {
          "output_type": "stream",
          "name": "stdout",
          "text": [
            "Step 700: loss = 0.4385\n"
          ]
        },
        {
          "output_type": "stream",
          "name": "stderr",
          "text": [
            "Training:  75%|███████▌  | 750/1000 [03:39<01:12,  3.43it/s, loss=0.429]"
          ]
        },
        {
          "output_type": "stream",
          "name": "stdout",
          "text": [
            "Step 750: loss = 0.4291\n"
          ]
        },
        {
          "output_type": "stream",
          "name": "stderr",
          "text": [
            "Training:  80%|████████  | 800/1000 [03:53<00:58,  3.42it/s, loss=0.439]"
          ]
        },
        {
          "output_type": "stream",
          "name": "stdout",
          "text": [
            "Step 800: loss = 0.4391\n"
          ]
        },
        {
          "output_type": "stream",
          "name": "stderr",
          "text": [
            "Training:  85%|████████▌ | 850/1000 [04:08<00:43,  3.42it/s, loss=0.375]"
          ]
        },
        {
          "output_type": "stream",
          "name": "stdout",
          "text": [
            "Step 850: loss = 0.3751\n"
          ]
        },
        {
          "output_type": "stream",
          "name": "stderr",
          "text": [
            "Training:  90%|█████████ | 900/1000 [04:23<00:29,  3.43it/s, loss=0.382]"
          ]
        },
        {
          "output_type": "stream",
          "name": "stdout",
          "text": [
            "Step 900: loss = 0.3824\n"
          ]
        },
        {
          "output_type": "stream",
          "name": "stderr",
          "text": [
            "Training:  95%|█████████▌| 950/1000 [04:37<00:14,  3.42it/s, loss=0.397]"
          ]
        },
        {
          "output_type": "stream",
          "name": "stdout",
          "text": [
            "Step 950: loss = 0.3972\n"
          ]
        },
        {
          "output_type": "stream",
          "name": "stderr",
          "text": [
            "Training: 100%|██████████| 1000/1000 [04:52<00:00,  3.42it/s, loss=0.454]\n"
          ]
        },
        {
          "output_type": "stream",
          "name": "stdout",
          "text": [
            "Step 1000: loss = 0.4544\n"
          ]
        },
        {
          "output_type": "display_data",
          "data": {
            "text/plain": [
              "<IPython.core.display.HTML object>"
            ],
            "text/html": []
          },
          "metadata": {}
        },
        {
          "output_type": "display_data",
          "data": {
            "text/plain": [
              "<IPython.core.display.HTML object>"
            ],
            "text/html": [
              "<br>    <style><br>        .wandb-row {<br>            display: flex;<br>            flex-direction: row;<br>            flex-wrap: wrap;<br>            justify-content: flex-start;<br>            width: 100%;<br>        }<br>        .wandb-col {<br>            display: flex;<br>            flex-direction: column;<br>            flex-basis: 100%;<br>            flex: 1;<br>            padding: 10px;<br>        }<br>    </style><br><div class=\"wandb-row\"><div class=\"wandb-col\"><h3>Run history:</h3><br/><table class=\"wandb\"><tr><td>loss</td><td>█▇▇▆▆▆▄▃▅▃▃▄▃▃▂▃▃▃▃▃▂▂▃▃▂▂▁▂▁▂▂▃▃▁▂▂▂▁▂▁</td></tr><tr><td>step</td><td>▁▁▁▂▂▂▂▂▂▂▂▂▃▃▃▃▄▄▄▄▅▅▅▆▆▆▆▆▆▇▇▇▇▇▇▇▇███</td></tr></table><br/></div><div class=\"wandb-col\"><h3>Run summary:</h3><br/><table class=\"wandb\"><tr><td>loss</td><td>0.45436</td></tr><tr><td>step</td><td>999</td></tr></table><br/></div></div>"
            ]
          },
          "metadata": {}
        },
        {
          "output_type": "display_data",
          "data": {
            "text/plain": [
              "<IPython.core.display.HTML object>"
            ],
            "text/html": [
              " View run <strong style=\"color:#cdcd00\">rank2_lr5e-05_train</strong> at: <a href='https://wandb.ai/liuyihao649-university-of-cambridge/m2-lora-grid-search/runs/fszku101' target=\"_blank\">https://wandb.ai/liuyihao649-university-of-cambridge/m2-lora-grid-search/runs/fszku101</a><br> View project at: <a href='https://wandb.ai/liuyihao649-university-of-cambridge/m2-lora-grid-search' target=\"_blank\">https://wandb.ai/liuyihao649-university-of-cambridge/m2-lora-grid-search</a><br>Synced 5 W&B file(s), 1 media file(s), 0 artifact file(s) and 0 other file(s)"
            ]
          },
          "metadata": {}
        },
        {
          "output_type": "display_data",
          "data": {
            "text/plain": [
              "<IPython.core.display.HTML object>"
            ],
            "text/html": [
              "Find logs at: <code>./wandb/run-20250329_230909-fszku101/logs</code>"
            ]
          },
          "metadata": {}
        },
        {
          "output_type": "display_data",
          "data": {
            "text/plain": [
              "<IPython.core.display.HTML object>"
            ],
            "text/html": [
              "Tracking run with wandb version 0.19.8"
            ]
          },
          "metadata": {}
        },
        {
          "output_type": "display_data",
          "data": {
            "text/plain": [
              "<IPython.core.display.HTML object>"
            ],
            "text/html": [
              "Run data is saved locally in <code>/content/drive/MyDrive/m2cw/wandb/run-20250329_231404-8tyqbg4i</code>"
            ]
          },
          "metadata": {}
        },
        {
          "output_type": "display_data",
          "data": {
            "text/plain": [
              "<IPython.core.display.HTML object>"
            ],
            "text/html": [
              "Syncing run <strong><a href='https://wandb.ai/liuyihao649-university-of-cambridge/m2-lora-grid-search/runs/8tyqbg4i' target=\"_blank\">rank2_lr5e-05_evaluation</a></strong> to <a href='https://wandb.ai/liuyihao649-university-of-cambridge/m2-lora-grid-search' target=\"_blank\">Weights & Biases</a> (<a href='https://wandb.me/developer-guide' target=\"_blank\">docs</a>)<br>"
            ]
          },
          "metadata": {}
        },
        {
          "output_type": "display_data",
          "data": {
            "text/plain": [
              "<IPython.core.display.HTML object>"
            ],
            "text/html": [
              " View project at <a href='https://wandb.ai/liuyihao649-university-of-cambridge/m2-lora-grid-search' target=\"_blank\">https://wandb.ai/liuyihao649-university-of-cambridge/m2-lora-grid-search</a>"
            ]
          },
          "metadata": {}
        },
        {
          "output_type": "display_data",
          "data": {
            "text/plain": [
              "<IPython.core.display.HTML object>"
            ],
            "text/html": [
              " View run at <a href='https://wandb.ai/liuyihao649-university-of-cambridge/m2-lora-grid-search/runs/8tyqbg4i' target=\"_blank\">https://wandb.ai/liuyihao649-university-of-cambridge/m2-lora-grid-search/runs/8tyqbg4i</a>"
            ]
          },
          "metadata": {}
        },
        {
          "output_type": "stream",
          "name": "stderr",
          "text": [
            "\u001b[34m\u001b[1mwandb\u001b[0m: \u001b[33mWARNING\u001b[0m Tried to log to step 1 that is less than the current step 2. Steps must be monotonically increasing, so this data will be ignored. See https://wandb.me/define-metric to log data out of order.\n",
            "\u001b[34m\u001b[1mwandb\u001b[0m: \u001b[33mWARNING\u001b[0m Tried to log to step 2 that is less than the current step 4. Steps must be monotonically increasing, so this data will be ignored. See https://wandb.me/define-metric to log data out of order.\n",
            "\u001b[34m\u001b[1mwandb\u001b[0m: \u001b[33mWARNING\u001b[0m Tried to log to step 3 that is less than the current step 6. Steps must be monotonically increasing, so this data will be ignored. See https://wandb.me/define-metric to log data out of order.\n",
            "\u001b[34m\u001b[1mwandb\u001b[0m: \u001b[33mWARNING\u001b[0m Tried to log to step 4 that is less than the current step 8. Steps must be monotonically increasing, so this data will be ignored. See https://wandb.me/define-metric to log data out of order.\n",
            "\u001b[34m\u001b[1mwandb\u001b[0m: \u001b[33mWARNING\u001b[0m Tried to log to step 5 that is less than the current step 10. Steps must be monotonically increasing, so this data will be ignored. See https://wandb.me/define-metric to log data out of order.\n",
            "\u001b[34m\u001b[1mwandb\u001b[0m: \u001b[33mWARNING\u001b[0m Tried to log to step 6 that is less than the current step 12. Steps must be monotonically increasing, so this data will be ignored. See https://wandb.me/define-metric to log data out of order.\n",
            "\u001b[34m\u001b[1mwandb\u001b[0m: \u001b[33mWARNING\u001b[0m Tried to log to step 7 that is less than the current step 14. Steps must be monotonically increasing, so this data will be ignored. See https://wandb.me/define-metric to log data out of order.\n"
          ]
        },
        {
          "output_type": "stream",
          "name": "stdout",
          "text": [
            "rank2,lr5e-05,evalaution results:\n",
            "Average Cross-Entropy Loss: 1.7240\n",
            "Average MSE (Forecast):  0.0123\n"
          ]
        },
        {
          "output_type": "display_data",
          "data": {
            "text/plain": [
              "<IPython.core.display.HTML object>"
            ],
            "text/html": []
          },
          "metadata": {}
        },
        {
          "output_type": "display_data",
          "data": {
            "text/plain": [
              "<IPython.core.display.HTML object>"
            ],
            "text/html": [
              "<br>    <style><br>        .wandb-row {<br>            display: flex;<br>            flex-direction: row;<br>            flex-wrap: wrap;<br>            justify-content: flex-start;<br>            width: 100%;<br>        }<br>        .wandb-col {<br>            display: flex;<br>            flex-direction: column;<br>            flex-basis: 100%;<br>            flex: 1;<br>            padding: 10px;<br>        }<br>    </style><br><div class=\"wandb-row\"><div class=\"wandb-col\"><h3>Run history:</h3><br/><table class=\"wandb\"><tr><td>avg_loss</td><td>▁</td></tr><tr><td>avg_mse</td><td>▁</td></tr></table><br/></div><div class=\"wandb-col\"><h3>Run summary:</h3><br/><table class=\"wandb\"><tr><td>avg_loss</td><td>1.72401</td></tr><tr><td>avg_mse</td><td>0.01232</td></tr></table><br/></div></div>"
            ]
          },
          "metadata": {}
        },
        {
          "output_type": "display_data",
          "data": {
            "text/plain": [
              "<IPython.core.display.HTML object>"
            ],
            "text/html": [
              " View run <strong style=\"color:#cdcd00\">rank2_lr5e-05_evaluation</strong> at: <a href='https://wandb.ai/liuyihao649-university-of-cambridge/m2-lora-grid-search/runs/8tyqbg4i' target=\"_blank\">https://wandb.ai/liuyihao649-university-of-cambridge/m2-lora-grid-search/runs/8tyqbg4i</a><br> View project at: <a href='https://wandb.ai/liuyihao649-university-of-cambridge/m2-lora-grid-search' target=\"_blank\">https://wandb.ai/liuyihao649-university-of-cambridge/m2-lora-grid-search</a><br>Synced 5 W&B file(s), 20 media file(s), 0 artifact file(s) and 0 other file(s)"
            ]
          },
          "metadata": {}
        },
        {
          "output_type": "display_data",
          "data": {
            "text/plain": [
              "<IPython.core.display.HTML object>"
            ],
            "text/html": [
              "Find logs at: <code>./wandb/run-20250329_231404-8tyqbg4i/logs</code>"
            ]
          },
          "metadata": {}
        },
        {
          "output_type": "display_data",
          "data": {
            "text/plain": [
              "<IPython.core.display.HTML object>"
            ],
            "text/html": [
              "Tried to log to step 8 that is less than the current step 16. Steps must be monotonically increasing, so this data will be ignored. See https://wandb.me/define-metric to log data out of order."
            ]
          },
          "metadata": {}
        },
        {
          "output_type": "display_data",
          "data": {
            "text/plain": [
              "<IPython.core.display.HTML object>"
            ],
            "text/html": [
              "Tried to log to step 9 that is less than the current step 18. Steps must be monotonically increasing, so this data will be ignored. See https://wandb.me/define-metric to log data out of order."
            ]
          },
          "metadata": {}
        },
        {
          "output_type": "display_data",
          "data": {
            "text/plain": [
              "<IPython.core.display.HTML object>"
            ],
            "text/html": [
              "Tried to log to step 10 that is less than the current step 20. Steps must be monotonically increasing, so this data will be ignored. See https://wandb.me/define-metric to log data out of order."
            ]
          },
          "metadata": {}
        },
        {
          "output_type": "display_data",
          "data": {
            "text/plain": [
              "<IPython.core.display.HTML object>"
            ],
            "text/html": [
              "Tracking run with wandb version 0.19.8"
            ]
          },
          "metadata": {}
        },
        {
          "output_type": "display_data",
          "data": {
            "text/plain": [
              "<IPython.core.display.HTML object>"
            ],
            "text/html": [
              "Run data is saved locally in <code>/content/drive/MyDrive/m2cw/wandb/run-20250329_231444-816comnt</code>"
            ]
          },
          "metadata": {}
        },
        {
          "output_type": "display_data",
          "data": {
            "text/plain": [
              "<IPython.core.display.HTML object>"
            ],
            "text/html": [
              "Syncing run <strong><a href='https://wandb.ai/liuyihao649-university-of-cambridge/m2-lora-grid-search/runs/816comnt' target=\"_blank\">rank2_lr0.0001_train</a></strong> to <a href='https://wandb.ai/liuyihao649-university-of-cambridge/m2-lora-grid-search' target=\"_blank\">Weights & Biases</a> (<a href='https://wandb.me/developer-guide' target=\"_blank\">docs</a>)<br>"
            ]
          },
          "metadata": {}
        },
        {
          "output_type": "display_data",
          "data": {
            "text/plain": [
              "<IPython.core.display.HTML object>"
            ],
            "text/html": [
              " View project at <a href='https://wandb.ai/liuyihao649-university-of-cambridge/m2-lora-grid-search' target=\"_blank\">https://wandb.ai/liuyihao649-university-of-cambridge/m2-lora-grid-search</a>"
            ]
          },
          "metadata": {}
        },
        {
          "output_type": "display_data",
          "data": {
            "text/plain": [
              "<IPython.core.display.HTML object>"
            ],
            "text/html": [
              " View run at <a href='https://wandb.ai/liuyihao649-university-of-cambridge/m2-lora-grid-search/runs/816comnt' target=\"_blank\">https://wandb.ai/liuyihao649-university-of-cambridge/m2-lora-grid-search/runs/816comnt</a>"
            ]
          },
          "metadata": {}
        },
        {
          "output_type": "stream",
          "name": "stderr",
          "text": [
            "Training:   5%|▌         | 50/1000 [00:14<04:37,  3.42it/s, loss=0.533]"
          ]
        },
        {
          "output_type": "stream",
          "name": "stdout",
          "text": [
            "Step 50: loss = 0.5326\n"
          ]
        },
        {
          "output_type": "stream",
          "name": "stderr",
          "text": [
            "Training:  10%|█         | 100/1000 [00:29<04:22,  3.43it/s, loss=0.52]"
          ]
        },
        {
          "output_type": "stream",
          "name": "stdout",
          "text": [
            "Step 100: loss = 0.5203\n"
          ]
        },
        {
          "output_type": "stream",
          "name": "stderr",
          "text": [
            "Training:  15%|█▌        | 150/1000 [00:43<04:08,  3.42it/s, loss=0.589]"
          ]
        },
        {
          "output_type": "stream",
          "name": "stdout",
          "text": [
            "Step 150: loss = 0.5890\n"
          ]
        },
        {
          "output_type": "stream",
          "name": "stderr",
          "text": [
            "Training:  20%|██        | 200/1000 [00:58<03:53,  3.42it/s, loss=0.512]"
          ]
        },
        {
          "output_type": "stream",
          "name": "stdout",
          "text": [
            "Step 200: loss = 0.5121\n"
          ]
        },
        {
          "output_type": "stream",
          "name": "stderr",
          "text": [
            "Training:  25%|██▌       | 250/1000 [01:13<03:39,  3.42it/s, loss=0.442]"
          ]
        },
        {
          "output_type": "stream",
          "name": "stdout",
          "text": [
            "Step 250: loss = 0.4415\n"
          ]
        },
        {
          "output_type": "stream",
          "name": "stderr",
          "text": [
            "Training:  30%|███       | 300/1000 [01:27<03:25,  3.41it/s, loss=0.357]"
          ]
        },
        {
          "output_type": "stream",
          "name": "stdout",
          "text": [
            "Step 300: loss = 0.3568\n"
          ]
        },
        {
          "output_type": "stream",
          "name": "stderr",
          "text": [
            "Training:  35%|███▌      | 350/1000 [01:42<03:10,  3.42it/s, loss=0.423]"
          ]
        },
        {
          "output_type": "stream",
          "name": "stdout",
          "text": [
            "Step 350: loss = 0.4227\n"
          ]
        },
        {
          "output_type": "stream",
          "name": "stderr",
          "text": [
            "Training:  40%|████      | 400/1000 [01:57<02:55,  3.42it/s, loss=0.484]"
          ]
        },
        {
          "output_type": "stream",
          "name": "stdout",
          "text": [
            "Step 400: loss = 0.4844\n"
          ]
        },
        {
          "output_type": "stream",
          "name": "stderr",
          "text": [
            "Training:  45%|████▌     | 450/1000 [02:11<02:41,  3.42it/s, loss=0.417]"
          ]
        },
        {
          "output_type": "stream",
          "name": "stdout",
          "text": [
            "Step 450: loss = 0.4174\n"
          ]
        },
        {
          "output_type": "stream",
          "name": "stderr",
          "text": [
            "Training:  50%|█████     | 500/1000 [02:26<02:26,  3.42it/s, loss=0.387]"
          ]
        },
        {
          "output_type": "stream",
          "name": "stdout",
          "text": [
            "Step 500: loss = 0.3870\n"
          ]
        },
        {
          "output_type": "stream",
          "name": "stderr",
          "text": [
            "Training:  55%|█████▌    | 550/1000 [02:41<02:11,  3.41it/s, loss=0.399]"
          ]
        },
        {
          "output_type": "stream",
          "name": "stdout",
          "text": [
            "Step 550: loss = 0.3992\n"
          ]
        },
        {
          "output_type": "stream",
          "name": "stderr",
          "text": [
            "Training:  60%|██████    | 600/1000 [02:55<01:56,  3.42it/s, loss=0.369]"
          ]
        },
        {
          "output_type": "stream",
          "name": "stdout",
          "text": [
            "Step 600: loss = 0.3689\n"
          ]
        },
        {
          "output_type": "stream",
          "name": "stderr",
          "text": [
            "Training:  65%|██████▌   | 650/1000 [03:10<01:42,  3.41it/s, loss=0.434]"
          ]
        },
        {
          "output_type": "stream",
          "name": "stdout",
          "text": [
            "Step 650: loss = 0.4341\n"
          ]
        },
        {
          "output_type": "stream",
          "name": "stderr",
          "text": [
            "Training:  70%|███████   | 700/1000 [03:24<01:27,  3.42it/s, loss=0.384]"
          ]
        },
        {
          "output_type": "stream",
          "name": "stdout",
          "text": [
            "Step 700: loss = 0.3840\n"
          ]
        },
        {
          "output_type": "stream",
          "name": "stderr",
          "text": [
            "Training:  75%|███████▌  | 750/1000 [03:39<01:13,  3.42it/s, loss=0.374]"
          ]
        },
        {
          "output_type": "stream",
          "name": "stdout",
          "text": [
            "Step 750: loss = 0.3742\n"
          ]
        },
        {
          "output_type": "stream",
          "name": "stderr",
          "text": [
            "Training:  80%|████████  | 800/1000 [03:54<00:58,  3.42it/s, loss=0.343]"
          ]
        },
        {
          "output_type": "stream",
          "name": "stdout",
          "text": [
            "Step 800: loss = 0.3429\n"
          ]
        },
        {
          "output_type": "stream",
          "name": "stderr",
          "text": [
            "Training:  85%|████████▌ | 850/1000 [04:08<00:43,  3.41it/s, loss=0.34]"
          ]
        },
        {
          "output_type": "stream",
          "name": "stdout",
          "text": [
            "Step 850: loss = 0.3399\n"
          ]
        },
        {
          "output_type": "stream",
          "name": "stderr",
          "text": [
            "Training:  90%|█████████ | 900/1000 [04:23<00:29,  3.42it/s, loss=0.337]"
          ]
        },
        {
          "output_type": "stream",
          "name": "stdout",
          "text": [
            "Step 900: loss = 0.3373\n"
          ]
        },
        {
          "output_type": "stream",
          "name": "stderr",
          "text": [
            "Training:  95%|█████████▌| 950/1000 [04:38<00:14,  3.42it/s, loss=0.372]"
          ]
        },
        {
          "output_type": "stream",
          "name": "stdout",
          "text": [
            "Step 950: loss = 0.3720\n"
          ]
        },
        {
          "output_type": "stream",
          "name": "stderr",
          "text": [
            "Training: 100%|██████████| 1000/1000 [04:52<00:00,  3.42it/s, loss=0.36]"
          ]
        },
        {
          "output_type": "stream",
          "name": "stdout",
          "text": [
            "Step 1000: loss = 0.3597\n"
          ]
        },
        {
          "output_type": "stream",
          "name": "stderr",
          "text": [
            "\n"
          ]
        },
        {
          "output_type": "display_data",
          "data": {
            "text/plain": [
              "<IPython.core.display.HTML object>"
            ],
            "text/html": []
          },
          "metadata": {}
        },
        {
          "output_type": "display_data",
          "data": {
            "text/plain": [
              "<IPython.core.display.HTML object>"
            ],
            "text/html": [
              "<br>    <style><br>        .wandb-row {<br>            display: flex;<br>            flex-direction: row;<br>            flex-wrap: wrap;<br>            justify-content: flex-start;<br>            width: 100%;<br>        }<br>        .wandb-col {<br>            display: flex;<br>            flex-direction: column;<br>            flex-basis: 100%;<br>            flex: 1;<br>            padding: 10px;<br>        }<br>    </style><br><div class=\"wandb-row\"><div class=\"wandb-col\"><h3>Run history:</h3><br/><table class=\"wandb\"><tr><td>loss</td><td>█▅▄▃▄▃▂▃▃▄▄▂▂▁▃▂▂▂▃▂▃▂▂▁▂▃▁▂▂▃▂▂▁▂▂▂▂▂▂▂</td></tr><tr><td>step</td><td>▁▁▂▂▂▂▂▂▂▃▃▃▃▃▄▄▄▄▄▄▅▅▅▅▅▆▆▆▆▆▆▇▇▇▇█████</td></tr></table><br/></div><div class=\"wandb-col\"><h3>Run summary:</h3><br/><table class=\"wandb\"><tr><td>loss</td><td>0.35967</td></tr><tr><td>step</td><td>999</td></tr></table><br/></div></div>"
            ]
          },
          "metadata": {}
        },
        {
          "output_type": "display_data",
          "data": {
            "text/plain": [
              "<IPython.core.display.HTML object>"
            ],
            "text/html": [
              " View run <strong style=\"color:#cdcd00\">rank2_lr0.0001_train</strong> at: <a href='https://wandb.ai/liuyihao649-university-of-cambridge/m2-lora-grid-search/runs/816comnt' target=\"_blank\">https://wandb.ai/liuyihao649-university-of-cambridge/m2-lora-grid-search/runs/816comnt</a><br> View project at: <a href='https://wandb.ai/liuyihao649-university-of-cambridge/m2-lora-grid-search' target=\"_blank\">https://wandb.ai/liuyihao649-university-of-cambridge/m2-lora-grid-search</a><br>Synced 5 W&B file(s), 1 media file(s), 0 artifact file(s) and 0 other file(s)"
            ]
          },
          "metadata": {}
        },
        {
          "output_type": "display_data",
          "data": {
            "text/plain": [
              "<IPython.core.display.HTML object>"
            ],
            "text/html": [
              "Find logs at: <code>./wandb/run-20250329_231444-816comnt/logs</code>"
            ]
          },
          "metadata": {}
        },
        {
          "output_type": "display_data",
          "data": {
            "text/plain": [
              "<IPython.core.display.HTML object>"
            ],
            "text/html": [
              "Tracking run with wandb version 0.19.8"
            ]
          },
          "metadata": {}
        },
        {
          "output_type": "display_data",
          "data": {
            "text/plain": [
              "<IPython.core.display.HTML object>"
            ],
            "text/html": [
              "Run data is saved locally in <code>/content/drive/MyDrive/m2cw/wandb/run-20250329_231939-66hfylqy</code>"
            ]
          },
          "metadata": {}
        },
        {
          "output_type": "display_data",
          "data": {
            "text/plain": [
              "<IPython.core.display.HTML object>"
            ],
            "text/html": [
              "Syncing run <strong><a href='https://wandb.ai/liuyihao649-university-of-cambridge/m2-lora-grid-search/runs/66hfylqy' target=\"_blank\">rank2_lr0.0001_evaluation</a></strong> to <a href='https://wandb.ai/liuyihao649-university-of-cambridge/m2-lora-grid-search' target=\"_blank\">Weights & Biases</a> (<a href='https://wandb.me/developer-guide' target=\"_blank\">docs</a>)<br>"
            ]
          },
          "metadata": {}
        },
        {
          "output_type": "display_data",
          "data": {
            "text/plain": [
              "<IPython.core.display.HTML object>"
            ],
            "text/html": [
              " View project at <a href='https://wandb.ai/liuyihao649-university-of-cambridge/m2-lora-grid-search' target=\"_blank\">https://wandb.ai/liuyihao649-university-of-cambridge/m2-lora-grid-search</a>"
            ]
          },
          "metadata": {}
        },
        {
          "output_type": "display_data",
          "data": {
            "text/plain": [
              "<IPython.core.display.HTML object>"
            ],
            "text/html": [
              " View run at <a href='https://wandb.ai/liuyihao649-university-of-cambridge/m2-lora-grid-search/runs/66hfylqy' target=\"_blank\">https://wandb.ai/liuyihao649-university-of-cambridge/m2-lora-grid-search/runs/66hfylqy</a>"
            ]
          },
          "metadata": {}
        },
        {
          "output_type": "stream",
          "name": "stderr",
          "text": [
            "\u001b[34m\u001b[1mwandb\u001b[0m: \u001b[33mWARNING\u001b[0m Tried to log to step 1 that is less than the current step 2. Steps must be monotonically increasing, so this data will be ignored. See https://wandb.me/define-metric to log data out of order.\n",
            "\u001b[34m\u001b[1mwandb\u001b[0m: \u001b[33mWARNING\u001b[0m Tried to log to step 2 that is less than the current step 4. Steps must be monotonically increasing, so this data will be ignored. See https://wandb.me/define-metric to log data out of order.\n",
            "\u001b[34m\u001b[1mwandb\u001b[0m: \u001b[33mWARNING\u001b[0m Tried to log to step 3 that is less than the current step 6. Steps must be monotonically increasing, so this data will be ignored. See https://wandb.me/define-metric to log data out of order.\n",
            "\u001b[34m\u001b[1mwandb\u001b[0m: \u001b[33mWARNING\u001b[0m Tried to log to step 4 that is less than the current step 8. Steps must be monotonically increasing, so this data will be ignored. See https://wandb.me/define-metric to log data out of order.\n",
            "\u001b[34m\u001b[1mwandb\u001b[0m: \u001b[33mWARNING\u001b[0m Tried to log to step 5 that is less than the current step 10. Steps must be monotonically increasing, so this data will be ignored. See https://wandb.me/define-metric to log data out of order.\n",
            "\u001b[34m\u001b[1mwandb\u001b[0m: \u001b[33mWARNING\u001b[0m Tried to log to step 6 that is less than the current step 12. Steps must be monotonically increasing, so this data will be ignored. See https://wandb.me/define-metric to log data out of order.\n",
            "\u001b[34m\u001b[1mwandb\u001b[0m: \u001b[33mWARNING\u001b[0m Tried to log to step 7 that is less than the current step 14. Steps must be monotonically increasing, so this data will be ignored. See https://wandb.me/define-metric to log data out of order.\n",
            "\u001b[34m\u001b[1mwandb\u001b[0m: \u001b[33mWARNING\u001b[0m Tried to log to step 8 that is less than the current step 16. Steps must be monotonically increasing, so this data will be ignored. See https://wandb.me/define-metric to log data out of order.\n"
          ]
        },
        {
          "output_type": "stream",
          "name": "stdout",
          "text": [
            "rank2,lr0.0001,evalaution results:\n",
            "Average Cross-Entropy Loss: 1.5699\n",
            "Average MSE (Forecast):  0.0079\n"
          ]
        },
        {
          "output_type": "display_data",
          "data": {
            "text/plain": [
              "<IPython.core.display.HTML object>"
            ],
            "text/html": []
          },
          "metadata": {}
        },
        {
          "output_type": "display_data",
          "data": {
            "text/plain": [
              "<IPython.core.display.HTML object>"
            ],
            "text/html": [
              "<br>    <style><br>        .wandb-row {<br>            display: flex;<br>            flex-direction: row;<br>            flex-wrap: wrap;<br>            justify-content: flex-start;<br>            width: 100%;<br>        }<br>        .wandb-col {<br>            display: flex;<br>            flex-direction: column;<br>            flex-basis: 100%;<br>            flex: 1;<br>            padding: 10px;<br>        }<br>    </style><br><div class=\"wandb-row\"><div class=\"wandb-col\"><h3>Run history:</h3><br/><table class=\"wandb\"><tr><td>avg_loss</td><td>▁</td></tr><tr><td>avg_mse</td><td>▁</td></tr></table><br/></div><div class=\"wandb-col\"><h3>Run summary:</h3><br/><table class=\"wandb\"><tr><td>avg_loss</td><td>1.56989</td></tr><tr><td>avg_mse</td><td>0.00793</td></tr></table><br/></div></div>"
            ]
          },
          "metadata": {}
        },
        {
          "output_type": "display_data",
          "data": {
            "text/plain": [
              "<IPython.core.display.HTML object>"
            ],
            "text/html": [
              " View run <strong style=\"color:#cdcd00\">rank2_lr0.0001_evaluation</strong> at: <a href='https://wandb.ai/liuyihao649-university-of-cambridge/m2-lora-grid-search/runs/66hfylqy' target=\"_blank\">https://wandb.ai/liuyihao649-university-of-cambridge/m2-lora-grid-search/runs/66hfylqy</a><br> View project at: <a href='https://wandb.ai/liuyihao649-university-of-cambridge/m2-lora-grid-search' target=\"_blank\">https://wandb.ai/liuyihao649-university-of-cambridge/m2-lora-grid-search</a><br>Synced 5 W&B file(s), 20 media file(s), 0 artifact file(s) and 0 other file(s)"
            ]
          },
          "metadata": {}
        },
        {
          "output_type": "display_data",
          "data": {
            "text/plain": [
              "<IPython.core.display.HTML object>"
            ],
            "text/html": [
              "Find logs at: <code>./wandb/run-20250329_231939-66hfylqy/logs</code>"
            ]
          },
          "metadata": {}
        },
        {
          "output_type": "display_data",
          "data": {
            "text/plain": [
              "<IPython.core.display.HTML object>"
            ],
            "text/html": [
              "Tried to log to step 9 that is less than the current step 18. Steps must be monotonically increasing, so this data will be ignored. See https://wandb.me/define-metric to log data out of order."
            ]
          },
          "metadata": {}
        },
        {
          "output_type": "display_data",
          "data": {
            "text/plain": [
              "<IPython.core.display.HTML object>"
            ],
            "text/html": [
              "Tried to log to step 10 that is less than the current step 20. Steps must be monotonically increasing, so this data will be ignored. See https://wandb.me/define-metric to log data out of order."
            ]
          },
          "metadata": {}
        },
        {
          "output_type": "display_data",
          "data": {
            "text/plain": [
              "<IPython.core.display.HTML object>"
            ],
            "text/html": [
              "Tracking run with wandb version 0.19.8"
            ]
          },
          "metadata": {}
        },
        {
          "output_type": "display_data",
          "data": {
            "text/plain": [
              "<IPython.core.display.HTML object>"
            ],
            "text/html": [
              "Run data is saved locally in <code>/content/drive/MyDrive/m2cw/wandb/run-20250329_232019-7swa7j3z</code>"
            ]
          },
          "metadata": {}
        },
        {
          "output_type": "display_data",
          "data": {
            "text/plain": [
              "<IPython.core.display.HTML object>"
            ],
            "text/html": [
              "Syncing run <strong><a href='https://wandb.ai/liuyihao649-university-of-cambridge/m2-lora-grid-search/runs/7swa7j3z' target=\"_blank\">rank4_lr1e-05_train</a></strong> to <a href='https://wandb.ai/liuyihao649-university-of-cambridge/m2-lora-grid-search' target=\"_blank\">Weights & Biases</a> (<a href='https://wandb.me/developer-guide' target=\"_blank\">docs</a>)<br>"
            ]
          },
          "metadata": {}
        },
        {
          "output_type": "display_data",
          "data": {
            "text/plain": [
              "<IPython.core.display.HTML object>"
            ],
            "text/html": [
              " View project at <a href='https://wandb.ai/liuyihao649-university-of-cambridge/m2-lora-grid-search' target=\"_blank\">https://wandb.ai/liuyihao649-university-of-cambridge/m2-lora-grid-search</a>"
            ]
          },
          "metadata": {}
        },
        {
          "output_type": "display_data",
          "data": {
            "text/plain": [
              "<IPython.core.display.HTML object>"
            ],
            "text/html": [
              " View run at <a href='https://wandb.ai/liuyihao649-university-of-cambridge/m2-lora-grid-search/runs/7swa7j3z' target=\"_blank\">https://wandb.ai/liuyihao649-university-of-cambridge/m2-lora-grid-search/runs/7swa7j3z</a>"
            ]
          },
          "metadata": {}
        },
        {
          "output_type": "stream",
          "name": "stderr",
          "text": [
            "Training:   5%|▌         | 50/1000 [00:14<04:37,  3.42it/s, loss=0.679]"
          ]
        },
        {
          "output_type": "stream",
          "name": "stdout",
          "text": [
            "Step 50: loss = 0.6786\n"
          ]
        },
        {
          "output_type": "stream",
          "name": "stderr",
          "text": [
            "Training:  10%|█         | 100/1000 [00:29<04:23,  3.42it/s, loss=0.78]"
          ]
        },
        {
          "output_type": "stream",
          "name": "stdout",
          "text": [
            "Step 100: loss = 0.7802\n"
          ]
        },
        {
          "output_type": "stream",
          "name": "stderr",
          "text": [
            "Training:  15%|█▌        | 150/1000 [00:43<04:08,  3.43it/s, loss=0.776]"
          ]
        },
        {
          "output_type": "stream",
          "name": "stdout",
          "text": [
            "Step 150: loss = 0.7757\n"
          ]
        },
        {
          "output_type": "stream",
          "name": "stderr",
          "text": [
            "Training:  20%|██        | 200/1000 [00:58<03:54,  3.42it/s, loss=0.653]"
          ]
        },
        {
          "output_type": "stream",
          "name": "stdout",
          "text": [
            "Step 200: loss = 0.6531\n"
          ]
        },
        {
          "output_type": "stream",
          "name": "stderr",
          "text": [
            "Training:  25%|██▌       | 250/1000 [01:13<03:39,  3.42it/s, loss=0.8]"
          ]
        },
        {
          "output_type": "stream",
          "name": "stdout",
          "text": [
            "Step 250: loss = 0.7999\n"
          ]
        },
        {
          "output_type": "stream",
          "name": "stderr",
          "text": [
            "Training:  30%|███       | 300/1000 [01:27<03:24,  3.42it/s, loss=0.62]"
          ]
        },
        {
          "output_type": "stream",
          "name": "stdout",
          "text": [
            "Step 300: loss = 0.6205\n"
          ]
        },
        {
          "output_type": "stream",
          "name": "stderr",
          "text": [
            "Training:  35%|███▌      | 350/1000 [01:42<03:10,  3.42it/s, loss=0.608]"
          ]
        },
        {
          "output_type": "stream",
          "name": "stdout",
          "text": [
            "Step 350: loss = 0.6080\n"
          ]
        },
        {
          "output_type": "stream",
          "name": "stderr",
          "text": [
            "Training:  40%|████      | 400/1000 [01:57<02:55,  3.42it/s, loss=0.642]"
          ]
        },
        {
          "output_type": "stream",
          "name": "stdout",
          "text": [
            "Step 400: loss = 0.6420\n"
          ]
        },
        {
          "output_type": "stream",
          "name": "stderr",
          "text": [
            "Training:  45%|████▌     | 450/1000 [02:11<02:40,  3.43it/s, loss=0.614]"
          ]
        },
        {
          "output_type": "stream",
          "name": "stdout",
          "text": [
            "Step 450: loss = 0.6143\n"
          ]
        },
        {
          "output_type": "stream",
          "name": "stderr",
          "text": [
            "Training:  50%|█████     | 500/1000 [02:26<02:26,  3.42it/s, loss=0.722]"
          ]
        },
        {
          "output_type": "stream",
          "name": "stdout",
          "text": [
            "Step 500: loss = 0.7217\n"
          ]
        },
        {
          "output_type": "stream",
          "name": "stderr",
          "text": [
            "Training:  55%|█████▌    | 550/1000 [02:40<02:11,  3.42it/s, loss=0.469]"
          ]
        },
        {
          "output_type": "stream",
          "name": "stdout",
          "text": [
            "Step 550: loss = 0.4695\n"
          ]
        },
        {
          "output_type": "stream",
          "name": "stderr",
          "text": [
            "Training:  60%|██████    | 600/1000 [02:55<01:57,  3.42it/s, loss=0.609]"
          ]
        },
        {
          "output_type": "stream",
          "name": "stdout",
          "text": [
            "Step 600: loss = 0.6088\n"
          ]
        },
        {
          "output_type": "stream",
          "name": "stderr",
          "text": [
            "Training:  65%|██████▌   | 650/1000 [03:10<01:42,  3.43it/s, loss=0.613]"
          ]
        },
        {
          "output_type": "stream",
          "name": "stdout",
          "text": [
            "Step 650: loss = 0.6131\n"
          ]
        },
        {
          "output_type": "stream",
          "name": "stderr",
          "text": [
            "Training:  70%|███████   | 700/1000 [03:24<01:27,  3.42it/s, loss=0.585]"
          ]
        },
        {
          "output_type": "stream",
          "name": "stdout",
          "text": [
            "Step 700: loss = 0.5847\n"
          ]
        },
        {
          "output_type": "stream",
          "name": "stderr",
          "text": [
            "Training:  75%|███████▌  | 750/1000 [03:39<01:13,  3.42it/s, loss=0.456]"
          ]
        },
        {
          "output_type": "stream",
          "name": "stdout",
          "text": [
            "Step 750: loss = 0.4559\n"
          ]
        },
        {
          "output_type": "stream",
          "name": "stderr",
          "text": [
            "Training:  80%|████████  | 800/1000 [03:54<00:58,  3.42it/s, loss=0.492]"
          ]
        },
        {
          "output_type": "stream",
          "name": "stdout",
          "text": [
            "Step 800: loss = 0.4921\n"
          ]
        },
        {
          "output_type": "stream",
          "name": "stderr",
          "text": [
            "Training:  85%|████████▌ | 850/1000 [04:08<00:43,  3.42it/s, loss=0.555]"
          ]
        },
        {
          "output_type": "stream",
          "name": "stdout",
          "text": [
            "Step 850: loss = 0.5555\n"
          ]
        },
        {
          "output_type": "stream",
          "name": "stderr",
          "text": [
            "Training:  90%|█████████ | 900/1000 [04:23<00:29,  3.42it/s, loss=0.482]"
          ]
        },
        {
          "output_type": "stream",
          "name": "stdout",
          "text": [
            "Step 900: loss = 0.4821\n"
          ]
        },
        {
          "output_type": "stream",
          "name": "stderr",
          "text": [
            "Training:  95%|█████████▌| 950/1000 [04:37<00:14,  3.43it/s, loss=0.482]"
          ]
        },
        {
          "output_type": "stream",
          "name": "stdout",
          "text": [
            "Step 950: loss = 0.4821\n"
          ]
        },
        {
          "output_type": "stream",
          "name": "stderr",
          "text": [
            "Training: 100%|██████████| 1000/1000 [04:52<00:00,  3.42it/s, loss=0.476]"
          ]
        },
        {
          "output_type": "stream",
          "name": "stdout",
          "text": [
            "Step 1000: loss = 0.4765\n"
          ]
        },
        {
          "output_type": "stream",
          "name": "stderr",
          "text": [
            "\n"
          ]
        },
        {
          "output_type": "display_data",
          "data": {
            "text/plain": [
              "<IPython.core.display.HTML object>"
            ],
            "text/html": []
          },
          "metadata": {}
        },
        {
          "output_type": "display_data",
          "data": {
            "text/plain": [
              "<IPython.core.display.HTML object>"
            ],
            "text/html": [
              "<br>    <style><br>        .wandb-row {<br>            display: flex;<br>            flex-direction: row;<br>            flex-wrap: wrap;<br>            justify-content: flex-start;<br>            width: 100%;<br>        }<br>        .wandb-col {<br>            display: flex;<br>            flex-direction: column;<br>            flex-basis: 100%;<br>            flex: 1;<br>            padding: 10px;<br>        }<br>    </style><br><div class=\"wandb-row\"><div class=\"wandb-col\"><h3>Run history:</h3><br/><table class=\"wandb\"><tr><td>loss</td><td>█▅▇▅▅▇▄▃▂▄▃▃▃▄▄▄▅▁▃▃▂▄▃▃▃▄▃▂▃▂▄▂▃▃▂▃▃▃▂▂</td></tr><tr><td>step</td><td>▁▁▁▁▁▂▂▂▂▃▃▃▃▃▃▄▄▄▄▅▅▅▅▅▅▅▅▆▆▆▆▆▆▆▆▇▇███</td></tr></table><br/></div><div class=\"wandb-col\"><h3>Run summary:</h3><br/><table class=\"wandb\"><tr><td>loss</td><td>0.47646</td></tr><tr><td>step</td><td>999</td></tr></table><br/></div></div>"
            ]
          },
          "metadata": {}
        },
        {
          "output_type": "display_data",
          "data": {
            "text/plain": [
              "<IPython.core.display.HTML object>"
            ],
            "text/html": [
              " View run <strong style=\"color:#cdcd00\">rank4_lr1e-05_train</strong> at: <a href='https://wandb.ai/liuyihao649-university-of-cambridge/m2-lora-grid-search/runs/7swa7j3z' target=\"_blank\">https://wandb.ai/liuyihao649-university-of-cambridge/m2-lora-grid-search/runs/7swa7j3z</a><br> View project at: <a href='https://wandb.ai/liuyihao649-university-of-cambridge/m2-lora-grid-search' target=\"_blank\">https://wandb.ai/liuyihao649-university-of-cambridge/m2-lora-grid-search</a><br>Synced 5 W&B file(s), 1 media file(s), 0 artifact file(s) and 0 other file(s)"
            ]
          },
          "metadata": {}
        },
        {
          "output_type": "display_data",
          "data": {
            "text/plain": [
              "<IPython.core.display.HTML object>"
            ],
            "text/html": [
              "Find logs at: <code>./wandb/run-20250329_232019-7swa7j3z/logs</code>"
            ]
          },
          "metadata": {}
        },
        {
          "output_type": "display_data",
          "data": {
            "text/plain": [
              "<IPython.core.display.HTML object>"
            ],
            "text/html": [
              "Tracking run with wandb version 0.19.8"
            ]
          },
          "metadata": {}
        },
        {
          "output_type": "display_data",
          "data": {
            "text/plain": [
              "<IPython.core.display.HTML object>"
            ],
            "text/html": [
              "Run data is saved locally in <code>/content/drive/MyDrive/m2cw/wandb/run-20250329_232514-dd08skgp</code>"
            ]
          },
          "metadata": {}
        },
        {
          "output_type": "display_data",
          "data": {
            "text/plain": [
              "<IPython.core.display.HTML object>"
            ],
            "text/html": [
              "Syncing run <strong><a href='https://wandb.ai/liuyihao649-university-of-cambridge/m2-lora-grid-search/runs/dd08skgp' target=\"_blank\">rank4_lr1e-05_evaluation</a></strong> to <a href='https://wandb.ai/liuyihao649-university-of-cambridge/m2-lora-grid-search' target=\"_blank\">Weights & Biases</a> (<a href='https://wandb.me/developer-guide' target=\"_blank\">docs</a>)<br>"
            ]
          },
          "metadata": {}
        },
        {
          "output_type": "display_data",
          "data": {
            "text/plain": [
              "<IPython.core.display.HTML object>"
            ],
            "text/html": [
              " View project at <a href='https://wandb.ai/liuyihao649-university-of-cambridge/m2-lora-grid-search' target=\"_blank\">https://wandb.ai/liuyihao649-university-of-cambridge/m2-lora-grid-search</a>"
            ]
          },
          "metadata": {}
        },
        {
          "output_type": "display_data",
          "data": {
            "text/plain": [
              "<IPython.core.display.HTML object>"
            ],
            "text/html": [
              " View run at <a href='https://wandb.ai/liuyihao649-university-of-cambridge/m2-lora-grid-search/runs/dd08skgp' target=\"_blank\">https://wandb.ai/liuyihao649-university-of-cambridge/m2-lora-grid-search/runs/dd08skgp</a>"
            ]
          },
          "metadata": {}
        },
        {
          "output_type": "stream",
          "name": "stderr",
          "text": [
            "\u001b[34m\u001b[1mwandb\u001b[0m: \u001b[33mWARNING\u001b[0m Tried to log to step 1 that is less than the current step 2. Steps must be monotonically increasing, so this data will be ignored. See https://wandb.me/define-metric to log data out of order.\n",
            "\u001b[34m\u001b[1mwandb\u001b[0m: \u001b[33mWARNING\u001b[0m Tried to log to step 2 that is less than the current step 4. Steps must be monotonically increasing, so this data will be ignored. See https://wandb.me/define-metric to log data out of order.\n",
            "\u001b[34m\u001b[1mwandb\u001b[0m: \u001b[33mWARNING\u001b[0m Tried to log to step 3 that is less than the current step 6. Steps must be monotonically increasing, so this data will be ignored. See https://wandb.me/define-metric to log data out of order.\n",
            "\u001b[34m\u001b[1mwandb\u001b[0m: \u001b[33mWARNING\u001b[0m Tried to log to step 4 that is less than the current step 8. Steps must be monotonically increasing, so this data will be ignored. See https://wandb.me/define-metric to log data out of order.\n",
            "\u001b[34m\u001b[1mwandb\u001b[0m: \u001b[33mWARNING\u001b[0m Tried to log to step 5 that is less than the current step 10. Steps must be monotonically increasing, so this data will be ignored. See https://wandb.me/define-metric to log data out of order.\n",
            "\u001b[34m\u001b[1mwandb\u001b[0m: \u001b[33mWARNING\u001b[0m Tried to log to step 6 that is less than the current step 12. Steps must be monotonically increasing, so this data will be ignored. See https://wandb.me/define-metric to log data out of order.\n",
            "\u001b[34m\u001b[1mwandb\u001b[0m: \u001b[33mWARNING\u001b[0m Tried to log to step 7 that is less than the current step 14. Steps must be monotonically increasing, so this data will be ignored. See https://wandb.me/define-metric to log data out of order.\n",
            "\u001b[34m\u001b[1mwandb\u001b[0m: \u001b[33mWARNING\u001b[0m Tried to log to step 8 that is less than the current step 16. Steps must be monotonically increasing, so this data will be ignored. See https://wandb.me/define-metric to log data out of order.\n"
          ]
        },
        {
          "output_type": "stream",
          "name": "stdout",
          "text": [
            "rank4,lr1e-05,evalaution results:\n",
            "Average Cross-Entropy Loss: 1.5729\n",
            "Average MSE (Forecast):  0.0341\n"
          ]
        },
        {
          "output_type": "display_data",
          "data": {
            "text/plain": [
              "<IPython.core.display.HTML object>"
            ],
            "text/html": []
          },
          "metadata": {}
        },
        {
          "output_type": "display_data",
          "data": {
            "text/plain": [
              "<IPython.core.display.HTML object>"
            ],
            "text/html": [
              "<br>    <style><br>        .wandb-row {<br>            display: flex;<br>            flex-direction: row;<br>            flex-wrap: wrap;<br>            justify-content: flex-start;<br>            width: 100%;<br>        }<br>        .wandb-col {<br>            display: flex;<br>            flex-direction: column;<br>            flex-basis: 100%;<br>            flex: 1;<br>            padding: 10px;<br>        }<br>    </style><br><div class=\"wandb-row\"><div class=\"wandb-col\"><h3>Run history:</h3><br/><table class=\"wandb\"><tr><td>avg_loss</td><td>▁</td></tr><tr><td>avg_mse</td><td>▁</td></tr></table><br/></div><div class=\"wandb-col\"><h3>Run summary:</h3><br/><table class=\"wandb\"><tr><td>avg_loss</td><td>1.57293</td></tr><tr><td>avg_mse</td><td>0.0341</td></tr></table><br/></div></div>"
            ]
          },
          "metadata": {}
        },
        {
          "output_type": "display_data",
          "data": {
            "text/plain": [
              "<IPython.core.display.HTML object>"
            ],
            "text/html": [
              " View run <strong style=\"color:#cdcd00\">rank4_lr1e-05_evaluation</strong> at: <a href='https://wandb.ai/liuyihao649-university-of-cambridge/m2-lora-grid-search/runs/dd08skgp' target=\"_blank\">https://wandb.ai/liuyihao649-university-of-cambridge/m2-lora-grid-search/runs/dd08skgp</a><br> View project at: <a href='https://wandb.ai/liuyihao649-university-of-cambridge/m2-lora-grid-search' target=\"_blank\">https://wandb.ai/liuyihao649-university-of-cambridge/m2-lora-grid-search</a><br>Synced 5 W&B file(s), 20 media file(s), 0 artifact file(s) and 0 other file(s)"
            ]
          },
          "metadata": {}
        },
        {
          "output_type": "display_data",
          "data": {
            "text/plain": [
              "<IPython.core.display.HTML object>"
            ],
            "text/html": [
              "Find logs at: <code>./wandb/run-20250329_232514-dd08skgp/logs</code>"
            ]
          },
          "metadata": {}
        },
        {
          "output_type": "display_data",
          "data": {
            "text/plain": [
              "<IPython.core.display.HTML object>"
            ],
            "text/html": [
              "Tried to log to step 9 that is less than the current step 18. Steps must be monotonically increasing, so this data will be ignored. See https://wandb.me/define-metric to log data out of order."
            ]
          },
          "metadata": {}
        },
        {
          "output_type": "display_data",
          "data": {
            "text/plain": [
              "<IPython.core.display.HTML object>"
            ],
            "text/html": [
              "Tried to log to step 10 that is less than the current step 20. Steps must be monotonically increasing, so this data will be ignored. See https://wandb.me/define-metric to log data out of order."
            ]
          },
          "metadata": {}
        },
        {
          "output_type": "display_data",
          "data": {
            "text/plain": [
              "<IPython.core.display.HTML object>"
            ],
            "text/html": [
              "Tracking run with wandb version 0.19.8"
            ]
          },
          "metadata": {}
        },
        {
          "output_type": "display_data",
          "data": {
            "text/plain": [
              "<IPython.core.display.HTML object>"
            ],
            "text/html": [
              "Run data is saved locally in <code>/content/drive/MyDrive/m2cw/wandb/run-20250329_232553-yjebi0ow</code>"
            ]
          },
          "metadata": {}
        },
        {
          "output_type": "display_data",
          "data": {
            "text/plain": [
              "<IPython.core.display.HTML object>"
            ],
            "text/html": [
              "Syncing run <strong><a href='https://wandb.ai/liuyihao649-university-of-cambridge/m2-lora-grid-search/runs/yjebi0ow' target=\"_blank\">rank4_lr5e-05_train</a></strong> to <a href='https://wandb.ai/liuyihao649-university-of-cambridge/m2-lora-grid-search' target=\"_blank\">Weights & Biases</a> (<a href='https://wandb.me/developer-guide' target=\"_blank\">docs</a>)<br>"
            ]
          },
          "metadata": {}
        },
        {
          "output_type": "display_data",
          "data": {
            "text/plain": [
              "<IPython.core.display.HTML object>"
            ],
            "text/html": [
              " View project at <a href='https://wandb.ai/liuyihao649-university-of-cambridge/m2-lora-grid-search' target=\"_blank\">https://wandb.ai/liuyihao649-university-of-cambridge/m2-lora-grid-search</a>"
            ]
          },
          "metadata": {}
        },
        {
          "output_type": "display_data",
          "data": {
            "text/plain": [
              "<IPython.core.display.HTML object>"
            ],
            "text/html": [
              " View run at <a href='https://wandb.ai/liuyihao649-university-of-cambridge/m2-lora-grid-search/runs/yjebi0ow' target=\"_blank\">https://wandb.ai/liuyihao649-university-of-cambridge/m2-lora-grid-search/runs/yjebi0ow</a>"
            ]
          },
          "metadata": {}
        },
        {
          "output_type": "stream",
          "name": "stderr",
          "text": [
            "Training:   5%|▌         | 50/1000 [00:14<04:37,  3.42it/s, loss=0.638]"
          ]
        },
        {
          "output_type": "stream",
          "name": "stdout",
          "text": [
            "Step 50: loss = 0.6381\n"
          ]
        },
        {
          "output_type": "stream",
          "name": "stderr",
          "text": [
            "Training:  10%|█         | 100/1000 [00:29<04:23,  3.42it/s, loss=0.632]"
          ]
        },
        {
          "output_type": "stream",
          "name": "stdout",
          "text": [
            "Step 100: loss = 0.6319\n"
          ]
        },
        {
          "output_type": "stream",
          "name": "stderr",
          "text": [
            "Training:  15%|█▌        | 150/1000 [00:43<04:08,  3.42it/s, loss=0.504]"
          ]
        },
        {
          "output_type": "stream",
          "name": "stdout",
          "text": [
            "Step 150: loss = 0.5037\n"
          ]
        },
        {
          "output_type": "stream",
          "name": "stderr",
          "text": [
            "Training:  20%|██        | 200/1000 [00:58<03:53,  3.42it/s, loss=0.487]"
          ]
        },
        {
          "output_type": "stream",
          "name": "stdout",
          "text": [
            "Step 200: loss = 0.4867\n"
          ]
        },
        {
          "output_type": "stream",
          "name": "stderr",
          "text": [
            "Training:  25%|██▌       | 250/1000 [01:13<03:39,  3.42it/s, loss=0.448]"
          ]
        },
        {
          "output_type": "stream",
          "name": "stdout",
          "text": [
            "Step 250: loss = 0.4478\n"
          ]
        },
        {
          "output_type": "stream",
          "name": "stderr",
          "text": [
            "Training:  30%|███       | 300/1000 [01:27<03:24,  3.42it/s, loss=0.503]"
          ]
        },
        {
          "output_type": "stream",
          "name": "stdout",
          "text": [
            "Step 300: loss = 0.5030\n"
          ]
        },
        {
          "output_type": "stream",
          "name": "stderr",
          "text": [
            "Training:  35%|███▌      | 350/1000 [01:42<03:10,  3.42it/s, loss=0.448]"
          ]
        },
        {
          "output_type": "stream",
          "name": "stdout",
          "text": [
            "Step 350: loss = 0.4476\n"
          ]
        },
        {
          "output_type": "stream",
          "name": "stderr",
          "text": [
            "Training:  40%|████      | 400/1000 [01:57<02:55,  3.42it/s, loss=0.46]"
          ]
        },
        {
          "output_type": "stream",
          "name": "stdout",
          "text": [
            "Step 400: loss = 0.4605\n"
          ]
        },
        {
          "output_type": "stream",
          "name": "stderr",
          "text": [
            "Training:  45%|████▌     | 450/1000 [02:11<02:40,  3.42it/s, loss=0.472]"
          ]
        },
        {
          "output_type": "stream",
          "name": "stdout",
          "text": [
            "Step 450: loss = 0.4717\n"
          ]
        },
        {
          "output_type": "stream",
          "name": "stderr",
          "text": [
            "Training:  50%|█████     | 500/1000 [02:26<02:26,  3.41it/s, loss=0.358]"
          ]
        },
        {
          "output_type": "stream",
          "name": "stdout",
          "text": [
            "Step 500: loss = 0.3578\n"
          ]
        },
        {
          "output_type": "stream",
          "name": "stderr",
          "text": [
            "Training:  55%|█████▌    | 550/1000 [02:41<02:11,  3.42it/s, loss=0.477]"
          ]
        },
        {
          "output_type": "stream",
          "name": "stdout",
          "text": [
            "Step 550: loss = 0.4768\n"
          ]
        },
        {
          "output_type": "stream",
          "name": "stderr",
          "text": [
            "Training:  60%|██████    | 600/1000 [02:55<01:57,  3.41it/s, loss=0.394]"
          ]
        },
        {
          "output_type": "stream",
          "name": "stdout",
          "text": [
            "Step 600: loss = 0.3944\n"
          ]
        },
        {
          "output_type": "stream",
          "name": "stderr",
          "text": [
            "Training:  65%|██████▌   | 650/1000 [03:10<01:42,  3.42it/s, loss=0.349]"
          ]
        },
        {
          "output_type": "stream",
          "name": "stdout",
          "text": [
            "Step 650: loss = 0.3490\n"
          ]
        },
        {
          "output_type": "stream",
          "name": "stderr",
          "text": [
            "Training:  70%|███████   | 700/1000 [03:24<01:27,  3.42it/s, loss=0.39]"
          ]
        },
        {
          "output_type": "stream",
          "name": "stdout",
          "text": [
            "Step 700: loss = 0.3905\n"
          ]
        },
        {
          "output_type": "stream",
          "name": "stderr",
          "text": [
            "Training:  75%|███████▌  | 750/1000 [03:39<01:13,  3.42it/s, loss=0.415]"
          ]
        },
        {
          "output_type": "stream",
          "name": "stdout",
          "text": [
            "Step 750: loss = 0.4154\n"
          ]
        },
        {
          "output_type": "stream",
          "name": "stderr",
          "text": [
            "Training:  80%|████████  | 800/1000 [03:54<00:58,  3.41it/s, loss=0.415]"
          ]
        },
        {
          "output_type": "stream",
          "name": "stdout",
          "text": [
            "Step 800: loss = 0.4145\n"
          ]
        },
        {
          "output_type": "stream",
          "name": "stderr",
          "text": [
            "Training:  85%|████████▌ | 850/1000 [04:08<00:43,  3.42it/s, loss=0.411]"
          ]
        },
        {
          "output_type": "stream",
          "name": "stdout",
          "text": [
            "Step 850: loss = 0.4113\n"
          ]
        },
        {
          "output_type": "stream",
          "name": "stderr",
          "text": [
            "Training:  90%|█████████ | 900/1000 [04:23<00:29,  3.42it/s, loss=0.39]"
          ]
        },
        {
          "output_type": "stream",
          "name": "stdout",
          "text": [
            "Step 900: loss = 0.3903\n"
          ]
        },
        {
          "output_type": "stream",
          "name": "stderr",
          "text": [
            "Training:  95%|█████████▌| 950/1000 [04:38<00:14,  3.41it/s, loss=0.361]"
          ]
        },
        {
          "output_type": "stream",
          "name": "stdout",
          "text": [
            "Step 950: loss = 0.3613\n"
          ]
        },
        {
          "output_type": "stream",
          "name": "stderr",
          "text": [
            "Training: 100%|██████████| 1000/1000 [04:52<00:00,  3.42it/s, loss=0.384]\n"
          ]
        },
        {
          "output_type": "stream",
          "name": "stdout",
          "text": [
            "Step 1000: loss = 0.3837\n"
          ]
        },
        {
          "output_type": "display_data",
          "data": {
            "text/plain": [
              "<IPython.core.display.HTML object>"
            ],
            "text/html": []
          },
          "metadata": {}
        },
        {
          "output_type": "display_data",
          "data": {
            "text/plain": [
              "<IPython.core.display.HTML object>"
            ],
            "text/html": [
              "<br>    <style><br>        .wandb-row {<br>            display: flex;<br>            flex-direction: row;<br>            flex-wrap: wrap;<br>            justify-content: flex-start;<br>            width: 100%;<br>        }<br>        .wandb-col {<br>            display: flex;<br>            flex-direction: column;<br>            flex-basis: 100%;<br>            flex: 1;<br>            padding: 10px;<br>        }<br>    </style><br><div class=\"wandb-row\"><div class=\"wandb-col\"><h3>Run history:</h3><br/><table class=\"wandb\"><tr><td>loss</td><td>█▇▄▄▃▃▃▃▃▅▃▃▂▃▃▂▃▂▁▂▂▁▃▄▄▂▁▃▃▃▁▃▁▂▂▁▂▂▂▂</td></tr><tr><td>step</td><td>▁▁▁▂▂▂▂▂▂▃▃▃▄▄▄▅▅▅▅▆▆▆▆▆▆▆▆▆▆▆▇▇▇▇▇▇▇▇▇█</td></tr></table><br/></div><div class=\"wandb-col\"><h3>Run summary:</h3><br/><table class=\"wandb\"><tr><td>loss</td><td>0.38372</td></tr><tr><td>step</td><td>999</td></tr></table><br/></div></div>"
            ]
          },
          "metadata": {}
        },
        {
          "output_type": "display_data",
          "data": {
            "text/plain": [
              "<IPython.core.display.HTML object>"
            ],
            "text/html": [
              " View run <strong style=\"color:#cdcd00\">rank4_lr5e-05_train</strong> at: <a href='https://wandb.ai/liuyihao649-university-of-cambridge/m2-lora-grid-search/runs/yjebi0ow' target=\"_blank\">https://wandb.ai/liuyihao649-university-of-cambridge/m2-lora-grid-search/runs/yjebi0ow</a><br> View project at: <a href='https://wandb.ai/liuyihao649-university-of-cambridge/m2-lora-grid-search' target=\"_blank\">https://wandb.ai/liuyihao649-university-of-cambridge/m2-lora-grid-search</a><br>Synced 5 W&B file(s), 1 media file(s), 0 artifact file(s) and 0 other file(s)"
            ]
          },
          "metadata": {}
        },
        {
          "output_type": "display_data",
          "data": {
            "text/plain": [
              "<IPython.core.display.HTML object>"
            ],
            "text/html": [
              "Find logs at: <code>./wandb/run-20250329_232553-yjebi0ow/logs</code>"
            ]
          },
          "metadata": {}
        },
        {
          "output_type": "display_data",
          "data": {
            "text/plain": [
              "<IPython.core.display.HTML object>"
            ],
            "text/html": [
              "Tracking run with wandb version 0.19.8"
            ]
          },
          "metadata": {}
        },
        {
          "output_type": "display_data",
          "data": {
            "text/plain": [
              "<IPython.core.display.HTML object>"
            ],
            "text/html": [
              "Run data is saved locally in <code>/content/drive/MyDrive/m2cw/wandb/run-20250329_233049-jn45hrqo</code>"
            ]
          },
          "metadata": {}
        },
        {
          "output_type": "display_data",
          "data": {
            "text/plain": [
              "<IPython.core.display.HTML object>"
            ],
            "text/html": [
              "Syncing run <strong><a href='https://wandb.ai/liuyihao649-university-of-cambridge/m2-lora-grid-search/runs/jn45hrqo' target=\"_blank\">rank4_lr5e-05_evaluation</a></strong> to <a href='https://wandb.ai/liuyihao649-university-of-cambridge/m2-lora-grid-search' target=\"_blank\">Weights & Biases</a> (<a href='https://wandb.me/developer-guide' target=\"_blank\">docs</a>)<br>"
            ]
          },
          "metadata": {}
        },
        {
          "output_type": "display_data",
          "data": {
            "text/plain": [
              "<IPython.core.display.HTML object>"
            ],
            "text/html": [
              " View project at <a href='https://wandb.ai/liuyihao649-university-of-cambridge/m2-lora-grid-search' target=\"_blank\">https://wandb.ai/liuyihao649-university-of-cambridge/m2-lora-grid-search</a>"
            ]
          },
          "metadata": {}
        },
        {
          "output_type": "display_data",
          "data": {
            "text/plain": [
              "<IPython.core.display.HTML object>"
            ],
            "text/html": [
              " View run at <a href='https://wandb.ai/liuyihao649-university-of-cambridge/m2-lora-grid-search/runs/jn45hrqo' target=\"_blank\">https://wandb.ai/liuyihao649-university-of-cambridge/m2-lora-grid-search/runs/jn45hrqo</a>"
            ]
          },
          "metadata": {}
        },
        {
          "output_type": "stream",
          "name": "stderr",
          "text": [
            "\u001b[34m\u001b[1mwandb\u001b[0m: \u001b[33mWARNING\u001b[0m Tried to log to step 1 that is less than the current step 2. Steps must be monotonically increasing, so this data will be ignored. See https://wandb.me/define-metric to log data out of order.\n",
            "\u001b[34m\u001b[1mwandb\u001b[0m: \u001b[33mWARNING\u001b[0m Tried to log to step 2 that is less than the current step 4. Steps must be monotonically increasing, so this data will be ignored. See https://wandb.me/define-metric to log data out of order.\n",
            "\u001b[34m\u001b[1mwandb\u001b[0m: \u001b[33mWARNING\u001b[0m Tried to log to step 3 that is less than the current step 6. Steps must be monotonically increasing, so this data will be ignored. See https://wandb.me/define-metric to log data out of order.\n",
            "\u001b[34m\u001b[1mwandb\u001b[0m: \u001b[33mWARNING\u001b[0m Tried to log to step 4 that is less than the current step 8. Steps must be monotonically increasing, so this data will be ignored. See https://wandb.me/define-metric to log data out of order.\n",
            "\u001b[34m\u001b[1mwandb\u001b[0m: \u001b[33mWARNING\u001b[0m Tried to log to step 5 that is less than the current step 10. Steps must be monotonically increasing, so this data will be ignored. See https://wandb.me/define-metric to log data out of order.\n",
            "\u001b[34m\u001b[1mwandb\u001b[0m: \u001b[33mWARNING\u001b[0m Tried to log to step 6 that is less than the current step 12. Steps must be monotonically increasing, so this data will be ignored. See https://wandb.me/define-metric to log data out of order.\n",
            "\u001b[34m\u001b[1mwandb\u001b[0m: \u001b[33mWARNING\u001b[0m Tried to log to step 7 that is less than the current step 14. Steps must be monotonically increasing, so this data will be ignored. See https://wandb.me/define-metric to log data out of order.\n"
          ]
        },
        {
          "output_type": "stream",
          "name": "stdout",
          "text": [
            "rank4,lr5e-05,evalaution results:\n",
            "Average Cross-Entropy Loss: 1.7155\n",
            "Average MSE (Forecast):  0.0291\n"
          ]
        },
        {
          "output_type": "display_data",
          "data": {
            "text/plain": [
              "<IPython.core.display.HTML object>"
            ],
            "text/html": []
          },
          "metadata": {}
        },
        {
          "output_type": "display_data",
          "data": {
            "text/plain": [
              "<IPython.core.display.HTML object>"
            ],
            "text/html": [
              "<br>    <style><br>        .wandb-row {<br>            display: flex;<br>            flex-direction: row;<br>            flex-wrap: wrap;<br>            justify-content: flex-start;<br>            width: 100%;<br>        }<br>        .wandb-col {<br>            display: flex;<br>            flex-direction: column;<br>            flex-basis: 100%;<br>            flex: 1;<br>            padding: 10px;<br>        }<br>    </style><br><div class=\"wandb-row\"><div class=\"wandb-col\"><h3>Run history:</h3><br/><table class=\"wandb\"><tr><td>avg_loss</td><td>▁</td></tr><tr><td>avg_mse</td><td>▁</td></tr></table><br/></div><div class=\"wandb-col\"><h3>Run summary:</h3><br/><table class=\"wandb\"><tr><td>avg_loss</td><td>1.7155</td></tr><tr><td>avg_mse</td><td>0.02913</td></tr></table><br/></div></div>"
            ]
          },
          "metadata": {}
        },
        {
          "output_type": "display_data",
          "data": {
            "text/plain": [
              "<IPython.core.display.HTML object>"
            ],
            "text/html": [
              " View run <strong style=\"color:#cdcd00\">rank4_lr5e-05_evaluation</strong> at: <a href='https://wandb.ai/liuyihao649-university-of-cambridge/m2-lora-grid-search/runs/jn45hrqo' target=\"_blank\">https://wandb.ai/liuyihao649-university-of-cambridge/m2-lora-grid-search/runs/jn45hrqo</a><br> View project at: <a href='https://wandb.ai/liuyihao649-university-of-cambridge/m2-lora-grid-search' target=\"_blank\">https://wandb.ai/liuyihao649-university-of-cambridge/m2-lora-grid-search</a><br>Synced 5 W&B file(s), 20 media file(s), 0 artifact file(s) and 0 other file(s)"
            ]
          },
          "metadata": {}
        },
        {
          "output_type": "display_data",
          "data": {
            "text/plain": [
              "<IPython.core.display.HTML object>"
            ],
            "text/html": [
              "Find logs at: <code>./wandb/run-20250329_233049-jn45hrqo/logs</code>"
            ]
          },
          "metadata": {}
        },
        {
          "output_type": "display_data",
          "data": {
            "text/plain": [
              "<IPython.core.display.HTML object>"
            ],
            "text/html": [
              "Tried to log to step 8 that is less than the current step 16. Steps must be monotonically increasing, so this data will be ignored. See https://wandb.me/define-metric to log data out of order."
            ]
          },
          "metadata": {}
        },
        {
          "output_type": "display_data",
          "data": {
            "text/plain": [
              "<IPython.core.display.HTML object>"
            ],
            "text/html": [
              "Tried to log to step 9 that is less than the current step 18. Steps must be monotonically increasing, so this data will be ignored. See https://wandb.me/define-metric to log data out of order."
            ]
          },
          "metadata": {}
        },
        {
          "output_type": "display_data",
          "data": {
            "text/plain": [
              "<IPython.core.display.HTML object>"
            ],
            "text/html": [
              "Tried to log to step 10 that is less than the current step 20. Steps must be monotonically increasing, so this data will be ignored. See https://wandb.me/define-metric to log data out of order."
            ]
          },
          "metadata": {}
        },
        {
          "output_type": "display_data",
          "data": {
            "text/plain": [
              "<IPython.core.display.HTML object>"
            ],
            "text/html": [
              "Tracking run with wandb version 0.19.8"
            ]
          },
          "metadata": {}
        },
        {
          "output_type": "display_data",
          "data": {
            "text/plain": [
              "<IPython.core.display.HTML object>"
            ],
            "text/html": [
              "Run data is saved locally in <code>/content/drive/MyDrive/m2cw/wandb/run-20250329_233129-urj2rj2m</code>"
            ]
          },
          "metadata": {}
        },
        {
          "output_type": "display_data",
          "data": {
            "text/plain": [
              "<IPython.core.display.HTML object>"
            ],
            "text/html": [
              "Syncing run <strong><a href='https://wandb.ai/liuyihao649-university-of-cambridge/m2-lora-grid-search/runs/urj2rj2m' target=\"_blank\">rank4_lr0.0001_train</a></strong> to <a href='https://wandb.ai/liuyihao649-university-of-cambridge/m2-lora-grid-search' target=\"_blank\">Weights & Biases</a> (<a href='https://wandb.me/developer-guide' target=\"_blank\">docs</a>)<br>"
            ]
          },
          "metadata": {}
        },
        {
          "output_type": "display_data",
          "data": {
            "text/plain": [
              "<IPython.core.display.HTML object>"
            ],
            "text/html": [
              " View project at <a href='https://wandb.ai/liuyihao649-university-of-cambridge/m2-lora-grid-search' target=\"_blank\">https://wandb.ai/liuyihao649-university-of-cambridge/m2-lora-grid-search</a>"
            ]
          },
          "metadata": {}
        },
        {
          "output_type": "display_data",
          "data": {
            "text/plain": [
              "<IPython.core.display.HTML object>"
            ],
            "text/html": [
              " View run at <a href='https://wandb.ai/liuyihao649-university-of-cambridge/m2-lora-grid-search/runs/urj2rj2m' target=\"_blank\">https://wandb.ai/liuyihao649-university-of-cambridge/m2-lora-grid-search/runs/urj2rj2m</a>"
            ]
          },
          "metadata": {}
        },
        {
          "output_type": "stream",
          "name": "stderr",
          "text": [
            "Training:   5%|▌         | 50/1000 [00:14<04:38,  3.41it/s, loss=0.547]"
          ]
        },
        {
          "output_type": "stream",
          "name": "stdout",
          "text": [
            "Step 50: loss = 0.5474\n"
          ]
        },
        {
          "output_type": "stream",
          "name": "stderr",
          "text": [
            "Training:  10%|█         | 100/1000 [00:29<04:22,  3.42it/s, loss=0.565]"
          ]
        },
        {
          "output_type": "stream",
          "name": "stdout",
          "text": [
            "Step 100: loss = 0.5647\n"
          ]
        },
        {
          "output_type": "stream",
          "name": "stderr",
          "text": [
            "Training:  15%|█▌        | 150/1000 [00:43<04:08,  3.42it/s, loss=0.493]"
          ]
        },
        {
          "output_type": "stream",
          "name": "stdout",
          "text": [
            "Step 150: loss = 0.4932\n"
          ]
        },
        {
          "output_type": "stream",
          "name": "stderr",
          "text": [
            "Training:  20%|██        | 200/1000 [00:58<03:54,  3.42it/s, loss=0.395]"
          ]
        },
        {
          "output_type": "stream",
          "name": "stdout",
          "text": [
            "Step 200: loss = 0.3949\n"
          ]
        },
        {
          "output_type": "stream",
          "name": "stderr",
          "text": [
            "Training:  25%|██▌       | 250/1000 [01:13<03:40,  3.41it/s, loss=0.507]"
          ]
        },
        {
          "output_type": "stream",
          "name": "stdout",
          "text": [
            "Step 250: loss = 0.5069\n"
          ]
        },
        {
          "output_type": "stream",
          "name": "stderr",
          "text": [
            "Training:  30%|███       | 300/1000 [01:27<03:24,  3.42it/s, loss=0.418]"
          ]
        },
        {
          "output_type": "stream",
          "name": "stdout",
          "text": [
            "Step 300: loss = 0.4182\n"
          ]
        },
        {
          "output_type": "stream",
          "name": "stderr",
          "text": [
            "Training:  35%|███▌      | 350/1000 [01:42<03:10,  3.42it/s, loss=0.379]"
          ]
        },
        {
          "output_type": "stream",
          "name": "stdout",
          "text": [
            "Step 350: loss = 0.3788\n"
          ]
        },
        {
          "output_type": "stream",
          "name": "stderr",
          "text": [
            "Training:  40%|████      | 400/1000 [01:57<02:55,  3.42it/s, loss=0.365]"
          ]
        },
        {
          "output_type": "stream",
          "name": "stdout",
          "text": [
            "Step 400: loss = 0.3654\n"
          ]
        },
        {
          "output_type": "stream",
          "name": "stderr",
          "text": [
            "Training:  45%|████▌     | 450/1000 [02:11<02:41,  3.41it/s, loss=0.379]"
          ]
        },
        {
          "output_type": "stream",
          "name": "stdout",
          "text": [
            "Step 450: loss = 0.3788\n"
          ]
        },
        {
          "output_type": "stream",
          "name": "stderr",
          "text": [
            "Training:  50%|█████     | 500/1000 [02:26<02:26,  3.42it/s, loss=0.349]"
          ]
        },
        {
          "output_type": "stream",
          "name": "stdout",
          "text": [
            "Step 500: loss = 0.3494\n"
          ]
        },
        {
          "output_type": "stream",
          "name": "stderr",
          "text": [
            "Training:  55%|█████▌    | 550/1000 [02:41<02:11,  3.41it/s, loss=0.474]"
          ]
        },
        {
          "output_type": "stream",
          "name": "stdout",
          "text": [
            "Step 550: loss = 0.4744\n"
          ]
        },
        {
          "output_type": "stream",
          "name": "stderr",
          "text": [
            "Training:  60%|██████    | 600/1000 [02:55<01:57,  3.41it/s, loss=0.341]"
          ]
        },
        {
          "output_type": "stream",
          "name": "stdout",
          "text": [
            "Step 600: loss = 0.3413\n"
          ]
        },
        {
          "output_type": "stream",
          "name": "stderr",
          "text": [
            "Training:  65%|██████▌   | 650/1000 [03:10<01:42,  3.41it/s, loss=0.387]"
          ]
        },
        {
          "output_type": "stream",
          "name": "stdout",
          "text": [
            "Step 650: loss = 0.3875\n"
          ]
        },
        {
          "output_type": "stream",
          "name": "stderr",
          "text": [
            "Training:  70%|███████   | 700/1000 [03:25<01:27,  3.41it/s, loss=0.306]"
          ]
        },
        {
          "output_type": "stream",
          "name": "stdout",
          "text": [
            "Step 700: loss = 0.3060\n"
          ]
        },
        {
          "output_type": "stream",
          "name": "stderr",
          "text": [
            "Training:  75%|███████▌  | 750/1000 [03:39<01:13,  3.42it/s, loss=0.335]"
          ]
        },
        {
          "output_type": "stream",
          "name": "stdout",
          "text": [
            "Step 750: loss = 0.3354\n"
          ]
        },
        {
          "output_type": "stream",
          "name": "stderr",
          "text": [
            "Training:  80%|████████  | 800/1000 [03:54<00:58,  3.41it/s, loss=0.285]"
          ]
        },
        {
          "output_type": "stream",
          "name": "stdout",
          "text": [
            "Step 800: loss = 0.2846\n"
          ]
        },
        {
          "output_type": "stream",
          "name": "stderr",
          "text": [
            "Training:  85%|████████▌ | 850/1000 [04:09<00:43,  3.42it/s, loss=0.301]"
          ]
        },
        {
          "output_type": "stream",
          "name": "stdout",
          "text": [
            "Step 850: loss = 0.3009\n"
          ]
        },
        {
          "output_type": "stream",
          "name": "stderr",
          "text": [
            "Training:  90%|█████████ | 900/1000 [04:23<00:29,  3.42it/s, loss=0.353]"
          ]
        },
        {
          "output_type": "stream",
          "name": "stdout",
          "text": [
            "Step 900: loss = 0.3532\n"
          ]
        },
        {
          "output_type": "stream",
          "name": "stderr",
          "text": [
            "Training:  95%|█████████▌| 950/1000 [04:38<00:14,  3.42it/s, loss=0.371]"
          ]
        },
        {
          "output_type": "stream",
          "name": "stdout",
          "text": [
            "Step 950: loss = 0.3706\n"
          ]
        },
        {
          "output_type": "stream",
          "name": "stderr",
          "text": [
            "Training: 100%|██████████| 1000/1000 [04:52<00:00,  3.41it/s, loss=0.336]\n"
          ]
        },
        {
          "output_type": "stream",
          "name": "stdout",
          "text": [
            "Step 1000: loss = 0.3358\n"
          ]
        },
        {
          "output_type": "display_data",
          "data": {
            "text/plain": [
              "<IPython.core.display.HTML object>"
            ],
            "text/html": []
          },
          "metadata": {}
        },
        {
          "output_type": "display_data",
          "data": {
            "text/plain": [
              "<IPython.core.display.HTML object>"
            ],
            "text/html": [
              "<br>    <style><br>        .wandb-row {<br>            display: flex;<br>            flex-direction: row;<br>            flex-wrap: wrap;<br>            justify-content: flex-start;<br>            width: 100%;<br>        }<br>        .wandb-col {<br>            display: flex;<br>            flex-direction: column;<br>            flex-basis: 100%;<br>            flex: 1;<br>            padding: 10px;<br>        }<br>    </style><br><div class=\"wandb-row\"><div class=\"wandb-col\"><h3>Run history:</h3><br/><table class=\"wandb\"><tr><td>loss</td><td>█▄▄▅▃▄▂▃▁▃▂▂▂▃▄▃▄▂▃▁▂▂▂▂▂▂▂▁▃▁▃▂▂▂▁▂▂▁▂▂</td></tr><tr><td>step</td><td>▁▁▁▁▁▁▂▂▂▃▃▃▃▃▃▄▄▄▄▅▅▅▅▅▅▆▆▆▆▆▇▇▇▇▇█████</td></tr></table><br/></div><div class=\"wandb-col\"><h3>Run summary:</h3><br/><table class=\"wandb\"><tr><td>loss</td><td>0.33577</td></tr><tr><td>step</td><td>999</td></tr></table><br/></div></div>"
            ]
          },
          "metadata": {}
        },
        {
          "output_type": "display_data",
          "data": {
            "text/plain": [
              "<IPython.core.display.HTML object>"
            ],
            "text/html": [
              " View run <strong style=\"color:#cdcd00\">rank4_lr0.0001_train</strong> at: <a href='https://wandb.ai/liuyihao649-university-of-cambridge/m2-lora-grid-search/runs/urj2rj2m' target=\"_blank\">https://wandb.ai/liuyihao649-university-of-cambridge/m2-lora-grid-search/runs/urj2rj2m</a><br> View project at: <a href='https://wandb.ai/liuyihao649-university-of-cambridge/m2-lora-grid-search' target=\"_blank\">https://wandb.ai/liuyihao649-university-of-cambridge/m2-lora-grid-search</a><br>Synced 5 W&B file(s), 1 media file(s), 0 artifact file(s) and 0 other file(s)"
            ]
          },
          "metadata": {}
        },
        {
          "output_type": "display_data",
          "data": {
            "text/plain": [
              "<IPython.core.display.HTML object>"
            ],
            "text/html": [
              "Find logs at: <code>./wandb/run-20250329_233129-urj2rj2m/logs</code>"
            ]
          },
          "metadata": {}
        },
        {
          "output_type": "display_data",
          "data": {
            "text/plain": [
              "<IPython.core.display.HTML object>"
            ],
            "text/html": [
              "Tracking run with wandb version 0.19.8"
            ]
          },
          "metadata": {}
        },
        {
          "output_type": "display_data",
          "data": {
            "text/plain": [
              "<IPython.core.display.HTML object>"
            ],
            "text/html": [
              "Run data is saved locally in <code>/content/drive/MyDrive/m2cw/wandb/run-20250329_233624-aq9fhxn3</code>"
            ]
          },
          "metadata": {}
        },
        {
          "output_type": "display_data",
          "data": {
            "text/plain": [
              "<IPython.core.display.HTML object>"
            ],
            "text/html": [
              "Syncing run <strong><a href='https://wandb.ai/liuyihao649-university-of-cambridge/m2-lora-grid-search/runs/aq9fhxn3' target=\"_blank\">rank4_lr0.0001_evaluation</a></strong> to <a href='https://wandb.ai/liuyihao649-university-of-cambridge/m2-lora-grid-search' target=\"_blank\">Weights & Biases</a> (<a href='https://wandb.me/developer-guide' target=\"_blank\">docs</a>)<br>"
            ]
          },
          "metadata": {}
        },
        {
          "output_type": "display_data",
          "data": {
            "text/plain": [
              "<IPython.core.display.HTML object>"
            ],
            "text/html": [
              " View project at <a href='https://wandb.ai/liuyihao649-university-of-cambridge/m2-lora-grid-search' target=\"_blank\">https://wandb.ai/liuyihao649-university-of-cambridge/m2-lora-grid-search</a>"
            ]
          },
          "metadata": {}
        },
        {
          "output_type": "display_data",
          "data": {
            "text/plain": [
              "<IPython.core.display.HTML object>"
            ],
            "text/html": [
              " View run at <a href='https://wandb.ai/liuyihao649-university-of-cambridge/m2-lora-grid-search/runs/aq9fhxn3' target=\"_blank\">https://wandb.ai/liuyihao649-university-of-cambridge/m2-lora-grid-search/runs/aq9fhxn3</a>"
            ]
          },
          "metadata": {}
        },
        {
          "output_type": "stream",
          "name": "stderr",
          "text": [
            "\u001b[34m\u001b[1mwandb\u001b[0m: \u001b[33mWARNING\u001b[0m Tried to log to step 1 that is less than the current step 2. Steps must be monotonically increasing, so this data will be ignored. See https://wandb.me/define-metric to log data out of order.\n",
            "\u001b[34m\u001b[1mwandb\u001b[0m: \u001b[33mWARNING\u001b[0m Tried to log to step 2 that is less than the current step 4. Steps must be monotonically increasing, so this data will be ignored. See https://wandb.me/define-metric to log data out of order.\n",
            "\u001b[34m\u001b[1mwandb\u001b[0m: \u001b[33mWARNING\u001b[0m Tried to log to step 3 that is less than the current step 6. Steps must be monotonically increasing, so this data will be ignored. See https://wandb.me/define-metric to log data out of order.\n",
            "\u001b[34m\u001b[1mwandb\u001b[0m: \u001b[33mWARNING\u001b[0m Tried to log to step 4 that is less than the current step 8. Steps must be monotonically increasing, so this data will be ignored. See https://wandb.me/define-metric to log data out of order.\n",
            "\u001b[34m\u001b[1mwandb\u001b[0m: \u001b[33mWARNING\u001b[0m Tried to log to step 5 that is less than the current step 10. Steps must be monotonically increasing, so this data will be ignored. See https://wandb.me/define-metric to log data out of order.\n",
            "\u001b[34m\u001b[1mwandb\u001b[0m: \u001b[33mWARNING\u001b[0m Tried to log to step 6 that is less than the current step 12. Steps must be monotonically increasing, so this data will be ignored. See https://wandb.me/define-metric to log data out of order.\n",
            "\u001b[34m\u001b[1mwandb\u001b[0m: \u001b[33mWARNING\u001b[0m Tried to log to step 7 that is less than the current step 14. Steps must be monotonically increasing, so this data will be ignored. See https://wandb.me/define-metric to log data out of order.\n",
            "\u001b[34m\u001b[1mwandb\u001b[0m: \u001b[33mWARNING\u001b[0m Tried to log to step 8 that is less than the current step 16. Steps must be monotonically increasing, so this data will be ignored. See https://wandb.me/define-metric to log data out of order.\n"
          ]
        },
        {
          "output_type": "stream",
          "name": "stdout",
          "text": [
            "rank4,lr0.0001,evalaution results:\n",
            "Average Cross-Entropy Loss: 1.9171\n",
            "Average MSE (Forecast):  0.0307\n"
          ]
        },
        {
          "output_type": "display_data",
          "data": {
            "text/plain": [
              "<IPython.core.display.HTML object>"
            ],
            "text/html": []
          },
          "metadata": {}
        },
        {
          "output_type": "display_data",
          "data": {
            "text/plain": [
              "<IPython.core.display.HTML object>"
            ],
            "text/html": [
              "<br>    <style><br>        .wandb-row {<br>            display: flex;<br>            flex-direction: row;<br>            flex-wrap: wrap;<br>            justify-content: flex-start;<br>            width: 100%;<br>        }<br>        .wandb-col {<br>            display: flex;<br>            flex-direction: column;<br>            flex-basis: 100%;<br>            flex: 1;<br>            padding: 10px;<br>        }<br>    </style><br><div class=\"wandb-row\"><div class=\"wandb-col\"><h3>Run history:</h3><br/><table class=\"wandb\"><tr><td>avg_loss</td><td>▁</td></tr><tr><td>avg_mse</td><td>▁</td></tr></table><br/></div><div class=\"wandb-col\"><h3>Run summary:</h3><br/><table class=\"wandb\"><tr><td>avg_loss</td><td>1.91709</td></tr><tr><td>avg_mse</td><td>0.03066</td></tr></table><br/></div></div>"
            ]
          },
          "metadata": {}
        },
        {
          "output_type": "display_data",
          "data": {
            "text/plain": [
              "<IPython.core.display.HTML object>"
            ],
            "text/html": [
              " View run <strong style=\"color:#cdcd00\">rank4_lr0.0001_evaluation</strong> at: <a href='https://wandb.ai/liuyihao649-university-of-cambridge/m2-lora-grid-search/runs/aq9fhxn3' target=\"_blank\">https://wandb.ai/liuyihao649-university-of-cambridge/m2-lora-grid-search/runs/aq9fhxn3</a><br> View project at: <a href='https://wandb.ai/liuyihao649-university-of-cambridge/m2-lora-grid-search' target=\"_blank\">https://wandb.ai/liuyihao649-university-of-cambridge/m2-lora-grid-search</a><br>Synced 5 W&B file(s), 20 media file(s), 0 artifact file(s) and 0 other file(s)"
            ]
          },
          "metadata": {}
        },
        {
          "output_type": "display_data",
          "data": {
            "text/plain": [
              "<IPython.core.display.HTML object>"
            ],
            "text/html": [
              "Find logs at: <code>./wandb/run-20250329_233624-aq9fhxn3/logs</code>"
            ]
          },
          "metadata": {}
        },
        {
          "output_type": "display_data",
          "data": {
            "text/plain": [
              "<IPython.core.display.HTML object>"
            ],
            "text/html": [
              "Tried to log to step 9 that is less than the current step 18. Steps must be monotonically increasing, so this data will be ignored. See https://wandb.me/define-metric to log data out of order."
            ]
          },
          "metadata": {}
        },
        {
          "output_type": "display_data",
          "data": {
            "text/plain": [
              "<IPython.core.display.HTML object>"
            ],
            "text/html": [
              "Tried to log to step 10 that is less than the current step 20. Steps must be monotonically increasing, so this data will be ignored. See https://wandb.me/define-metric to log data out of order."
            ]
          },
          "metadata": {}
        },
        {
          "output_type": "display_data",
          "data": {
            "text/plain": [
              "<IPython.core.display.HTML object>"
            ],
            "text/html": [
              "Tracking run with wandb version 0.19.8"
            ]
          },
          "metadata": {}
        },
        {
          "output_type": "display_data",
          "data": {
            "text/plain": [
              "<IPython.core.display.HTML object>"
            ],
            "text/html": [
              "Run data is saved locally in <code>/content/drive/MyDrive/m2cw/wandb/run-20250329_233703-8uvz0b6e</code>"
            ]
          },
          "metadata": {}
        },
        {
          "output_type": "display_data",
          "data": {
            "text/plain": [
              "<IPython.core.display.HTML object>"
            ],
            "text/html": [
              "Syncing run <strong><a href='https://wandb.ai/liuyihao649-university-of-cambridge/m2-lora-grid-search/runs/8uvz0b6e' target=\"_blank\">rank8_lr1e-05_train</a></strong> to <a href='https://wandb.ai/liuyihao649-university-of-cambridge/m2-lora-grid-search' target=\"_blank\">Weights & Biases</a> (<a href='https://wandb.me/developer-guide' target=\"_blank\">docs</a>)<br>"
            ]
          },
          "metadata": {}
        },
        {
          "output_type": "display_data",
          "data": {
            "text/plain": [
              "<IPython.core.display.HTML object>"
            ],
            "text/html": [
              " View project at <a href='https://wandb.ai/liuyihao649-university-of-cambridge/m2-lora-grid-search' target=\"_blank\">https://wandb.ai/liuyihao649-university-of-cambridge/m2-lora-grid-search</a>"
            ]
          },
          "metadata": {}
        },
        {
          "output_type": "display_data",
          "data": {
            "text/plain": [
              "<IPython.core.display.HTML object>"
            ],
            "text/html": [
              " View run at <a href='https://wandb.ai/liuyihao649-university-of-cambridge/m2-lora-grid-search/runs/8uvz0b6e' target=\"_blank\">https://wandb.ai/liuyihao649-university-of-cambridge/m2-lora-grid-search/runs/8uvz0b6e</a>"
            ]
          },
          "metadata": {}
        },
        {
          "output_type": "stream",
          "name": "stderr",
          "text": [
            "Training:   5%|▌         | 50/1000 [00:14<04:38,  3.42it/s, loss=0.725]"
          ]
        },
        {
          "output_type": "stream",
          "name": "stdout",
          "text": [
            "Step 50: loss = 0.7255\n"
          ]
        },
        {
          "output_type": "stream",
          "name": "stderr",
          "text": [
            "Training:  10%|█         | 100/1000 [00:29<04:23,  3.41it/s, loss=0.729]"
          ]
        },
        {
          "output_type": "stream",
          "name": "stdout",
          "text": [
            "Step 100: loss = 0.7289\n"
          ]
        },
        {
          "output_type": "stream",
          "name": "stderr",
          "text": [
            "Training:  15%|█▌        | 150/1000 [00:43<04:08,  3.42it/s, loss=0.626]"
          ]
        },
        {
          "output_type": "stream",
          "name": "stdout",
          "text": [
            "Step 150: loss = 0.6261\n"
          ]
        },
        {
          "output_type": "stream",
          "name": "stderr",
          "text": [
            "Training:  20%|██        | 200/1000 [00:58<03:54,  3.42it/s, loss=0.628]"
          ]
        },
        {
          "output_type": "stream",
          "name": "stdout",
          "text": [
            "Step 200: loss = 0.6280\n"
          ]
        },
        {
          "output_type": "stream",
          "name": "stderr",
          "text": [
            "Training:  25%|██▌       | 250/1000 [01:13<03:39,  3.41it/s, loss=0.741]"
          ]
        },
        {
          "output_type": "stream",
          "name": "stdout",
          "text": [
            "Step 250: loss = 0.7407\n"
          ]
        },
        {
          "output_type": "stream",
          "name": "stderr",
          "text": [
            "Training:  30%|███       | 300/1000 [01:27<03:24,  3.42it/s, loss=0.484]"
          ]
        },
        {
          "output_type": "stream",
          "name": "stdout",
          "text": [
            "Step 300: loss = 0.4842\n"
          ]
        },
        {
          "output_type": "stream",
          "name": "stderr",
          "text": [
            "Training:  35%|███▌      | 350/1000 [01:42<03:10,  3.42it/s, loss=0.702]"
          ]
        },
        {
          "output_type": "stream",
          "name": "stdout",
          "text": [
            "Step 350: loss = 0.7025\n"
          ]
        },
        {
          "output_type": "stream",
          "name": "stderr",
          "text": [
            "Training:  40%|████      | 400/1000 [01:57<02:56,  3.41it/s, loss=0.559]"
          ]
        },
        {
          "output_type": "stream",
          "name": "stdout",
          "text": [
            "Step 400: loss = 0.5590\n"
          ]
        },
        {
          "output_type": "stream",
          "name": "stderr",
          "text": [
            "Training:  45%|████▌     | 450/1000 [02:11<02:40,  3.42it/s, loss=0.505]"
          ]
        },
        {
          "output_type": "stream",
          "name": "stdout",
          "text": [
            "Step 450: loss = 0.5053\n"
          ]
        },
        {
          "output_type": "stream",
          "name": "stderr",
          "text": [
            "Training:  50%|█████     | 500/1000 [02:26<02:26,  3.42it/s, loss=0.662]"
          ]
        },
        {
          "output_type": "stream",
          "name": "stdout",
          "text": [
            "Step 500: loss = 0.6615\n"
          ]
        },
        {
          "output_type": "stream",
          "name": "stderr",
          "text": [
            "Training:  55%|█████▌    | 550/1000 [02:41<02:11,  3.41it/s, loss=0.575]"
          ]
        },
        {
          "output_type": "stream",
          "name": "stdout",
          "text": [
            "Step 550: loss = 0.5751\n"
          ]
        },
        {
          "output_type": "stream",
          "name": "stderr",
          "text": [
            "Training:  60%|██████    | 600/1000 [02:55<01:56,  3.42it/s, loss=0.47]"
          ]
        },
        {
          "output_type": "stream",
          "name": "stdout",
          "text": [
            "Step 600: loss = 0.4698\n"
          ]
        },
        {
          "output_type": "stream",
          "name": "stderr",
          "text": [
            "Training:  65%|██████▌   | 650/1000 [03:10<01:42,  3.42it/s, loss=0.522]"
          ]
        },
        {
          "output_type": "stream",
          "name": "stdout",
          "text": [
            "Step 650: loss = 0.5215\n"
          ]
        },
        {
          "output_type": "stream",
          "name": "stderr",
          "text": [
            "Training:  70%|███████   | 700/1000 [03:24<01:27,  3.41it/s, loss=0.497]"
          ]
        },
        {
          "output_type": "stream",
          "name": "stdout",
          "text": [
            "Step 700: loss = 0.4969\n"
          ]
        },
        {
          "output_type": "stream",
          "name": "stderr",
          "text": [
            "Training:  75%|███████▌  | 750/1000 [03:39<01:13,  3.42it/s, loss=0.451]"
          ]
        },
        {
          "output_type": "stream",
          "name": "stdout",
          "text": [
            "Step 750: loss = 0.4506\n"
          ]
        },
        {
          "output_type": "stream",
          "name": "stderr",
          "text": [
            "Training:  80%|████████  | 800/1000 [03:54<00:58,  3.42it/s, loss=0.576]"
          ]
        },
        {
          "output_type": "stream",
          "name": "stdout",
          "text": [
            "Step 800: loss = 0.5762\n"
          ]
        },
        {
          "output_type": "stream",
          "name": "stderr",
          "text": [
            "Training:  85%|████████▌ | 850/1000 [04:08<00:43,  3.42it/s, loss=0.522]"
          ]
        },
        {
          "output_type": "stream",
          "name": "stdout",
          "text": [
            "Step 850: loss = 0.5223\n"
          ]
        },
        {
          "output_type": "stream",
          "name": "stderr",
          "text": [
            "Training:  90%|█████████ | 900/1000 [04:23<00:29,  3.42it/s, loss=0.458]"
          ]
        },
        {
          "output_type": "stream",
          "name": "stdout",
          "text": [
            "Step 900: loss = 0.4578\n"
          ]
        },
        {
          "output_type": "stream",
          "name": "stderr",
          "text": [
            "Training:  95%|█████████▌| 950/1000 [04:38<00:14,  3.42it/s, loss=0.471]"
          ]
        },
        {
          "output_type": "stream",
          "name": "stdout",
          "text": [
            "Step 950: loss = 0.4714\n"
          ]
        },
        {
          "output_type": "stream",
          "name": "stderr",
          "text": [
            "Training: 100%|██████████| 1000/1000 [04:52<00:00,  3.42it/s, loss=0.481]\n"
          ]
        },
        {
          "output_type": "stream",
          "name": "stdout",
          "text": [
            "Step 1000: loss = 0.4811\n"
          ]
        },
        {
          "output_type": "display_data",
          "data": {
            "text/plain": [
              "<IPython.core.display.HTML object>"
            ],
            "text/html": []
          },
          "metadata": {}
        },
        {
          "output_type": "display_data",
          "data": {
            "text/plain": [
              "<IPython.core.display.HTML object>"
            ],
            "text/html": [
              "<br>    <style><br>        .wandb-row {<br>            display: flex;<br>            flex-direction: row;<br>            flex-wrap: wrap;<br>            justify-content: flex-start;<br>            width: 100%;<br>        }<br>        .wandb-col {<br>            display: flex;<br>            flex-direction: column;<br>            flex-basis: 100%;<br>            flex: 1;<br>            padding: 10px;<br>        }<br>    </style><br><div class=\"wandb-row\"><div class=\"wandb-col\"><h3>Run history:</h3><br/><table class=\"wandb\"><tr><td>loss</td><td>▅▇▇▆█▆▆▄▆▆▆▅▅▅▆▃▄▄▅▂▃▅▃▂▄▂▂▄▄▃▄▃▁▃▄▃▄▁▃▂</td></tr><tr><td>step</td><td>▁▁▂▂▂▂▂▂▂▂▂▃▃▃▃▃▃▄▅▅▅▅▅▅▅▅▅▆▆▆▆▆▆▇▇█████</td></tr></table><br/></div><div class=\"wandb-col\"><h3>Run summary:</h3><br/><table class=\"wandb\"><tr><td>loss</td><td>0.48109</td></tr><tr><td>step</td><td>999</td></tr></table><br/></div></div>"
            ]
          },
          "metadata": {}
        },
        {
          "output_type": "display_data",
          "data": {
            "text/plain": [
              "<IPython.core.display.HTML object>"
            ],
            "text/html": [
              " View run <strong style=\"color:#cdcd00\">rank8_lr1e-05_train</strong> at: <a href='https://wandb.ai/liuyihao649-university-of-cambridge/m2-lora-grid-search/runs/8uvz0b6e' target=\"_blank\">https://wandb.ai/liuyihao649-university-of-cambridge/m2-lora-grid-search/runs/8uvz0b6e</a><br> View project at: <a href='https://wandb.ai/liuyihao649-university-of-cambridge/m2-lora-grid-search' target=\"_blank\">https://wandb.ai/liuyihao649-university-of-cambridge/m2-lora-grid-search</a><br>Synced 5 W&B file(s), 1 media file(s), 0 artifact file(s) and 0 other file(s)"
            ]
          },
          "metadata": {}
        },
        {
          "output_type": "display_data",
          "data": {
            "text/plain": [
              "<IPython.core.display.HTML object>"
            ],
            "text/html": [
              "Find logs at: <code>./wandb/run-20250329_233703-8uvz0b6e/logs</code>"
            ]
          },
          "metadata": {}
        },
        {
          "output_type": "display_data",
          "data": {
            "text/plain": [
              "<IPython.core.display.HTML object>"
            ],
            "text/html": [
              "Tracking run with wandb version 0.19.8"
            ]
          },
          "metadata": {}
        },
        {
          "output_type": "display_data",
          "data": {
            "text/plain": [
              "<IPython.core.display.HTML object>"
            ],
            "text/html": [
              "Run data is saved locally in <code>/content/drive/MyDrive/m2cw/wandb/run-20250329_234159-cttdxo4r</code>"
            ]
          },
          "metadata": {}
        },
        {
          "output_type": "display_data",
          "data": {
            "text/plain": [
              "<IPython.core.display.HTML object>"
            ],
            "text/html": [
              "Syncing run <strong><a href='https://wandb.ai/liuyihao649-university-of-cambridge/m2-lora-grid-search/runs/cttdxo4r' target=\"_blank\">rank8_lr1e-05_evaluation</a></strong> to <a href='https://wandb.ai/liuyihao649-university-of-cambridge/m2-lora-grid-search' target=\"_blank\">Weights & Biases</a> (<a href='https://wandb.me/developer-guide' target=\"_blank\">docs</a>)<br>"
            ]
          },
          "metadata": {}
        },
        {
          "output_type": "display_data",
          "data": {
            "text/plain": [
              "<IPython.core.display.HTML object>"
            ],
            "text/html": [
              " View project at <a href='https://wandb.ai/liuyihao649-university-of-cambridge/m2-lora-grid-search' target=\"_blank\">https://wandb.ai/liuyihao649-university-of-cambridge/m2-lora-grid-search</a>"
            ]
          },
          "metadata": {}
        },
        {
          "output_type": "display_data",
          "data": {
            "text/plain": [
              "<IPython.core.display.HTML object>"
            ],
            "text/html": [
              " View run at <a href='https://wandb.ai/liuyihao649-university-of-cambridge/m2-lora-grid-search/runs/cttdxo4r' target=\"_blank\">https://wandb.ai/liuyihao649-university-of-cambridge/m2-lora-grid-search/runs/cttdxo4r</a>"
            ]
          },
          "metadata": {}
        },
        {
          "output_type": "stream",
          "name": "stderr",
          "text": [
            "\u001b[34m\u001b[1mwandb\u001b[0m: \u001b[33mWARNING\u001b[0m Tried to log to step 1 that is less than the current step 2. Steps must be monotonically increasing, so this data will be ignored. See https://wandb.me/define-metric to log data out of order.\n",
            "\u001b[34m\u001b[1mwandb\u001b[0m: \u001b[33mWARNING\u001b[0m Tried to log to step 2 that is less than the current step 4. Steps must be monotonically increasing, so this data will be ignored. See https://wandb.me/define-metric to log data out of order.\n",
            "\u001b[34m\u001b[1mwandb\u001b[0m: \u001b[33mWARNING\u001b[0m Tried to log to step 3 that is less than the current step 6. Steps must be monotonically increasing, so this data will be ignored. See https://wandb.me/define-metric to log data out of order.\n",
            "\u001b[34m\u001b[1mwandb\u001b[0m: \u001b[33mWARNING\u001b[0m Tried to log to step 4 that is less than the current step 8. Steps must be monotonically increasing, so this data will be ignored. See https://wandb.me/define-metric to log data out of order.\n",
            "\u001b[34m\u001b[1mwandb\u001b[0m: \u001b[33mWARNING\u001b[0m Tried to log to step 5 that is less than the current step 10. Steps must be monotonically increasing, so this data will be ignored. See https://wandb.me/define-metric to log data out of order.\n",
            "\u001b[34m\u001b[1mwandb\u001b[0m: \u001b[33mWARNING\u001b[0m Tried to log to step 6 that is less than the current step 12. Steps must be monotonically increasing, so this data will be ignored. See https://wandb.me/define-metric to log data out of order.\n",
            "\u001b[34m\u001b[1mwandb\u001b[0m: \u001b[33mWARNING\u001b[0m Tried to log to step 7 that is less than the current step 14. Steps must be monotonically increasing, so this data will be ignored. See https://wandb.me/define-metric to log data out of order.\n",
            "\u001b[34m\u001b[1mwandb\u001b[0m: \u001b[33mWARNING\u001b[0m Tried to log to step 8 that is less than the current step 16. Steps must be monotonically increasing, so this data will be ignored. See https://wandb.me/define-metric to log data out of order.\n"
          ]
        },
        {
          "output_type": "stream",
          "name": "stdout",
          "text": [
            "rank8,lr1e-05,evalaution results:\n",
            "Average Cross-Entropy Loss: 1.5719\n",
            "Average MSE (Forecast):  0.0324\n"
          ]
        },
        {
          "output_type": "display_data",
          "data": {
            "text/plain": [
              "<IPython.core.display.HTML object>"
            ],
            "text/html": []
          },
          "metadata": {}
        },
        {
          "output_type": "display_data",
          "data": {
            "text/plain": [
              "<IPython.core.display.HTML object>"
            ],
            "text/html": [
              "<br>    <style><br>        .wandb-row {<br>            display: flex;<br>            flex-direction: row;<br>            flex-wrap: wrap;<br>            justify-content: flex-start;<br>            width: 100%;<br>        }<br>        .wandb-col {<br>            display: flex;<br>            flex-direction: column;<br>            flex-basis: 100%;<br>            flex: 1;<br>            padding: 10px;<br>        }<br>    </style><br><div class=\"wandb-row\"><div class=\"wandb-col\"><h3>Run history:</h3><br/><table class=\"wandb\"><tr><td>avg_loss</td><td>▁</td></tr><tr><td>avg_mse</td><td>▁</td></tr></table><br/></div><div class=\"wandb-col\"><h3>Run summary:</h3><br/><table class=\"wandb\"><tr><td>avg_loss</td><td>1.57191</td></tr><tr><td>avg_mse</td><td>0.03237</td></tr></table><br/></div></div>"
            ]
          },
          "metadata": {}
        },
        {
          "output_type": "display_data",
          "data": {
            "text/plain": [
              "<IPython.core.display.HTML object>"
            ],
            "text/html": [
              " View run <strong style=\"color:#cdcd00\">rank8_lr1e-05_evaluation</strong> at: <a href='https://wandb.ai/liuyihao649-university-of-cambridge/m2-lora-grid-search/runs/cttdxo4r' target=\"_blank\">https://wandb.ai/liuyihao649-university-of-cambridge/m2-lora-grid-search/runs/cttdxo4r</a><br> View project at: <a href='https://wandb.ai/liuyihao649-university-of-cambridge/m2-lora-grid-search' target=\"_blank\">https://wandb.ai/liuyihao649-university-of-cambridge/m2-lora-grid-search</a><br>Synced 5 W&B file(s), 20 media file(s), 0 artifact file(s) and 0 other file(s)"
            ]
          },
          "metadata": {}
        },
        {
          "output_type": "display_data",
          "data": {
            "text/plain": [
              "<IPython.core.display.HTML object>"
            ],
            "text/html": [
              "Find logs at: <code>./wandb/run-20250329_234159-cttdxo4r/logs</code>"
            ]
          },
          "metadata": {}
        },
        {
          "output_type": "display_data",
          "data": {
            "text/plain": [
              "<IPython.core.display.HTML object>"
            ],
            "text/html": [
              "Tried to log to step 9 that is less than the current step 18. Steps must be monotonically increasing, so this data will be ignored. See https://wandb.me/define-metric to log data out of order."
            ]
          },
          "metadata": {}
        },
        {
          "output_type": "display_data",
          "data": {
            "text/plain": [
              "<IPython.core.display.HTML object>"
            ],
            "text/html": [
              "Tried to log to step 10 that is less than the current step 20. Steps must be monotonically increasing, so this data will be ignored. See https://wandb.me/define-metric to log data out of order."
            ]
          },
          "metadata": {}
        },
        {
          "output_type": "display_data",
          "data": {
            "text/plain": [
              "<IPython.core.display.HTML object>"
            ],
            "text/html": [
              "Tracking run with wandb version 0.19.8"
            ]
          },
          "metadata": {}
        },
        {
          "output_type": "display_data",
          "data": {
            "text/plain": [
              "<IPython.core.display.HTML object>"
            ],
            "text/html": [
              "Run data is saved locally in <code>/content/drive/MyDrive/m2cw/wandb/run-20250329_234238-xba2ahiy</code>"
            ]
          },
          "metadata": {}
        },
        {
          "output_type": "display_data",
          "data": {
            "text/plain": [
              "<IPython.core.display.HTML object>"
            ],
            "text/html": [
              "Syncing run <strong><a href='https://wandb.ai/liuyihao649-university-of-cambridge/m2-lora-grid-search/runs/xba2ahiy' target=\"_blank\">rank8_lr5e-05_train</a></strong> to <a href='https://wandb.ai/liuyihao649-university-of-cambridge/m2-lora-grid-search' target=\"_blank\">Weights & Biases</a> (<a href='https://wandb.me/developer-guide' target=\"_blank\">docs</a>)<br>"
            ]
          },
          "metadata": {}
        },
        {
          "output_type": "display_data",
          "data": {
            "text/plain": [
              "<IPython.core.display.HTML object>"
            ],
            "text/html": [
              " View project at <a href='https://wandb.ai/liuyihao649-university-of-cambridge/m2-lora-grid-search' target=\"_blank\">https://wandb.ai/liuyihao649-university-of-cambridge/m2-lora-grid-search</a>"
            ]
          },
          "metadata": {}
        },
        {
          "output_type": "display_data",
          "data": {
            "text/plain": [
              "<IPython.core.display.HTML object>"
            ],
            "text/html": [
              " View run at <a href='https://wandb.ai/liuyihao649-university-of-cambridge/m2-lora-grid-search/runs/xba2ahiy' target=\"_blank\">https://wandb.ai/liuyihao649-university-of-cambridge/m2-lora-grid-search/runs/xba2ahiy</a>"
            ]
          },
          "metadata": {}
        },
        {
          "output_type": "stream",
          "name": "stderr",
          "text": [
            "Training:   5%|▌         | 50/1000 [00:14<04:37,  3.42it/s, loss=0.693]"
          ]
        },
        {
          "output_type": "stream",
          "name": "stdout",
          "text": [
            "Step 50: loss = 0.6930\n"
          ]
        },
        {
          "output_type": "stream",
          "name": "stderr",
          "text": [
            "Training:  10%|█         | 100/1000 [00:29<04:22,  3.42it/s, loss=0.565]"
          ]
        },
        {
          "output_type": "stream",
          "name": "stdout",
          "text": [
            "Step 100: loss = 0.5654\n"
          ]
        },
        {
          "output_type": "stream",
          "name": "stderr",
          "text": [
            "Training:  15%|█▌        | 150/1000 [00:44<04:08,  3.41it/s, loss=0.532]"
          ]
        },
        {
          "output_type": "stream",
          "name": "stdout",
          "text": [
            "Step 150: loss = 0.5321\n"
          ]
        },
        {
          "output_type": "stream",
          "name": "stderr",
          "text": [
            "Training:  20%|██        | 200/1000 [00:58<03:54,  3.42it/s, loss=0.391]"
          ]
        },
        {
          "output_type": "stream",
          "name": "stdout",
          "text": [
            "Step 200: loss = 0.3913\n"
          ]
        },
        {
          "output_type": "stream",
          "name": "stderr",
          "text": [
            "Training:  25%|██▌       | 250/1000 [01:13<03:39,  3.42it/s, loss=0.433]"
          ]
        },
        {
          "output_type": "stream",
          "name": "stdout",
          "text": [
            "Step 250: loss = 0.4334\n"
          ]
        },
        {
          "output_type": "stream",
          "name": "stderr",
          "text": [
            "Training:  30%|███       | 300/1000 [01:27<03:24,  3.42it/s, loss=0.44]"
          ]
        },
        {
          "output_type": "stream",
          "name": "stdout",
          "text": [
            "Step 300: loss = 0.4402\n"
          ]
        },
        {
          "output_type": "stream",
          "name": "stderr",
          "text": [
            "Training:  35%|███▌      | 350/1000 [01:42<03:10,  3.42it/s, loss=0.401]"
          ]
        },
        {
          "output_type": "stream",
          "name": "stdout",
          "text": [
            "Step 350: loss = 0.4013\n"
          ]
        },
        {
          "output_type": "stream",
          "name": "stderr",
          "text": [
            "Training:  40%|████      | 400/1000 [01:57<02:55,  3.42it/s, loss=0.373]"
          ]
        },
        {
          "output_type": "stream",
          "name": "stdout",
          "text": [
            "Step 400: loss = 0.3733\n"
          ]
        },
        {
          "output_type": "stream",
          "name": "stderr",
          "text": [
            "Training:  45%|████▌     | 450/1000 [02:11<02:40,  3.42it/s, loss=0.386]"
          ]
        },
        {
          "output_type": "stream",
          "name": "stdout",
          "text": [
            "Step 450: loss = 0.3861\n"
          ]
        },
        {
          "output_type": "stream",
          "name": "stderr",
          "text": [
            "Training:  50%|█████     | 500/1000 [02:26<02:26,  3.42it/s, loss=0.377]"
          ]
        },
        {
          "output_type": "stream",
          "name": "stdout",
          "text": [
            "Step 500: loss = 0.3766\n"
          ]
        },
        {
          "output_type": "stream",
          "name": "stderr",
          "text": [
            "Training:  55%|█████▌    | 550/1000 [02:41<02:11,  3.41it/s, loss=0.412]"
          ]
        },
        {
          "output_type": "stream",
          "name": "stdout",
          "text": [
            "Step 550: loss = 0.4117\n"
          ]
        },
        {
          "output_type": "stream",
          "name": "stderr",
          "text": [
            "Training:  60%|██████    | 600/1000 [02:55<01:56,  3.42it/s, loss=0.437]"
          ]
        },
        {
          "output_type": "stream",
          "name": "stdout",
          "text": [
            "Step 600: loss = 0.4374\n"
          ]
        },
        {
          "output_type": "stream",
          "name": "stderr",
          "text": [
            "Training:  65%|██████▌   | 650/1000 [03:10<01:42,  3.41it/s, loss=0.32]"
          ]
        },
        {
          "output_type": "stream",
          "name": "stdout",
          "text": [
            "Step 650: loss = 0.3200\n"
          ]
        },
        {
          "output_type": "stream",
          "name": "stderr",
          "text": [
            "Training:  70%|███████   | 700/1000 [03:25<01:28,  3.41it/s, loss=0.377]"
          ]
        },
        {
          "output_type": "stream",
          "name": "stdout",
          "text": [
            "Step 700: loss = 0.3772\n"
          ]
        },
        {
          "output_type": "stream",
          "name": "stderr",
          "text": [
            "Training:  75%|███████▌  | 750/1000 [03:39<01:13,  3.42it/s, loss=0.374]"
          ]
        },
        {
          "output_type": "stream",
          "name": "stdout",
          "text": [
            "Step 750: loss = 0.3736\n"
          ]
        },
        {
          "output_type": "stream",
          "name": "stderr",
          "text": [
            "Training:  80%|████████  | 800/1000 [03:54<00:58,  3.41it/s, loss=0.439]"
          ]
        },
        {
          "output_type": "stream",
          "name": "stdout",
          "text": [
            "Step 800: loss = 0.4393\n"
          ]
        },
        {
          "output_type": "stream",
          "name": "stderr",
          "text": [
            "Training:  85%|████████▌ | 850/1000 [04:09<00:43,  3.42it/s, loss=0.337]"
          ]
        },
        {
          "output_type": "stream",
          "name": "stdout",
          "text": [
            "Step 850: loss = 0.3368\n"
          ]
        },
        {
          "output_type": "stream",
          "name": "stderr",
          "text": [
            "Training:  90%|█████████ | 900/1000 [04:23<00:29,  3.41it/s, loss=0.336]"
          ]
        },
        {
          "output_type": "stream",
          "name": "stdout",
          "text": [
            "Step 900: loss = 0.3363\n"
          ]
        },
        {
          "output_type": "stream",
          "name": "stderr",
          "text": [
            "Training:  95%|█████████▌| 950/1000 [04:38<00:14,  3.42it/s, loss=0.374]"
          ]
        },
        {
          "output_type": "stream",
          "name": "stdout",
          "text": [
            "Step 950: loss = 0.3739\n"
          ]
        },
        {
          "output_type": "stream",
          "name": "stderr",
          "text": [
            "Training: 100%|██████████| 1000/1000 [04:53<00:00,  3.41it/s, loss=0.365]\n"
          ]
        },
        {
          "output_type": "stream",
          "name": "stdout",
          "text": [
            "Step 1000: loss = 0.3653\n"
          ]
        },
        {
          "output_type": "display_data",
          "data": {
            "text/plain": [
              "<IPython.core.display.HTML object>"
            ],
            "text/html": []
          },
          "metadata": {}
        },
        {
          "output_type": "display_data",
          "data": {
            "text/plain": [
              "<IPython.core.display.HTML object>"
            ],
            "text/html": [
              "<br>    <style><br>        .wandb-row {<br>            display: flex;<br>            flex-direction: row;<br>            flex-wrap: wrap;<br>            justify-content: flex-start;<br>            width: 100%;<br>        }<br>        .wandb-col {<br>            display: flex;<br>            flex-direction: column;<br>            flex-basis: 100%;<br>            flex: 1;<br>            padding: 10px;<br>        }<br>    </style><br><div class=\"wandb-row\"><div class=\"wandb-col\"><h3>Run history:</h3><br/><table class=\"wandb\"><tr><td>loss</td><td>█▇▆▅▅▃▅▄▄▃▃▃▂▃▃▁▂▂▂▂▂▂▂▂▂▂▂▂▂▃▂▂▁▁▃▂▁▂▂▂</td></tr><tr><td>step</td><td>▁▁▁▁▁▂▂▂▂▂▃▃▃▃▃▄▄▄▅▅▅▅▅▅▅▅▆▆▆▆▆▆▆▇▇▇▇▇██</td></tr></table><br/></div><div class=\"wandb-col\"><h3>Run summary:</h3><br/><table class=\"wandb\"><tr><td>loss</td><td>0.36525</td></tr><tr><td>step</td><td>999</td></tr></table><br/></div></div>"
            ]
          },
          "metadata": {}
        },
        {
          "output_type": "display_data",
          "data": {
            "text/plain": [
              "<IPython.core.display.HTML object>"
            ],
            "text/html": [
              " View run <strong style=\"color:#cdcd00\">rank8_lr5e-05_train</strong> at: <a href='https://wandb.ai/liuyihao649-university-of-cambridge/m2-lora-grid-search/runs/xba2ahiy' target=\"_blank\">https://wandb.ai/liuyihao649-university-of-cambridge/m2-lora-grid-search/runs/xba2ahiy</a><br> View project at: <a href='https://wandb.ai/liuyihao649-university-of-cambridge/m2-lora-grid-search' target=\"_blank\">https://wandb.ai/liuyihao649-university-of-cambridge/m2-lora-grid-search</a><br>Synced 5 W&B file(s), 1 media file(s), 0 artifact file(s) and 0 other file(s)"
            ]
          },
          "metadata": {}
        },
        {
          "output_type": "display_data",
          "data": {
            "text/plain": [
              "<IPython.core.display.HTML object>"
            ],
            "text/html": [
              "Find logs at: <code>./wandb/run-20250329_234238-xba2ahiy/logs</code>"
            ]
          },
          "metadata": {}
        },
        {
          "output_type": "display_data",
          "data": {
            "text/plain": [
              "<IPython.core.display.HTML object>"
            ],
            "text/html": [
              "Tracking run with wandb version 0.19.8"
            ]
          },
          "metadata": {}
        },
        {
          "output_type": "display_data",
          "data": {
            "text/plain": [
              "<IPython.core.display.HTML object>"
            ],
            "text/html": [
              "Run data is saved locally in <code>/content/drive/MyDrive/m2cw/wandb/run-20250329_234733-7c11jiov</code>"
            ]
          },
          "metadata": {}
        },
        {
          "output_type": "display_data",
          "data": {
            "text/plain": [
              "<IPython.core.display.HTML object>"
            ],
            "text/html": [
              "Syncing run <strong><a href='https://wandb.ai/liuyihao649-university-of-cambridge/m2-lora-grid-search/runs/7c11jiov' target=\"_blank\">rank8_lr5e-05_evaluation</a></strong> to <a href='https://wandb.ai/liuyihao649-university-of-cambridge/m2-lora-grid-search' target=\"_blank\">Weights & Biases</a> (<a href='https://wandb.me/developer-guide' target=\"_blank\">docs</a>)<br>"
            ]
          },
          "metadata": {}
        },
        {
          "output_type": "display_data",
          "data": {
            "text/plain": [
              "<IPython.core.display.HTML object>"
            ],
            "text/html": [
              " View project at <a href='https://wandb.ai/liuyihao649-university-of-cambridge/m2-lora-grid-search' target=\"_blank\">https://wandb.ai/liuyihao649-university-of-cambridge/m2-lora-grid-search</a>"
            ]
          },
          "metadata": {}
        },
        {
          "output_type": "display_data",
          "data": {
            "text/plain": [
              "<IPython.core.display.HTML object>"
            ],
            "text/html": [
              " View run at <a href='https://wandb.ai/liuyihao649-university-of-cambridge/m2-lora-grid-search/runs/7c11jiov' target=\"_blank\">https://wandb.ai/liuyihao649-university-of-cambridge/m2-lora-grid-search/runs/7c11jiov</a>"
            ]
          },
          "metadata": {}
        },
        {
          "output_type": "stream",
          "name": "stderr",
          "text": [
            "\u001b[34m\u001b[1mwandb\u001b[0m: \u001b[33mWARNING\u001b[0m Tried to log to step 1 that is less than the current step 2. Steps must be monotonically increasing, so this data will be ignored. See https://wandb.me/define-metric to log data out of order.\n",
            "\u001b[34m\u001b[1mwandb\u001b[0m: \u001b[33mWARNING\u001b[0m Tried to log to step 2 that is less than the current step 4. Steps must be monotonically increasing, so this data will be ignored. See https://wandb.me/define-metric to log data out of order.\n",
            "\u001b[34m\u001b[1mwandb\u001b[0m: \u001b[33mWARNING\u001b[0m Tried to log to step 3 that is less than the current step 6. Steps must be monotonically increasing, so this data will be ignored. See https://wandb.me/define-metric to log data out of order.\n",
            "\u001b[34m\u001b[1mwandb\u001b[0m: \u001b[33mWARNING\u001b[0m Tried to log to step 4 that is less than the current step 8. Steps must be monotonically increasing, so this data will be ignored. See https://wandb.me/define-metric to log data out of order.\n",
            "\u001b[34m\u001b[1mwandb\u001b[0m: \u001b[33mWARNING\u001b[0m Tried to log to step 5 that is less than the current step 10. Steps must be monotonically increasing, so this data will be ignored. See https://wandb.me/define-metric to log data out of order.\n",
            "\u001b[34m\u001b[1mwandb\u001b[0m: \u001b[33mWARNING\u001b[0m Tried to log to step 6 that is less than the current step 12. Steps must be monotonically increasing, so this data will be ignored. See https://wandb.me/define-metric to log data out of order.\n",
            "\u001b[34m\u001b[1mwandb\u001b[0m: \u001b[33mWARNING\u001b[0m Tried to log to step 7 that is less than the current step 14. Steps must be monotonically increasing, so this data will be ignored. See https://wandb.me/define-metric to log data out of order.\n"
          ]
        },
        {
          "output_type": "stream",
          "name": "stdout",
          "text": [
            "rank8,lr5e-05,evalaution results:\n",
            "Average Cross-Entropy Loss: 1.7993\n",
            "Average MSE (Forecast):  0.0138\n"
          ]
        },
        {
          "output_type": "display_data",
          "data": {
            "text/plain": [
              "<IPython.core.display.HTML object>"
            ],
            "text/html": []
          },
          "metadata": {}
        },
        {
          "output_type": "display_data",
          "data": {
            "text/plain": [
              "<IPython.core.display.HTML object>"
            ],
            "text/html": [
              "<br>    <style><br>        .wandb-row {<br>            display: flex;<br>            flex-direction: row;<br>            flex-wrap: wrap;<br>            justify-content: flex-start;<br>            width: 100%;<br>        }<br>        .wandb-col {<br>            display: flex;<br>            flex-direction: column;<br>            flex-basis: 100%;<br>            flex: 1;<br>            padding: 10px;<br>        }<br>    </style><br><div class=\"wandb-row\"><div class=\"wandb-col\"><h3>Run history:</h3><br/><table class=\"wandb\"><tr><td>avg_loss</td><td>▁</td></tr><tr><td>avg_mse</td><td>▁</td></tr></table><br/></div><div class=\"wandb-col\"><h3>Run summary:</h3><br/><table class=\"wandb\"><tr><td>avg_loss</td><td>1.7993</td></tr><tr><td>avg_mse</td><td>0.01384</td></tr></table><br/></div></div>"
            ]
          },
          "metadata": {}
        },
        {
          "output_type": "display_data",
          "data": {
            "text/plain": [
              "<IPython.core.display.HTML object>"
            ],
            "text/html": [
              " View run <strong style=\"color:#cdcd00\">rank8_lr5e-05_evaluation</strong> at: <a href='https://wandb.ai/liuyihao649-university-of-cambridge/m2-lora-grid-search/runs/7c11jiov' target=\"_blank\">https://wandb.ai/liuyihao649-university-of-cambridge/m2-lora-grid-search/runs/7c11jiov</a><br> View project at: <a href='https://wandb.ai/liuyihao649-university-of-cambridge/m2-lora-grid-search' target=\"_blank\">https://wandb.ai/liuyihao649-university-of-cambridge/m2-lora-grid-search</a><br>Synced 5 W&B file(s), 20 media file(s), 0 artifact file(s) and 0 other file(s)"
            ]
          },
          "metadata": {}
        },
        {
          "output_type": "display_data",
          "data": {
            "text/plain": [
              "<IPython.core.display.HTML object>"
            ],
            "text/html": [
              "Find logs at: <code>./wandb/run-20250329_234733-7c11jiov/logs</code>"
            ]
          },
          "metadata": {}
        },
        {
          "output_type": "display_data",
          "data": {
            "text/plain": [
              "<IPython.core.display.HTML object>"
            ],
            "text/html": [
              "Tried to log to step 8 that is less than the current step 16. Steps must be monotonically increasing, so this data will be ignored. See https://wandb.me/define-metric to log data out of order."
            ]
          },
          "metadata": {}
        },
        {
          "output_type": "display_data",
          "data": {
            "text/plain": [
              "<IPython.core.display.HTML object>"
            ],
            "text/html": [
              "Tried to log to step 9 that is less than the current step 18. Steps must be monotonically increasing, so this data will be ignored. See https://wandb.me/define-metric to log data out of order."
            ]
          },
          "metadata": {}
        },
        {
          "output_type": "display_data",
          "data": {
            "text/plain": [
              "<IPython.core.display.HTML object>"
            ],
            "text/html": [
              "Tried to log to step 10 that is less than the current step 20. Steps must be monotonically increasing, so this data will be ignored. See https://wandb.me/define-metric to log data out of order."
            ]
          },
          "metadata": {}
        },
        {
          "output_type": "display_data",
          "data": {
            "text/plain": [
              "<IPython.core.display.HTML object>"
            ],
            "text/html": [
              "Tracking run with wandb version 0.19.8"
            ]
          },
          "metadata": {}
        },
        {
          "output_type": "display_data",
          "data": {
            "text/plain": [
              "<IPython.core.display.HTML object>"
            ],
            "text/html": [
              "Run data is saved locally in <code>/content/drive/MyDrive/m2cw/wandb/run-20250329_234814-pbita3xe</code>"
            ]
          },
          "metadata": {}
        },
        {
          "output_type": "display_data",
          "data": {
            "text/plain": [
              "<IPython.core.display.HTML object>"
            ],
            "text/html": [
              "Syncing run <strong><a href='https://wandb.ai/liuyihao649-university-of-cambridge/m2-lora-grid-search/runs/pbita3xe' target=\"_blank\">rank8_lr0.0001_train</a></strong> to <a href='https://wandb.ai/liuyihao649-university-of-cambridge/m2-lora-grid-search' target=\"_blank\">Weights & Biases</a> (<a href='https://wandb.me/developer-guide' target=\"_blank\">docs</a>)<br>"
            ]
          },
          "metadata": {}
        },
        {
          "output_type": "display_data",
          "data": {
            "text/plain": [
              "<IPython.core.display.HTML object>"
            ],
            "text/html": [
              " View project at <a href='https://wandb.ai/liuyihao649-university-of-cambridge/m2-lora-grid-search' target=\"_blank\">https://wandb.ai/liuyihao649-university-of-cambridge/m2-lora-grid-search</a>"
            ]
          },
          "metadata": {}
        },
        {
          "output_type": "display_data",
          "data": {
            "text/plain": [
              "<IPython.core.display.HTML object>"
            ],
            "text/html": [
              " View run at <a href='https://wandb.ai/liuyihao649-university-of-cambridge/m2-lora-grid-search/runs/pbita3xe' target=\"_blank\">https://wandb.ai/liuyihao649-university-of-cambridge/m2-lora-grid-search/runs/pbita3xe</a>"
            ]
          },
          "metadata": {}
        },
        {
          "output_type": "stream",
          "name": "stderr",
          "text": [
            "Training:   5%|▌         | 50/1000 [00:14<04:37,  3.42it/s, loss=0.507]"
          ]
        },
        {
          "output_type": "stream",
          "name": "stdout",
          "text": [
            "Step 50: loss = 0.5067\n"
          ]
        },
        {
          "output_type": "stream",
          "name": "stderr",
          "text": [
            "Training:  10%|█         | 100/1000 [00:29<04:23,  3.42it/s, loss=0.503]"
          ]
        },
        {
          "output_type": "stream",
          "name": "stdout",
          "text": [
            "Step 100: loss = 0.5025\n"
          ]
        },
        {
          "output_type": "stream",
          "name": "stderr",
          "text": [
            "Training:  15%|█▌        | 150/1000 [00:43<04:09,  3.40it/s, loss=0.392]"
          ]
        },
        {
          "output_type": "stream",
          "name": "stdout",
          "text": [
            "Step 150: loss = 0.3922\n"
          ]
        },
        {
          "output_type": "stream",
          "name": "stderr",
          "text": [
            "Training:  20%|██        | 200/1000 [00:58<03:54,  3.42it/s, loss=0.482]"
          ]
        },
        {
          "output_type": "stream",
          "name": "stdout",
          "text": [
            "Step 200: loss = 0.4819\n"
          ]
        },
        {
          "output_type": "stream",
          "name": "stderr",
          "text": [
            "Training:  25%|██▌       | 250/1000 [01:13<03:39,  3.42it/s, loss=0.331]"
          ]
        },
        {
          "output_type": "stream",
          "name": "stdout",
          "text": [
            "Step 250: loss = 0.3311\n"
          ]
        },
        {
          "output_type": "stream",
          "name": "stderr",
          "text": [
            "Training:  30%|███       | 300/1000 [01:27<03:24,  3.42it/s, loss=0.43]"
          ]
        },
        {
          "output_type": "stream",
          "name": "stdout",
          "text": [
            "Step 300: loss = 0.4302\n"
          ]
        },
        {
          "output_type": "stream",
          "name": "stderr",
          "text": [
            "Training:  35%|███▌      | 350/1000 [01:42<03:10,  3.42it/s, loss=0.356]"
          ]
        },
        {
          "output_type": "stream",
          "name": "stdout",
          "text": [
            "Step 350: loss = 0.3561\n"
          ]
        },
        {
          "output_type": "stream",
          "name": "stderr",
          "text": [
            "Training:  40%|████      | 400/1000 [01:57<02:55,  3.42it/s, loss=0.409]"
          ]
        },
        {
          "output_type": "stream",
          "name": "stdout",
          "text": [
            "Step 400: loss = 0.4090\n"
          ]
        },
        {
          "output_type": "stream",
          "name": "stderr",
          "text": [
            "Training:  45%|████▌     | 450/1000 [02:11<02:41,  3.42it/s, loss=0.331]"
          ]
        },
        {
          "output_type": "stream",
          "name": "stdout",
          "text": [
            "Step 450: loss = 0.3314\n"
          ]
        },
        {
          "output_type": "stream",
          "name": "stderr",
          "text": [
            "Training:  50%|█████     | 500/1000 [02:26<02:26,  3.42it/s, loss=0.373]"
          ]
        },
        {
          "output_type": "stream",
          "name": "stdout",
          "text": [
            "Step 500: loss = 0.3734\n"
          ]
        },
        {
          "output_type": "stream",
          "name": "stderr",
          "text": [
            "Training:  55%|█████▌    | 550/1000 [02:41<02:11,  3.41it/s, loss=0.366]"
          ]
        },
        {
          "output_type": "stream",
          "name": "stdout",
          "text": [
            "Step 550: loss = 0.3656\n"
          ]
        },
        {
          "output_type": "stream",
          "name": "stderr",
          "text": [
            "Training:  60%|██████    | 600/1000 [02:55<01:57,  3.41it/s, loss=0.307]"
          ]
        },
        {
          "output_type": "stream",
          "name": "stdout",
          "text": [
            "Step 600: loss = 0.3066\n"
          ]
        },
        {
          "output_type": "stream",
          "name": "stderr",
          "text": [
            "Training:  65%|██████▌   | 650/1000 [03:10<01:42,  3.41it/s, loss=0.322]"
          ]
        },
        {
          "output_type": "stream",
          "name": "stdout",
          "text": [
            "Step 650: loss = 0.3220\n"
          ]
        },
        {
          "output_type": "stream",
          "name": "stderr",
          "text": [
            "Training:  70%|███████   | 700/1000 [03:25<01:27,  3.41it/s, loss=0.365]"
          ]
        },
        {
          "output_type": "stream",
          "name": "stdout",
          "text": [
            "Step 700: loss = 0.3647\n"
          ]
        },
        {
          "output_type": "stream",
          "name": "stderr",
          "text": [
            "Training:  75%|███████▌  | 750/1000 [03:39<01:13,  3.42it/s, loss=0.395]"
          ]
        },
        {
          "output_type": "stream",
          "name": "stdout",
          "text": [
            "Step 750: loss = 0.3951\n"
          ]
        },
        {
          "output_type": "stream",
          "name": "stderr",
          "text": [
            "Training:  80%|████████  | 800/1000 [03:54<00:58,  3.42it/s, loss=0.352]"
          ]
        },
        {
          "output_type": "stream",
          "name": "stdout",
          "text": [
            "Step 800: loss = 0.3521\n"
          ]
        },
        {
          "output_type": "stream",
          "name": "stderr",
          "text": [
            "Training:  85%|████████▌ | 850/1000 [04:08<00:43,  3.42it/s, loss=0.386]"
          ]
        },
        {
          "output_type": "stream",
          "name": "stdout",
          "text": [
            "Step 850: loss = 0.3859\n"
          ]
        },
        {
          "output_type": "stream",
          "name": "stderr",
          "text": [
            "Training:  90%|█████████ | 900/1000 [04:23<00:29,  3.42it/s, loss=0.369]"
          ]
        },
        {
          "output_type": "stream",
          "name": "stdout",
          "text": [
            "Step 900: loss = 0.3690\n"
          ]
        },
        {
          "output_type": "stream",
          "name": "stderr",
          "text": [
            "Training:  95%|█████████▌| 950/1000 [04:38<00:14,  3.41it/s, loss=0.297]"
          ]
        },
        {
          "output_type": "stream",
          "name": "stdout",
          "text": [
            "Step 950: loss = 0.2970\n"
          ]
        },
        {
          "output_type": "stream",
          "name": "stderr",
          "text": [
            "Training: 100%|██████████| 1000/1000 [04:52<00:00,  3.41it/s, loss=0.305]\n"
          ]
        },
        {
          "output_type": "stream",
          "name": "stdout",
          "text": [
            "Step 1000: loss = 0.3052\n"
          ]
        },
        {
          "output_type": "display_data",
          "data": {
            "text/plain": [
              "<IPython.core.display.HTML object>"
            ],
            "text/html": []
          },
          "metadata": {}
        },
        {
          "output_type": "display_data",
          "data": {
            "text/plain": [
              "<IPython.core.display.HTML object>"
            ],
            "text/html": [
              "<br>    <style><br>        .wandb-row {<br>            display: flex;<br>            flex-direction: row;<br>            flex-wrap: wrap;<br>            justify-content: flex-start;<br>            width: 100%;<br>        }<br>        .wandb-col {<br>            display: flex;<br>            flex-direction: column;<br>            flex-basis: 100%;<br>            flex: 1;<br>            padding: 10px;<br>        }<br>    </style><br><div class=\"wandb-row\"><div class=\"wandb-col\"><h3>Run history:</h3><br/><table class=\"wandb\"><tr><td>loss</td><td>██▇▅▅▃▄▃▃▄▂▃▃▁▂▃▃▃▂▂▂▁▂▂▂▁▂▂▄▂▁▃▁▁▂▃▂▂▂▁</td></tr><tr><td>step</td><td>▁▁▁▁▂▂▂▃▃▃▄▄▄▄▄▄▄▄▅▅▅▅▅▅▆▆▆▆▆▆▇▇▇▇▇▇▇▇██</td></tr></table><br/></div><div class=\"wandb-col\"><h3>Run summary:</h3><br/><table class=\"wandb\"><tr><td>loss</td><td>0.30516</td></tr><tr><td>step</td><td>999</td></tr></table><br/></div></div>"
            ]
          },
          "metadata": {}
        },
        {
          "output_type": "display_data",
          "data": {
            "text/plain": [
              "<IPython.core.display.HTML object>"
            ],
            "text/html": [
              " View run <strong style=\"color:#cdcd00\">rank8_lr0.0001_train</strong> at: <a href='https://wandb.ai/liuyihao649-university-of-cambridge/m2-lora-grid-search/runs/pbita3xe' target=\"_blank\">https://wandb.ai/liuyihao649-university-of-cambridge/m2-lora-grid-search/runs/pbita3xe</a><br> View project at: <a href='https://wandb.ai/liuyihao649-university-of-cambridge/m2-lora-grid-search' target=\"_blank\">https://wandb.ai/liuyihao649-university-of-cambridge/m2-lora-grid-search</a><br>Synced 5 W&B file(s), 1 media file(s), 0 artifact file(s) and 0 other file(s)"
            ]
          },
          "metadata": {}
        },
        {
          "output_type": "display_data",
          "data": {
            "text/plain": [
              "<IPython.core.display.HTML object>"
            ],
            "text/html": [
              "Find logs at: <code>./wandb/run-20250329_234814-pbita3xe/logs</code>"
            ]
          },
          "metadata": {}
        },
        {
          "output_type": "display_data",
          "data": {
            "text/plain": [
              "<IPython.core.display.HTML object>"
            ],
            "text/html": [
              "Tracking run with wandb version 0.19.8"
            ]
          },
          "metadata": {}
        },
        {
          "output_type": "display_data",
          "data": {
            "text/plain": [
              "<IPython.core.display.HTML object>"
            ],
            "text/html": [
              "Run data is saved locally in <code>/content/drive/MyDrive/m2cw/wandb/run-20250329_235310-43a68y5o</code>"
            ]
          },
          "metadata": {}
        },
        {
          "output_type": "display_data",
          "data": {
            "text/plain": [
              "<IPython.core.display.HTML object>"
            ],
            "text/html": [
              "Syncing run <strong><a href='https://wandb.ai/liuyihao649-university-of-cambridge/m2-lora-grid-search/runs/43a68y5o' target=\"_blank\">rank8_lr0.0001_evaluation</a></strong> to <a href='https://wandb.ai/liuyihao649-university-of-cambridge/m2-lora-grid-search' target=\"_blank\">Weights & Biases</a> (<a href='https://wandb.me/developer-guide' target=\"_blank\">docs</a>)<br>"
            ]
          },
          "metadata": {}
        },
        {
          "output_type": "display_data",
          "data": {
            "text/plain": [
              "<IPython.core.display.HTML object>"
            ],
            "text/html": [
              " View project at <a href='https://wandb.ai/liuyihao649-university-of-cambridge/m2-lora-grid-search' target=\"_blank\">https://wandb.ai/liuyihao649-university-of-cambridge/m2-lora-grid-search</a>"
            ]
          },
          "metadata": {}
        },
        {
          "output_type": "display_data",
          "data": {
            "text/plain": [
              "<IPython.core.display.HTML object>"
            ],
            "text/html": [
              " View run at <a href='https://wandb.ai/liuyihao649-university-of-cambridge/m2-lora-grid-search/runs/43a68y5o' target=\"_blank\">https://wandb.ai/liuyihao649-university-of-cambridge/m2-lora-grid-search/runs/43a68y5o</a>"
            ]
          },
          "metadata": {}
        },
        {
          "output_type": "stream",
          "name": "stderr",
          "text": [
            "\u001b[34m\u001b[1mwandb\u001b[0m: \u001b[33mWARNING\u001b[0m Tried to log to step 1 that is less than the current step 2. Steps must be monotonically increasing, so this data will be ignored. See https://wandb.me/define-metric to log data out of order.\n",
            "\u001b[34m\u001b[1mwandb\u001b[0m: \u001b[33mWARNING\u001b[0m Tried to log to step 2 that is less than the current step 4. Steps must be monotonically increasing, so this data will be ignored. See https://wandb.me/define-metric to log data out of order.\n",
            "\u001b[34m\u001b[1mwandb\u001b[0m: \u001b[33mWARNING\u001b[0m Tried to log to step 3 that is less than the current step 6. Steps must be monotonically increasing, so this data will be ignored. See https://wandb.me/define-metric to log data out of order.\n",
            "\u001b[34m\u001b[1mwandb\u001b[0m: \u001b[33mWARNING\u001b[0m Tried to log to step 4 that is less than the current step 8. Steps must be monotonically increasing, so this data will be ignored. See https://wandb.me/define-metric to log data out of order.\n",
            "\u001b[34m\u001b[1mwandb\u001b[0m: \u001b[33mWARNING\u001b[0m Tried to log to step 5 that is less than the current step 10. Steps must be monotonically increasing, so this data will be ignored. See https://wandb.me/define-metric to log data out of order.\n",
            "\u001b[34m\u001b[1mwandb\u001b[0m: \u001b[33mWARNING\u001b[0m Tried to log to step 6 that is less than the current step 12. Steps must be monotonically increasing, so this data will be ignored. See https://wandb.me/define-metric to log data out of order.\n",
            "\u001b[34m\u001b[1mwandb\u001b[0m: \u001b[33mWARNING\u001b[0m Tried to log to step 7 that is less than the current step 14. Steps must be monotonically increasing, so this data will be ignored. See https://wandb.me/define-metric to log data out of order.\n"
          ]
        },
        {
          "output_type": "stream",
          "name": "stdout",
          "text": [
            "rank8,lr0.0001,evalaution results:\n",
            "Average Cross-Entropy Loss: 1.8566\n",
            "Average MSE (Forecast):  0.0148\n"
          ]
        },
        {
          "output_type": "display_data",
          "data": {
            "text/plain": [
              "<IPython.core.display.HTML object>"
            ],
            "text/html": []
          },
          "metadata": {}
        },
        {
          "output_type": "display_data",
          "data": {
            "text/plain": [
              "<IPython.core.display.HTML object>"
            ],
            "text/html": [
              "<br>    <style><br>        .wandb-row {<br>            display: flex;<br>            flex-direction: row;<br>            flex-wrap: wrap;<br>            justify-content: flex-start;<br>            width: 100%;<br>        }<br>        .wandb-col {<br>            display: flex;<br>            flex-direction: column;<br>            flex-basis: 100%;<br>            flex: 1;<br>            padding: 10px;<br>        }<br>    </style><br><div class=\"wandb-row\"><div class=\"wandb-col\"><h3>Run history:</h3><br/><table class=\"wandb\"><tr><td>avg_loss</td><td>▁</td></tr><tr><td>avg_mse</td><td>▁</td></tr></table><br/></div><div class=\"wandb-col\"><h3>Run summary:</h3><br/><table class=\"wandb\"><tr><td>avg_loss</td><td>1.85659</td></tr><tr><td>avg_mse</td><td>0.0148</td></tr></table><br/></div></div>"
            ]
          },
          "metadata": {}
        },
        {
          "output_type": "display_data",
          "data": {
            "text/plain": [
              "<IPython.core.display.HTML object>"
            ],
            "text/html": [
              " View run <strong style=\"color:#cdcd00\">rank8_lr0.0001_evaluation</strong> at: <a href='https://wandb.ai/liuyihao649-university-of-cambridge/m2-lora-grid-search/runs/43a68y5o' target=\"_blank\">https://wandb.ai/liuyihao649-university-of-cambridge/m2-lora-grid-search/runs/43a68y5o</a><br> View project at: <a href='https://wandb.ai/liuyihao649-university-of-cambridge/m2-lora-grid-search' target=\"_blank\">https://wandb.ai/liuyihao649-university-of-cambridge/m2-lora-grid-search</a><br>Synced 5 W&B file(s), 20 media file(s), 0 artifact file(s) and 0 other file(s)"
            ]
          },
          "metadata": {}
        },
        {
          "output_type": "display_data",
          "data": {
            "text/plain": [
              "<IPython.core.display.HTML object>"
            ],
            "text/html": [
              "Find logs at: <code>./wandb/run-20250329_235310-43a68y5o/logs</code>"
            ]
          },
          "metadata": {}
        },
        {
          "output_type": "display_data",
          "data": {
            "text/plain": [
              "<IPython.core.display.HTML object>"
            ],
            "text/html": [
              "Tried to log to step 8 that is less than the current step 16. Steps must be monotonically increasing, so this data will be ignored. See https://wandb.me/define-metric to log data out of order."
            ]
          },
          "metadata": {}
        },
        {
          "output_type": "display_data",
          "data": {
            "text/plain": [
              "<IPython.core.display.HTML object>"
            ],
            "text/html": [
              "Tried to log to step 9 that is less than the current step 18. Steps must be monotonically increasing, so this data will be ignored. See https://wandb.me/define-metric to log data out of order."
            ]
          },
          "metadata": {}
        },
        {
          "output_type": "display_data",
          "data": {
            "text/plain": [
              "<IPython.core.display.HTML object>"
            ],
            "text/html": [
              "Tried to log to step 10 that is less than the current step 20. Steps must be monotonically increasing, so this data will be ignored. See https://wandb.me/define-metric to log data out of order."
            ]
          },
          "metadata": {}
        }
      ]
    },
    {
      "cell_type": "code",
      "source": [
        "max_context_length=[128,512,768]\n",
        "\n",
        "for length in max_context_length:\n",
        "    train_ids,_,_=load_data(tokenizer,max_ctx_length=length)\n",
        "    wandb.init(\n",
        "        project=\"m2-lora-different-context-len\",\n",
        "        name=f\"context-length:{length}_train\",\n",
        "        group=\"train_loss_curve\",\n",
        "        reinit=True\n",
        "    )\n",
        "    base_model,_ = load_qwen()\n",
        "    apply_lora(base_model)\n",
        "    _ = train_lora(\n",
        "        base_model,\n",
        "        train_ids,\n",
        "        learning_rate=1e-5,\n",
        "        batch_size=4,\n",
        "        max_steps=1000,\n",
        "    )\n",
        "\n",
        "\n",
        "\n",
        "    wandb.init(\n",
        "        project=\"m2-lora-different-context-len\",\n",
        "        name=f\"context-length:{length}_evaluation\",\n",
        "        reinit=True\n",
        "    )\n",
        "    val_loss, val_mse = evaluation(base_model, tokenizer, tokenized_val)\n",
        "\n",
        "\n",
        "    print(f\"rank{rank},lr{lr},evalaution results:\")\n",
        "    print(f\"Average Cross-Entropy Loss: {val_loss:.4f}\")\n",
        "    print(f\"Average MSE (Forecast):  {val_mse:.4f}\")\n",
        "\n",
        "    wandb.finish()\n"
      ],
      "metadata": {
        "colab": {
          "base_uri": "https://localhost:8080/",
          "height": 1000
        },
        "id": "_TM2MexiVEKi",
        "outputId": "5d505ad7-4e73-49c0-95bc-a4835dcd832d"
      },
      "execution_count": 9,
      "outputs": [
        {
          "output_type": "display_data",
          "data": {
            "text/plain": [
              "<IPython.core.display.HTML object>"
            ],
            "text/html": [
              "Tracking run with wandb version 0.19.8"
            ]
          },
          "metadata": {}
        },
        {
          "output_type": "display_data",
          "data": {
            "text/plain": [
              "<IPython.core.display.HTML object>"
            ],
            "text/html": [
              "Run data is saved locally in <code>/content/drive/MyDrive/m2cw/wandb/run-20250329_235859-58wez883</code>"
            ]
          },
          "metadata": {}
        },
        {
          "output_type": "display_data",
          "data": {
            "text/plain": [
              "<IPython.core.display.HTML object>"
            ],
            "text/html": [
              "Syncing run <strong><a href='https://wandb.ai/liuyihao649-university-of-cambridge/m2-lora-different-context-len/runs/58wez883' target=\"_blank\">context-length:128_train</a></strong> to <a href='https://wandb.ai/liuyihao649-university-of-cambridge/m2-lora-different-context-len' target=\"_blank\">Weights & Biases</a> (<a href='https://wandb.me/developer-guide' target=\"_blank\">docs</a>)<br>"
            ]
          },
          "metadata": {}
        },
        {
          "output_type": "display_data",
          "data": {
            "text/plain": [
              "<IPython.core.display.HTML object>"
            ],
            "text/html": [
              " View project at <a href='https://wandb.ai/liuyihao649-university-of-cambridge/m2-lora-different-context-len' target=\"_blank\">https://wandb.ai/liuyihao649-university-of-cambridge/m2-lora-different-context-len</a>"
            ]
          },
          "metadata": {}
        },
        {
          "output_type": "display_data",
          "data": {
            "text/plain": [
              "<IPython.core.display.HTML object>"
            ],
            "text/html": [
              " View run at <a href='https://wandb.ai/liuyihao649-university-of-cambridge/m2-lora-different-context-len/runs/58wez883' target=\"_blank\">https://wandb.ai/liuyihao649-university-of-cambridge/m2-lora-different-context-len/runs/58wez883</a>"
            ]
          },
          "metadata": {}
        },
        {
          "output_type": "stream",
          "name": "stderr",
          "text": [
            "Training:   5%|▌         | 51/1000 [00:05<01:49,  8.67it/s, loss=0.886]"
          ]
        },
        {
          "output_type": "stream",
          "name": "stdout",
          "text": [
            "Step 50: loss = 0.9314\n"
          ]
        },
        {
          "output_type": "stream",
          "name": "stderr",
          "text": [
            "Training:  10%|█         | 101/1000 [00:11<01:40,  8.97it/s, loss=0.84] "
          ]
        },
        {
          "output_type": "stream",
          "name": "stdout",
          "text": [
            "Step 100: loss = 0.8558\n"
          ]
        },
        {
          "output_type": "stream",
          "name": "stderr",
          "text": [
            "Training:  15%|█▌        | 151/1000 [00:17<01:34,  8.98it/s, loss=0.907]"
          ]
        },
        {
          "output_type": "stream",
          "name": "stdout",
          "text": [
            "Step 150: loss = 0.7796\n"
          ]
        },
        {
          "output_type": "stream",
          "name": "stderr",
          "text": [
            "Training:  20%|██        | 201/1000 [00:22<01:30,  8.81it/s, loss=0.853]"
          ]
        },
        {
          "output_type": "stream",
          "name": "stdout",
          "text": [
            "Step 200: loss = 0.8620\n"
          ]
        },
        {
          "output_type": "stream",
          "name": "stderr",
          "text": [
            "Training:  25%|██▌       | 251/1000 [00:28<01:22,  9.04it/s, loss=0.731]"
          ]
        },
        {
          "output_type": "stream",
          "name": "stdout",
          "text": [
            "Step 250: loss = 0.7999\n"
          ]
        },
        {
          "output_type": "stream",
          "name": "stderr",
          "text": [
            "Training:  30%|███       | 301/1000 [00:33<01:16,  9.15it/s, loss=0.644]"
          ]
        },
        {
          "output_type": "stream",
          "name": "stdout",
          "text": [
            "Step 300: loss = 0.7624\n"
          ]
        },
        {
          "output_type": "stream",
          "name": "stderr",
          "text": [
            "Training:  35%|███▌      | 351/1000 [00:39<01:11,  9.12it/s, loss=0.739]"
          ]
        },
        {
          "output_type": "stream",
          "name": "stdout",
          "text": [
            "Step 350: loss = 0.6117\n"
          ]
        },
        {
          "output_type": "stream",
          "name": "stderr",
          "text": [
            "Training:  40%|████      | 401/1000 [00:44<01:06,  9.03it/s, loss=0.751]"
          ]
        },
        {
          "output_type": "stream",
          "name": "stdout",
          "text": [
            "Step 400: loss = 0.7772\n"
          ]
        },
        {
          "output_type": "stream",
          "name": "stderr",
          "text": [
            "Training:  45%|████▌     | 451/1000 [00:50<00:59,  9.15it/s, loss=0.896]"
          ]
        },
        {
          "output_type": "stream",
          "name": "stdout",
          "text": [
            "Step 450: loss = 0.7175\n"
          ]
        },
        {
          "output_type": "stream",
          "name": "stderr",
          "text": [
            "Training:  50%|█████     | 501/1000 [00:55<00:55,  9.05it/s, loss=0.595]"
          ]
        },
        {
          "output_type": "stream",
          "name": "stdout",
          "text": [
            "Step 500: loss = 0.5762\n"
          ]
        },
        {
          "output_type": "stream",
          "name": "stderr",
          "text": [
            "Training:  55%|█████▌    | 551/1000 [01:01<00:49,  9.13it/s, loss=0.769]"
          ]
        },
        {
          "output_type": "stream",
          "name": "stdout",
          "text": [
            "Step 550: loss = 0.5918\n"
          ]
        },
        {
          "output_type": "stream",
          "name": "stderr",
          "text": [
            "Training:  60%|██████    | 601/1000 [01:06<00:44,  8.92it/s, loss=0.559]"
          ]
        },
        {
          "output_type": "stream",
          "name": "stdout",
          "text": [
            "Step 600: loss = 0.6689\n"
          ]
        },
        {
          "output_type": "stream",
          "name": "stderr",
          "text": [
            "Training:  65%|██████▌   | 651/1000 [01:12<00:37,  9.20it/s, loss=0.64] "
          ]
        },
        {
          "output_type": "stream",
          "name": "stdout",
          "text": [
            "Step 650: loss = 0.5737\n"
          ]
        },
        {
          "output_type": "stream",
          "name": "stderr",
          "text": [
            "Training:  70%|███████   | 701/1000 [01:17<00:32,  9.07it/s, loss=0.591]"
          ]
        },
        {
          "output_type": "stream",
          "name": "stdout",
          "text": [
            "Step 700: loss = 0.5983\n"
          ]
        },
        {
          "output_type": "stream",
          "name": "stderr",
          "text": [
            "Training:  75%|███████▌  | 751/1000 [01:22<00:28,  8.82it/s, loss=0.608]"
          ]
        },
        {
          "output_type": "stream",
          "name": "stdout",
          "text": [
            "Step 750: loss = 0.7237\n"
          ]
        },
        {
          "output_type": "stream",
          "name": "stderr",
          "text": [
            "Training:  80%|████████  | 801/1000 [01:28<00:21,  9.06it/s, loss=0.64] "
          ]
        },
        {
          "output_type": "stream",
          "name": "stdout",
          "text": [
            "Step 800: loss = 0.5785\n"
          ]
        },
        {
          "output_type": "stream",
          "name": "stderr",
          "text": [
            "Training:  85%|████████▌ | 851/1000 [01:33<00:16,  9.07it/s, loss=0.733]"
          ]
        },
        {
          "output_type": "stream",
          "name": "stdout",
          "text": [
            "Step 850: loss = 0.6806\n"
          ]
        },
        {
          "output_type": "stream",
          "name": "stderr",
          "text": [
            "Training:  90%|█████████ | 901/1000 [01:39<00:11,  8.38it/s, loss=0.664]"
          ]
        },
        {
          "output_type": "stream",
          "name": "stdout",
          "text": [
            "Step 900: loss = 0.6277\n"
          ]
        },
        {
          "output_type": "stream",
          "name": "stderr",
          "text": [
            "Training:  95%|█████████▌| 951/1000 [01:44<00:05,  9.08it/s, loss=0.513]"
          ]
        },
        {
          "output_type": "stream",
          "name": "stdout",
          "text": [
            "Step 950: loss = 0.5228\n"
          ]
        },
        {
          "output_type": "stream",
          "name": "stderr",
          "text": [
            "Training: 100%|██████████| 1000/1000 [01:49<00:00,  9.09it/s, loss=0.61]\n"
          ]
        },
        {
          "output_type": "stream",
          "name": "stdout",
          "text": [
            "Step 1000: loss = 0.6103\n"
          ]
        },
        {
          "output_type": "display_data",
          "data": {
            "text/plain": [
              "<IPython.core.display.HTML object>"
            ],
            "text/html": []
          },
          "metadata": {}
        },
        {
          "output_type": "display_data",
          "data": {
            "text/plain": [
              "<IPython.core.display.HTML object>"
            ],
            "text/html": [
              "<br>    <style><br>        .wandb-row {<br>            display: flex;<br>            flex-direction: row;<br>            flex-wrap: wrap;<br>            justify-content: flex-start;<br>            width: 100%;<br>        }<br>        .wandb-col {<br>            display: flex;<br>            flex-direction: column;<br>            flex-basis: 100%;<br>            flex: 1;<br>            padding: 10px;<br>        }<br>    </style><br><div class=\"wandb-row\"><div class=\"wandb-col\"><h3>Run history:</h3><br/><table class=\"wandb\"><tr><td>loss</td><td>▇▆▄█▇█▄▅▆▅▄▄▅▃▄▄▂▂▂▂▃▃▃▃▃▃▃▂▃▃▂▂▃▁▃▁▄▂▂▃</td></tr><tr><td>step</td><td>▁▁▁▂▂▂▂▃▃▃▃▃▃▃▃▃▃▄▄▅▅▅▅▅▅▅▆▆▆▆▇▇▇▇▇▇▇▇██</td></tr></table><br/></div><div class=\"wandb-col\"><h3>Run summary:</h3><br/><table class=\"wandb\"><tr><td>loss</td><td>0.61028</td></tr><tr><td>step</td><td>999</td></tr></table><br/></div></div>"
            ]
          },
          "metadata": {}
        },
        {
          "output_type": "display_data",
          "data": {
            "text/plain": [
              "<IPython.core.display.HTML object>"
            ],
            "text/html": [
              " View run <strong style=\"color:#cdcd00\">context-length:128_train</strong> at: <a href='https://wandb.ai/liuyihao649-university-of-cambridge/m2-lora-different-context-len/runs/58wez883' target=\"_blank\">https://wandb.ai/liuyihao649-university-of-cambridge/m2-lora-different-context-len/runs/58wez883</a><br> View project at: <a href='https://wandb.ai/liuyihao649-university-of-cambridge/m2-lora-different-context-len' target=\"_blank\">https://wandb.ai/liuyihao649-university-of-cambridge/m2-lora-different-context-len</a><br>Synced 5 W&B file(s), 1 media file(s), 0 artifact file(s) and 0 other file(s)"
            ]
          },
          "metadata": {}
        },
        {
          "output_type": "display_data",
          "data": {
            "text/plain": [
              "<IPython.core.display.HTML object>"
            ],
            "text/html": [
              "Find logs at: <code>./wandb/run-20250329_235859-58wez883/logs</code>"
            ]
          },
          "metadata": {}
        },
        {
          "output_type": "display_data",
          "data": {
            "text/plain": [
              "<IPython.core.display.HTML object>"
            ],
            "text/html": [
              "Tracking run with wandb version 0.19.8"
            ]
          },
          "metadata": {}
        },
        {
          "output_type": "display_data",
          "data": {
            "text/plain": [
              "<IPython.core.display.HTML object>"
            ],
            "text/html": [
              "Run data is saved locally in <code>/content/drive/MyDrive/m2cw/wandb/run-20250330_000051-q5wiztsw</code>"
            ]
          },
          "metadata": {}
        },
        {
          "output_type": "display_data",
          "data": {
            "text/plain": [
              "<IPython.core.display.HTML object>"
            ],
            "text/html": [
              "Syncing run <strong><a href='https://wandb.ai/liuyihao649-university-of-cambridge/m2-lora-different-context-len/runs/q5wiztsw' target=\"_blank\">context-length:128_evaluation</a></strong> to <a href='https://wandb.ai/liuyihao649-university-of-cambridge/m2-lora-different-context-len' target=\"_blank\">Weights & Biases</a> (<a href='https://wandb.me/developer-guide' target=\"_blank\">docs</a>)<br>"
            ]
          },
          "metadata": {}
        },
        {
          "output_type": "display_data",
          "data": {
            "text/plain": [
              "<IPython.core.display.HTML object>"
            ],
            "text/html": [
              " View project at <a href='https://wandb.ai/liuyihao649-university-of-cambridge/m2-lora-different-context-len' target=\"_blank\">https://wandb.ai/liuyihao649-university-of-cambridge/m2-lora-different-context-len</a>"
            ]
          },
          "metadata": {}
        },
        {
          "output_type": "display_data",
          "data": {
            "text/plain": [
              "<IPython.core.display.HTML object>"
            ],
            "text/html": [
              " View run at <a href='https://wandb.ai/liuyihao649-university-of-cambridge/m2-lora-different-context-len/runs/q5wiztsw' target=\"_blank\">https://wandb.ai/liuyihao649-university-of-cambridge/m2-lora-different-context-len/runs/q5wiztsw</a>"
            ]
          },
          "metadata": {}
        },
        {
          "output_type": "stream",
          "name": "stderr",
          "text": [
            "/usr/local/lib/python3.11/dist-packages/transformers/generation/configuration_utils.py:628: UserWarning: `do_sample` is set to `False`. However, `temperature` is set to `0.7` -- this flag is only used in sample-based generation modes. You should set `do_sample=True` or unset `temperature`.\n",
            "  warnings.warn(\n",
            "/usr/local/lib/python3.11/dist-packages/transformers/generation/configuration_utils.py:633: UserWarning: `do_sample` is set to `False`. However, `top_p` is set to `0.8` -- this flag is only used in sample-based generation modes. You should set `do_sample=True` or unset `top_p`.\n",
            "  warnings.warn(\n",
            "/usr/local/lib/python3.11/dist-packages/transformers/generation/configuration_utils.py:650: UserWarning: `do_sample` is set to `False`. However, `top_k` is set to `20` -- this flag is only used in sample-based generation modes. You should set `do_sample=True` or unset `top_k`.\n",
            "  warnings.warn(\n",
            "\u001b[34m\u001b[1mwandb\u001b[0m: \u001b[33mWARNING\u001b[0m Tried to log to step 1 that is less than the current step 2. Steps must be monotonically increasing, so this data will be ignored. See https://wandb.me/define-metric to log data out of order.\n",
            "\u001b[34m\u001b[1mwandb\u001b[0m: \u001b[33mWARNING\u001b[0m Tried to log to step 2 that is less than the current step 4. Steps must be monotonically increasing, so this data will be ignored. See https://wandb.me/define-metric to log data out of order.\n",
            "\u001b[34m\u001b[1mwandb\u001b[0m: \u001b[33mWARNING\u001b[0m Tried to log to step 3 that is less than the current step 6. Steps must be monotonically increasing, so this data will be ignored. See https://wandb.me/define-metric to log data out of order.\n",
            "\u001b[34m\u001b[1mwandb\u001b[0m: \u001b[33mWARNING\u001b[0m Tried to log to step 4 that is less than the current step 8. Steps must be monotonically increasing, so this data will be ignored. See https://wandb.me/define-metric to log data out of order.\n",
            "\u001b[34m\u001b[1mwandb\u001b[0m: \u001b[33mWARNING\u001b[0m Tried to log to step 5 that is less than the current step 10. Steps must be monotonically increasing, so this data will be ignored. See https://wandb.me/define-metric to log data out of order.\n",
            "\u001b[34m\u001b[1mwandb\u001b[0m: \u001b[33mWARNING\u001b[0m Tried to log to step 6 that is less than the current step 12. Steps must be monotonically increasing, so this data will be ignored. See https://wandb.me/define-metric to log data out of order.\n",
            "\u001b[34m\u001b[1mwandb\u001b[0m: \u001b[33mWARNING\u001b[0m Tried to log to step 7 that is less than the current step 14. Steps must be monotonically increasing, so this data will be ignored. See https://wandb.me/define-metric to log data out of order.\n",
            "\u001b[34m\u001b[1mwandb\u001b[0m: \u001b[33mWARNING\u001b[0m Tried to log to step 8 that is less than the current step 16. Steps must be monotonically increasing, so this data will be ignored. See https://wandb.me/define-metric to log data out of order.\n"
          ]
        },
        {
          "output_type": "stream",
          "name": "stdout",
          "text": [
            "rank8,lr0.0001,evalaution results:\n",
            "Average Cross-Entropy Loss: 2.2699\n",
            "Average MSE (Forecast):  2.6481\n"
          ]
        },
        {
          "output_type": "display_data",
          "data": {
            "text/plain": [
              "<IPython.core.display.HTML object>"
            ],
            "text/html": []
          },
          "metadata": {}
        },
        {
          "output_type": "display_data",
          "data": {
            "text/plain": [
              "<IPython.core.display.HTML object>"
            ],
            "text/html": [
              "<br>    <style><br>        .wandb-row {<br>            display: flex;<br>            flex-direction: row;<br>            flex-wrap: wrap;<br>            justify-content: flex-start;<br>            width: 100%;<br>        }<br>        .wandb-col {<br>            display: flex;<br>            flex-direction: column;<br>            flex-basis: 100%;<br>            flex: 1;<br>            padding: 10px;<br>        }<br>    </style><br><div class=\"wandb-row\"><div class=\"wandb-col\"><h3>Run history:</h3><br/><table class=\"wandb\"><tr><td>avg_loss</td><td>▁</td></tr><tr><td>avg_mse</td><td>▁</td></tr></table><br/></div><div class=\"wandb-col\"><h3>Run summary:</h3><br/><table class=\"wandb\"><tr><td>avg_loss</td><td>2.26989</td></tr><tr><td>avg_mse</td><td>2.64808</td></tr></table><br/></div></div>"
            ]
          },
          "metadata": {}
        },
        {
          "output_type": "display_data",
          "data": {
            "text/plain": [
              "<IPython.core.display.HTML object>"
            ],
            "text/html": [
              " View run <strong style=\"color:#cdcd00\">context-length:128_evaluation</strong> at: <a href='https://wandb.ai/liuyihao649-university-of-cambridge/m2-lora-different-context-len/runs/q5wiztsw' target=\"_blank\">https://wandb.ai/liuyihao649-university-of-cambridge/m2-lora-different-context-len/runs/q5wiztsw</a><br> View project at: <a href='https://wandb.ai/liuyihao649-university-of-cambridge/m2-lora-different-context-len' target=\"_blank\">https://wandb.ai/liuyihao649-university-of-cambridge/m2-lora-different-context-len</a><br>Synced 5 W&B file(s), 20 media file(s), 0 artifact file(s) and 0 other file(s)"
            ]
          },
          "metadata": {}
        },
        {
          "output_type": "display_data",
          "data": {
            "text/plain": [
              "<IPython.core.display.HTML object>"
            ],
            "text/html": [
              "Find logs at: <code>./wandb/run-20250330_000051-q5wiztsw/logs</code>"
            ]
          },
          "metadata": {}
        },
        {
          "output_type": "display_data",
          "data": {
            "text/plain": [
              "<IPython.core.display.HTML object>"
            ],
            "text/html": [
              "Tried to log to step 9 that is less than the current step 18. Steps must be monotonically increasing, so this data will be ignored. See https://wandb.me/define-metric to log data out of order."
            ]
          },
          "metadata": {}
        },
        {
          "output_type": "display_data",
          "data": {
            "text/plain": [
              "<IPython.core.display.HTML object>"
            ],
            "text/html": [
              "Tried to log to step 10 that is less than the current step 20. Steps must be monotonically increasing, so this data will be ignored. See https://wandb.me/define-metric to log data out of order."
            ]
          },
          "metadata": {}
        },
        {
          "output_type": "display_data",
          "data": {
            "text/plain": [
              "<IPython.core.display.HTML object>"
            ],
            "text/html": [
              "Tracking run with wandb version 0.19.8"
            ]
          },
          "metadata": {}
        },
        {
          "output_type": "display_data",
          "data": {
            "text/plain": [
              "<IPython.core.display.HTML object>"
            ],
            "text/html": [
              "Run data is saved locally in <code>/content/drive/MyDrive/m2cw/wandb/run-20250330_000133-ec5l0z1t</code>"
            ]
          },
          "metadata": {}
        },
        {
          "output_type": "display_data",
          "data": {
            "text/plain": [
              "<IPython.core.display.HTML object>"
            ],
            "text/html": [
              "Syncing run <strong><a href='https://wandb.ai/liuyihao649-university-of-cambridge/m2-lora-different-context-len/runs/ec5l0z1t' target=\"_blank\">context-length:512_train</a></strong> to <a href='https://wandb.ai/liuyihao649-university-of-cambridge/m2-lora-different-context-len' target=\"_blank\">Weights & Biases</a> (<a href='https://wandb.me/developer-guide' target=\"_blank\">docs</a>)<br>"
            ]
          },
          "metadata": {}
        },
        {
          "output_type": "display_data",
          "data": {
            "text/plain": [
              "<IPython.core.display.HTML object>"
            ],
            "text/html": [
              " View project at <a href='https://wandb.ai/liuyihao649-university-of-cambridge/m2-lora-different-context-len' target=\"_blank\">https://wandb.ai/liuyihao649-university-of-cambridge/m2-lora-different-context-len</a>"
            ]
          },
          "metadata": {}
        },
        {
          "output_type": "display_data",
          "data": {
            "text/plain": [
              "<IPython.core.display.HTML object>"
            ],
            "text/html": [
              " View run at <a href='https://wandb.ai/liuyihao649-university-of-cambridge/m2-lora-different-context-len/runs/ec5l0z1t' target=\"_blank\">https://wandb.ai/liuyihao649-university-of-cambridge/m2-lora-different-context-len/runs/ec5l0z1t</a>"
            ]
          },
          "metadata": {}
        },
        {
          "output_type": "stream",
          "name": "stderr",
          "text": [
            "Training:   5%|▌         | 50/1000 [00:14<04:37,  3.42it/s, loss=0.659]"
          ]
        },
        {
          "output_type": "stream",
          "name": "stdout",
          "text": [
            "Step 50: loss = 0.6589\n"
          ]
        },
        {
          "output_type": "stream",
          "name": "stderr",
          "text": [
            "Training:  10%|█         | 100/1000 [00:29<04:23,  3.42it/s, loss=0.632]"
          ]
        },
        {
          "output_type": "stream",
          "name": "stdout",
          "text": [
            "Step 100: loss = 0.6321\n"
          ]
        },
        {
          "output_type": "stream",
          "name": "stderr",
          "text": [
            "Training:  15%|█▌        | 150/1000 [00:43<04:08,  3.42it/s, loss=0.624]"
          ]
        },
        {
          "output_type": "stream",
          "name": "stdout",
          "text": [
            "Step 150: loss = 0.6240\n"
          ]
        },
        {
          "output_type": "stream",
          "name": "stderr",
          "text": [
            "Training:  20%|██        | 200/1000 [00:58<03:53,  3.42it/s, loss=0.568]"
          ]
        },
        {
          "output_type": "stream",
          "name": "stdout",
          "text": [
            "Step 200: loss = 0.5684\n"
          ]
        },
        {
          "output_type": "stream",
          "name": "stderr",
          "text": [
            "Training:  25%|██▌       | 250/1000 [01:13<03:39,  3.42it/s, loss=0.753]"
          ]
        },
        {
          "output_type": "stream",
          "name": "stdout",
          "text": [
            "Step 250: loss = 0.7533\n"
          ]
        },
        {
          "output_type": "stream",
          "name": "stderr",
          "text": [
            "Training:  30%|███       | 300/1000 [01:27<03:24,  3.43it/s, loss=0.608]"
          ]
        },
        {
          "output_type": "stream",
          "name": "stdout",
          "text": [
            "Step 300: loss = 0.6079\n"
          ]
        },
        {
          "output_type": "stream",
          "name": "stderr",
          "text": [
            "Training:  35%|███▌      | 350/1000 [01:42<03:09,  3.42it/s, loss=0.485]"
          ]
        },
        {
          "output_type": "stream",
          "name": "stdout",
          "text": [
            "Step 350: loss = 0.4849\n"
          ]
        },
        {
          "output_type": "stream",
          "name": "stderr",
          "text": [
            "Training:  40%|████      | 400/1000 [01:57<02:55,  3.42it/s, loss=0.611]"
          ]
        },
        {
          "output_type": "stream",
          "name": "stdout",
          "text": [
            "Step 400: loss = 0.6105\n"
          ]
        },
        {
          "output_type": "stream",
          "name": "stderr",
          "text": [
            "Training:  45%|████▌     | 450/1000 [02:11<02:40,  3.42it/s, loss=0.505]"
          ]
        },
        {
          "output_type": "stream",
          "name": "stdout",
          "text": [
            "Step 450: loss = 0.5055\n"
          ]
        },
        {
          "output_type": "stream",
          "name": "stderr",
          "text": [
            "Training:  50%|█████     | 500/1000 [02:26<02:26,  3.42it/s, loss=0.536]"
          ]
        },
        {
          "output_type": "stream",
          "name": "stdout",
          "text": [
            "Step 500: loss = 0.5355\n"
          ]
        },
        {
          "output_type": "stream",
          "name": "stderr",
          "text": [
            "Training:  55%|█████▌    | 550/1000 [02:40<02:11,  3.42it/s, loss=0.519]"
          ]
        },
        {
          "output_type": "stream",
          "name": "stdout",
          "text": [
            "Step 550: loss = 0.5193\n"
          ]
        },
        {
          "output_type": "stream",
          "name": "stderr",
          "text": [
            "Training:  60%|██████    | 600/1000 [02:55<01:56,  3.42it/s, loss=0.486]"
          ]
        },
        {
          "output_type": "stream",
          "name": "stdout",
          "text": [
            "Step 600: loss = 0.4863\n"
          ]
        },
        {
          "output_type": "stream",
          "name": "stderr",
          "text": [
            "Training:  65%|██████▌   | 650/1000 [03:10<01:42,  3.42it/s, loss=0.483]"
          ]
        },
        {
          "output_type": "stream",
          "name": "stdout",
          "text": [
            "Step 650: loss = 0.4833\n"
          ]
        },
        {
          "output_type": "stream",
          "name": "stderr",
          "text": [
            "Training:  70%|███████   | 700/1000 [03:24<01:27,  3.42it/s, loss=0.475]"
          ]
        },
        {
          "output_type": "stream",
          "name": "stdout",
          "text": [
            "Step 700: loss = 0.4753\n"
          ]
        },
        {
          "output_type": "stream",
          "name": "stderr",
          "text": [
            "Training:  75%|███████▌  | 750/1000 [03:39<01:13,  3.42it/s, loss=0.557]"
          ]
        },
        {
          "output_type": "stream",
          "name": "stdout",
          "text": [
            "Step 750: loss = 0.5574\n"
          ]
        },
        {
          "output_type": "stream",
          "name": "stderr",
          "text": [
            "Training:  80%|████████  | 800/1000 [03:53<00:58,  3.43it/s, loss=0.586]"
          ]
        },
        {
          "output_type": "stream",
          "name": "stdout",
          "text": [
            "Step 800: loss = 0.5855\n"
          ]
        },
        {
          "output_type": "stream",
          "name": "stderr",
          "text": [
            "Training:  85%|████████▌ | 850/1000 [04:08<00:43,  3.42it/s, loss=0.571]"
          ]
        },
        {
          "output_type": "stream",
          "name": "stdout",
          "text": [
            "Step 850: loss = 0.5711\n"
          ]
        },
        {
          "output_type": "stream",
          "name": "stderr",
          "text": [
            "Training:  90%|█████████ | 900/1000 [04:23<00:29,  3.43it/s, loss=0.346]"
          ]
        },
        {
          "output_type": "stream",
          "name": "stdout",
          "text": [
            "Step 900: loss = 0.3459\n"
          ]
        },
        {
          "output_type": "stream",
          "name": "stderr",
          "text": [
            "Training:  95%|█████████▌| 950/1000 [04:37<00:14,  3.42it/s, loss=0.422]"
          ]
        },
        {
          "output_type": "stream",
          "name": "stdout",
          "text": [
            "Step 950: loss = 0.4216\n"
          ]
        },
        {
          "output_type": "stream",
          "name": "stderr",
          "text": [
            "Training: 100%|██████████| 1000/1000 [04:52<00:00,  3.42it/s, loss=0.417]"
          ]
        },
        {
          "output_type": "stream",
          "name": "stdout",
          "text": [
            "Step 1000: loss = 0.4166\n"
          ]
        },
        {
          "output_type": "stream",
          "name": "stderr",
          "text": [
            "\n"
          ]
        },
        {
          "output_type": "display_data",
          "data": {
            "text/plain": [
              "<IPython.core.display.HTML object>"
            ],
            "text/html": []
          },
          "metadata": {}
        },
        {
          "output_type": "display_data",
          "data": {
            "text/plain": [
              "<IPython.core.display.HTML object>"
            ],
            "text/html": [
              "<br>    <style><br>        .wandb-row {<br>            display: flex;<br>            flex-direction: row;<br>            flex-wrap: wrap;<br>            justify-content: flex-start;<br>            width: 100%;<br>        }<br>        .wandb-col {<br>            display: flex;<br>            flex-direction: column;<br>            flex-basis: 100%;<br>            flex: 1;<br>            padding: 10px;<br>        }<br>    </style><br><div class=\"wandb-row\"><div class=\"wandb-col\"><h3>Run history:</h3><br/><table class=\"wandb\"><tr><td>loss</td><td>▇▅█▅▆▆▅▅▇▅▅▅█▆▅▇▄▃▃▃▃▂▃▄▃▃▁▄▁▄▃▃▄▃▄▂▃▃▄▂</td></tr><tr><td>step</td><td>▁▁▂▂▂▃▃▃▃▃▄▄▄▄▄▄▄▄▄▅▅▅▅▆▆▆▇▇▇▇▇▇▇▇▇▇████</td></tr></table><br/></div><div class=\"wandb-col\"><h3>Run summary:</h3><br/><table class=\"wandb\"><tr><td>loss</td><td>0.41657</td></tr><tr><td>step</td><td>999</td></tr></table><br/></div></div>"
            ]
          },
          "metadata": {}
        },
        {
          "output_type": "display_data",
          "data": {
            "text/plain": [
              "<IPython.core.display.HTML object>"
            ],
            "text/html": [
              " View run <strong style=\"color:#cdcd00\">context-length:512_train</strong> at: <a href='https://wandb.ai/liuyihao649-university-of-cambridge/m2-lora-different-context-len/runs/ec5l0z1t' target=\"_blank\">https://wandb.ai/liuyihao649-university-of-cambridge/m2-lora-different-context-len/runs/ec5l0z1t</a><br> View project at: <a href='https://wandb.ai/liuyihao649-university-of-cambridge/m2-lora-different-context-len' target=\"_blank\">https://wandb.ai/liuyihao649-university-of-cambridge/m2-lora-different-context-len</a><br>Synced 5 W&B file(s), 1 media file(s), 0 artifact file(s) and 0 other file(s)"
            ]
          },
          "metadata": {}
        },
        {
          "output_type": "display_data",
          "data": {
            "text/plain": [
              "<IPython.core.display.HTML object>"
            ],
            "text/html": [
              "Find logs at: <code>./wandb/run-20250330_000133-ec5l0z1t/logs</code>"
            ]
          },
          "metadata": {}
        },
        {
          "output_type": "display_data",
          "data": {
            "text/plain": [
              "<IPython.core.display.HTML object>"
            ],
            "text/html": [
              "Tracking run with wandb version 0.19.8"
            ]
          },
          "metadata": {}
        },
        {
          "output_type": "display_data",
          "data": {
            "text/plain": [
              "<IPython.core.display.HTML object>"
            ],
            "text/html": [
              "Run data is saved locally in <code>/content/drive/MyDrive/m2cw/wandb/run-20250330_000637-z9gmbppa</code>"
            ]
          },
          "metadata": {}
        },
        {
          "output_type": "display_data",
          "data": {
            "text/plain": [
              "<IPython.core.display.HTML object>"
            ],
            "text/html": [
              "Syncing run <strong><a href='https://wandb.ai/liuyihao649-university-of-cambridge/m2-lora-different-context-len/runs/z9gmbppa' target=\"_blank\">context-length:512_evaluation</a></strong> to <a href='https://wandb.ai/liuyihao649-university-of-cambridge/m2-lora-different-context-len' target=\"_blank\">Weights & Biases</a> (<a href='https://wandb.me/developer-guide' target=\"_blank\">docs</a>)<br>"
            ]
          },
          "metadata": {}
        },
        {
          "output_type": "display_data",
          "data": {
            "text/plain": [
              "<IPython.core.display.HTML object>"
            ],
            "text/html": [
              " View project at <a href='https://wandb.ai/liuyihao649-university-of-cambridge/m2-lora-different-context-len' target=\"_blank\">https://wandb.ai/liuyihao649-university-of-cambridge/m2-lora-different-context-len</a>"
            ]
          },
          "metadata": {}
        },
        {
          "output_type": "display_data",
          "data": {
            "text/plain": [
              "<IPython.core.display.HTML object>"
            ],
            "text/html": [
              " View run at <a href='https://wandb.ai/liuyihao649-university-of-cambridge/m2-lora-different-context-len/runs/z9gmbppa' target=\"_blank\">https://wandb.ai/liuyihao649-university-of-cambridge/m2-lora-different-context-len/runs/z9gmbppa</a>"
            ]
          },
          "metadata": {}
        },
        {
          "output_type": "stream",
          "name": "stderr",
          "text": [
            "\u001b[34m\u001b[1mwandb\u001b[0m: \u001b[33mWARNING\u001b[0m Tried to log to step 1 that is less than the current step 2. Steps must be monotonically increasing, so this data will be ignored. See https://wandb.me/define-metric to log data out of order.\n",
            "\u001b[34m\u001b[1mwandb\u001b[0m: \u001b[33mWARNING\u001b[0m Tried to log to step 2 that is less than the current step 4. Steps must be monotonically increasing, so this data will be ignored. See https://wandb.me/define-metric to log data out of order.\n",
            "\u001b[34m\u001b[1mwandb\u001b[0m: \u001b[33mWARNING\u001b[0m Tried to log to step 3 that is less than the current step 6. Steps must be monotonically increasing, so this data will be ignored. See https://wandb.me/define-metric to log data out of order.\n",
            "\u001b[34m\u001b[1mwandb\u001b[0m: \u001b[33mWARNING\u001b[0m Tried to log to step 4 that is less than the current step 8. Steps must be monotonically increasing, so this data will be ignored. See https://wandb.me/define-metric to log data out of order.\n",
            "\u001b[34m\u001b[1mwandb\u001b[0m: \u001b[33mWARNING\u001b[0m Tried to log to step 5 that is less than the current step 10. Steps must be monotonically increasing, so this data will be ignored. See https://wandb.me/define-metric to log data out of order.\n",
            "\u001b[34m\u001b[1mwandb\u001b[0m: \u001b[33mWARNING\u001b[0m Tried to log to step 6 that is less than the current step 12. Steps must be monotonically increasing, so this data will be ignored. See https://wandb.me/define-metric to log data out of order.\n",
            "\u001b[34m\u001b[1mwandb\u001b[0m: \u001b[33mWARNING\u001b[0m Tried to log to step 7 that is less than the current step 14. Steps must be monotonically increasing, so this data will be ignored. See https://wandb.me/define-metric to log data out of order.\n"
          ]
        },
        {
          "output_type": "stream",
          "name": "stdout",
          "text": [
            "rank8,lr0.0001,evalaution results:\n",
            "Average Cross-Entropy Loss: 1.6127\n",
            "Average MSE (Forecast):  0.0453\n"
          ]
        },
        {
          "output_type": "display_data",
          "data": {
            "text/plain": [
              "<IPython.core.display.HTML object>"
            ],
            "text/html": []
          },
          "metadata": {}
        },
        {
          "output_type": "display_data",
          "data": {
            "text/plain": [
              "<IPython.core.display.HTML object>"
            ],
            "text/html": [
              "<br>    <style><br>        .wandb-row {<br>            display: flex;<br>            flex-direction: row;<br>            flex-wrap: wrap;<br>            justify-content: flex-start;<br>            width: 100%;<br>        }<br>        .wandb-col {<br>            display: flex;<br>            flex-direction: column;<br>            flex-basis: 100%;<br>            flex: 1;<br>            padding: 10px;<br>        }<br>    </style><br><div class=\"wandb-row\"><div class=\"wandb-col\"><h3>Run history:</h3><br/><table class=\"wandb\"><tr><td>avg_loss</td><td>▁</td></tr><tr><td>avg_mse</td><td>▁</td></tr></table><br/></div><div class=\"wandb-col\"><h3>Run summary:</h3><br/><table class=\"wandb\"><tr><td>avg_loss</td><td>1.6127</td></tr><tr><td>avg_mse</td><td>0.04527</td></tr></table><br/></div></div>"
            ]
          },
          "metadata": {}
        },
        {
          "output_type": "display_data",
          "data": {
            "text/plain": [
              "<IPython.core.display.HTML object>"
            ],
            "text/html": [
              " View run <strong style=\"color:#cdcd00\">context-length:512_evaluation</strong> at: <a href='https://wandb.ai/liuyihao649-university-of-cambridge/m2-lora-different-context-len/runs/z9gmbppa' target=\"_blank\">https://wandb.ai/liuyihao649-university-of-cambridge/m2-lora-different-context-len/runs/z9gmbppa</a><br> View project at: <a href='https://wandb.ai/liuyihao649-university-of-cambridge/m2-lora-different-context-len' target=\"_blank\">https://wandb.ai/liuyihao649-university-of-cambridge/m2-lora-different-context-len</a><br>Synced 5 W&B file(s), 20 media file(s), 0 artifact file(s) and 0 other file(s)"
            ]
          },
          "metadata": {}
        },
        {
          "output_type": "display_data",
          "data": {
            "text/plain": [
              "<IPython.core.display.HTML object>"
            ],
            "text/html": [
              "Find logs at: <code>./wandb/run-20250330_000637-z9gmbppa/logs</code>"
            ]
          },
          "metadata": {}
        },
        {
          "output_type": "display_data",
          "data": {
            "text/plain": [
              "<IPython.core.display.HTML object>"
            ],
            "text/html": [
              "Tried to log to step 8 that is less than the current step 16. Steps must be monotonically increasing, so this data will be ignored. See https://wandb.me/define-metric to log data out of order."
            ]
          },
          "metadata": {}
        },
        {
          "output_type": "display_data",
          "data": {
            "text/plain": [
              "<IPython.core.display.HTML object>"
            ],
            "text/html": [
              "Tried to log to step 9 that is less than the current step 18. Steps must be monotonically increasing, so this data will be ignored. See https://wandb.me/define-metric to log data out of order."
            ]
          },
          "metadata": {}
        },
        {
          "output_type": "display_data",
          "data": {
            "text/plain": [
              "<IPython.core.display.HTML object>"
            ],
            "text/html": [
              "Tried to log to step 10 that is less than the current step 20. Steps must be monotonically increasing, so this data will be ignored. See https://wandb.me/define-metric to log data out of order."
            ]
          },
          "metadata": {}
        },
        {
          "output_type": "display_data",
          "data": {
            "text/plain": [
              "<IPython.core.display.HTML object>"
            ],
            "text/html": [
              "Tracking run with wandb version 0.19.8"
            ]
          },
          "metadata": {}
        },
        {
          "output_type": "display_data",
          "data": {
            "text/plain": [
              "<IPython.core.display.HTML object>"
            ],
            "text/html": [
              "Run data is saved locally in <code>/content/drive/MyDrive/m2cw/wandb/run-20250330_000720-yek3ez49</code>"
            ]
          },
          "metadata": {}
        },
        {
          "output_type": "display_data",
          "data": {
            "text/plain": [
              "<IPython.core.display.HTML object>"
            ],
            "text/html": [
              "Syncing run <strong><a href='https://wandb.ai/liuyihao649-university-of-cambridge/m2-lora-different-context-len/runs/yek3ez49' target=\"_blank\">context-length:768_train</a></strong> to <a href='https://wandb.ai/liuyihao649-university-of-cambridge/m2-lora-different-context-len' target=\"_blank\">Weights & Biases</a> (<a href='https://wandb.me/developer-guide' target=\"_blank\">docs</a>)<br>"
            ]
          },
          "metadata": {}
        },
        {
          "output_type": "display_data",
          "data": {
            "text/plain": [
              "<IPython.core.display.HTML object>"
            ],
            "text/html": [
              " View project at <a href='https://wandb.ai/liuyihao649-university-of-cambridge/m2-lora-different-context-len' target=\"_blank\">https://wandb.ai/liuyihao649-university-of-cambridge/m2-lora-different-context-len</a>"
            ]
          },
          "metadata": {}
        },
        {
          "output_type": "display_data",
          "data": {
            "text/plain": [
              "<IPython.core.display.HTML object>"
            ],
            "text/html": [
              " View run at <a href='https://wandb.ai/liuyihao649-university-of-cambridge/m2-lora-different-context-len/runs/yek3ez49' target=\"_blank\">https://wandb.ai/liuyihao649-university-of-cambridge/m2-lora-different-context-len/runs/yek3ez49</a>"
            ]
          },
          "metadata": {}
        },
        {
          "output_type": "stream",
          "name": "stderr",
          "text": [
            "Training:   5%|▌         | 50/1000 [00:21<06:41,  2.37it/s, loss=0.917]"
          ]
        },
        {
          "output_type": "stream",
          "name": "stdout",
          "text": [
            "Step 50: loss = 0.9171\n"
          ]
        },
        {
          "output_type": "stream",
          "name": "stderr",
          "text": [
            "Training:  10%|█         | 100/1000 [00:42<06:20,  2.37it/s, loss=0.736]"
          ]
        },
        {
          "output_type": "stream",
          "name": "stdout",
          "text": [
            "Step 100: loss = 0.7355\n"
          ]
        },
        {
          "output_type": "stream",
          "name": "stderr",
          "text": [
            "Training:  15%|█▌        | 150/1000 [01:03<05:58,  2.37it/s, loss=0.742]"
          ]
        },
        {
          "output_type": "stream",
          "name": "stdout",
          "text": [
            "Step 150: loss = 0.7423\n"
          ]
        },
        {
          "output_type": "stream",
          "name": "stderr",
          "text": [
            "Training:  20%|██        | 200/1000 [01:24<05:37,  2.37it/s, loss=0.737]"
          ]
        },
        {
          "output_type": "stream",
          "name": "stdout",
          "text": [
            "Step 200: loss = 0.7373\n"
          ]
        },
        {
          "output_type": "stream",
          "name": "stderr",
          "text": [
            "Training:  25%|██▌       | 250/1000 [01:45<05:16,  2.37it/s, loss=0.78]"
          ]
        },
        {
          "output_type": "stream",
          "name": "stdout",
          "text": [
            "Step 250: loss = 0.7798\n"
          ]
        },
        {
          "output_type": "stream",
          "name": "stderr",
          "text": [
            "Training:  30%|███       | 300/1000 [02:06<04:55,  2.37it/s, loss=0.577]"
          ]
        },
        {
          "output_type": "stream",
          "name": "stdout",
          "text": [
            "Step 300: loss = 0.5770\n"
          ]
        },
        {
          "output_type": "stream",
          "name": "stderr",
          "text": [
            "Training:  35%|███▌      | 350/1000 [02:27<04:34,  2.37it/s, loss=0.548]"
          ]
        },
        {
          "output_type": "stream",
          "name": "stdout",
          "text": [
            "Step 350: loss = 0.5483\n"
          ]
        },
        {
          "output_type": "stream",
          "name": "stderr",
          "text": [
            "Training:  40%|████      | 400/1000 [02:49<04:13,  2.37it/s, loss=0.541]"
          ]
        },
        {
          "output_type": "stream",
          "name": "stdout",
          "text": [
            "Step 400: loss = 0.5415\n"
          ]
        },
        {
          "output_type": "stream",
          "name": "stderr",
          "text": [
            "Training:  45%|████▌     | 450/1000 [03:10<03:52,  2.37it/s, loss=0.699]"
          ]
        },
        {
          "output_type": "stream",
          "name": "stdout",
          "text": [
            "Step 450: loss = 0.6992\n"
          ]
        },
        {
          "output_type": "stream",
          "name": "stderr",
          "text": [
            "Training:  50%|█████     | 500/1000 [03:31<03:31,  2.37it/s, loss=0.595]"
          ]
        },
        {
          "output_type": "stream",
          "name": "stdout",
          "text": [
            "Step 500: loss = 0.5948\n"
          ]
        },
        {
          "output_type": "stream",
          "name": "stderr",
          "text": [
            "Training:  55%|█████▌    | 550/1000 [03:52<03:10,  2.36it/s, loss=0.684]"
          ]
        },
        {
          "output_type": "stream",
          "name": "stdout",
          "text": [
            "Step 550: loss = 0.6839\n"
          ]
        },
        {
          "output_type": "stream",
          "name": "stderr",
          "text": [
            "Training:  60%|██████    | 600/1000 [04:13<02:49,  2.36it/s, loss=0.564]"
          ]
        },
        {
          "output_type": "stream",
          "name": "stdout",
          "text": [
            "Step 600: loss = 0.5639\n"
          ]
        },
        {
          "output_type": "stream",
          "name": "stderr",
          "text": [
            "Training:  65%|██████▌   | 650/1000 [04:34<02:27,  2.37it/s, loss=0.51]"
          ]
        },
        {
          "output_type": "stream",
          "name": "stdout",
          "text": [
            "Step 650: loss = 0.5103\n"
          ]
        },
        {
          "output_type": "stream",
          "name": "stderr",
          "text": [
            "Training:  70%|███████   | 700/1000 [04:55<02:06,  2.37it/s, loss=0.628]"
          ]
        },
        {
          "output_type": "stream",
          "name": "stdout",
          "text": [
            "Step 700: loss = 0.6284\n"
          ]
        },
        {
          "output_type": "stream",
          "name": "stderr",
          "text": [
            "Training:  75%|███████▌  | 750/1000 [05:16<01:45,  2.37it/s, loss=0.424]"
          ]
        },
        {
          "output_type": "stream",
          "name": "stdout",
          "text": [
            "Step 750: loss = 0.4242\n"
          ]
        },
        {
          "output_type": "stream",
          "name": "stderr",
          "text": [
            "Training:  80%|████████  | 800/1000 [05:38<01:24,  2.37it/s, loss=0.509]"
          ]
        },
        {
          "output_type": "stream",
          "name": "stdout",
          "text": [
            "Step 800: loss = 0.5091\n"
          ]
        },
        {
          "output_type": "stream",
          "name": "stderr",
          "text": [
            "Training:  85%|████████▌ | 850/1000 [05:59<01:03,  2.37it/s, loss=0.514]"
          ]
        },
        {
          "output_type": "stream",
          "name": "stdout",
          "text": [
            "Step 850: loss = 0.5142\n"
          ]
        },
        {
          "output_type": "stream",
          "name": "stderr",
          "text": [
            "Training:  90%|█████████ | 900/1000 [06:20<00:42,  2.37it/s, loss=0.48]"
          ]
        },
        {
          "output_type": "stream",
          "name": "stdout",
          "text": [
            "Step 900: loss = 0.4805\n"
          ]
        },
        {
          "output_type": "stream",
          "name": "stderr",
          "text": [
            "Training:  95%|█████████▌| 950/1000 [06:41<00:21,  2.37it/s, loss=0.539]"
          ]
        },
        {
          "output_type": "stream",
          "name": "stdout",
          "text": [
            "Step 950: loss = 0.5393\n"
          ]
        },
        {
          "output_type": "stream",
          "name": "stderr",
          "text": [
            "Training: 100%|██████████| 1000/1000 [07:02<00:00,  2.37it/s, loss=0.436]"
          ]
        },
        {
          "output_type": "stream",
          "name": "stdout",
          "text": [
            "Step 1000: loss = 0.4363\n"
          ]
        },
        {
          "output_type": "stream",
          "name": "stderr",
          "text": [
            "\n"
          ]
        },
        {
          "output_type": "display_data",
          "data": {
            "text/plain": [
              "<IPython.core.display.HTML object>"
            ],
            "text/html": []
          },
          "metadata": {}
        },
        {
          "output_type": "display_data",
          "data": {
            "text/plain": [
              "<IPython.core.display.HTML object>"
            ],
            "text/html": [
              "<br>    <style><br>        .wandb-row {<br>            display: flex;<br>            flex-direction: row;<br>            flex-wrap: wrap;<br>            justify-content: flex-start;<br>            width: 100%;<br>        }<br>        .wandb-col {<br>            display: flex;<br>            flex-direction: column;<br>            flex-basis: 100%;<br>            flex: 1;<br>            padding: 10px;<br>        }<br>    </style><br><div class=\"wandb-row\"><div class=\"wandb-col\"><h3>Run history:</h3><br/><table class=\"wandb\"><tr><td>loss</td><td>▄▇█▇▆▇▆▇▇█▇▅▅▅▅▄▄▄▆▅▅▃▃▃▆▄▄▃▆▄▃▄▃▄▂▃▁▃▄▃</td></tr><tr><td>step</td><td>▁▁▁▁▂▂▂▂▂▂▃▃▃▃▃▄▄▄▄▄▄▅▅▅▅▆▆▆▆▆▇▇▇▇▇▇▇███</td></tr></table><br/></div><div class=\"wandb-col\"><h3>Run summary:</h3><br/><table class=\"wandb\"><tr><td>loss</td><td>0.43626</td></tr><tr><td>step</td><td>999</td></tr></table><br/></div></div>"
            ]
          },
          "metadata": {}
        },
        {
          "output_type": "display_data",
          "data": {
            "text/plain": [
              "<IPython.core.display.HTML object>"
            ],
            "text/html": [
              " View run <strong style=\"color:#cdcd00\">context-length:768_train</strong> at: <a href='https://wandb.ai/liuyihao649-university-of-cambridge/m2-lora-different-context-len/runs/yek3ez49' target=\"_blank\">https://wandb.ai/liuyihao649-university-of-cambridge/m2-lora-different-context-len/runs/yek3ez49</a><br> View project at: <a href='https://wandb.ai/liuyihao649-university-of-cambridge/m2-lora-different-context-len' target=\"_blank\">https://wandb.ai/liuyihao649-university-of-cambridge/m2-lora-different-context-len</a><br>Synced 5 W&B file(s), 1 media file(s), 0 artifact file(s) and 0 other file(s)"
            ]
          },
          "metadata": {}
        },
        {
          "output_type": "display_data",
          "data": {
            "text/plain": [
              "<IPython.core.display.HTML object>"
            ],
            "text/html": [
              "Find logs at: <code>./wandb/run-20250330_000720-yek3ez49/logs</code>"
            ]
          },
          "metadata": {}
        },
        {
          "output_type": "display_data",
          "data": {
            "text/plain": [
              "<IPython.core.display.HTML object>"
            ],
            "text/html": [
              "Tracking run with wandb version 0.19.8"
            ]
          },
          "metadata": {}
        },
        {
          "output_type": "display_data",
          "data": {
            "text/plain": [
              "<IPython.core.display.HTML object>"
            ],
            "text/html": [
              "Run data is saved locally in <code>/content/drive/MyDrive/m2cw/wandb/run-20250330_001425-zzjanc19</code>"
            ]
          },
          "metadata": {}
        },
        {
          "output_type": "display_data",
          "data": {
            "text/plain": [
              "<IPython.core.display.HTML object>"
            ],
            "text/html": [
              "Syncing run <strong><a href='https://wandb.ai/liuyihao649-university-of-cambridge/m2-lora-different-context-len/runs/zzjanc19' target=\"_blank\">context-length:768_evaluation</a></strong> to <a href='https://wandb.ai/liuyihao649-university-of-cambridge/m2-lora-different-context-len' target=\"_blank\">Weights & Biases</a> (<a href='https://wandb.me/developer-guide' target=\"_blank\">docs</a>)<br>"
            ]
          },
          "metadata": {}
        },
        {
          "output_type": "display_data",
          "data": {
            "text/plain": [
              "<IPython.core.display.HTML object>"
            ],
            "text/html": [
              " View project at <a href='https://wandb.ai/liuyihao649-university-of-cambridge/m2-lora-different-context-len' target=\"_blank\">https://wandb.ai/liuyihao649-university-of-cambridge/m2-lora-different-context-len</a>"
            ]
          },
          "metadata": {}
        },
        {
          "output_type": "display_data",
          "data": {
            "text/plain": [
              "<IPython.core.display.HTML object>"
            ],
            "text/html": [
              " View run at <a href='https://wandb.ai/liuyihao649-university-of-cambridge/m2-lora-different-context-len/runs/zzjanc19' target=\"_blank\">https://wandb.ai/liuyihao649-university-of-cambridge/m2-lora-different-context-len/runs/zzjanc19</a>"
            ]
          },
          "metadata": {}
        },
        {
          "output_type": "stream",
          "name": "stderr",
          "text": [
            "\u001b[34m\u001b[1mwandb\u001b[0m: \u001b[33mWARNING\u001b[0m Tried to log to step 1 that is less than the current step 2. Steps must be monotonically increasing, so this data will be ignored. See https://wandb.me/define-metric to log data out of order.\n",
            "\u001b[34m\u001b[1mwandb\u001b[0m: \u001b[33mWARNING\u001b[0m Tried to log to step 2 that is less than the current step 4. Steps must be monotonically increasing, so this data will be ignored. See https://wandb.me/define-metric to log data out of order.\n",
            "\u001b[34m\u001b[1mwandb\u001b[0m: \u001b[33mWARNING\u001b[0m Tried to log to step 3 that is less than the current step 6. Steps must be monotonically increasing, so this data will be ignored. See https://wandb.me/define-metric to log data out of order.\n",
            "\u001b[34m\u001b[1mwandb\u001b[0m: \u001b[33mWARNING\u001b[0m Tried to log to step 4 that is less than the current step 8. Steps must be monotonically increasing, so this data will be ignored. See https://wandb.me/define-metric to log data out of order.\n",
            "\u001b[34m\u001b[1mwandb\u001b[0m: \u001b[33mWARNING\u001b[0m Tried to log to step 5 that is less than the current step 10. Steps must be monotonically increasing, so this data will be ignored. See https://wandb.me/define-metric to log data out of order.\n",
            "\u001b[34m\u001b[1mwandb\u001b[0m: \u001b[33mWARNING\u001b[0m Tried to log to step 6 that is less than the current step 12. Steps must be monotonically increasing, so this data will be ignored. See https://wandb.me/define-metric to log data out of order.\n",
            "\u001b[34m\u001b[1mwandb\u001b[0m: \u001b[33mWARNING\u001b[0m Tried to log to step 7 that is less than the current step 14. Steps must be monotonically increasing, so this data will be ignored. See https://wandb.me/define-metric to log data out of order.\n"
          ]
        },
        {
          "output_type": "stream",
          "name": "stdout",
          "text": [
            "rank8,lr0.0001,evalaution results:\n",
            "Average Cross-Entropy Loss: 1.4701\n",
            "Average MSE (Forecast):  0.0273\n"
          ]
        },
        {
          "output_type": "display_data",
          "data": {
            "text/plain": [
              "<IPython.core.display.HTML object>"
            ],
            "text/html": []
          },
          "metadata": {}
        },
        {
          "output_type": "display_data",
          "data": {
            "text/plain": [
              "<IPython.core.display.HTML object>"
            ],
            "text/html": [
              "<br>    <style><br>        .wandb-row {<br>            display: flex;<br>            flex-direction: row;<br>            flex-wrap: wrap;<br>            justify-content: flex-start;<br>            width: 100%;<br>        }<br>        .wandb-col {<br>            display: flex;<br>            flex-direction: column;<br>            flex-basis: 100%;<br>            flex: 1;<br>            padding: 10px;<br>        }<br>    </style><br><div class=\"wandb-row\"><div class=\"wandb-col\"><h3>Run history:</h3><br/><table class=\"wandb\"><tr><td>avg_loss</td><td>▁</td></tr><tr><td>avg_mse</td><td>▁</td></tr></table><br/></div><div class=\"wandb-col\"><h3>Run summary:</h3><br/><table class=\"wandb\"><tr><td>avg_loss</td><td>1.47013</td></tr><tr><td>avg_mse</td><td>0.02732</td></tr></table><br/></div></div>"
            ]
          },
          "metadata": {}
        },
        {
          "output_type": "display_data",
          "data": {
            "text/plain": [
              "<IPython.core.display.HTML object>"
            ],
            "text/html": [
              " View run <strong style=\"color:#cdcd00\">context-length:768_evaluation</strong> at: <a href='https://wandb.ai/liuyihao649-university-of-cambridge/m2-lora-different-context-len/runs/zzjanc19' target=\"_blank\">https://wandb.ai/liuyihao649-university-of-cambridge/m2-lora-different-context-len/runs/zzjanc19</a><br> View project at: <a href='https://wandb.ai/liuyihao649-university-of-cambridge/m2-lora-different-context-len' target=\"_blank\">https://wandb.ai/liuyihao649-university-of-cambridge/m2-lora-different-context-len</a><br>Synced 5 W&B file(s), 20 media file(s), 0 artifact file(s) and 0 other file(s)"
            ]
          },
          "metadata": {}
        },
        {
          "output_type": "display_data",
          "data": {
            "text/plain": [
              "<IPython.core.display.HTML object>"
            ],
            "text/html": [
              "Find logs at: <code>./wandb/run-20250330_001425-zzjanc19/logs</code>"
            ]
          },
          "metadata": {}
        },
        {
          "output_type": "display_data",
          "data": {
            "text/plain": [
              "<IPython.core.display.HTML object>"
            ],
            "text/html": [
              "Tried to log to step 8 that is less than the current step 16. Steps must be monotonically increasing, so this data will be ignored. See https://wandb.me/define-metric to log data out of order."
            ]
          },
          "metadata": {}
        },
        {
          "output_type": "display_data",
          "data": {
            "text/plain": [
              "<IPython.core.display.HTML object>"
            ],
            "text/html": [
              "Tried to log to step 9 that is less than the current step 18. Steps must be monotonically increasing, so this data will be ignored. See https://wandb.me/define-metric to log data out of order."
            ]
          },
          "metadata": {}
        },
        {
          "output_type": "display_data",
          "data": {
            "text/plain": [
              "<IPython.core.display.HTML object>"
            ],
            "text/html": [
              "Tried to log to step 10 that is less than the current step 20. Steps must be monotonically increasing, so this data will be ignored. See https://wandb.me/define-metric to log data out of order."
            ]
          },
          "metadata": {}
        }
      ]
    },
    {
      "cell_type": "code",
      "source": [
        "wandb.init(\n",
        "    project=\"m2-lora-final-long-run-8-1e-4-768\",\n",
        "        name=f\"final_train\",\n",
        "        reinit=True)\n",
        "train_ids,_,_=load_data(tokenizer,max_ctx_length=768)\n",
        "\n",
        "base_model,_ = load_qwen()\n",
        "\n",
        "apply_lora(base_model,r=8)\n",
        "\n",
        "_ = train_lora(\n",
        "    base_model,\n",
        "    train_ids,\n",
        "    learning_rate=1e-4,\n",
        "    batch_size=4,\n",
        "    max_steps=3000\n",
        ")\n",
        "\n",
        "\n",
        "\n",
        "wandb.init(\n",
        "    project=\"m2-lora-different-context-len\",\n",
        "    name=f\"final_evaluation\",\n",
        "    reinit=True\n",
        ")\n",
        "val_loss, val_mse = evaluation(base_model, tokenizer, tokenized_val)\n",
        "\n",
        "\n",
        "print(f\"final evalaution results:\")\n",
        "print(f\"Average Cross-Entropy Loss: {val_loss:.4f}\")\n",
        "print(f\"Average MSE (Forecast):  {val_mse:.4f}\")\n",
        "\n",
        "wandb.finish()\n"
      ],
      "metadata": {
        "colab": {
          "base_uri": "https://localhost:8080/",
          "height": 1000
        },
        "id": "_DHbruhsVyZl",
        "outputId": "85f8a7a7-bb6a-4d1d-908e-abd13c900d26"
      },
      "execution_count": 11,
      "outputs": [
        {
          "output_type": "display_data",
          "data": {
            "text/plain": [
              "<IPython.core.display.HTML object>"
            ],
            "text/html": []
          },
          "metadata": {}
        },
        {
          "output_type": "display_data",
          "data": {
            "text/plain": [
              "<IPython.core.display.HTML object>"
            ],
            "text/html": [
              " View run <strong style=\"color:#cdcd00\">final_train</strong> at: <a href='https://wandb.ai/liuyihao649-university-of-cambridge/m2-lora-final-long-run/runs/krfhxoq8' target=\"_blank\">https://wandb.ai/liuyihao649-university-of-cambridge/m2-lora-final-long-run/runs/krfhxoq8</a><br> View project at: <a href='https://wandb.ai/liuyihao649-university-of-cambridge/m2-lora-final-long-run' target=\"_blank\">https://wandb.ai/liuyihao649-university-of-cambridge/m2-lora-final-long-run</a><br>Synced 5 W&B file(s), 0 media file(s), 0 artifact file(s) and 0 other file(s)"
            ]
          },
          "metadata": {}
        },
        {
          "output_type": "display_data",
          "data": {
            "text/plain": [
              "<IPython.core.display.HTML object>"
            ],
            "text/html": [
              "Find logs at: <code>./wandb/run-20250330_001558-krfhxoq8/logs</code>"
            ]
          },
          "metadata": {}
        },
        {
          "output_type": "display_data",
          "data": {
            "text/plain": [
              "<IPython.core.display.HTML object>"
            ],
            "text/html": [
              "Tracking run with wandb version 0.19.8"
            ]
          },
          "metadata": {}
        },
        {
          "output_type": "display_data",
          "data": {
            "text/plain": [
              "<IPython.core.display.HTML object>"
            ],
            "text/html": [
              "Run data is saved locally in <code>/content/drive/MyDrive/m2cw/wandb/run-20250330_001712-ta2sqder</code>"
            ]
          },
          "metadata": {}
        },
        {
          "output_type": "display_data",
          "data": {
            "text/plain": [
              "<IPython.core.display.HTML object>"
            ],
            "text/html": [
              "Syncing run <strong><a href='https://wandb.ai/liuyihao649-university-of-cambridge/m2-lora-final-long-run-8-1e-4-768/runs/ta2sqder' target=\"_blank\">final_train</a></strong> to <a href='https://wandb.ai/liuyihao649-university-of-cambridge/m2-lora-final-long-run-8-1e-4-768' target=\"_blank\">Weights & Biases</a> (<a href='https://wandb.me/developer-guide' target=\"_blank\">docs</a>)<br>"
            ]
          },
          "metadata": {}
        },
        {
          "output_type": "display_data",
          "data": {
            "text/plain": [
              "<IPython.core.display.HTML object>"
            ],
            "text/html": [
              " View project at <a href='https://wandb.ai/liuyihao649-university-of-cambridge/m2-lora-final-long-run-8-1e-4-768' target=\"_blank\">https://wandb.ai/liuyihao649-university-of-cambridge/m2-lora-final-long-run-8-1e-4-768</a>"
            ]
          },
          "metadata": {}
        },
        {
          "output_type": "display_data",
          "data": {
            "text/plain": [
              "<IPython.core.display.HTML object>"
            ],
            "text/html": [
              " View run at <a href='https://wandb.ai/liuyihao649-university-of-cambridge/m2-lora-final-long-run-8-1e-4-768/runs/ta2sqder' target=\"_blank\">https://wandb.ai/liuyihao649-university-of-cambridge/m2-lora-final-long-run-8-1e-4-768/runs/ta2sqder</a>"
            ]
          },
          "metadata": {}
        },
        {
          "output_type": "stream",
          "name": "stderr",
          "text": [
            "Training:   2%|▏         | 50/3000 [00:21<20:41,  2.38it/s, loss=0.468]"
          ]
        },
        {
          "output_type": "stream",
          "name": "stdout",
          "text": [
            "Step 50: loss = 0.4675\n"
          ]
        },
        {
          "output_type": "stream",
          "name": "stderr",
          "text": [
            "Training:   3%|▎         | 100/3000 [00:42<20:18,  2.38it/s, loss=0.513]"
          ]
        },
        {
          "output_type": "stream",
          "name": "stdout",
          "text": [
            "Step 100: loss = 0.5129\n"
          ]
        },
        {
          "output_type": "stream",
          "name": "stderr",
          "text": [
            "Training:   5%|▌         | 150/3000 [01:03<19:57,  2.38it/s, loss=0.405]"
          ]
        },
        {
          "output_type": "stream",
          "name": "stdout",
          "text": [
            "Step 150: loss = 0.4051\n"
          ]
        },
        {
          "output_type": "stream",
          "name": "stderr",
          "text": [
            "Training:   7%|▋         | 200/3000 [01:24<19:35,  2.38it/s, loss=0.406]"
          ]
        },
        {
          "output_type": "stream",
          "name": "stdout",
          "text": [
            "Step 200: loss = 0.4062\n"
          ]
        },
        {
          "output_type": "stream",
          "name": "stderr",
          "text": [
            "Training:   8%|▊         | 250/3000 [01:45<19:15,  2.38it/s, loss=0.417]"
          ]
        },
        {
          "output_type": "stream",
          "name": "stdout",
          "text": [
            "Step 250: loss = 0.4165\n"
          ]
        },
        {
          "output_type": "stream",
          "name": "stderr",
          "text": [
            "Training:  10%|█         | 300/3000 [02:06<18:54,  2.38it/s, loss=0.406]"
          ]
        },
        {
          "output_type": "stream",
          "name": "stdout",
          "text": [
            "Step 300: loss = 0.4061\n"
          ]
        },
        {
          "output_type": "stream",
          "name": "stderr",
          "text": [
            "Training:  12%|█▏        | 350/3000 [02:27<18:33,  2.38it/s, loss=0.533]"
          ]
        },
        {
          "output_type": "stream",
          "name": "stdout",
          "text": [
            "Step 350: loss = 0.5334\n"
          ]
        },
        {
          "output_type": "stream",
          "name": "stderr",
          "text": [
            "Training:  13%|█▎        | 400/3000 [02:48<18:14,  2.38it/s, loss=0.382]"
          ]
        },
        {
          "output_type": "stream",
          "name": "stdout",
          "text": [
            "Step 400: loss = 0.3824\n"
          ]
        },
        {
          "output_type": "stream",
          "name": "stderr",
          "text": [
            "Training:  15%|█▌        | 450/3000 [03:09<17:50,  2.38it/s, loss=0.357]"
          ]
        },
        {
          "output_type": "stream",
          "name": "stdout",
          "text": [
            "Step 450: loss = 0.3568\n"
          ]
        },
        {
          "output_type": "stream",
          "name": "stderr",
          "text": [
            "Training:  17%|█▋        | 500/3000 [03:30<17:30,  2.38it/s, loss=0.426]"
          ]
        },
        {
          "output_type": "stream",
          "name": "stdout",
          "text": [
            "Step 500: loss = 0.4256\n"
          ]
        },
        {
          "output_type": "stream",
          "name": "stderr",
          "text": [
            "Training:  18%|█▊        | 550/3000 [03:51<17:10,  2.38it/s, loss=0.286]"
          ]
        },
        {
          "output_type": "stream",
          "name": "stdout",
          "text": [
            "Step 550: loss = 0.2858\n"
          ]
        },
        {
          "output_type": "stream",
          "name": "stderr",
          "text": [
            "Training:  20%|██        | 600/3000 [04:12<16:48,  2.38it/s, loss=0.351]"
          ]
        },
        {
          "output_type": "stream",
          "name": "stdout",
          "text": [
            "Step 600: loss = 0.3512\n"
          ]
        },
        {
          "output_type": "stream",
          "name": "stderr",
          "text": [
            "Training:  22%|██▏       | 650/3000 [04:33<16:27,  2.38it/s, loss=0.436]"
          ]
        },
        {
          "output_type": "stream",
          "name": "stdout",
          "text": [
            "Step 650: loss = 0.4362\n"
          ]
        },
        {
          "output_type": "stream",
          "name": "stderr",
          "text": [
            "Training:  23%|██▎       | 700/3000 [04:54<16:08,  2.38it/s, loss=0.394]"
          ]
        },
        {
          "output_type": "stream",
          "name": "stdout",
          "text": [
            "Step 700: loss = 0.3941\n"
          ]
        },
        {
          "output_type": "stream",
          "name": "stderr",
          "text": [
            "Training:  25%|██▌       | 750/3000 [05:15<15:46,  2.38it/s, loss=0.278]"
          ]
        },
        {
          "output_type": "stream",
          "name": "stdout",
          "text": [
            "Step 750: loss = 0.2780\n"
          ]
        },
        {
          "output_type": "stream",
          "name": "stderr",
          "text": [
            "Training:  27%|██▋       | 800/3000 [05:36<15:25,  2.38it/s, loss=0.397]"
          ]
        },
        {
          "output_type": "stream",
          "name": "stdout",
          "text": [
            "Step 800: loss = 0.3971\n"
          ]
        },
        {
          "output_type": "stream",
          "name": "stderr",
          "text": [
            "Training:  28%|██▊       | 850/3000 [05:57<15:04,  2.38it/s, loss=0.283]"
          ]
        },
        {
          "output_type": "stream",
          "name": "stdout",
          "text": [
            "Step 850: loss = 0.2830\n"
          ]
        },
        {
          "output_type": "stream",
          "name": "stderr",
          "text": [
            "Training:  30%|███       | 900/3000 [06:18<14:43,  2.38it/s, loss=0.312]"
          ]
        },
        {
          "output_type": "stream",
          "name": "stdout",
          "text": [
            "Step 900: loss = 0.3124\n"
          ]
        },
        {
          "output_type": "stream",
          "name": "stderr",
          "text": [
            "Training:  32%|███▏      | 950/3000 [06:39<14:21,  2.38it/s, loss=0.378]"
          ]
        },
        {
          "output_type": "stream",
          "name": "stdout",
          "text": [
            "Step 950: loss = 0.3779\n"
          ]
        },
        {
          "output_type": "stream",
          "name": "stderr",
          "text": [
            "Training:  33%|███▎      | 1000/3000 [07:00<14:02,  2.37it/s, loss=0.291]"
          ]
        },
        {
          "output_type": "stream",
          "name": "stdout",
          "text": [
            "Step 1000: loss = 0.2909\n"
          ]
        },
        {
          "output_type": "stream",
          "name": "stderr",
          "text": [
            "Training:  35%|███▌      | 1050/3000 [07:21<13:40,  2.38it/s, loss=0.382]"
          ]
        },
        {
          "output_type": "stream",
          "name": "stdout",
          "text": [
            "Step 1050: loss = 0.3822\n"
          ]
        },
        {
          "output_type": "stream",
          "name": "stderr",
          "text": [
            "Training:  37%|███▋      | 1100/3000 [07:42<13:19,  2.38it/s, loss=0.285]"
          ]
        },
        {
          "output_type": "stream",
          "name": "stdout",
          "text": [
            "Step 1100: loss = 0.2847\n"
          ]
        },
        {
          "output_type": "stream",
          "name": "stderr",
          "text": [
            "Training:  38%|███▊      | 1150/3000 [08:03<12:58,  2.38it/s, loss=0.3]"
          ]
        },
        {
          "output_type": "stream",
          "name": "stdout",
          "text": [
            "Step 1150: loss = 0.3000\n"
          ]
        },
        {
          "output_type": "stream",
          "name": "stderr",
          "text": [
            "Training:  40%|████      | 1200/3000 [08:24<12:38,  2.37it/s, loss=0.261]"
          ]
        },
        {
          "output_type": "stream",
          "name": "stdout",
          "text": [
            "Step 1200: loss = 0.2614\n"
          ]
        },
        {
          "output_type": "stream",
          "name": "stderr",
          "text": [
            "Training:  42%|████▏     | 1250/3000 [08:46<12:16,  2.38it/s, loss=0.325]"
          ]
        },
        {
          "output_type": "stream",
          "name": "stdout",
          "text": [
            "Step 1250: loss = 0.3254\n"
          ]
        },
        {
          "output_type": "stream",
          "name": "stderr",
          "text": [
            "Training:  43%|████▎     | 1300/3000 [09:07<11:55,  2.38it/s, loss=0.268]"
          ]
        },
        {
          "output_type": "stream",
          "name": "stdout",
          "text": [
            "Step 1300: loss = 0.2676\n"
          ]
        },
        {
          "output_type": "stream",
          "name": "stderr",
          "text": [
            "Training:  45%|████▌     | 1350/3000 [09:28<11:34,  2.38it/s, loss=0.336]"
          ]
        },
        {
          "output_type": "stream",
          "name": "stdout",
          "text": [
            "Step 1350: loss = 0.3364\n"
          ]
        },
        {
          "output_type": "stream",
          "name": "stderr",
          "text": [
            "Training:  47%|████▋     | 1400/3000 [09:49<11:13,  2.37it/s, loss=0.282]"
          ]
        },
        {
          "output_type": "stream",
          "name": "stdout",
          "text": [
            "Step 1400: loss = 0.2820\n"
          ]
        },
        {
          "output_type": "stream",
          "name": "stderr",
          "text": [
            "Training:  48%|████▊     | 1450/3000 [10:10<10:51,  2.38it/s, loss=0.304]"
          ]
        },
        {
          "output_type": "stream",
          "name": "stdout",
          "text": [
            "Step 1450: loss = 0.3038\n"
          ]
        },
        {
          "output_type": "stream",
          "name": "stderr",
          "text": [
            "Training:  50%|█████     | 1500/3000 [10:31<10:32,  2.37it/s, loss=0.347]"
          ]
        },
        {
          "output_type": "stream",
          "name": "stdout",
          "text": [
            "Step 1500: loss = 0.3467\n"
          ]
        },
        {
          "output_type": "stream",
          "name": "stderr",
          "text": [
            "Training:  52%|█████▏    | 1550/3000 [10:52<10:09,  2.38it/s, loss=0.342]"
          ]
        },
        {
          "output_type": "stream",
          "name": "stdout",
          "text": [
            "Step 1550: loss = 0.3422\n"
          ]
        },
        {
          "output_type": "stream",
          "name": "stderr",
          "text": [
            "Training:  53%|█████▎    | 1600/3000 [11:13<09:49,  2.37it/s, loss=0.292]"
          ]
        },
        {
          "output_type": "stream",
          "name": "stdout",
          "text": [
            "Step 1600: loss = 0.2921\n"
          ]
        },
        {
          "output_type": "stream",
          "name": "stderr",
          "text": [
            "Training:  55%|█████▌    | 1650/3000 [11:34<09:27,  2.38it/s, loss=0.288]"
          ]
        },
        {
          "output_type": "stream",
          "name": "stdout",
          "text": [
            "Step 1650: loss = 0.2882\n"
          ]
        },
        {
          "output_type": "stream",
          "name": "stderr",
          "text": [
            "Training:  57%|█████▋    | 1700/3000 [11:55<09:06,  2.38it/s, loss=0.368]"
          ]
        },
        {
          "output_type": "stream",
          "name": "stdout",
          "text": [
            "Step 1700: loss = 0.3680\n"
          ]
        },
        {
          "output_type": "stream",
          "name": "stderr",
          "text": [
            "Training:  58%|█████▊    | 1750/3000 [12:16<08:44,  2.38it/s, loss=0.317]"
          ]
        },
        {
          "output_type": "stream",
          "name": "stdout",
          "text": [
            "Step 1750: loss = 0.3168\n"
          ]
        },
        {
          "output_type": "stream",
          "name": "stderr",
          "text": [
            "Training:  60%|██████    | 1800/3000 [12:37<08:24,  2.38it/s, loss=0.327]"
          ]
        },
        {
          "output_type": "stream",
          "name": "stdout",
          "text": [
            "Step 1800: loss = 0.3266\n"
          ]
        },
        {
          "output_type": "stream",
          "name": "stderr",
          "text": [
            "Training:  62%|██████▏   | 1850/3000 [12:58<08:03,  2.38it/s, loss=0.313]"
          ]
        },
        {
          "output_type": "stream",
          "name": "stdout",
          "text": [
            "Step 1850: loss = 0.3134\n"
          ]
        },
        {
          "output_type": "stream",
          "name": "stderr",
          "text": [
            "Training:  63%|██████▎   | 1900/3000 [13:19<07:42,  2.38it/s, loss=0.259]"
          ]
        },
        {
          "output_type": "stream",
          "name": "stdout",
          "text": [
            "Step 1900: loss = 0.2586\n"
          ]
        },
        {
          "output_type": "stream",
          "name": "stderr",
          "text": [
            "Training:  65%|██████▌   | 1950/3000 [13:40<07:20,  2.38it/s, loss=0.311]"
          ]
        },
        {
          "output_type": "stream",
          "name": "stdout",
          "text": [
            "Step 1950: loss = 0.3106\n"
          ]
        },
        {
          "output_type": "stream",
          "name": "stderr",
          "text": [
            "Training:  67%|██████▋   | 2000/3000 [14:01<07:00,  2.38it/s, loss=0.221]"
          ]
        },
        {
          "output_type": "stream",
          "name": "stdout",
          "text": [
            "Step 2000: loss = 0.2205\n"
          ]
        },
        {
          "output_type": "stream",
          "name": "stderr",
          "text": [
            "Training:  68%|██████▊   | 2050/3000 [14:22<06:39,  2.38it/s, loss=0.302]"
          ]
        },
        {
          "output_type": "stream",
          "name": "stdout",
          "text": [
            "Step 2050: loss = 0.3019\n"
          ]
        },
        {
          "output_type": "stream",
          "name": "stderr",
          "text": [
            "Training:  70%|███████   | 2100/3000 [14:43<06:19,  2.37it/s, loss=0.267]"
          ]
        },
        {
          "output_type": "stream",
          "name": "stdout",
          "text": [
            "Step 2100: loss = 0.2671\n"
          ]
        },
        {
          "output_type": "stream",
          "name": "stderr",
          "text": [
            "Training:  72%|███████▏  | 2150/3000 [15:04<05:57,  2.38it/s, loss=0.271]"
          ]
        },
        {
          "output_type": "stream",
          "name": "stdout",
          "text": [
            "Step 2150: loss = 0.2708\n"
          ]
        },
        {
          "output_type": "stream",
          "name": "stderr",
          "text": [
            "Training:  73%|███████▎  | 2200/3000 [15:25<05:36,  2.38it/s, loss=0.336]"
          ]
        },
        {
          "output_type": "stream",
          "name": "stdout",
          "text": [
            "Step 2200: loss = 0.3362\n"
          ]
        },
        {
          "output_type": "stream",
          "name": "stderr",
          "text": [
            "Training:  75%|███████▌  | 2250/3000 [15:46<05:14,  2.38it/s, loss=0.342]"
          ]
        },
        {
          "output_type": "stream",
          "name": "stdout",
          "text": [
            "Step 2250: loss = 0.3416\n"
          ]
        },
        {
          "output_type": "stream",
          "name": "stderr",
          "text": [
            "Training:  76%|███████▌  | 2278/3000 [15:58<05:03,  2.38it/s, loss=0.32] "
          ]
        },
        {
          "output_type": "error",
          "ename": "KeyboardInterrupt",
          "evalue": "",
          "traceback": [
            "\u001b[0;31m---------------------------------------------------------------------------\u001b[0m",
            "\u001b[0;31mKeyboardInterrupt\u001b[0m                         Traceback (most recent call last)",
            "\u001b[0;32m<ipython-input-11-0319e3d78df6>\u001b[0m in \u001b[0;36m<cell line: 0>\u001b[0;34m()\u001b[0m\n\u001b[1;32m      9\u001b[0m \u001b[0mapply_lora\u001b[0m\u001b[0;34m(\u001b[0m\u001b[0mbase_model\u001b[0m\u001b[0;34m,\u001b[0m\u001b[0mr\u001b[0m\u001b[0;34m=\u001b[0m\u001b[0;36m8\u001b[0m\u001b[0;34m)\u001b[0m\u001b[0;34m\u001b[0m\u001b[0;34m\u001b[0m\u001b[0m\n\u001b[1;32m     10\u001b[0m \u001b[0;34m\u001b[0m\u001b[0m\n\u001b[0;32m---> 11\u001b[0;31m _ = train_lora(\n\u001b[0m\u001b[1;32m     12\u001b[0m     \u001b[0mbase_model\u001b[0m\u001b[0;34m,\u001b[0m\u001b[0;34m\u001b[0m\u001b[0;34m\u001b[0m\u001b[0m\n\u001b[1;32m     13\u001b[0m     \u001b[0mtrain_ids\u001b[0m\u001b[0;34m,\u001b[0m\u001b[0;34m\u001b[0m\u001b[0;34m\u001b[0m\u001b[0m\n",
            "\u001b[0;32m/content/drive/MyDrive/m2cw/lora_skeleton.py\u001b[0m in \u001b[0;36mtrain_lora\u001b[0;34m(model, train_input_ids, learning_rate, batch_size, max_steps)\u001b[0m\n\u001b[1;32m     89\u001b[0m \u001b[0;34m\u001b[0m\u001b[0m\n\u001b[1;32m     90\u001b[0m             \u001b[0mloss\u001b[0m \u001b[0;34m=\u001b[0m \u001b[0moutputs\u001b[0m\u001b[0;34m.\u001b[0m\u001b[0mloss\u001b[0m\u001b[0;34m\u001b[0m\u001b[0;34m\u001b[0m\u001b[0m\n\u001b[0;32m---> 91\u001b[0;31m             \u001b[0maccelerator\u001b[0m\u001b[0;34m.\u001b[0m\u001b[0mbackward\u001b[0m\u001b[0;34m(\u001b[0m\u001b[0mloss\u001b[0m\u001b[0;34m)\u001b[0m\u001b[0;34m\u001b[0m\u001b[0;34m\u001b[0m\u001b[0m\n\u001b[0m\u001b[1;32m     92\u001b[0m             \u001b[0moptimizer\u001b[0m\u001b[0;34m.\u001b[0m\u001b[0mstep\u001b[0m\u001b[0;34m(\u001b[0m\u001b[0;34m)\u001b[0m\u001b[0;34m\u001b[0m\u001b[0;34m\u001b[0m\u001b[0m\n\u001b[1;32m     93\u001b[0m \u001b[0;34m\u001b[0m\u001b[0m\n",
            "\u001b[0;32m/usr/local/lib/python3.11/dist-packages/accelerate/accelerator.py\u001b[0m in \u001b[0;36mbackward\u001b[0;34m(self, loss, **kwargs)\u001b[0m\n\u001b[1;32m   2357\u001b[0m             \u001b[0mself\u001b[0m\u001b[0;34m.\u001b[0m\u001b[0mlomo_backward\u001b[0m\u001b[0;34m(\u001b[0m\u001b[0mloss\u001b[0m\u001b[0;34m,\u001b[0m \u001b[0mlearning_rate\u001b[0m\u001b[0;34m)\u001b[0m\u001b[0;34m\u001b[0m\u001b[0;34m\u001b[0m\u001b[0m\n\u001b[1;32m   2358\u001b[0m         \u001b[0;32melse\u001b[0m\u001b[0;34m:\u001b[0m\u001b[0;34m\u001b[0m\u001b[0;34m\u001b[0m\u001b[0m\n\u001b[0;32m-> 2359\u001b[0;31m             \u001b[0mloss\u001b[0m\u001b[0;34m.\u001b[0m\u001b[0mbackward\u001b[0m\u001b[0;34m(\u001b[0m\u001b[0;34m**\u001b[0m\u001b[0mkwargs\u001b[0m\u001b[0;34m)\u001b[0m\u001b[0;34m\u001b[0m\u001b[0;34m\u001b[0m\u001b[0m\n\u001b[0m\u001b[1;32m   2360\u001b[0m \u001b[0;34m\u001b[0m\u001b[0m\n\u001b[1;32m   2361\u001b[0m     \u001b[0;32mdef\u001b[0m \u001b[0mset_trigger\u001b[0m\u001b[0;34m(\u001b[0m\u001b[0mself\u001b[0m\u001b[0;34m)\u001b[0m\u001b[0;34m:\u001b[0m\u001b[0;34m\u001b[0m\u001b[0;34m\u001b[0m\u001b[0m\n",
            "\u001b[0;32m/usr/local/lib/python3.11/dist-packages/torch/_tensor.py\u001b[0m in \u001b[0;36mbackward\u001b[0;34m(self, gradient, retain_graph, create_graph, inputs)\u001b[0m\n\u001b[1;32m    624\u001b[0m                 \u001b[0minputs\u001b[0m\u001b[0;34m=\u001b[0m\u001b[0minputs\u001b[0m\u001b[0;34m,\u001b[0m\u001b[0;34m\u001b[0m\u001b[0;34m\u001b[0m\u001b[0m\n\u001b[1;32m    625\u001b[0m             )\n\u001b[0;32m--> 626\u001b[0;31m         torch.autograd.backward(\n\u001b[0m\u001b[1;32m    627\u001b[0m             \u001b[0mself\u001b[0m\u001b[0;34m,\u001b[0m \u001b[0mgradient\u001b[0m\u001b[0;34m,\u001b[0m \u001b[0mretain_graph\u001b[0m\u001b[0;34m,\u001b[0m \u001b[0mcreate_graph\u001b[0m\u001b[0;34m,\u001b[0m \u001b[0minputs\u001b[0m\u001b[0;34m=\u001b[0m\u001b[0minputs\u001b[0m\u001b[0;34m\u001b[0m\u001b[0;34m\u001b[0m\u001b[0m\n\u001b[1;32m    628\u001b[0m         )\n",
            "\u001b[0;32m/usr/local/lib/python3.11/dist-packages/torch/autograd/__init__.py\u001b[0m in \u001b[0;36mbackward\u001b[0;34m(tensors, grad_tensors, retain_graph, create_graph, grad_variables, inputs)\u001b[0m\n\u001b[1;32m    345\u001b[0m     \u001b[0;31m# some Python versions print out the first line of a multi-line function\u001b[0m\u001b[0;34m\u001b[0m\u001b[0;34m\u001b[0m\u001b[0m\n\u001b[1;32m    346\u001b[0m     \u001b[0;31m# calls in the traceback and some print out the last line\u001b[0m\u001b[0;34m\u001b[0m\u001b[0;34m\u001b[0m\u001b[0m\n\u001b[0;32m--> 347\u001b[0;31m     _engine_run_backward(\n\u001b[0m\u001b[1;32m    348\u001b[0m         \u001b[0mtensors\u001b[0m\u001b[0;34m,\u001b[0m\u001b[0;34m\u001b[0m\u001b[0;34m\u001b[0m\u001b[0m\n\u001b[1;32m    349\u001b[0m         \u001b[0mgrad_tensors_\u001b[0m\u001b[0;34m,\u001b[0m\u001b[0;34m\u001b[0m\u001b[0;34m\u001b[0m\u001b[0m\n",
            "\u001b[0;32m/usr/local/lib/python3.11/dist-packages/torch/autograd/graph.py\u001b[0m in \u001b[0;36m_engine_run_backward\u001b[0;34m(t_outputs, *args, **kwargs)\u001b[0m\n\u001b[1;32m    821\u001b[0m         \u001b[0munregister_hooks\u001b[0m \u001b[0;34m=\u001b[0m \u001b[0m_register_logging_hooks_on_whole_graph\u001b[0m\u001b[0;34m(\u001b[0m\u001b[0mt_outputs\u001b[0m\u001b[0;34m)\u001b[0m\u001b[0;34m\u001b[0m\u001b[0;34m\u001b[0m\u001b[0m\n\u001b[1;32m    822\u001b[0m     \u001b[0;32mtry\u001b[0m\u001b[0;34m:\u001b[0m\u001b[0;34m\u001b[0m\u001b[0;34m\u001b[0m\u001b[0m\n\u001b[0;32m--> 823\u001b[0;31m         return Variable._execution_engine.run_backward(  # Calls into the C++ engine to run the backward pass\n\u001b[0m\u001b[1;32m    824\u001b[0m             \u001b[0mt_outputs\u001b[0m\u001b[0;34m,\u001b[0m \u001b[0;34m*\u001b[0m\u001b[0margs\u001b[0m\u001b[0;34m,\u001b[0m \u001b[0;34m**\u001b[0m\u001b[0mkwargs\u001b[0m\u001b[0;34m\u001b[0m\u001b[0;34m\u001b[0m\u001b[0m\n\u001b[1;32m    825\u001b[0m         )  # Calls into the C++ engine to run the backward pass\n",
            "\u001b[0;31mKeyboardInterrupt\u001b[0m: "
          ]
        }
      ]
    },
    {
      "cell_type": "code",
      "source": [
        "wandb.init(\n",
        "            project=\"m2-lora-grid-search\",\n",
        "            name=f\"rank2_lr1e-4_train_2\",\n",
        "            reinit=True\n",
        "        )\n",
        "\n",
        "# load the original model and apply lora to it\n",
        "base_model,_ = load_qwen()\n",
        "apply_lora(base_model, r=2)\n",
        "\n",
        "\n",
        "\n",
        "# LoRA train\n",
        "_ = train_lora(\n",
        "    base_model,\n",
        "    train_ids,\n",
        "    learning_rate=1e-4,\n",
        "    batch_size=4,\n",
        "    max_steps=1000,\n",
        "\n",
        ")\n",
        "\n",
        "\n",
        "# Evaluation\n",
        "wandb.init(project=\"m2-lora-grid-search\",\n",
        "    name=f\"rank2_lr1e-4_evaluation\",\n",
        "    reinit=True)\n",
        "val_loss, val_mse = evaluation(base_model, tokenizer, tokenized_val)\n",
        "\n",
        "\n",
        "print(f\"rank{rank},lr{lr},evalaution results:\")\n",
        "print(f\"Average Cross-Entropy Loss: {val_loss:.4f}\")\n",
        "print(f\"Average MSE (Forecast):  {val_mse:.4f}\")"
      ],
      "metadata": {
        "colab": {
          "base_uri": "https://localhost:8080/",
          "height": 1000
        },
        "id": "A5goRYpWZ7ne",
        "outputId": "b0bbc697-529c-4a6c-fbe4-1fc166c52292"
      },
      "execution_count": 12,
      "outputs": [
        {
          "output_type": "display_data",
          "data": {
            "text/plain": [
              "<IPython.core.display.HTML object>"
            ],
            "text/html": []
          },
          "metadata": {}
        },
        {
          "output_type": "display_data",
          "data": {
            "text/plain": [
              "<IPython.core.display.HTML object>"
            ],
            "text/html": [
              "<br>    <style><br>        .wandb-row {<br>            display: flex;<br>            flex-direction: row;<br>            flex-wrap: wrap;<br>            justify-content: flex-start;<br>            width: 100%;<br>        }<br>        .wandb-col {<br>            display: flex;<br>            flex-direction: column;<br>            flex-basis: 100%;<br>            flex: 1;<br>            padding: 10px;<br>        }<br>    </style><br><div class=\"wandb-row\"><div class=\"wandb-col\"><h3>Run history:</h3><br/><table class=\"wandb\"><tr><td>loss</td><td>██▄▅▅█▆▃▆▆▃▆▄▄▄▅▅▃▆▃▅▃▃▄▃▂▄▄▅▅▃▄▂▃▄▅▃▁▂▄</td></tr><tr><td>step</td><td>▁▁▁▁▁▂▃▃▃▃▃▃▃▃▃▄▄▄▄▄▅▅▅▅▅▆▆▆▆▆▆▆▇▇▇▇▇▇██</td></tr></table><br/></div><div class=\"wandb-col\"><h3>Run summary:</h3><br/><table class=\"wandb\"><tr><td>loss</td><td>0.32014</td></tr><tr><td>step</td><td>2277</td></tr></table><br/></div></div>"
            ]
          },
          "metadata": {}
        },
        {
          "output_type": "display_data",
          "data": {
            "text/plain": [
              "<IPython.core.display.HTML object>"
            ],
            "text/html": [
              " View run <strong style=\"color:#cdcd00\">final_train</strong> at: <a href='https://wandb.ai/liuyihao649-university-of-cambridge/m2-lora-final-long-run-8-1e-4-768/runs/ta2sqder' target=\"_blank\">https://wandb.ai/liuyihao649-university-of-cambridge/m2-lora-final-long-run-8-1e-4-768/runs/ta2sqder</a><br> View project at: <a href='https://wandb.ai/liuyihao649-university-of-cambridge/m2-lora-final-long-run-8-1e-4-768' target=\"_blank\">https://wandb.ai/liuyihao649-university-of-cambridge/m2-lora-final-long-run-8-1e-4-768</a><br>Synced 5 W&B file(s), 0 media file(s), 0 artifact file(s) and 0 other file(s)"
            ]
          },
          "metadata": {}
        },
        {
          "output_type": "display_data",
          "data": {
            "text/plain": [
              "<IPython.core.display.HTML object>"
            ],
            "text/html": [
              "Find logs at: <code>./wandb/run-20250330_001712-ta2sqder/logs</code>"
            ]
          },
          "metadata": {}
        },
        {
          "output_type": "display_data",
          "data": {
            "text/plain": [
              "<IPython.core.display.HTML object>"
            ],
            "text/html": [
              "Tracking run with wandb version 0.19.8"
            ]
          },
          "metadata": {}
        },
        {
          "output_type": "display_data",
          "data": {
            "text/plain": [
              "<IPython.core.display.HTML object>"
            ],
            "text/html": [
              "Run data is saved locally in <code>/content/drive/MyDrive/m2cw/wandb/run-20250330_003319-irbb77mc</code>"
            ]
          },
          "metadata": {}
        },
        {
          "output_type": "display_data",
          "data": {
            "text/plain": [
              "<IPython.core.display.HTML object>"
            ],
            "text/html": [
              "Syncing run <strong><a href='https://wandb.ai/liuyihao649-university-of-cambridge/m2-lora-grid-search/runs/irbb77mc' target=\"_blank\">rank2_lr1e-4_train_2</a></strong> to <a href='https://wandb.ai/liuyihao649-university-of-cambridge/m2-lora-grid-search' target=\"_blank\">Weights & Biases</a> (<a href='https://wandb.me/developer-guide' target=\"_blank\">docs</a>)<br>"
            ]
          },
          "metadata": {}
        },
        {
          "output_type": "display_data",
          "data": {
            "text/plain": [
              "<IPython.core.display.HTML object>"
            ],
            "text/html": [
              " View project at <a href='https://wandb.ai/liuyihao649-university-of-cambridge/m2-lora-grid-search' target=\"_blank\">https://wandb.ai/liuyihao649-university-of-cambridge/m2-lora-grid-search</a>"
            ]
          },
          "metadata": {}
        },
        {
          "output_type": "display_data",
          "data": {
            "text/plain": [
              "<IPython.core.display.HTML object>"
            ],
            "text/html": [
              " View run at <a href='https://wandb.ai/liuyihao649-university-of-cambridge/m2-lora-grid-search/runs/irbb77mc' target=\"_blank\">https://wandb.ai/liuyihao649-university-of-cambridge/m2-lora-grid-search/runs/irbb77mc</a>"
            ]
          },
          "metadata": {}
        },
        {
          "output_type": "stream",
          "name": "stderr",
          "text": [
            "\n",
            "Training:   0%|          | 0/1000 [00:00<?, ?it/s]\u001b[A\n",
            "Training:   0%|          | 1/1000 [00:00<07:37,  2.18it/s]\u001b[A\n",
            "Training:   0%|          | 1/1000 [00:00<07:37,  2.18it/s, loss=0.656]\u001b[A\n",
            "Training:   0%|          | 2/1000 [00:00<07:18,  2.28it/s, loss=0.656]\u001b[A\n",
            "Training:   0%|          | 2/1000 [00:00<07:18,  2.28it/s, loss=0.813]\u001b[A\n",
            "Training:   0%|          | 3/1000 [00:01<07:12,  2.30it/s, loss=0.813]\u001b[A\n",
            "Training:   0%|          | 3/1000 [00:01<07:12,  2.30it/s, loss=0.803]\u001b[A\n",
            "Training:   0%|          | 4/1000 [00:01<07:09,  2.32it/s, loss=0.803]\u001b[A\n",
            "Training:   0%|          | 4/1000 [00:01<07:09,  2.32it/s, loss=0.648]\u001b[A\n",
            "Training:   0%|          | 5/1000 [00:02<07:07,  2.33it/s, loss=0.648]\u001b[A\n",
            "Training:   0%|          | 5/1000 [00:02<07:07,  2.33it/s, loss=0.804]\u001b[A\n",
            "Training:   1%|          | 6/1000 [00:02<07:05,  2.34it/s, loss=0.804]\u001b[A\n",
            "Training:   1%|          | 6/1000 [00:02<07:05,  2.34it/s, loss=0.711]\u001b[A\n",
            "Training:   1%|          | 7/1000 [00:03<07:04,  2.34it/s, loss=0.711]\u001b[A\n",
            "Training:   1%|          | 7/1000 [00:03<07:04,  2.34it/s, loss=0.795]\u001b[A\n",
            "Training:   1%|          | 8/1000 [00:03<07:02,  2.35it/s, loss=0.795]\u001b[A\n",
            "Training:   1%|          | 8/1000 [00:03<07:02,  2.35it/s, loss=0.934]\u001b[A\n",
            "Training:   1%|          | 9/1000 [00:03<07:01,  2.35it/s, loss=0.934]\u001b[A\n",
            "Training:   1%|          | 9/1000 [00:03<07:01,  2.35it/s, loss=1.04] \u001b[A\n",
            "Training:   1%|          | 10/1000 [00:04<07:01,  2.35it/s, loss=1.04]\u001b[A\n",
            "Training:   1%|          | 10/1000 [00:04<07:01,  2.35it/s, loss=0.927]\u001b[A\n",
            "Training:   1%|          | 11/1000 [00:04<07:01,  2.35it/s, loss=0.927]\u001b[A\n",
            "Training:   1%|          | 11/1000 [00:04<07:01,  2.35it/s, loss=0.667]\u001b[A\n",
            "Training:   1%|          | 12/1000 [00:05<07:00,  2.35it/s, loss=0.667]\u001b[A\n",
            "Training:   1%|          | 12/1000 [00:05<07:00,  2.35it/s, loss=0.826]\u001b[A\n",
            "Training:   1%|▏         | 13/1000 [00:05<06:59,  2.35it/s, loss=0.826]\u001b[A\n",
            "Training:   1%|▏         | 13/1000 [00:05<06:59,  2.35it/s, loss=0.764]\u001b[A\n",
            "Training:   1%|▏         | 14/1000 [00:05<06:59,  2.35it/s, loss=0.764]\u001b[A\n",
            "Training:   1%|▏         | 14/1000 [00:05<06:59,  2.35it/s, loss=0.851]\u001b[A\n",
            "Training:   2%|▏         | 15/1000 [00:06<06:58,  2.35it/s, loss=0.851]\u001b[A\n",
            "Training:   2%|▏         | 15/1000 [00:06<06:58,  2.35it/s, loss=0.687]\u001b[A\n",
            "Training:   2%|▏         | 16/1000 [00:06<06:58,  2.35it/s, loss=0.687]\u001b[A\n",
            "Training:   2%|▏         | 16/1000 [00:06<06:58,  2.35it/s, loss=0.735]\u001b[A\n",
            "Training:   2%|▏         | 17/1000 [00:07<06:57,  2.35it/s, loss=0.735]\u001b[A\n",
            "Training:   2%|▏         | 17/1000 [00:07<06:57,  2.35it/s, loss=0.884]\u001b[A\n",
            "Training:   2%|▏         | 18/1000 [00:07<06:57,  2.35it/s, loss=0.884]\u001b[A\n",
            "Training:   2%|▏         | 18/1000 [00:07<06:57,  2.35it/s, loss=0.715]\u001b[A\n",
            "Training:   2%|▏         | 19/1000 [00:08<06:56,  2.35it/s, loss=0.715]\u001b[A\n",
            "Training:   2%|▏         | 19/1000 [00:08<06:56,  2.35it/s, loss=0.814]\u001b[A\n",
            "Training:   2%|▏         | 20/1000 [00:08<06:56,  2.35it/s, loss=0.814]\u001b[A\n",
            "Training:   2%|▏         | 20/1000 [00:08<06:56,  2.35it/s, loss=0.81] \u001b[A\n",
            "Training:   2%|▏         | 21/1000 [00:08<06:55,  2.35it/s, loss=0.81]\u001b[A\n",
            "Training:   2%|▏         | 21/1000 [00:08<06:55,  2.35it/s, loss=0.7] \u001b[A\n",
            "Training:   2%|▏         | 22/1000 [00:09<06:55,  2.35it/s, loss=0.7]\u001b[A\n",
            "Training:   2%|▏         | 22/1000 [00:09<06:55,  2.35it/s, loss=0.824]\u001b[A\n",
            "Training:   2%|▏         | 23/1000 [00:09<06:55,  2.35it/s, loss=0.824]\u001b[A\n",
            "Training:   2%|▏         | 23/1000 [00:09<06:55,  2.35it/s, loss=0.729]\u001b[A\n",
            "Training:   2%|▏         | 24/1000 [00:10<06:55,  2.35it/s, loss=0.729]\u001b[A\n",
            "Training:   2%|▏         | 24/1000 [00:10<06:55,  2.35it/s, loss=0.604]\u001b[A\n",
            "Training:   2%|▎         | 25/1000 [00:10<06:55,  2.35it/s, loss=0.604]\u001b[A\n",
            "Training:   2%|▎         | 25/1000 [00:10<06:55,  2.35it/s, loss=0.764]\u001b[A\n",
            "Training:   3%|▎         | 26/1000 [00:11<06:54,  2.35it/s, loss=0.764]\u001b[A\n",
            "Training:   3%|▎         | 26/1000 [00:11<06:54,  2.35it/s, loss=0.625]\u001b[A\n",
            "Training:   3%|▎         | 27/1000 [00:11<06:54,  2.35it/s, loss=0.625]\u001b[A\n",
            "Training:   3%|▎         | 27/1000 [00:11<06:54,  2.35it/s, loss=0.676]\u001b[A\n",
            "Training:   3%|▎         | 28/1000 [00:11<06:53,  2.35it/s, loss=0.676]\u001b[A\n",
            "Training:   3%|▎         | 28/1000 [00:11<06:53,  2.35it/s, loss=0.993]\u001b[A\n",
            "Training:   3%|▎         | 29/1000 [00:12<06:53,  2.35it/s, loss=0.993]\u001b[A\n",
            "Training:   3%|▎         | 29/1000 [00:12<06:53,  2.35it/s, loss=0.684]\u001b[A\n",
            "Training:   3%|▎         | 30/1000 [00:12<06:53,  2.35it/s, loss=0.684]\u001b[A\n",
            "Training:   3%|▎         | 30/1000 [00:12<06:53,  2.35it/s, loss=0.837]\u001b[A\n",
            "Training:   3%|▎         | 31/1000 [00:13<06:52,  2.35it/s, loss=0.837]\u001b[A\n",
            "Training:   3%|▎         | 31/1000 [00:13<06:52,  2.35it/s, loss=0.654]\u001b[A\n",
            "Training:   3%|▎         | 32/1000 [00:13<06:52,  2.35it/s, loss=0.654]\u001b[A\n",
            "Training:   3%|▎         | 32/1000 [00:13<06:52,  2.35it/s, loss=0.83] \u001b[A\n",
            "Training:   3%|▎         | 33/1000 [00:14<07:20,  2.20it/s, loss=0.83]\u001b[A\n",
            "Training:   3%|▎         | 33/1000 [00:14<07:20,  2.20it/s, loss=0.584]\u001b[A\n",
            "Training:   3%|▎         | 34/1000 [00:14<07:10,  2.24it/s, loss=0.584]\u001b[A\n",
            "Training:   3%|▎         | 34/1000 [00:14<07:10,  2.24it/s, loss=0.587]\u001b[A\n",
            "Training:   4%|▎         | 35/1000 [00:15<07:04,  2.27it/s, loss=0.587]\u001b[A\n",
            "Training:   4%|▎         | 35/1000 [00:15<07:04,  2.27it/s, loss=0.801]\u001b[A\n",
            "Training:   4%|▎         | 36/1000 [00:15<06:59,  2.30it/s, loss=0.801]\u001b[A\n",
            "Training:   4%|▎         | 36/1000 [00:15<06:59,  2.30it/s, loss=0.64] \u001b[A\n",
            "Training:   4%|▎         | 37/1000 [00:15<06:56,  2.31it/s, loss=0.64]\u001b[A\n",
            "Training:   4%|▎         | 37/1000 [00:15<06:56,  2.31it/s, loss=0.77]\u001b[A\n",
            "Training:   4%|▍         | 38/1000 [00:16<06:54,  2.32it/s, loss=0.77]\u001b[A\n",
            "Training:   4%|▍         | 38/1000 [00:16<06:54,  2.32it/s, loss=0.685]\u001b[A\n",
            "Training:   4%|▍         | 39/1000 [00:16<06:52,  2.33it/s, loss=0.685]\u001b[A\n",
            "Training:   4%|▍         | 39/1000 [00:16<06:52,  2.33it/s, loss=0.749]\u001b[A\n",
            "Training:   4%|▍         | 40/1000 [00:17<06:50,  2.34it/s, loss=0.749]\u001b[A\n",
            "Training:   4%|▍         | 40/1000 [00:17<06:50,  2.34it/s, loss=0.765]\u001b[A\n",
            "Training:   4%|▍         | 41/1000 [00:17<06:49,  2.34it/s, loss=0.765]\u001b[A\n",
            "Training:   4%|▍         | 41/1000 [00:17<06:49,  2.34it/s, loss=0.9]  \u001b[A\n",
            "Training:   4%|▍         | 42/1000 [00:18<06:48,  2.34it/s, loss=0.9]\u001b[A\n",
            "Training:   4%|▍         | 42/1000 [00:18<06:48,  2.34it/s, loss=0.735]\u001b[A\n",
            "Training:   4%|▍         | 43/1000 [00:18<06:47,  2.35it/s, loss=0.735]\u001b[A\n",
            "Training:   4%|▍         | 43/1000 [00:18<06:47,  2.35it/s, loss=0.595]\u001b[A\n",
            "Training:   4%|▍         | 44/1000 [00:18<06:47,  2.35it/s, loss=0.595]\u001b[A\n",
            "Training:   4%|▍         | 44/1000 [00:18<06:47,  2.35it/s, loss=0.636]\u001b[A\n",
            "Training:   4%|▍         | 45/1000 [00:19<06:46,  2.35it/s, loss=0.636]\u001b[A\n",
            "Training:   4%|▍         | 45/1000 [00:19<06:46,  2.35it/s, loss=0.522]\u001b[A\n",
            "Training:   5%|▍         | 46/1000 [00:19<06:45,  2.35it/s, loss=0.522]\u001b[A\n",
            "Training:   5%|▍         | 46/1000 [00:19<06:45,  2.35it/s, loss=0.708]\u001b[A\n",
            "Training:   5%|▍         | 47/1000 [00:20<06:45,  2.35it/s, loss=0.708]\u001b[A\n",
            "Training:   5%|▍         | 47/1000 [00:20<06:45,  2.35it/s, loss=0.675]\u001b[A\n",
            "Training:   5%|▍         | 48/1000 [00:20<06:44,  2.35it/s, loss=0.675]\u001b[A\n",
            "Training:   5%|▍         | 48/1000 [00:20<06:44,  2.35it/s, loss=0.588]\u001b[A\n",
            "Training:   5%|▍         | 49/1000 [00:20<06:44,  2.35it/s, loss=0.588]\u001b[A\n",
            "Training:   5%|▍         | 49/1000 [00:20<06:44,  2.35it/s, loss=0.797]\u001b[A\n",
            "Training:   5%|▌         | 50/1000 [00:21<06:44,  2.35it/s, loss=0.797]\u001b[A\n",
            "\n",
            "Training:  76%|███████▌  | 2278/3000 [16:25<05:03,  2.38it/s, loss=0.32]\n",
            "Training:   5%|▌         | 50/1000 [00:21<06:44,  2.35it/s, loss=0.719]\u001b[A"
          ]
        },
        {
          "output_type": "stream",
          "name": "stdout",
          "text": [
            "Step 50: loss = 0.7192\n"
          ]
        },
        {
          "output_type": "stream",
          "name": "stderr",
          "text": [
            "\n",
            "Training:   5%|▌         | 51/1000 [00:21<06:45,  2.34it/s, loss=0.719]\u001b[A\n",
            "Training:   5%|▌         | 51/1000 [00:21<06:45,  2.34it/s, loss=0.527]\u001b[A\n",
            "Training:   5%|▌         | 52/1000 [00:22<06:44,  2.34it/s, loss=0.527]\u001b[A\n",
            "Training:   5%|▌         | 52/1000 [00:22<06:44,  2.34it/s, loss=0.606]\u001b[A\n",
            "Training:   5%|▌         | 53/1000 [00:22<06:43,  2.35it/s, loss=0.606]\u001b[A\n",
            "Training:   5%|▌         | 53/1000 [00:22<06:43,  2.35it/s, loss=0.646]\u001b[A\n",
            "Training:   5%|▌         | 54/1000 [00:23<06:42,  2.35it/s, loss=0.646]\u001b[A\n",
            "Training:   5%|▌         | 54/1000 [00:23<06:42,  2.35it/s, loss=0.624]\u001b[A\n",
            "Training:   6%|▌         | 55/1000 [00:23<06:42,  2.35it/s, loss=0.624]\u001b[A\n",
            "Training:   6%|▌         | 55/1000 [00:23<06:42,  2.35it/s, loss=0.636]\u001b[A\n",
            "Training:   6%|▌         | 56/1000 [00:23<06:42,  2.35it/s, loss=0.636]\u001b[A\n",
            "Training:   6%|▌         | 56/1000 [00:23<06:42,  2.35it/s, loss=0.651]\u001b[A\n",
            "Training:   6%|▌         | 57/1000 [00:24<06:41,  2.35it/s, loss=0.651]\u001b[A\n",
            "Training:   6%|▌         | 57/1000 [00:24<06:41,  2.35it/s, loss=0.692]\u001b[A\n",
            "Training:   6%|▌         | 58/1000 [00:24<06:41,  2.35it/s, loss=0.692]\u001b[A\n",
            "Training:   6%|▌         | 58/1000 [00:24<06:41,  2.35it/s, loss=1.05] \u001b[A\n",
            "Training:   6%|▌         | 59/1000 [00:25<06:40,  2.35it/s, loss=1.05]\u001b[A\n",
            "Training:   6%|▌         | 59/1000 [00:25<06:40,  2.35it/s, loss=0.784]\u001b[A\n",
            "Training:   6%|▌         | 60/1000 [00:25<06:40,  2.35it/s, loss=0.784]\u001b[A\n",
            "Training:   6%|▌         | 60/1000 [00:25<06:40,  2.35it/s, loss=0.807]\u001b[A\n",
            "Training:   6%|▌         | 61/1000 [00:26<06:39,  2.35it/s, loss=0.807]\u001b[A\n",
            "Training:   6%|▌         | 61/1000 [00:26<06:39,  2.35it/s, loss=0.619]\u001b[A\n",
            "Training:   6%|▌         | 62/1000 [00:26<06:39,  2.35it/s, loss=0.619]\u001b[A\n",
            "Training:   6%|▌         | 62/1000 [00:26<06:39,  2.35it/s, loss=0.69] \u001b[A\n",
            "Training:   6%|▋         | 63/1000 [00:26<06:39,  2.35it/s, loss=0.69]\u001b[A\n",
            "Training:   6%|▋         | 63/1000 [00:26<06:39,  2.35it/s, loss=0.52]\u001b[A\n",
            "Training:   6%|▋         | 64/1000 [00:27<06:38,  2.35it/s, loss=0.52]\u001b[A\n",
            "Training:   6%|▋         | 64/1000 [00:27<06:38,  2.35it/s, loss=0.619]\u001b[A\n",
            "Training:   6%|▋         | 65/1000 [00:27<06:37,  2.35it/s, loss=0.619]\u001b[A\n",
            "Training:   6%|▋         | 65/1000 [00:27<06:37,  2.35it/s, loss=0.629]\u001b[A\n",
            "Training:   7%|▋         | 66/1000 [00:28<06:37,  2.35it/s, loss=0.629]\u001b[A\n",
            "Training:   7%|▋         | 66/1000 [00:28<06:37,  2.35it/s, loss=0.528]\u001b[A\n",
            "Training:   7%|▋         | 67/1000 [00:28<06:36,  2.35it/s, loss=0.528]\u001b[A\n",
            "Training:   7%|▋         | 67/1000 [00:28<06:36,  2.35it/s, loss=0.72] \u001b[A\n",
            "Training:   7%|▋         | 68/1000 [00:29<06:35,  2.36it/s, loss=0.72]\u001b[A\n",
            "Training:   7%|▋         | 68/1000 [00:29<06:35,  2.36it/s, loss=0.619]\u001b[A\n",
            "Training:   7%|▋         | 69/1000 [00:29<06:35,  2.35it/s, loss=0.619]\u001b[A\n",
            "Training:   7%|▋         | 69/1000 [00:29<06:35,  2.35it/s, loss=0.677]\u001b[A\n",
            "Training:   7%|▋         | 70/1000 [00:29<06:34,  2.36it/s, loss=0.677]\u001b[A\n",
            "Training:   7%|▋         | 70/1000 [00:29<06:34,  2.36it/s, loss=0.547]\u001b[A\n",
            "Training:   7%|▋         | 71/1000 [00:30<06:34,  2.35it/s, loss=0.547]\u001b[A\n",
            "Training:   7%|▋         | 71/1000 [00:30<06:34,  2.35it/s, loss=0.63] \u001b[A\n",
            "Training:   7%|▋         | 72/1000 [00:30<06:34,  2.35it/s, loss=0.63]\u001b[A\n",
            "Training:   7%|▋         | 72/1000 [00:30<06:34,  2.35it/s, loss=0.493]\u001b[A\n",
            "Training:   7%|▋         | 73/1000 [00:31<06:34,  2.35it/s, loss=0.493]\u001b[A\n",
            "Training:   7%|▋         | 73/1000 [00:31<06:34,  2.35it/s, loss=0.66] \u001b[A\n",
            "Training:   7%|▋         | 74/1000 [00:31<06:33,  2.35it/s, loss=0.66]\u001b[A\n",
            "Training:   7%|▋         | 74/1000 [00:31<06:33,  2.35it/s, loss=0.551]\u001b[A\n",
            "Training:   8%|▊         | 75/1000 [00:32<06:33,  2.35it/s, loss=0.551]\u001b[A\n",
            "Training:   8%|▊         | 75/1000 [00:32<06:33,  2.35it/s, loss=0.56] \u001b[A\n",
            "Training:   8%|▊         | 76/1000 [00:32<06:32,  2.35it/s, loss=0.56]\u001b[A\n",
            "Training:   8%|▊         | 76/1000 [00:32<06:32,  2.35it/s, loss=0.691]\u001b[A\n",
            "Training:   8%|▊         | 77/1000 [00:32<06:32,  2.35it/s, loss=0.691]\u001b[A\n",
            "Training:   8%|▊         | 77/1000 [00:32<06:32,  2.35it/s, loss=0.708]\u001b[A\n",
            "Training:   8%|▊         | 78/1000 [00:33<06:31,  2.35it/s, loss=0.708]\u001b[A\n",
            "Training:   8%|▊         | 78/1000 [00:33<06:31,  2.35it/s, loss=0.649]\u001b[A\n",
            "Training:   8%|▊         | 79/1000 [00:33<06:31,  2.35it/s, loss=0.649]\u001b[A\n",
            "Training:   8%|▊         | 79/1000 [00:33<06:31,  2.35it/s, loss=0.485]\u001b[A\n",
            "Training:   8%|▊         | 80/1000 [00:34<06:31,  2.35it/s, loss=0.485]\u001b[A\n",
            "Training:   8%|▊         | 80/1000 [00:34<06:31,  2.35it/s, loss=0.575]\u001b[A\n",
            "Training:   8%|▊         | 81/1000 [00:34<06:30,  2.35it/s, loss=0.575]\u001b[A\n",
            "Training:   8%|▊         | 81/1000 [00:34<06:30,  2.35it/s, loss=0.611]\u001b[A\n",
            "Training:   8%|▊         | 82/1000 [00:35<06:30,  2.35it/s, loss=0.611]\u001b[A\n",
            "Training:   8%|▊         | 82/1000 [00:35<06:30,  2.35it/s, loss=0.595]\u001b[A\n",
            "Training:   8%|▊         | 83/1000 [00:35<06:29,  2.35it/s, loss=0.595]\u001b[A\n",
            "Training:   8%|▊         | 83/1000 [00:35<06:29,  2.35it/s, loss=0.656]\u001b[A\n",
            "Training:   8%|▊         | 84/1000 [00:35<06:29,  2.35it/s, loss=0.656]\u001b[A\n",
            "Training:   8%|▊         | 84/1000 [00:35<06:29,  2.35it/s, loss=0.52] \u001b[A\n",
            "Training:   8%|▊         | 85/1000 [00:36<06:28,  2.35it/s, loss=0.52]\u001b[A\n",
            "Training:   8%|▊         | 85/1000 [00:36<06:28,  2.35it/s, loss=0.606]\u001b[A\n",
            "Training:   9%|▊         | 86/1000 [00:36<06:28,  2.35it/s, loss=0.606]\u001b[A\n",
            "Training:   9%|▊         | 86/1000 [00:36<06:28,  2.35it/s, loss=0.589]\u001b[A\n",
            "Training:   9%|▊         | 87/1000 [00:37<06:27,  2.35it/s, loss=0.589]\u001b[A\n",
            "Training:   9%|▊         | 87/1000 [00:37<06:27,  2.35it/s, loss=0.548]\u001b[A\n",
            "Training:   9%|▉         | 88/1000 [00:37<06:27,  2.36it/s, loss=0.548]\u001b[A\n",
            "Training:   9%|▉         | 88/1000 [00:37<06:27,  2.36it/s, loss=0.527]\u001b[A\n",
            "Training:   9%|▉         | 89/1000 [00:37<06:26,  2.35it/s, loss=0.527]\u001b[A\n",
            "Training:   9%|▉         | 89/1000 [00:37<06:26,  2.35it/s, loss=0.553]\u001b[A\n",
            "Training:   9%|▉         | 90/1000 [00:38<06:26,  2.35it/s, loss=0.553]\u001b[A\n",
            "Training:   9%|▉         | 90/1000 [00:38<06:26,  2.35it/s, loss=0.503]\u001b[A\n",
            "Training:   9%|▉         | 91/1000 [00:38<06:26,  2.35it/s, loss=0.503]\u001b[A\n",
            "Training:   9%|▉         | 91/1000 [00:38<06:26,  2.35it/s, loss=0.433]\u001b[A\n",
            "Training:   9%|▉         | 92/1000 [00:39<06:25,  2.35it/s, loss=0.433]\u001b[A\n",
            "Training:   9%|▉         | 92/1000 [00:39<06:25,  2.35it/s, loss=0.555]\u001b[A\n",
            "Training:   9%|▉         | 93/1000 [00:39<06:25,  2.35it/s, loss=0.555]\u001b[A\n",
            "Training:   9%|▉         | 93/1000 [00:39<06:25,  2.35it/s, loss=0.475]\u001b[A\n",
            "Training:   9%|▉         | 94/1000 [00:40<06:24,  2.35it/s, loss=0.475]\u001b[A\n",
            "Training:   9%|▉         | 94/1000 [00:40<06:24,  2.35it/s, loss=0.615]\u001b[A\n",
            "Training:  10%|▉         | 95/1000 [00:40<06:24,  2.36it/s, loss=0.615]\u001b[A\n",
            "Training:  10%|▉         | 95/1000 [00:40<06:24,  2.36it/s, loss=0.464]\u001b[A\n",
            "Training:  10%|▉         | 96/1000 [00:40<06:23,  2.36it/s, loss=0.464]\u001b[A\n",
            "Training:  10%|▉         | 96/1000 [00:40<06:23,  2.36it/s, loss=0.554]\u001b[A\n",
            "Training:  10%|▉         | 97/1000 [00:41<06:23,  2.36it/s, loss=0.554]\u001b[A\n",
            "Training:  10%|▉         | 97/1000 [00:41<06:23,  2.36it/s, loss=0.519]\u001b[A\n",
            "Training:  10%|▉         | 98/1000 [00:41<06:23,  2.35it/s, loss=0.519]\u001b[A\n",
            "Training:  10%|▉         | 98/1000 [00:41<06:23,  2.35it/s, loss=0.522]\u001b[A\n",
            "Training:  10%|▉         | 99/1000 [00:42<06:22,  2.35it/s, loss=0.522]\u001b[A\n",
            "Training:  10%|▉         | 99/1000 [00:42<06:22,  2.35it/s, loss=0.509]\u001b[A\n",
            "Training:  10%|█         | 100/1000 [00:42<06:22,  2.35it/s, loss=0.509]\u001b[A\n",
            "\n",
            "Training:  76%|███████▌  | 2278/3000 [16:47<05:03,  2.38it/s, loss=0.32]\n",
            "Training:  10%|█         | 100/1000 [00:42<06:22,  2.35it/s, loss=0.457]\u001b[A"
          ]
        },
        {
          "output_type": "stream",
          "name": "stdout",
          "text": [
            "Step 100: loss = 0.4574\n"
          ]
        },
        {
          "output_type": "stream",
          "name": "stderr",
          "text": [
            "\n",
            "Training:  10%|█         | 101/1000 [00:43<06:24,  2.34it/s, loss=0.457]\u001b[A\n",
            "Training:  10%|█         | 101/1000 [00:43<06:24,  2.34it/s, loss=0.628]\u001b[A\n",
            "Training:  10%|█         | 102/1000 [00:43<06:23,  2.34it/s, loss=0.628]\u001b[A\n",
            "Training:  10%|█         | 102/1000 [00:43<06:23,  2.34it/s, loss=0.481]\u001b[A\n",
            "Training:  10%|█         | 103/1000 [00:43<06:22,  2.35it/s, loss=0.481]\u001b[A\n",
            "Training:  10%|█         | 103/1000 [00:43<06:22,  2.35it/s, loss=0.432]\u001b[A\n",
            "Training:  10%|█         | 104/1000 [00:44<06:21,  2.35it/s, loss=0.432]\u001b[A\n",
            "Training:  10%|█         | 104/1000 [00:44<06:21,  2.35it/s, loss=0.445]\u001b[A\n",
            "Training:  10%|█         | 105/1000 [00:44<06:21,  2.35it/s, loss=0.445]\u001b[A\n",
            "Training:  10%|█         | 105/1000 [00:44<06:21,  2.35it/s, loss=0.56] \u001b[A\n",
            "Training:  11%|█         | 106/1000 [00:45<06:20,  2.35it/s, loss=0.56]\u001b[A\n",
            "Training:  11%|█         | 106/1000 [00:45<06:20,  2.35it/s, loss=0.487]\u001b[A\n",
            "Training:  11%|█         | 107/1000 [00:45<06:20,  2.35it/s, loss=0.487]\u001b[A\n",
            "Training:  11%|█         | 107/1000 [00:45<06:20,  2.35it/s, loss=0.579]\u001b[A\n",
            "Training:  11%|█         | 108/1000 [00:46<06:20,  2.35it/s, loss=0.579]\u001b[A\n",
            "Training:  11%|█         | 108/1000 [00:46<06:20,  2.35it/s, loss=0.509]\u001b[A\n",
            "Training:  11%|█         | 109/1000 [00:46<06:19,  2.35it/s, loss=0.509]\u001b[A\n",
            "Training:  11%|█         | 109/1000 [00:46<06:19,  2.35it/s, loss=0.613]\u001b[A\n",
            "Training:  11%|█         | 110/1000 [00:46<06:18,  2.35it/s, loss=0.613]\u001b[A\n",
            "Training:  11%|█         | 110/1000 [00:46<06:18,  2.35it/s, loss=0.493]\u001b[A\n",
            "Training:  11%|█         | 111/1000 [00:47<06:18,  2.35it/s, loss=0.493]\u001b[A\n",
            "Training:  11%|█         | 111/1000 [00:47<06:18,  2.35it/s, loss=0.411]\u001b[A\n",
            "Training:  11%|█         | 112/1000 [00:47<06:17,  2.35it/s, loss=0.411]\u001b[A\n",
            "Training:  11%|█         | 112/1000 [00:47<06:17,  2.35it/s, loss=0.469]\u001b[A\n",
            "Training:  11%|█▏        | 113/1000 [00:48<06:16,  2.35it/s, loss=0.469]\u001b[A\n",
            "Training:  11%|█▏        | 113/1000 [00:48<06:16,  2.35it/s, loss=0.602]\u001b[A\n",
            "Training:  11%|█▏        | 114/1000 [00:48<06:16,  2.35it/s, loss=0.602]\u001b[A\n",
            "Training:  11%|█▏        | 114/1000 [00:48<06:16,  2.35it/s, loss=0.536]\u001b[A\n",
            "Training:  12%|█▏        | 115/1000 [00:49<06:15,  2.35it/s, loss=0.536]\u001b[A\n",
            "Training:  12%|█▏        | 115/1000 [00:49<06:15,  2.35it/s, loss=0.56] \u001b[A\n",
            "Training:  12%|█▏        | 116/1000 [00:49<06:15,  2.35it/s, loss=0.56]\u001b[A\n",
            "Training:  12%|█▏        | 116/1000 [00:49<06:15,  2.35it/s, loss=0.453]\u001b[A\n",
            "Training:  12%|█▏        | 117/1000 [00:49<06:15,  2.35it/s, loss=0.453]\u001b[A\n",
            "Training:  12%|█▏        | 117/1000 [00:49<06:15,  2.35it/s, loss=0.639]\u001b[A\n",
            "Training:  12%|█▏        | 118/1000 [00:50<06:14,  2.35it/s, loss=0.639]\u001b[A\n",
            "Training:  12%|█▏        | 118/1000 [00:50<06:14,  2.35it/s, loss=0.469]\u001b[A\n",
            "Training:  12%|█▏        | 119/1000 [00:50<06:14,  2.35it/s, loss=0.469]\u001b[A\n",
            "Training:  12%|█▏        | 119/1000 [00:50<06:14,  2.35it/s, loss=0.557]\u001b[A\n",
            "Training:  12%|█▏        | 120/1000 [00:51<06:14,  2.35it/s, loss=0.557]\u001b[A\n",
            "Training:  12%|█▏        | 120/1000 [00:51<06:14,  2.35it/s, loss=0.507]\u001b[A\n",
            "Training:  12%|█▏        | 121/1000 [00:51<06:14,  2.35it/s, loss=0.507]\u001b[A\n",
            "Training:  12%|█▏        | 121/1000 [00:51<06:14,  2.35it/s, loss=0.487]\u001b[A\n",
            "Training:  12%|█▏        | 122/1000 [00:52<06:13,  2.35it/s, loss=0.487]\u001b[A\n",
            "Training:  12%|█▏        | 122/1000 [00:52<06:13,  2.35it/s, loss=0.558]\u001b[A\n",
            "Training:  12%|█▏        | 123/1000 [00:52<06:13,  2.35it/s, loss=0.558]\u001b[A\n",
            "Training:  12%|█▏        | 123/1000 [00:52<06:13,  2.35it/s, loss=0.541]\u001b[A\n",
            "Training:  12%|█▏        | 124/1000 [00:52<06:12,  2.35it/s, loss=0.541]\u001b[A\n",
            "Training:  12%|█▏        | 124/1000 [00:52<06:12,  2.35it/s, loss=0.425]\u001b[A\n",
            "Training:  12%|█▎        | 125/1000 [00:53<06:12,  2.35it/s, loss=0.425]\u001b[A\n",
            "Training:  12%|█▎        | 125/1000 [00:53<06:12,  2.35it/s, loss=0.479]\u001b[A\n",
            "Training:  13%|█▎        | 126/1000 [00:53<06:11,  2.35it/s, loss=0.479]\u001b[A\n",
            "Training:  13%|█▎        | 126/1000 [00:53<06:11,  2.35it/s, loss=0.424]\u001b[A\n",
            "Training:  13%|█▎        | 127/1000 [00:54<06:10,  2.35it/s, loss=0.424]\u001b[A\n",
            "Training:  13%|█▎        | 127/1000 [00:54<06:10,  2.35it/s, loss=0.38] \u001b[A\n",
            "Training:  13%|█▎        | 128/1000 [00:54<06:10,  2.35it/s, loss=0.38]\u001b[A\n",
            "Training:  13%|█▎        | 128/1000 [00:54<06:10,  2.35it/s, loss=0.606]\u001b[A\n",
            "Training:  13%|█▎        | 129/1000 [00:55<06:09,  2.36it/s, loss=0.606]\u001b[A\n",
            "Training:  13%|█▎        | 129/1000 [00:55<06:09,  2.36it/s, loss=0.653]\u001b[A\n",
            "Training:  13%|█▎        | 130/1000 [00:55<06:09,  2.36it/s, loss=0.653]\u001b[A\n",
            "Training:  13%|█▎        | 130/1000 [00:55<06:09,  2.36it/s, loss=0.642]\u001b[A\n",
            "Training:  13%|█▎        | 131/1000 [00:55<06:09,  2.35it/s, loss=0.642]\u001b[A\n",
            "Training:  13%|█▎        | 131/1000 [00:55<06:09,  2.35it/s, loss=0.497]\u001b[A\n",
            "Training:  13%|█▎        | 132/1000 [00:56<06:08,  2.35it/s, loss=0.497]\u001b[A\n",
            "Training:  13%|█▎        | 132/1000 [00:56<06:08,  2.35it/s, loss=0.426]\u001b[A\n",
            "Training:  13%|█▎        | 133/1000 [00:56<06:08,  2.35it/s, loss=0.426]\u001b[A\n",
            "Training:  13%|█▎        | 133/1000 [00:56<06:08,  2.35it/s, loss=0.456]\u001b[A\n",
            "Training:  13%|█▎        | 134/1000 [00:57<06:07,  2.35it/s, loss=0.456]\u001b[A\n",
            "Training:  13%|█▎        | 134/1000 [00:57<06:07,  2.35it/s, loss=0.452]\u001b[A\n",
            "Training:  14%|█▎        | 135/1000 [00:57<06:07,  2.35it/s, loss=0.452]\u001b[A\n",
            "Training:  14%|█▎        | 135/1000 [00:57<06:07,  2.35it/s, loss=0.55] \u001b[A\n",
            "Training:  14%|█▎        | 136/1000 [00:57<06:06,  2.35it/s, loss=0.55]\u001b[A\n",
            "Training:  14%|█▎        | 136/1000 [00:57<06:06,  2.35it/s, loss=0.468]\u001b[A\n",
            "Training:  14%|█▎        | 137/1000 [00:58<06:07,  2.35it/s, loss=0.468]\u001b[A\n",
            "Training:  14%|█▎        | 137/1000 [00:58<06:07,  2.35it/s, loss=0.539]\u001b[A\n",
            "Training:  14%|█▍        | 138/1000 [00:58<06:06,  2.35it/s, loss=0.539]\u001b[A\n",
            "Training:  14%|█▍        | 138/1000 [00:58<06:06,  2.35it/s, loss=0.464]\u001b[A\n",
            "Training:  14%|█▍        | 139/1000 [00:59<06:06,  2.35it/s, loss=0.464]\u001b[A\n",
            "Training:  14%|█▍        | 139/1000 [00:59<06:06,  2.35it/s, loss=0.483]\u001b[A\n",
            "Training:  14%|█▍        | 140/1000 [00:59<06:05,  2.35it/s, loss=0.483]\u001b[A\n",
            "Training:  14%|█▍        | 140/1000 [00:59<06:05,  2.35it/s, loss=0.501]\u001b[A\n",
            "Training:  14%|█▍        | 141/1000 [01:00<06:05,  2.35it/s, loss=0.501]\u001b[A\n",
            "Training:  14%|█▍        | 141/1000 [01:00<06:05,  2.35it/s, loss=0.617]\u001b[A\n",
            "Training:  14%|█▍        | 142/1000 [01:00<06:04,  2.35it/s, loss=0.617]\u001b[A\n",
            "Training:  14%|█▍        | 142/1000 [01:00<06:04,  2.35it/s, loss=0.505]\u001b[A\n",
            "Training:  14%|█▍        | 143/1000 [01:00<06:04,  2.35it/s, loss=0.505]\u001b[A\n",
            "Training:  14%|█▍        | 143/1000 [01:00<06:04,  2.35it/s, loss=0.434]\u001b[A\n",
            "Training:  14%|█▍        | 144/1000 [01:01<06:04,  2.35it/s, loss=0.434]\u001b[A\n",
            "Training:  14%|█▍        | 144/1000 [01:01<06:04,  2.35it/s, loss=0.501]\u001b[A\n",
            "Training:  14%|█▍        | 145/1000 [01:01<06:03,  2.35it/s, loss=0.501]\u001b[A\n",
            "Training:  14%|█▍        | 145/1000 [01:01<06:03,  2.35it/s, loss=0.63] \u001b[A\n",
            "Training:  15%|█▍        | 146/1000 [01:02<06:03,  2.35it/s, loss=0.63]\u001b[A\n",
            "Training:  15%|█▍        | 146/1000 [01:02<06:03,  2.35it/s, loss=0.49]\u001b[A\n",
            "Training:  15%|█▍        | 147/1000 [01:02<06:02,  2.35it/s, loss=0.49]\u001b[A\n",
            "Training:  15%|█▍        | 147/1000 [01:02<06:02,  2.35it/s, loss=0.633]\u001b[A\n",
            "Training:  15%|█▍        | 148/1000 [01:03<06:02,  2.35it/s, loss=0.633]\u001b[A\n",
            "Training:  15%|█▍        | 148/1000 [01:03<06:02,  2.35it/s, loss=0.537]\u001b[A\n",
            "Training:  15%|█▍        | 149/1000 [01:03<06:02,  2.35it/s, loss=0.537]\u001b[A\n",
            "Training:  15%|█▍        | 149/1000 [01:03<06:02,  2.35it/s, loss=0.489]\u001b[A\n",
            "Training:  15%|█▌        | 150/1000 [01:03<06:01,  2.35it/s, loss=0.489]\u001b[A\n",
            "\n",
            "Training:  76%|███████▌  | 2278/3000 [17:08<05:03,  2.38it/s, loss=0.32]\n",
            "Training:  15%|█▌        | 150/1000 [01:03<06:01,  2.35it/s, loss=0.472]\u001b[A"
          ]
        },
        {
          "output_type": "stream",
          "name": "stdout",
          "text": [
            "Step 150: loss = 0.4724\n"
          ]
        },
        {
          "output_type": "stream",
          "name": "stderr",
          "text": [
            "\n",
            "Training:  15%|█▌        | 151/1000 [01:04<06:03,  2.34it/s, loss=0.472]\u001b[A\n",
            "Training:  15%|█▌        | 151/1000 [01:04<06:03,  2.34it/s, loss=0.461]\u001b[A\n",
            "Training:  15%|█▌        | 152/1000 [01:04<06:01,  2.34it/s, loss=0.461]\u001b[A\n",
            "Training:  15%|█▌        | 152/1000 [01:04<06:01,  2.34it/s, loss=0.536]\u001b[A\n",
            "Training:  15%|█▌        | 153/1000 [01:05<06:01,  2.34it/s, loss=0.536]\u001b[A\n",
            "Training:  15%|█▌        | 153/1000 [01:05<06:01,  2.34it/s, loss=0.544]\u001b[A\n",
            "Training:  15%|█▌        | 154/1000 [01:05<06:00,  2.35it/s, loss=0.544]\u001b[A\n",
            "Training:  15%|█▌        | 154/1000 [01:05<06:00,  2.35it/s, loss=0.455]\u001b[A\n",
            "Training:  16%|█▌        | 155/1000 [01:06<05:59,  2.35it/s, loss=0.455]\u001b[A\n",
            "Training:  16%|█▌        | 155/1000 [01:06<05:59,  2.35it/s, loss=0.388]\u001b[A\n",
            "Training:  16%|█▌        | 156/1000 [01:06<05:59,  2.35it/s, loss=0.388]\u001b[A\n",
            "Training:  16%|█▌        | 156/1000 [01:06<05:59,  2.35it/s, loss=0.566]\u001b[A\n",
            "Training:  16%|█▌        | 157/1000 [01:06<05:58,  2.35it/s, loss=0.566]\u001b[A\n",
            "Training:  16%|█▌        | 157/1000 [01:06<05:58,  2.35it/s, loss=0.439]\u001b[A\n",
            "Training:  16%|█▌        | 158/1000 [01:07<05:57,  2.35it/s, loss=0.439]\u001b[A\n",
            "Training:  16%|█▌        | 158/1000 [01:07<05:57,  2.35it/s, loss=0.508]\u001b[A\n",
            "Training:  16%|█▌        | 159/1000 [01:07<05:57,  2.35it/s, loss=0.508]\u001b[A\n",
            "Training:  16%|█▌        | 159/1000 [01:07<05:57,  2.35it/s, loss=0.455]\u001b[A\n",
            "Training:  16%|█▌        | 160/1000 [01:08<05:57,  2.35it/s, loss=0.455]\u001b[A\n",
            "Training:  16%|█▌        | 160/1000 [01:08<05:57,  2.35it/s, loss=0.446]\u001b[A\n",
            "Training:  16%|█▌        | 161/1000 [01:08<05:56,  2.35it/s, loss=0.446]\u001b[A\n",
            "Training:  16%|█▌        | 161/1000 [01:08<05:56,  2.35it/s, loss=0.436]\u001b[A\n",
            "Training:  16%|█▌        | 162/1000 [01:09<05:55,  2.36it/s, loss=0.436]\u001b[A\n",
            "Training:  16%|█▌        | 162/1000 [01:09<05:55,  2.36it/s, loss=0.543]\u001b[A\n",
            "Training:  16%|█▋        | 163/1000 [01:09<05:55,  2.35it/s, loss=0.543]\u001b[A\n",
            "Training:  16%|█▋        | 163/1000 [01:09<05:55,  2.35it/s, loss=0.345]\u001b[A\n",
            "Training:  16%|█▋        | 164/1000 [01:09<05:55,  2.35it/s, loss=0.345]\u001b[A\n",
            "Training:  16%|█▋        | 164/1000 [01:09<05:55,  2.35it/s, loss=0.53] \u001b[A\n",
            "Training:  16%|█▋        | 165/1000 [01:10<05:55,  2.35it/s, loss=0.53]\u001b[A\n",
            "Training:  16%|█▋        | 165/1000 [01:10<05:55,  2.35it/s, loss=0.515]\u001b[A\n",
            "Training:  17%|█▋        | 166/1000 [01:10<05:54,  2.35it/s, loss=0.515]\u001b[A\n",
            "Training:  17%|█▋        | 166/1000 [01:10<05:54,  2.35it/s, loss=0.36] \u001b[A\n",
            "Training:  17%|█▋        | 167/1000 [01:11<05:54,  2.35it/s, loss=0.36]\u001b[A\n",
            "Training:  17%|█▋        | 167/1000 [01:11<05:54,  2.35it/s, loss=0.46]\u001b[A\n",
            "Training:  17%|█▋        | 168/1000 [01:11<05:53,  2.35it/s, loss=0.46]\u001b[A\n",
            "Training:  17%|█▋        | 168/1000 [01:11<05:53,  2.35it/s, loss=0.48]\u001b[A\n",
            "Training:  17%|█▋        | 169/1000 [01:12<05:53,  2.35it/s, loss=0.48]\u001b[A\n",
            "Training:  17%|█▋        | 169/1000 [01:12<05:53,  2.35it/s, loss=0.521]\u001b[A\n",
            "Training:  17%|█▋        | 170/1000 [01:12<05:52,  2.35it/s, loss=0.521]\u001b[A\n",
            "Training:  17%|█▋        | 170/1000 [01:12<05:52,  2.35it/s, loss=0.399]\u001b[A\n",
            "Training:  17%|█▋        | 171/1000 [01:12<05:52,  2.35it/s, loss=0.399]\u001b[A\n",
            "Training:  17%|█▋        | 171/1000 [01:12<05:52,  2.35it/s, loss=0.465]\u001b[A\n",
            "Training:  17%|█▋        | 172/1000 [01:13<05:51,  2.35it/s, loss=0.465]\u001b[A\n",
            "Training:  17%|█▋        | 172/1000 [01:13<05:51,  2.35it/s, loss=0.419]\u001b[A\n",
            "Training:  17%|█▋        | 173/1000 [01:13<05:51,  2.35it/s, loss=0.419]\u001b[A\n",
            "Training:  17%|█▋        | 173/1000 [01:13<05:51,  2.35it/s, loss=0.51] \u001b[A\n",
            "Training:  17%|█▋        | 174/1000 [01:14<05:51,  2.35it/s, loss=0.51]\u001b[A\n",
            "Training:  17%|█▋        | 174/1000 [01:14<05:51,  2.35it/s, loss=0.455]\u001b[A\n",
            "Training:  18%|█▊        | 175/1000 [01:14<05:51,  2.35it/s, loss=0.455]\u001b[A\n",
            "Training:  18%|█▊        | 175/1000 [01:14<05:51,  2.35it/s, loss=0.544]\u001b[A\n",
            "Training:  18%|█▊        | 176/1000 [01:14<05:50,  2.35it/s, loss=0.544]\u001b[A\n",
            "Training:  18%|█▊        | 176/1000 [01:14<05:50,  2.35it/s, loss=0.475]\u001b[A\n",
            "Training:  18%|█▊        | 177/1000 [01:15<05:50,  2.35it/s, loss=0.475]\u001b[A\n",
            "Training:  18%|█▊        | 177/1000 [01:15<05:50,  2.35it/s, loss=0.458]\u001b[A\n",
            "Training:  18%|█▊        | 178/1000 [01:15<05:49,  2.35it/s, loss=0.458]\u001b[A\n",
            "Training:  18%|█▊        | 178/1000 [01:15<05:49,  2.35it/s, loss=0.468]\u001b[A\n",
            "Training:  18%|█▊        | 179/1000 [01:16<05:49,  2.35it/s, loss=0.468]\u001b[A\n",
            "Training:  18%|█▊        | 179/1000 [01:16<05:49,  2.35it/s, loss=0.449]\u001b[A\n",
            "Training:  18%|█▊        | 180/1000 [01:16<05:48,  2.35it/s, loss=0.449]\u001b[A\n",
            "Training:  18%|█▊        | 180/1000 [01:16<05:48,  2.35it/s, loss=0.491]\u001b[A\n",
            "Training:  18%|█▊        | 181/1000 [01:17<05:48,  2.35it/s, loss=0.491]\u001b[A\n",
            "Training:  18%|█▊        | 181/1000 [01:17<05:48,  2.35it/s, loss=0.497]\u001b[A\n",
            "Training:  18%|█▊        | 182/1000 [01:17<05:47,  2.35it/s, loss=0.497]\u001b[A\n",
            "Training:  18%|█▊        | 182/1000 [01:17<05:47,  2.35it/s, loss=0.481]\u001b[A\n",
            "Training:  18%|█▊        | 183/1000 [01:17<05:47,  2.35it/s, loss=0.481]\u001b[A\n",
            "Training:  18%|█▊        | 183/1000 [01:17<05:47,  2.35it/s, loss=0.48] \u001b[A\n",
            "Training:  18%|█▊        | 184/1000 [01:18<05:46,  2.35it/s, loss=0.48]\u001b[A\n",
            "Training:  18%|█▊        | 184/1000 [01:18<05:46,  2.35it/s, loss=0.45]\u001b[A\n",
            "Training:  18%|█▊        | 185/1000 [01:18<05:46,  2.35it/s, loss=0.45]\u001b[A\n",
            "Training:  18%|█▊        | 185/1000 [01:18<05:46,  2.35it/s, loss=0.602]\u001b[A\n",
            "Training:  19%|█▊        | 186/1000 [01:19<05:45,  2.36it/s, loss=0.602]\u001b[A\n",
            "Training:  19%|█▊        | 186/1000 [01:19<05:45,  2.36it/s, loss=0.527]\u001b[A\n",
            "Training:  19%|█▊        | 187/1000 [01:19<05:45,  2.35it/s, loss=0.527]\u001b[A\n",
            "Training:  19%|█▊        | 187/1000 [01:19<05:45,  2.35it/s, loss=0.479]\u001b[A\n",
            "Training:  19%|█▉        | 188/1000 [01:20<05:44,  2.35it/s, loss=0.479]\u001b[A\n",
            "Training:  19%|█▉        | 188/1000 [01:20<05:44,  2.35it/s, loss=0.473]\u001b[A\n",
            "Training:  19%|█▉        | 189/1000 [01:20<05:44,  2.35it/s, loss=0.473]\u001b[A\n",
            "Training:  19%|█▉        | 189/1000 [01:20<05:44,  2.35it/s, loss=0.465]\u001b[A\n",
            "Training:  19%|█▉        | 190/1000 [01:20<05:44,  2.35it/s, loss=0.465]\u001b[A\n",
            "Training:  19%|█▉        | 190/1000 [01:20<05:44,  2.35it/s, loss=0.432]\u001b[A\n",
            "Training:  19%|█▉        | 191/1000 [01:21<05:44,  2.35it/s, loss=0.432]\u001b[A\n",
            "Training:  19%|█▉        | 191/1000 [01:21<05:44,  2.35it/s, loss=0.494]\u001b[A\n",
            "Training:  19%|█▉        | 192/1000 [01:21<05:43,  2.35it/s, loss=0.494]\u001b[A\n",
            "Training:  19%|█▉        | 192/1000 [01:21<05:43,  2.35it/s, loss=0.512]\u001b[A\n",
            "Training:  19%|█▉        | 193/1000 [01:22<05:43,  2.35it/s, loss=0.512]\u001b[A\n",
            "Training:  19%|█▉        | 193/1000 [01:22<05:43,  2.35it/s, loss=0.51] \u001b[A\n",
            "Training:  19%|█▉        | 194/1000 [01:22<05:42,  2.35it/s, loss=0.51]\u001b[A\n",
            "Training:  19%|█▉        | 194/1000 [01:22<05:42,  2.35it/s, loss=0.546]\u001b[A\n",
            "Training:  20%|█▉        | 195/1000 [01:23<05:42,  2.35it/s, loss=0.546]\u001b[A\n",
            "Training:  20%|█▉        | 195/1000 [01:23<05:42,  2.35it/s, loss=0.483]\u001b[A\n",
            "Training:  20%|█▉        | 196/1000 [01:23<05:41,  2.35it/s, loss=0.483]\u001b[A\n",
            "Training:  20%|█▉        | 196/1000 [01:23<05:41,  2.35it/s, loss=0.52] \u001b[A\n",
            "Training:  20%|█▉        | 197/1000 [01:23<05:42,  2.35it/s, loss=0.52]\u001b[A\n",
            "Training:  20%|█▉        | 197/1000 [01:23<05:42,  2.35it/s, loss=0.525]\u001b[A\n",
            "Training:  20%|█▉        | 198/1000 [01:24<05:41,  2.35it/s, loss=0.525]\u001b[A\n",
            "Training:  20%|█▉        | 198/1000 [01:24<05:41,  2.35it/s, loss=0.446]\u001b[A\n",
            "Training:  20%|█▉        | 199/1000 [01:24<05:40,  2.35it/s, loss=0.446]\u001b[A\n",
            "Training:  20%|█▉        | 199/1000 [01:24<05:40,  2.35it/s, loss=0.43] \u001b[A\n",
            "Training:  20%|██        | 200/1000 [01:25<05:40,  2.35it/s, loss=0.43]\u001b[A\n",
            "\n",
            "Training:  76%|███████▌  | 2278/3000 [17:29<05:03,  2.38it/s, loss=0.32]\n",
            "Training:  20%|██        | 200/1000 [01:25<05:40,  2.35it/s, loss=0.463]\u001b[A"
          ]
        },
        {
          "output_type": "stream",
          "name": "stdout",
          "text": [
            "Step 200: loss = 0.4635\n"
          ]
        },
        {
          "output_type": "stream",
          "name": "stderr",
          "text": [
            "\n",
            "Training:  20%|██        | 201/1000 [01:25<05:41,  2.34it/s, loss=0.463]\u001b[A\n",
            "Training:  20%|██        | 201/1000 [01:25<05:41,  2.34it/s, loss=0.498]\u001b[A\n",
            "Training:  20%|██        | 202/1000 [01:26<05:40,  2.34it/s, loss=0.498]\u001b[A\n",
            "Training:  20%|██        | 202/1000 [01:26<05:40,  2.34it/s, loss=0.482]\u001b[A\n",
            "Training:  20%|██        | 203/1000 [01:26<05:39,  2.34it/s, loss=0.482]\u001b[A\n",
            "Training:  20%|██        | 203/1000 [01:26<05:39,  2.34it/s, loss=0.382]\u001b[A\n",
            "Training:  20%|██        | 204/1000 [01:26<05:39,  2.35it/s, loss=0.382]\u001b[A\n",
            "Training:  20%|██        | 204/1000 [01:26<05:39,  2.35it/s, loss=0.516]\u001b[A\n",
            "Training:  20%|██        | 205/1000 [01:27<05:39,  2.34it/s, loss=0.516]\u001b[A\n",
            "Training:  20%|██        | 205/1000 [01:27<05:39,  2.34it/s, loss=0.573]\u001b[A\n",
            "Training:  21%|██        | 206/1000 [01:27<05:38,  2.35it/s, loss=0.573]\u001b[A\n",
            "Training:  21%|██        | 206/1000 [01:27<05:38,  2.35it/s, loss=0.437]\u001b[A\n",
            "Training:  21%|██        | 207/1000 [01:28<05:37,  2.35it/s, loss=0.437]\u001b[A\n",
            "Training:  21%|██        | 207/1000 [01:28<05:37,  2.35it/s, loss=0.428]\u001b[A\n",
            "Training:  21%|██        | 208/1000 [01:28<05:37,  2.35it/s, loss=0.428]\u001b[A\n",
            "Training:  21%|██        | 208/1000 [01:28<05:37,  2.35it/s, loss=0.452]\u001b[A\n",
            "Training:  21%|██        | 209/1000 [01:29<05:36,  2.35it/s, loss=0.452]\u001b[A\n",
            "Training:  21%|██        | 209/1000 [01:29<05:36,  2.35it/s, loss=0.499]\u001b[A\n",
            "Training:  21%|██        | 210/1000 [01:29<05:35,  2.35it/s, loss=0.499]\u001b[A\n",
            "Training:  21%|██        | 210/1000 [01:29<05:35,  2.35it/s, loss=0.51] \u001b[A\n",
            "Training:  21%|██        | 211/1000 [01:29<05:35,  2.35it/s, loss=0.51]\u001b[A\n",
            "Training:  21%|██        | 211/1000 [01:29<05:35,  2.35it/s, loss=0.458]\u001b[A\n",
            "Training:  21%|██        | 212/1000 [01:30<05:35,  2.35it/s, loss=0.458]\u001b[A\n",
            "Training:  21%|██        | 212/1000 [01:30<05:35,  2.35it/s, loss=0.546]\u001b[A\n",
            "Training:  21%|██▏       | 213/1000 [01:30<05:34,  2.35it/s, loss=0.546]\u001b[A\n",
            "Training:  21%|██▏       | 213/1000 [01:30<05:34,  2.35it/s, loss=0.462]\u001b[A\n",
            "Training:  21%|██▏       | 214/1000 [01:31<05:34,  2.35it/s, loss=0.462]\u001b[A\n",
            "Training:  21%|██▏       | 214/1000 [01:31<05:34,  2.35it/s, loss=0.501]\u001b[A\n",
            "Training:  22%|██▏       | 215/1000 [01:31<05:34,  2.35it/s, loss=0.501]\u001b[A\n",
            "Training:  22%|██▏       | 215/1000 [01:31<05:34,  2.35it/s, loss=0.427]\u001b[A\n",
            "Training:  22%|██▏       | 216/1000 [01:32<05:33,  2.35it/s, loss=0.427]\u001b[A\n",
            "Training:  22%|██▏       | 216/1000 [01:32<05:33,  2.35it/s, loss=0.356]\u001b[A\n",
            "Training:  22%|██▏       | 217/1000 [01:32<05:33,  2.35it/s, loss=0.356]\u001b[A\n",
            "Training:  22%|██▏       | 217/1000 [01:32<05:33,  2.35it/s, loss=0.411]\u001b[A\n",
            "Training:  22%|██▏       | 218/1000 [01:32<05:32,  2.35it/s, loss=0.411]\u001b[A\n",
            "Training:  22%|██▏       | 218/1000 [01:32<05:32,  2.35it/s, loss=0.591]\u001b[A\n",
            "Training:  22%|██▏       | 219/1000 [01:33<05:31,  2.35it/s, loss=0.591]\u001b[A\n",
            "Training:  22%|██▏       | 219/1000 [01:33<05:31,  2.35it/s, loss=0.428]\u001b[A\n",
            "Training:  22%|██▏       | 220/1000 [01:33<05:31,  2.36it/s, loss=0.428]\u001b[A\n",
            "Training:  22%|██▏       | 220/1000 [01:33<05:31,  2.36it/s, loss=0.496]\u001b[A\n",
            "Training:  22%|██▏       | 221/1000 [01:34<05:30,  2.35it/s, loss=0.496]\u001b[A\n",
            "Training:  22%|██▏       | 221/1000 [01:34<05:30,  2.35it/s, loss=0.493]\u001b[A\n",
            "Training:  22%|██▏       | 222/1000 [01:34<05:30,  2.36it/s, loss=0.493]\u001b[A\n",
            "Training:  22%|██▏       | 222/1000 [01:34<05:30,  2.36it/s, loss=0.432]\u001b[A\n",
            "Training:  22%|██▏       | 223/1000 [01:34<05:29,  2.36it/s, loss=0.432]\u001b[A\n",
            "Training:  22%|██▏       | 223/1000 [01:34<05:29,  2.36it/s, loss=0.399]\u001b[A\n",
            "Training:  22%|██▏       | 224/1000 [01:35<05:29,  2.36it/s, loss=0.399]\u001b[A\n",
            "Training:  22%|██▏       | 224/1000 [01:35<05:29,  2.36it/s, loss=0.44] \u001b[A\n",
            "Training:  22%|██▎       | 225/1000 [01:35<05:28,  2.36it/s, loss=0.44]\u001b[A\n",
            "Training:  22%|██▎       | 225/1000 [01:35<05:28,  2.36it/s, loss=0.45]\u001b[A\n",
            "Training:  23%|██▎       | 226/1000 [01:36<05:28,  2.36it/s, loss=0.45]\u001b[A\n",
            "Training:  23%|██▎       | 226/1000 [01:36<05:28,  2.36it/s, loss=0.414]\u001b[A\n",
            "Training:  23%|██▎       | 227/1000 [01:36<05:28,  2.36it/s, loss=0.414]\u001b[A\n",
            "Training:  23%|██▎       | 227/1000 [01:36<05:28,  2.36it/s, loss=0.392]\u001b[A\n",
            "Training:  23%|██▎       | 228/1000 [01:37<05:27,  2.35it/s, loss=0.392]\u001b[A\n",
            "Training:  23%|██▎       | 228/1000 [01:37<05:27,  2.35it/s, loss=0.453]\u001b[A\n",
            "Training:  23%|██▎       | 229/1000 [01:37<05:27,  2.35it/s, loss=0.453]\u001b[A\n",
            "Training:  23%|██▎       | 229/1000 [01:37<05:27,  2.35it/s, loss=0.442]\u001b[A\n",
            "Training:  23%|██▎       | 230/1000 [01:37<05:27,  2.35it/s, loss=0.442]\u001b[A\n",
            "Training:  23%|██▎       | 230/1000 [01:37<05:27,  2.35it/s, loss=0.471]\u001b[A\n",
            "Training:  23%|██▎       | 231/1000 [01:38<05:26,  2.35it/s, loss=0.471]\u001b[A\n",
            "Training:  23%|██▎       | 231/1000 [01:38<05:26,  2.35it/s, loss=0.448]\u001b[A\n",
            "Training:  23%|██▎       | 232/1000 [01:38<05:26,  2.35it/s, loss=0.448]\u001b[A\n",
            "Training:  23%|██▎       | 232/1000 [01:38<05:26,  2.35it/s, loss=0.548]\u001b[A\n",
            "Training:  23%|██▎       | 233/1000 [01:39<05:25,  2.36it/s, loss=0.548]\u001b[A\n",
            "Training:  23%|██▎       | 233/1000 [01:39<05:25,  2.36it/s, loss=0.469]\u001b[A\n",
            "Training:  23%|██▎       | 234/1000 [01:39<05:25,  2.35it/s, loss=0.469]\u001b[A\n",
            "Training:  23%|██▎       | 234/1000 [01:39<05:25,  2.35it/s, loss=0.371]\u001b[A\n",
            "Training:  24%|██▎       | 235/1000 [01:40<05:25,  2.35it/s, loss=0.371]\u001b[A\n",
            "Training:  24%|██▎       | 235/1000 [01:40<05:25,  2.35it/s, loss=0.462]\u001b[A\n",
            "Training:  24%|██▎       | 236/1000 [01:40<05:25,  2.35it/s, loss=0.462]\u001b[A\n",
            "Training:  24%|██▎       | 236/1000 [01:40<05:25,  2.35it/s, loss=0.478]\u001b[A\n",
            "Training:  24%|██▎       | 237/1000 [01:40<05:24,  2.35it/s, loss=0.478]\u001b[A\n",
            "Training:  24%|██▎       | 237/1000 [01:40<05:24,  2.35it/s, loss=0.5]  \u001b[A\n",
            "Training:  24%|██▍       | 238/1000 [01:41<05:24,  2.35it/s, loss=0.5]\u001b[A\n",
            "Training:  24%|██▍       | 238/1000 [01:41<05:24,  2.35it/s, loss=0.482]\u001b[A\n",
            "Training:  24%|██▍       | 239/1000 [01:41<05:23,  2.35it/s, loss=0.482]\u001b[A\n",
            "Training:  24%|██▍       | 239/1000 [01:41<05:23,  2.35it/s, loss=0.419]\u001b[A\n",
            "Training:  24%|██▍       | 240/1000 [01:42<05:23,  2.35it/s, loss=0.419]\u001b[A\n",
            "Training:  24%|██▍       | 240/1000 [01:42<05:23,  2.35it/s, loss=0.525]\u001b[A\n",
            "Training:  24%|██▍       | 241/1000 [01:42<05:22,  2.35it/s, loss=0.525]\u001b[A\n",
            "Training:  24%|██▍       | 241/1000 [01:42<05:22,  2.35it/s, loss=0.366]\u001b[A\n",
            "Training:  24%|██▍       | 242/1000 [01:43<05:22,  2.35it/s, loss=0.366]\u001b[A\n",
            "Training:  24%|██▍       | 242/1000 [01:43<05:22,  2.35it/s, loss=0.386]\u001b[A\n",
            "Training:  24%|██▍       | 243/1000 [01:43<05:22,  2.35it/s, loss=0.386]\u001b[A\n",
            "Training:  24%|██▍       | 243/1000 [01:43<05:22,  2.35it/s, loss=0.438]\u001b[A\n",
            "Training:  24%|██▍       | 244/1000 [01:43<05:21,  2.35it/s, loss=0.438]\u001b[A\n",
            "Training:  24%|██▍       | 244/1000 [01:43<05:21,  2.35it/s, loss=0.53] \u001b[A\n",
            "Training:  24%|██▍       | 245/1000 [01:44<05:20,  2.35it/s, loss=0.53]\u001b[A\n",
            "Training:  24%|██▍       | 245/1000 [01:44<05:20,  2.35it/s, loss=0.591]\u001b[A\n",
            "Training:  25%|██▍       | 246/1000 [01:44<05:20,  2.35it/s, loss=0.591]\u001b[A\n",
            "Training:  25%|██▍       | 246/1000 [01:44<05:20,  2.35it/s, loss=0.499]\u001b[A\n",
            "Training:  25%|██▍       | 247/1000 [01:45<05:20,  2.35it/s, loss=0.499]\u001b[A\n",
            "Training:  25%|██▍       | 247/1000 [01:45<05:20,  2.35it/s, loss=0.481]\u001b[A\n",
            "Training:  25%|██▍       | 248/1000 [01:45<05:19,  2.35it/s, loss=0.481]\u001b[A\n",
            "Training:  25%|██▍       | 248/1000 [01:45<05:19,  2.35it/s, loss=0.485]\u001b[A\n",
            "Training:  25%|██▍       | 249/1000 [01:46<05:19,  2.35it/s, loss=0.485]\u001b[A\n",
            "Training:  25%|██▍       | 249/1000 [01:46<05:19,  2.35it/s, loss=0.49] \u001b[A\n",
            "Training:  25%|██▌       | 250/1000 [01:46<05:19,  2.35it/s, loss=0.49]\u001b[A\n",
            "\n",
            "Training:  76%|███████▌  | 2278/3000 [17:50<05:03,  2.38it/s, loss=0.32]\n",
            "Training:  25%|██▌       | 250/1000 [01:46<05:19,  2.35it/s, loss=0.407]\u001b[A"
          ]
        },
        {
          "output_type": "stream",
          "name": "stdout",
          "text": [
            "Step 250: loss = 0.4070\n"
          ]
        },
        {
          "output_type": "stream",
          "name": "stderr",
          "text": [
            "\n",
            "Training:  25%|██▌       | 251/1000 [01:46<05:20,  2.34it/s, loss=0.407]\u001b[A\n",
            "Training:  25%|██▌       | 251/1000 [01:46<05:20,  2.34it/s, loss=0.46] \u001b[A\n",
            "Training:  25%|██▌       | 252/1000 [01:47<05:19,  2.34it/s, loss=0.46]\u001b[A\n",
            "Training:  25%|██▌       | 252/1000 [01:47<05:19,  2.34it/s, loss=0.526]\u001b[A\n",
            "Training:  25%|██▌       | 253/1000 [01:47<05:18,  2.35it/s, loss=0.526]\u001b[A\n",
            "Training:  25%|██▌       | 253/1000 [01:47<05:18,  2.35it/s, loss=0.507]\u001b[A\n",
            "Training:  25%|██▌       | 254/1000 [01:48<05:17,  2.35it/s, loss=0.507]\u001b[A\n",
            "Training:  25%|██▌       | 254/1000 [01:48<05:17,  2.35it/s, loss=0.332]\u001b[A\n",
            "Training:  26%|██▌       | 255/1000 [01:48<05:17,  2.35it/s, loss=0.332]\u001b[A\n",
            "Training:  26%|██▌       | 255/1000 [01:48<05:17,  2.35it/s, loss=0.484]\u001b[A\n",
            "Training:  26%|██▌       | 256/1000 [01:49<05:16,  2.35it/s, loss=0.484]\u001b[A\n",
            "Training:  26%|██▌       | 256/1000 [01:49<05:16,  2.35it/s, loss=0.413]\u001b[A\n",
            "Training:  26%|██▌       | 257/1000 [01:49<05:15,  2.35it/s, loss=0.413]\u001b[A\n",
            "Training:  26%|██▌       | 257/1000 [01:49<05:15,  2.35it/s, loss=0.44] \u001b[A\n",
            "Training:  26%|██▌       | 258/1000 [01:49<05:15,  2.35it/s, loss=0.44]\u001b[A\n",
            "Training:  26%|██▌       | 258/1000 [01:49<05:15,  2.35it/s, loss=0.49]\u001b[A\n",
            "Training:  26%|██▌       | 259/1000 [01:50<05:15,  2.35it/s, loss=0.49]\u001b[A\n",
            "Training:  26%|██▌       | 259/1000 [01:50<05:15,  2.35it/s, loss=0.447]\u001b[A\n",
            "Training:  26%|██▌       | 260/1000 [01:50<05:14,  2.35it/s, loss=0.447]\u001b[A\n",
            "Training:  26%|██▌       | 260/1000 [01:50<05:14,  2.35it/s, loss=0.386]\u001b[A\n",
            "Training:  26%|██▌       | 261/1000 [01:51<05:14,  2.35it/s, loss=0.386]\u001b[A\n",
            "Training:  26%|██▌       | 261/1000 [01:51<05:14,  2.35it/s, loss=0.475]\u001b[A\n",
            "Training:  26%|██▌       | 262/1000 [01:51<05:14,  2.35it/s, loss=0.475]\u001b[A\n",
            "Training:  26%|██▌       | 262/1000 [01:51<05:14,  2.35it/s, loss=0.437]\u001b[A\n",
            "Training:  26%|██▋       | 263/1000 [01:52<05:13,  2.35it/s, loss=0.437]\u001b[A\n",
            "Training:  26%|██▋       | 263/1000 [01:52<05:13,  2.35it/s, loss=0.456]\u001b[A\n",
            "Training:  26%|██▋       | 264/1000 [01:52<05:13,  2.35it/s, loss=0.456]\u001b[A\n",
            "Training:  26%|██▋       | 264/1000 [01:52<05:13,  2.35it/s, loss=0.445]\u001b[A\n",
            "Training:  26%|██▋       | 265/1000 [01:52<05:12,  2.35it/s, loss=0.445]\u001b[A\n",
            "Training:  26%|██▋       | 265/1000 [01:52<05:12,  2.35it/s, loss=0.465]\u001b[A\n",
            "Training:  27%|██▋       | 266/1000 [01:53<05:12,  2.35it/s, loss=0.465]\u001b[A\n",
            "Training:  27%|██▋       | 266/1000 [01:53<05:12,  2.35it/s, loss=0.556]\u001b[A\n",
            "Training:  27%|██▋       | 267/1000 [01:53<05:11,  2.35it/s, loss=0.556]\u001b[A\n",
            "Training:  27%|██▋       | 267/1000 [01:53<05:11,  2.35it/s, loss=0.523]\u001b[A\n",
            "Training:  27%|██▋       | 268/1000 [01:54<05:10,  2.35it/s, loss=0.523]\u001b[A\n",
            "Training:  27%|██▋       | 268/1000 [01:54<05:10,  2.35it/s, loss=0.416]\u001b[A\n",
            "Training:  27%|██▋       | 269/1000 [01:54<05:10,  2.36it/s, loss=0.416]\u001b[A\n",
            "Training:  27%|██▋       | 269/1000 [01:54<05:10,  2.36it/s, loss=0.412]\u001b[A\n",
            "Training:  27%|██▋       | 270/1000 [01:54<05:10,  2.35it/s, loss=0.412]\u001b[A\n",
            "Training:  27%|██▋       | 270/1000 [01:54<05:10,  2.35it/s, loss=0.42] \u001b[A\n",
            "Training:  27%|██▋       | 271/1000 [01:55<05:09,  2.35it/s, loss=0.42]\u001b[A\n",
            "Training:  27%|██▋       | 271/1000 [01:55<05:09,  2.35it/s, loss=0.438]\u001b[A\n",
            "Training:  27%|██▋       | 272/1000 [01:55<05:09,  2.35it/s, loss=0.438]\u001b[A\n",
            "Training:  27%|██▋       | 272/1000 [01:55<05:09,  2.35it/s, loss=0.44] \u001b[A\n",
            "Training:  27%|██▋       | 273/1000 [01:56<05:09,  2.35it/s, loss=0.44]\u001b[A\n",
            "Training:  27%|██▋       | 273/1000 [01:56<05:09,  2.35it/s, loss=0.504]\u001b[A\n",
            "Training:  27%|██▋       | 274/1000 [01:56<05:08,  2.35it/s, loss=0.504]\u001b[A\n",
            "Training:  27%|██▋       | 274/1000 [01:56<05:08,  2.35it/s, loss=0.482]\u001b[A\n",
            "Training:  28%|██▊       | 275/1000 [01:57<05:08,  2.35it/s, loss=0.482]\u001b[A\n",
            "Training:  28%|██▊       | 275/1000 [01:57<05:08,  2.35it/s, loss=0.338]\u001b[A\n",
            "Training:  28%|██▊       | 276/1000 [01:57<05:07,  2.35it/s, loss=0.338]\u001b[A\n",
            "Training:  28%|██▊       | 276/1000 [01:57<05:07,  2.35it/s, loss=0.44] \u001b[A\n",
            "Training:  28%|██▊       | 277/1000 [01:57<05:07,  2.35it/s, loss=0.44]\u001b[A\n",
            "Training:  28%|██▊       | 277/1000 [01:57<05:07,  2.35it/s, loss=0.395]\u001b[A\n",
            "Training:  28%|██▊       | 278/1000 [01:58<05:06,  2.35it/s, loss=0.395]\u001b[A\n",
            "Training:  28%|██▊       | 278/1000 [01:58<05:06,  2.35it/s, loss=0.482]\u001b[A\n",
            "Training:  28%|██▊       | 279/1000 [01:58<05:06,  2.35it/s, loss=0.482]\u001b[A\n",
            "Training:  28%|██▊       | 279/1000 [01:58<05:06,  2.35it/s, loss=0.492]\u001b[A\n",
            "Training:  28%|██▊       | 280/1000 [01:59<05:05,  2.35it/s, loss=0.492]\u001b[A\n",
            "Training:  28%|██▊       | 280/1000 [01:59<05:05,  2.35it/s, loss=0.427]\u001b[A\n",
            "Training:  28%|██▊       | 281/1000 [01:59<05:05,  2.35it/s, loss=0.427]\u001b[A\n",
            "Training:  28%|██▊       | 281/1000 [01:59<05:05,  2.35it/s, loss=0.425]\u001b[A\n",
            "Training:  28%|██▊       | 282/1000 [02:00<05:05,  2.35it/s, loss=0.425]\u001b[A\n",
            "Training:  28%|██▊       | 282/1000 [02:00<05:05,  2.35it/s, loss=0.392]\u001b[A\n",
            "Training:  28%|██▊       | 283/1000 [02:00<05:04,  2.35it/s, loss=0.392]\u001b[A\n",
            "Training:  28%|██▊       | 283/1000 [02:00<05:04,  2.35it/s, loss=0.447]\u001b[A\n",
            "Training:  28%|██▊       | 284/1000 [02:00<05:04,  2.35it/s, loss=0.447]\u001b[A\n",
            "Training:  28%|██▊       | 284/1000 [02:00<05:04,  2.35it/s, loss=0.439]\u001b[A\n",
            "Training:  28%|██▊       | 285/1000 [02:01<05:04,  2.35it/s, loss=0.439]\u001b[A\n",
            "Training:  28%|██▊       | 285/1000 [02:01<05:04,  2.35it/s, loss=0.398]\u001b[A\n",
            "Training:  29%|██▊       | 286/1000 [02:01<05:03,  2.35it/s, loss=0.398]\u001b[A\n",
            "Training:  29%|██▊       | 286/1000 [02:01<05:03,  2.35it/s, loss=0.357]\u001b[A\n",
            "Training:  29%|██▊       | 287/1000 [02:02<05:03,  2.35it/s, loss=0.357]\u001b[A\n",
            "Training:  29%|██▊       | 287/1000 [02:02<05:03,  2.35it/s, loss=0.486]\u001b[A\n",
            "Training:  29%|██▉       | 288/1000 [02:02<05:02,  2.35it/s, loss=0.486]\u001b[A\n",
            "Training:  29%|██▉       | 288/1000 [02:02<05:02,  2.35it/s, loss=0.485]\u001b[A\n",
            "Training:  29%|██▉       | 289/1000 [02:03<05:02,  2.35it/s, loss=0.485]\u001b[A\n",
            "Training:  29%|██▉       | 289/1000 [02:03<05:02,  2.35it/s, loss=0.434]\u001b[A\n",
            "Training:  29%|██▉       | 290/1000 [02:03<05:01,  2.35it/s, loss=0.434]\u001b[A\n",
            "Training:  29%|██▉       | 290/1000 [02:03<05:01,  2.35it/s, loss=0.463]\u001b[A\n",
            "Training:  29%|██▉       | 291/1000 [02:03<05:01,  2.35it/s, loss=0.463]\u001b[A\n",
            "Training:  29%|██▉       | 291/1000 [02:03<05:01,  2.35it/s, loss=0.434]\u001b[A\n",
            "Training:  29%|██▉       | 292/1000 [02:04<05:01,  2.35it/s, loss=0.434]\u001b[A\n",
            "Training:  29%|██▉       | 292/1000 [02:04<05:01,  2.35it/s, loss=0.461]\u001b[A\n",
            "Training:  29%|██▉       | 293/1000 [02:04<05:00,  2.35it/s, loss=0.461]\u001b[A\n",
            "Training:  29%|██▉       | 293/1000 [02:04<05:00,  2.35it/s, loss=0.377]\u001b[A\n",
            "Training:  29%|██▉       | 294/1000 [02:05<05:00,  2.35it/s, loss=0.377]\u001b[A\n",
            "Training:  29%|██▉       | 294/1000 [02:05<05:00,  2.35it/s, loss=0.434]\u001b[A\n",
            "Training:  30%|██▉       | 295/1000 [02:05<04:59,  2.35it/s, loss=0.434]\u001b[A\n",
            "Training:  30%|██▉       | 295/1000 [02:05<04:59,  2.35it/s, loss=0.488]\u001b[A\n",
            "Training:  30%|██▉       | 296/1000 [02:06<04:59,  2.35it/s, loss=0.488]\u001b[A\n",
            "Training:  30%|██▉       | 296/1000 [02:06<04:59,  2.35it/s, loss=0.407]\u001b[A\n",
            "Training:  30%|██▉       | 297/1000 [02:06<04:58,  2.35it/s, loss=0.407]\u001b[A\n",
            "Training:  30%|██▉       | 297/1000 [02:06<04:58,  2.35it/s, loss=0.353]\u001b[A\n",
            "Training:  30%|██▉       | 298/1000 [02:06<04:58,  2.35it/s, loss=0.353]\u001b[A\n",
            "Training:  30%|██▉       | 298/1000 [02:06<04:58,  2.35it/s, loss=0.512]\u001b[A\n",
            "Training:  30%|██▉       | 299/1000 [02:07<04:58,  2.35it/s, loss=0.512]\u001b[A\n",
            "Training:  30%|██▉       | 299/1000 [02:07<04:58,  2.35it/s, loss=0.422]\u001b[A\n",
            "Training:  30%|███       | 300/1000 [02:07<04:58,  2.35it/s, loss=0.422]\u001b[A\n",
            "\n",
            "Training:  76%|███████▌  | 2278/3000 [18:12<05:03,  2.38it/s, loss=0.32]\n",
            "Training:  30%|███       | 300/1000 [02:07<04:58,  2.35it/s, loss=0.466]\u001b[A"
          ]
        },
        {
          "output_type": "stream",
          "name": "stdout",
          "text": [
            "Step 300: loss = 0.4660\n"
          ]
        },
        {
          "output_type": "stream",
          "name": "stderr",
          "text": [
            "\n",
            "Training:  30%|███       | 301/1000 [02:08<04:59,  2.34it/s, loss=0.466]\u001b[A\n",
            "Training:  30%|███       | 301/1000 [02:08<04:59,  2.34it/s, loss=0.36] \u001b[A\n",
            "Training:  30%|███       | 302/1000 [02:08<04:57,  2.34it/s, loss=0.36]\u001b[A\n",
            "Training:  30%|███       | 302/1000 [02:08<04:57,  2.34it/s, loss=0.347]\u001b[A\n",
            "Training:  30%|███       | 303/1000 [02:09<04:56,  2.35it/s, loss=0.347]\u001b[A\n",
            "Training:  30%|███       | 303/1000 [02:09<04:56,  2.35it/s, loss=0.49] \u001b[A\n",
            "Training:  30%|███       | 304/1000 [02:09<04:55,  2.35it/s, loss=0.49]\u001b[A\n",
            "Training:  30%|███       | 304/1000 [02:09<04:55,  2.35it/s, loss=0.376]\u001b[A\n",
            "Training:  30%|███       | 305/1000 [02:09<04:55,  2.35it/s, loss=0.376]\u001b[A\n",
            "Training:  30%|███       | 305/1000 [02:09<04:55,  2.35it/s, loss=0.438]\u001b[A\n",
            "Training:  31%|███       | 306/1000 [02:10<04:55,  2.35it/s, loss=0.438]\u001b[A\n",
            "Training:  31%|███       | 306/1000 [02:10<04:55,  2.35it/s, loss=0.439]\u001b[A\n",
            "Training:  31%|███       | 307/1000 [02:10<04:54,  2.35it/s, loss=0.439]\u001b[A\n",
            "Training:  31%|███       | 307/1000 [02:10<04:54,  2.35it/s, loss=0.574]\u001b[A\n",
            "Training:  31%|███       | 308/1000 [02:11<04:54,  2.35it/s, loss=0.574]\u001b[A\n",
            "Training:  31%|███       | 308/1000 [02:11<04:54,  2.35it/s, loss=0.371]\u001b[A\n",
            "Training:  31%|███       | 309/1000 [02:11<04:53,  2.35it/s, loss=0.371]\u001b[A\n",
            "Training:  31%|███       | 309/1000 [02:11<04:53,  2.35it/s, loss=0.423]\u001b[A\n",
            "Training:  31%|███       | 310/1000 [02:11<04:53,  2.35it/s, loss=0.423]\u001b[A\n",
            "Training:  31%|███       | 310/1000 [02:11<04:53,  2.35it/s, loss=0.425]\u001b[A\n",
            "Training:  31%|███       | 311/1000 [02:12<04:52,  2.35it/s, loss=0.425]\u001b[A\n",
            "Training:  31%|███       | 311/1000 [02:12<04:52,  2.35it/s, loss=0.444]\u001b[A\n",
            "Training:  31%|███       | 312/1000 [02:12<04:52,  2.35it/s, loss=0.444]\u001b[A\n",
            "Training:  31%|███       | 312/1000 [02:12<04:52,  2.35it/s, loss=0.479]\u001b[A\n",
            "Training:  31%|███▏      | 313/1000 [02:13<04:51,  2.35it/s, loss=0.479]\u001b[A\n",
            "Training:  31%|███▏      | 313/1000 [02:13<04:51,  2.35it/s, loss=0.458]\u001b[A\n",
            "Training:  31%|███▏      | 314/1000 [02:13<04:51,  2.35it/s, loss=0.458]\u001b[A\n",
            "Training:  31%|███▏      | 314/1000 [02:13<04:51,  2.35it/s, loss=0.499]\u001b[A\n",
            "Training:  32%|███▏      | 315/1000 [02:14<04:50,  2.36it/s, loss=0.499]\u001b[A\n",
            "Training:  32%|███▏      | 315/1000 [02:14<04:50,  2.36it/s, loss=0.444]\u001b[A\n",
            "Training:  32%|███▏      | 316/1000 [02:14<04:50,  2.36it/s, loss=0.444]\u001b[A\n",
            "Training:  32%|███▏      | 316/1000 [02:14<04:50,  2.36it/s, loss=0.412]\u001b[A\n",
            "Training:  32%|███▏      | 317/1000 [02:14<04:49,  2.36it/s, loss=0.412]\u001b[A\n",
            "Training:  32%|███▏      | 317/1000 [02:14<04:49,  2.36it/s, loss=0.47] \u001b[A\n",
            "Training:  32%|███▏      | 318/1000 [02:15<04:49,  2.36it/s, loss=0.47]\u001b[A\n",
            "Training:  32%|███▏      | 318/1000 [02:15<04:49,  2.36it/s, loss=0.357]\u001b[A\n",
            "Training:  32%|███▏      | 319/1000 [02:15<04:49,  2.35it/s, loss=0.357]\u001b[A\n",
            "Training:  32%|███▏      | 319/1000 [02:15<04:49,  2.35it/s, loss=0.4]  \u001b[A\n",
            "Training:  32%|███▏      | 320/1000 [02:16<04:49,  2.35it/s, loss=0.4]\u001b[A\n",
            "Training:  32%|███▏      | 320/1000 [02:16<04:49,  2.35it/s, loss=0.508]\u001b[A\n",
            "Training:  32%|███▏      | 321/1000 [02:16<04:48,  2.35it/s, loss=0.508]\u001b[A\n",
            "Training:  32%|███▏      | 321/1000 [02:16<04:48,  2.35it/s, loss=0.413]\u001b[A\n",
            "Training:  32%|███▏      | 322/1000 [02:17<04:48,  2.35it/s, loss=0.413]\u001b[A\n",
            "Training:  32%|███▏      | 322/1000 [02:17<04:48,  2.35it/s, loss=0.471]\u001b[A\n",
            "Training:  32%|███▏      | 323/1000 [02:17<04:48,  2.35it/s, loss=0.471]\u001b[A\n",
            "Training:  32%|███▏      | 323/1000 [02:17<04:48,  2.35it/s, loss=0.387]\u001b[A\n",
            "Training:  32%|███▏      | 324/1000 [02:17<04:47,  2.35it/s, loss=0.387]\u001b[A\n",
            "Training:  32%|███▏      | 324/1000 [02:17<04:47,  2.35it/s, loss=0.511]\u001b[A\n",
            "Training:  32%|███▎      | 325/1000 [02:18<04:47,  2.35it/s, loss=0.511]\u001b[A\n",
            "Training:  32%|███▎      | 325/1000 [02:18<04:47,  2.35it/s, loss=0.458]\u001b[A\n",
            "Training:  33%|███▎      | 326/1000 [02:18<04:46,  2.35it/s, loss=0.458]\u001b[A\n",
            "Training:  33%|███▎      | 326/1000 [02:18<04:46,  2.35it/s, loss=0.401]\u001b[A\n",
            "Training:  33%|███▎      | 327/1000 [02:19<04:46,  2.35it/s, loss=0.401]\u001b[A\n",
            "Training:  33%|███▎      | 327/1000 [02:19<04:46,  2.35it/s, loss=0.35] \u001b[A\n",
            "Training:  33%|███▎      | 328/1000 [02:19<04:45,  2.35it/s, loss=0.35]\u001b[A\n",
            "Training:  33%|███▎      | 328/1000 [02:19<04:45,  2.35it/s, loss=0.442]\u001b[A\n",
            "Training:  33%|███▎      | 329/1000 [02:20<04:45,  2.35it/s, loss=0.442]\u001b[A\n",
            "Training:  33%|███▎      | 329/1000 [02:20<04:45,  2.35it/s, loss=0.462]\u001b[A\n",
            "Training:  33%|███▎      | 330/1000 [02:20<04:44,  2.35it/s, loss=0.462]\u001b[A\n",
            "Training:  33%|███▎      | 330/1000 [02:20<04:44,  2.35it/s, loss=0.382]\u001b[A\n",
            "Training:  33%|███▎      | 331/1000 [02:20<04:44,  2.35it/s, loss=0.382]\u001b[A\n",
            "Training:  33%|███▎      | 331/1000 [02:20<04:44,  2.35it/s, loss=0.447]\u001b[A\n",
            "Training:  33%|███▎      | 332/1000 [02:21<04:44,  2.35it/s, loss=0.447]\u001b[A\n",
            "Training:  33%|███▎      | 332/1000 [02:21<04:44,  2.35it/s, loss=0.495]\u001b[A\n",
            "Training:  33%|███▎      | 333/1000 [02:21<04:43,  2.35it/s, loss=0.495]\u001b[A\n",
            "Training:  33%|███▎      | 333/1000 [02:21<04:43,  2.35it/s, loss=0.42] \u001b[A\n",
            "Training:  33%|███▎      | 334/1000 [02:22<04:42,  2.35it/s, loss=0.42]\u001b[A\n",
            "Training:  33%|███▎      | 334/1000 [02:22<04:42,  2.35it/s, loss=0.362]\u001b[A\n",
            "Training:  34%|███▎      | 335/1000 [02:22<04:42,  2.35it/s, loss=0.362]\u001b[A\n",
            "Training:  34%|███▎      | 335/1000 [02:22<04:42,  2.35it/s, loss=0.441]\u001b[A\n",
            "Training:  34%|███▎      | 336/1000 [02:23<04:42,  2.35it/s, loss=0.441]\u001b[A\n",
            "Training:  34%|███▎      | 336/1000 [02:23<04:42,  2.35it/s, loss=0.39] \u001b[A\n",
            "Training:  34%|███▎      | 337/1000 [02:23<04:41,  2.35it/s, loss=0.39]\u001b[A\n",
            "Training:  34%|███▎      | 337/1000 [02:23<04:41,  2.35it/s, loss=0.35]\u001b[A\n",
            "Training:  34%|███▍      | 338/1000 [02:23<04:41,  2.35it/s, loss=0.35]\u001b[A\n",
            "Training:  34%|███▍      | 338/1000 [02:23<04:41,  2.35it/s, loss=0.418]\u001b[A\n",
            "Training:  34%|███▍      | 339/1000 [02:24<04:40,  2.35it/s, loss=0.418]\u001b[A\n",
            "Training:  34%|███▍      | 339/1000 [02:24<04:40,  2.35it/s, loss=0.414]\u001b[A\n",
            "Training:  34%|███▍      | 340/1000 [02:24<04:40,  2.35it/s, loss=0.414]\u001b[A\n",
            "Training:  34%|███▍      | 340/1000 [02:24<04:40,  2.35it/s, loss=0.391]\u001b[A\n",
            "Training:  34%|███▍      | 341/1000 [02:25<04:40,  2.35it/s, loss=0.391]\u001b[A\n",
            "Training:  34%|███▍      | 341/1000 [02:25<04:40,  2.35it/s, loss=0.443]\u001b[A\n",
            "Training:  34%|███▍      | 342/1000 [02:25<04:39,  2.35it/s, loss=0.443]\u001b[A\n",
            "Training:  34%|███▍      | 342/1000 [02:25<04:39,  2.35it/s, loss=0.427]\u001b[A\n",
            "Training:  34%|███▍      | 343/1000 [02:26<04:39,  2.35it/s, loss=0.427]\u001b[A\n",
            "Training:  34%|███▍      | 343/1000 [02:26<04:39,  2.35it/s, loss=0.387]\u001b[A\n",
            "Training:  34%|███▍      | 344/1000 [02:26<04:38,  2.35it/s, loss=0.387]\u001b[A\n",
            "Training:  34%|███▍      | 344/1000 [02:26<04:38,  2.35it/s, loss=0.432]\u001b[A\n",
            "Training:  34%|███▍      | 345/1000 [02:26<04:38,  2.35it/s, loss=0.432]\u001b[A\n",
            "Training:  34%|███▍      | 345/1000 [02:26<04:38,  2.35it/s, loss=0.368]\u001b[A\n",
            "Training:  35%|███▍      | 346/1000 [02:27<04:38,  2.35it/s, loss=0.368]\u001b[A\n",
            "Training:  35%|███▍      | 346/1000 [02:27<04:38,  2.35it/s, loss=0.459]\u001b[A\n",
            "Training:  35%|███▍      | 347/1000 [02:27<04:37,  2.35it/s, loss=0.459]\u001b[A\n",
            "Training:  35%|███▍      | 347/1000 [02:27<04:37,  2.35it/s, loss=0.378]\u001b[A\n",
            "Training:  35%|███▍      | 348/1000 [02:28<04:37,  2.35it/s, loss=0.378]\u001b[A\n",
            "Training:  35%|███▍      | 348/1000 [02:28<04:37,  2.35it/s, loss=0.451]\u001b[A\n",
            "Training:  35%|███▍      | 349/1000 [02:28<04:36,  2.35it/s, loss=0.451]\u001b[A\n",
            "Training:  35%|███▍      | 349/1000 [02:28<04:36,  2.35it/s, loss=0.508]\u001b[A\n",
            "Training:  35%|███▌      | 350/1000 [02:28<04:36,  2.35it/s, loss=0.508]\u001b[A\n",
            "\n",
            "Training:  76%|███████▌  | 2278/3000 [18:33<05:03,  2.38it/s, loss=0.32]\n",
            "Training:  35%|███▌      | 350/1000 [02:29<04:36,  2.35it/s, loss=0.386]\u001b[A"
          ]
        },
        {
          "output_type": "stream",
          "name": "stdout",
          "text": [
            "Step 350: loss = 0.3856\n"
          ]
        },
        {
          "output_type": "stream",
          "name": "stderr",
          "text": [
            "\n",
            "Training:  35%|███▌      | 351/1000 [02:29<04:37,  2.34it/s, loss=0.386]\u001b[A\n",
            "Training:  35%|███▌      | 351/1000 [02:29<04:37,  2.34it/s, loss=0.398]\u001b[A\n",
            "Training:  35%|███▌      | 352/1000 [02:29<04:36,  2.34it/s, loss=0.398]\u001b[A\n",
            "Training:  35%|███▌      | 352/1000 [02:29<04:36,  2.34it/s, loss=0.478]\u001b[A\n",
            "Training:  35%|███▌      | 353/1000 [02:30<04:36,  2.34it/s, loss=0.478]\u001b[A\n",
            "Training:  35%|███▌      | 353/1000 [02:30<04:36,  2.34it/s, loss=0.456]\u001b[A\n",
            "Training:  35%|███▌      | 354/1000 [02:30<04:35,  2.34it/s, loss=0.456]\u001b[A\n",
            "Training:  35%|███▌      | 354/1000 [02:30<04:35,  2.34it/s, loss=0.318]\u001b[A\n",
            "Training:  36%|███▌      | 355/1000 [02:31<04:34,  2.35it/s, loss=0.318]\u001b[A\n",
            "Training:  36%|███▌      | 355/1000 [02:31<04:34,  2.35it/s, loss=0.547]\u001b[A\n",
            "Training:  36%|███▌      | 356/1000 [02:31<04:34,  2.35it/s, loss=0.547]\u001b[A\n",
            "Training:  36%|███▌      | 356/1000 [02:31<04:34,  2.35it/s, loss=0.421]\u001b[A\n",
            "Training:  36%|███▌      | 357/1000 [02:31<04:33,  2.35it/s, loss=0.421]\u001b[A\n",
            "Training:  36%|███▌      | 357/1000 [02:31<04:33,  2.35it/s, loss=0.412]\u001b[A\n",
            "Training:  36%|███▌      | 358/1000 [02:32<04:32,  2.35it/s, loss=0.412]\u001b[A\n",
            "Training:  36%|███▌      | 358/1000 [02:32<04:32,  2.35it/s, loss=0.372]\u001b[A\n",
            "Training:  36%|███▌      | 359/1000 [02:32<04:32,  2.35it/s, loss=0.372]\u001b[A\n",
            "Training:  36%|███▌      | 359/1000 [02:32<04:32,  2.35it/s, loss=0.417]\u001b[A\n",
            "Training:  36%|███▌      | 360/1000 [02:33<04:31,  2.35it/s, loss=0.417]\u001b[A\n",
            "Training:  36%|███▌      | 360/1000 [02:33<04:31,  2.35it/s, loss=0.444]\u001b[A\n",
            "Training:  36%|███▌      | 361/1000 [02:33<04:31,  2.35it/s, loss=0.444]\u001b[A\n",
            "Training:  36%|███▌      | 361/1000 [02:33<04:31,  2.35it/s, loss=0.395]\u001b[A\n",
            "Training:  36%|███▌      | 362/1000 [02:34<04:31,  2.35it/s, loss=0.395]\u001b[A\n",
            "Training:  36%|███▌      | 362/1000 [02:34<04:31,  2.35it/s, loss=0.484]\u001b[A\n",
            "Training:  36%|███▋      | 363/1000 [02:34<04:30,  2.35it/s, loss=0.484]\u001b[A\n",
            "Training:  36%|███▋      | 363/1000 [02:34<04:30,  2.35it/s, loss=0.405]\u001b[A\n",
            "Training:  36%|███▋      | 364/1000 [02:34<04:30,  2.35it/s, loss=0.405]\u001b[A\n",
            "Training:  36%|███▋      | 364/1000 [02:34<04:30,  2.35it/s, loss=0.398]\u001b[A\n",
            "Training:  36%|███▋      | 365/1000 [02:35<04:29,  2.35it/s, loss=0.398]\u001b[A\n",
            "Training:  36%|███▋      | 365/1000 [02:35<04:29,  2.35it/s, loss=0.439]\u001b[A\n",
            "Training:  37%|███▋      | 366/1000 [02:35<04:29,  2.35it/s, loss=0.439]\u001b[A\n",
            "Training:  37%|███▋      | 366/1000 [02:35<04:29,  2.35it/s, loss=0.483]\u001b[A\n",
            "Training:  37%|███▋      | 367/1000 [02:36<04:29,  2.35it/s, loss=0.483]\u001b[A\n",
            "Training:  37%|███▋      | 367/1000 [02:36<04:29,  2.35it/s, loss=0.493]\u001b[A\n",
            "Training:  37%|███▋      | 368/1000 [02:36<04:28,  2.35it/s, loss=0.493]\u001b[A\n",
            "Training:  37%|███▋      | 368/1000 [02:36<04:28,  2.35it/s, loss=0.473]\u001b[A\n",
            "Training:  37%|███▋      | 369/1000 [02:37<04:28,  2.35it/s, loss=0.473]\u001b[A\n",
            "Training:  37%|███▋      | 369/1000 [02:37<04:28,  2.35it/s, loss=0.395]\u001b[A\n",
            "Training:  37%|███▋      | 370/1000 [02:37<04:28,  2.35it/s, loss=0.395]\u001b[A\n",
            "Training:  37%|███▋      | 370/1000 [02:37<04:28,  2.35it/s, loss=0.446]\u001b[A\n",
            "Training:  37%|███▋      | 371/1000 [02:37<04:27,  2.35it/s, loss=0.446]\u001b[A\n",
            "Training:  37%|███▋      | 371/1000 [02:37<04:27,  2.35it/s, loss=0.438]\u001b[A\n",
            "Training:  37%|███▋      | 372/1000 [02:38<04:27,  2.35it/s, loss=0.438]\u001b[A\n",
            "Training:  37%|███▋      | 372/1000 [02:38<04:27,  2.35it/s, loss=0.406]\u001b[A\n",
            "Training:  37%|███▋      | 373/1000 [02:38<04:26,  2.35it/s, loss=0.406]\u001b[A\n",
            "Training:  37%|███▋      | 373/1000 [02:38<04:26,  2.35it/s, loss=0.423]\u001b[A\n",
            "Training:  37%|███▋      | 374/1000 [02:39<04:26,  2.35it/s, loss=0.423]\u001b[A\n",
            "Training:  37%|███▋      | 374/1000 [02:39<04:26,  2.35it/s, loss=0.32] \u001b[A\n",
            "Training:  38%|███▊      | 375/1000 [02:39<04:25,  2.35it/s, loss=0.32]\u001b[A\n",
            "Training:  38%|███▊      | 375/1000 [02:39<04:25,  2.35it/s, loss=0.465]\u001b[A\n",
            "Training:  38%|███▊      | 376/1000 [02:40<04:24,  2.36it/s, loss=0.465]\u001b[A\n",
            "Training:  38%|███▊      | 376/1000 [02:40<04:24,  2.36it/s, loss=0.488]\u001b[A\n",
            "Training:  38%|███▊      | 377/1000 [02:40<04:24,  2.35it/s, loss=0.488]\u001b[A\n",
            "Training:  38%|███▊      | 377/1000 [02:40<04:24,  2.35it/s, loss=0.389]\u001b[A\n",
            "Training:  38%|███▊      | 378/1000 [02:40<04:24,  2.35it/s, loss=0.389]\u001b[A\n",
            "Training:  38%|███▊      | 378/1000 [02:40<04:24,  2.35it/s, loss=0.37] \u001b[A\n",
            "Training:  38%|███▊      | 379/1000 [02:41<04:24,  2.35it/s, loss=0.37]\u001b[A\n",
            "Training:  38%|███▊      | 379/1000 [02:41<04:24,  2.35it/s, loss=0.512]\u001b[A\n",
            "Training:  38%|███▊      | 380/1000 [02:41<04:23,  2.35it/s, loss=0.512]\u001b[A\n",
            "Training:  38%|███▊      | 380/1000 [02:41<04:23,  2.35it/s, loss=0.349]\u001b[A\n",
            "Training:  38%|███▊      | 381/1000 [02:42<04:23,  2.35it/s, loss=0.349]\u001b[A\n",
            "Training:  38%|███▊      | 381/1000 [02:42<04:23,  2.35it/s, loss=0.382]\u001b[A\n",
            "Training:  38%|███▊      | 382/1000 [02:42<04:22,  2.35it/s, loss=0.382]\u001b[A\n",
            "Training:  38%|███▊      | 382/1000 [02:42<04:22,  2.35it/s, loss=0.442]\u001b[A\n",
            "Training:  38%|███▊      | 383/1000 [02:43<04:22,  2.35it/s, loss=0.442]\u001b[A\n",
            "Training:  38%|███▊      | 383/1000 [02:43<04:22,  2.35it/s, loss=0.485]\u001b[A\n",
            "Training:  38%|███▊      | 384/1000 [02:43<04:21,  2.35it/s, loss=0.485]\u001b[A\n",
            "Training:  38%|███▊      | 384/1000 [02:43<04:21,  2.35it/s, loss=0.34] \u001b[A\n",
            "Training:  38%|███▊      | 385/1000 [02:43<04:21,  2.35it/s, loss=0.34]\u001b[A\n",
            "Training:  38%|███▊      | 385/1000 [02:43<04:21,  2.35it/s, loss=0.493]\u001b[A\n",
            "Training:  39%|███▊      | 386/1000 [02:44<04:20,  2.35it/s, loss=0.493]\u001b[A\n",
            "Training:  39%|███▊      | 386/1000 [02:44<04:20,  2.35it/s, loss=0.434]\u001b[A\n",
            "Training:  39%|███▊      | 387/1000 [02:44<04:20,  2.35it/s, loss=0.434]\u001b[A\n",
            "Training:  39%|███▊      | 387/1000 [02:44<04:20,  2.35it/s, loss=0.419]\u001b[A\n",
            "Training:  39%|███▉      | 388/1000 [02:45<04:20,  2.35it/s, loss=0.419]\u001b[A\n",
            "Training:  39%|███▉      | 388/1000 [02:45<04:20,  2.35it/s, loss=0.395]\u001b[A\n",
            "Training:  39%|███▉      | 389/1000 [02:45<04:19,  2.35it/s, loss=0.395]\u001b[A\n",
            "Training:  39%|███▉      | 389/1000 [02:45<04:19,  2.35it/s, loss=0.38] \u001b[A\n",
            "Training:  39%|███▉      | 390/1000 [02:46<04:19,  2.35it/s, loss=0.38]\u001b[A\n",
            "Training:  39%|███▉      | 390/1000 [02:46<04:19,  2.35it/s, loss=0.513]\u001b[A\n",
            "Training:  39%|███▉      | 391/1000 [02:46<04:18,  2.35it/s, loss=0.513]\u001b[A\n",
            "Training:  39%|███▉      | 391/1000 [02:46<04:18,  2.35it/s, loss=0.451]\u001b[A\n",
            "Training:  39%|███▉      | 392/1000 [02:46<04:18,  2.35it/s, loss=0.451]\u001b[A\n",
            "Training:  39%|███▉      | 392/1000 [02:46<04:18,  2.35it/s, loss=0.467]\u001b[A\n",
            "Training:  39%|███▉      | 393/1000 [02:47<04:17,  2.35it/s, loss=0.467]\u001b[A\n",
            "Training:  39%|███▉      | 393/1000 [02:47<04:17,  2.35it/s, loss=0.511]\u001b[A\n",
            "Training:  39%|███▉      | 394/1000 [02:47<04:17,  2.35it/s, loss=0.511]\u001b[A\n",
            "Training:  39%|███▉      | 394/1000 [02:47<04:17,  2.35it/s, loss=0.519]\u001b[A\n",
            "Training:  40%|███▉      | 395/1000 [02:48<04:17,  2.35it/s, loss=0.519]\u001b[A\n",
            "Training:  40%|███▉      | 395/1000 [02:48<04:17,  2.35it/s, loss=0.363]\u001b[A\n",
            "Training:  40%|███▉      | 396/1000 [02:48<04:16,  2.35it/s, loss=0.363]\u001b[A\n",
            "Training:  40%|███▉      | 396/1000 [02:48<04:16,  2.35it/s, loss=0.353]\u001b[A\n",
            "Training:  40%|███▉      | 397/1000 [02:48<04:16,  2.35it/s, loss=0.353]\u001b[A\n",
            "Training:  40%|███▉      | 397/1000 [02:48<04:16,  2.35it/s, loss=0.394]\u001b[A\n",
            "Training:  40%|███▉      | 398/1000 [02:49<04:15,  2.36it/s, loss=0.394]\u001b[A\n",
            "Training:  40%|███▉      | 398/1000 [02:49<04:15,  2.36it/s, loss=0.392]\u001b[A\n",
            "Training:  40%|███▉      | 399/1000 [02:49<04:15,  2.36it/s, loss=0.392]\u001b[A\n",
            "Training:  40%|███▉      | 399/1000 [02:49<04:15,  2.36it/s, loss=0.391]\u001b[A\n",
            "Training:  40%|████      | 400/1000 [02:50<04:14,  2.36it/s, loss=0.391]\u001b[A\n",
            "\n",
            "Training:  76%|███████▌  | 2278/3000 [18:54<05:03,  2.38it/s, loss=0.32]\n",
            "Training:  40%|████      | 400/1000 [02:50<04:14,  2.36it/s, loss=0.421]\u001b[A"
          ]
        },
        {
          "output_type": "stream",
          "name": "stdout",
          "text": [
            "Step 400: loss = 0.4212\n"
          ]
        },
        {
          "output_type": "stream",
          "name": "stderr",
          "text": [
            "\n",
            "Training:  40%|████      | 401/1000 [02:50<04:15,  2.34it/s, loss=0.421]\u001b[A\n",
            "Training:  40%|████      | 401/1000 [02:50<04:15,  2.34it/s, loss=0.456]\u001b[A\n",
            "Training:  40%|████      | 402/1000 [02:51<04:14,  2.35it/s, loss=0.456]\u001b[A\n",
            "Training:  40%|████      | 402/1000 [02:51<04:14,  2.35it/s, loss=0.41] \u001b[A\n",
            "Training:  40%|████      | 403/1000 [02:51<04:14,  2.35it/s, loss=0.41]\u001b[A\n",
            "Training:  40%|████      | 403/1000 [02:51<04:14,  2.35it/s, loss=0.501]\u001b[A\n",
            "Training:  40%|████      | 404/1000 [02:51<04:13,  2.35it/s, loss=0.501]\u001b[A\n",
            "Training:  40%|████      | 404/1000 [02:51<04:13,  2.35it/s, loss=0.407]\u001b[A\n",
            "Training:  40%|████      | 405/1000 [02:52<04:13,  2.35it/s, loss=0.407]\u001b[A\n",
            "Training:  40%|████      | 405/1000 [02:52<04:13,  2.35it/s, loss=0.261]\u001b[A\n",
            "Training:  41%|████      | 406/1000 [02:52<04:12,  2.35it/s, loss=0.261]\u001b[A\n",
            "Training:  41%|████      | 406/1000 [02:52<04:12,  2.35it/s, loss=0.352]\u001b[A\n",
            "Training:  41%|████      | 407/1000 [02:53<04:12,  2.35it/s, loss=0.352]\u001b[A\n",
            "Training:  41%|████      | 407/1000 [02:53<04:12,  2.35it/s, loss=0.444]\u001b[A\n",
            "Training:  41%|████      | 408/1000 [02:53<04:11,  2.35it/s, loss=0.444]\u001b[A\n",
            "Training:  41%|████      | 408/1000 [02:53<04:11,  2.35it/s, loss=0.461]\u001b[A\n",
            "Training:  41%|████      | 409/1000 [02:54<04:11,  2.35it/s, loss=0.461]\u001b[A\n",
            "Training:  41%|████      | 409/1000 [02:54<04:11,  2.35it/s, loss=0.368]\u001b[A\n",
            "Training:  41%|████      | 410/1000 [02:54<04:11,  2.35it/s, loss=0.368]\u001b[A\n",
            "Training:  41%|████      | 410/1000 [02:54<04:11,  2.35it/s, loss=0.364]\u001b[A\n",
            "Training:  41%|████      | 411/1000 [02:54<04:10,  2.35it/s, loss=0.364]\u001b[A\n",
            "Training:  41%|████      | 411/1000 [02:54<04:10,  2.35it/s, loss=0.385]\u001b[A\n",
            "Training:  41%|████      | 412/1000 [02:55<04:10,  2.35it/s, loss=0.385]\u001b[A\n",
            "Training:  41%|████      | 412/1000 [02:55<04:10,  2.35it/s, loss=0.427]\u001b[A\n",
            "Training:  41%|████▏     | 413/1000 [02:55<04:09,  2.35it/s, loss=0.427]\u001b[A\n",
            "Training:  41%|████▏     | 413/1000 [02:55<04:09,  2.35it/s, loss=0.491]\u001b[A\n",
            "Training:  41%|████▏     | 414/1000 [02:56<04:09,  2.35it/s, loss=0.491]\u001b[A\n",
            "Training:  41%|████▏     | 414/1000 [02:56<04:09,  2.35it/s, loss=0.55] \u001b[A\n",
            "Training:  42%|████▏     | 415/1000 [02:56<04:08,  2.35it/s, loss=0.55]\u001b[A\n",
            "Training:  42%|████▏     | 415/1000 [02:56<04:08,  2.35it/s, loss=0.493]\u001b[A\n",
            "Training:  42%|████▏     | 416/1000 [02:57<04:08,  2.35it/s, loss=0.493]\u001b[A\n",
            "Training:  42%|████▏     | 416/1000 [02:57<04:08,  2.35it/s, loss=0.44] \u001b[A\n",
            "Training:  42%|████▏     | 417/1000 [02:57<04:07,  2.35it/s, loss=0.44]\u001b[A\n",
            "Training:  42%|████▏     | 417/1000 [02:57<04:07,  2.35it/s, loss=0.367]\u001b[A\n",
            "Training:  42%|████▏     | 418/1000 [02:57<04:07,  2.35it/s, loss=0.367]\u001b[A\n",
            "Training:  42%|████▏     | 418/1000 [02:57<04:07,  2.35it/s, loss=0.552]\u001b[A\n",
            "Training:  42%|████▏     | 419/1000 [02:58<04:06,  2.35it/s, loss=0.552]\u001b[A\n",
            "Training:  42%|████▏     | 419/1000 [02:58<04:06,  2.35it/s, loss=0.373]\u001b[A\n",
            "Training:  42%|████▏     | 420/1000 [02:58<04:06,  2.35it/s, loss=0.373]\u001b[A\n",
            "Training:  42%|████▏     | 420/1000 [02:58<04:06,  2.35it/s, loss=0.388]\u001b[A\n",
            "Training:  42%|████▏     | 421/1000 [02:59<04:05,  2.36it/s, loss=0.388]\u001b[A\n",
            "Training:  42%|████▏     | 421/1000 [02:59<04:05,  2.36it/s, loss=0.418]\u001b[A\n",
            "Training:  42%|████▏     | 422/1000 [02:59<04:05,  2.35it/s, loss=0.418]\u001b[A\n",
            "Training:  42%|████▏     | 422/1000 [02:59<04:05,  2.35it/s, loss=0.392]\u001b[A\n",
            "Training:  42%|████▏     | 423/1000 [03:00<04:05,  2.35it/s, loss=0.392]\u001b[A\n",
            "Training:  42%|████▏     | 423/1000 [03:00<04:05,  2.35it/s, loss=0.429]\u001b[A\n",
            "Training:  42%|████▏     | 424/1000 [03:00<04:04,  2.35it/s, loss=0.429]\u001b[A\n",
            "Training:  42%|████▏     | 424/1000 [03:00<04:04,  2.35it/s, loss=0.396]\u001b[A\n",
            "Training:  42%|████▎     | 425/1000 [03:00<04:04,  2.35it/s, loss=0.396]\u001b[A\n",
            "Training:  42%|████▎     | 425/1000 [03:00<04:04,  2.35it/s, loss=0.398]\u001b[A\n",
            "Training:  43%|████▎     | 426/1000 [03:01<04:04,  2.35it/s, loss=0.398]\u001b[A\n",
            "Training:  43%|████▎     | 426/1000 [03:01<04:04,  2.35it/s, loss=0.406]\u001b[A\n",
            "Training:  43%|████▎     | 427/1000 [03:01<04:03,  2.35it/s, loss=0.406]\u001b[A\n",
            "Training:  43%|████▎     | 427/1000 [03:01<04:03,  2.35it/s, loss=0.452]\u001b[A\n",
            "Training:  43%|████▎     | 428/1000 [03:02<04:03,  2.35it/s, loss=0.452]\u001b[A\n",
            "Training:  43%|████▎     | 428/1000 [03:02<04:03,  2.35it/s, loss=0.383]\u001b[A\n",
            "Training:  43%|████▎     | 429/1000 [03:02<04:02,  2.35it/s, loss=0.383]\u001b[A\n",
            "Training:  43%|████▎     | 429/1000 [03:02<04:02,  2.35it/s, loss=0.486]\u001b[A\n",
            "Training:  43%|████▎     | 430/1000 [03:03<04:02,  2.35it/s, loss=0.486]\u001b[A\n",
            "Training:  43%|████▎     | 430/1000 [03:03<04:02,  2.35it/s, loss=0.451]\u001b[A\n",
            "Training:  43%|████▎     | 431/1000 [03:03<04:02,  2.35it/s, loss=0.451]\u001b[A\n",
            "Training:  43%|████▎     | 431/1000 [03:03<04:02,  2.35it/s, loss=0.357]\u001b[A\n",
            "Training:  43%|████▎     | 432/1000 [03:03<04:01,  2.35it/s, loss=0.357]\u001b[A\n",
            "Training:  43%|████▎     | 432/1000 [03:03<04:01,  2.35it/s, loss=0.476]\u001b[A\n",
            "Training:  43%|████▎     | 433/1000 [03:04<04:01,  2.35it/s, loss=0.476]\u001b[A\n",
            "Training:  43%|████▎     | 433/1000 [03:04<04:01,  2.35it/s, loss=0.442]\u001b[A\n",
            "Training:  43%|████▎     | 434/1000 [03:04<04:00,  2.35it/s, loss=0.442]\u001b[A\n",
            "Training:  43%|████▎     | 434/1000 [03:04<04:00,  2.35it/s, loss=0.488]\u001b[A\n",
            "Training:  44%|████▎     | 435/1000 [03:05<04:00,  2.35it/s, loss=0.488]\u001b[A\n",
            "Training:  44%|████▎     | 435/1000 [03:05<04:00,  2.35it/s, loss=0.395]\u001b[A\n",
            "Training:  44%|████▎     | 436/1000 [03:05<03:59,  2.35it/s, loss=0.395]\u001b[A\n",
            "Training:  44%|████▎     | 436/1000 [03:05<03:59,  2.35it/s, loss=0.363]\u001b[A\n",
            "Training:  44%|████▎     | 437/1000 [03:05<03:59,  2.35it/s, loss=0.363]\u001b[A\n",
            "Training:  44%|████▎     | 437/1000 [03:05<03:59,  2.35it/s, loss=0.399]\u001b[A\n",
            "Training:  44%|████▍     | 438/1000 [03:06<03:58,  2.35it/s, loss=0.399]\u001b[A\n",
            "Training:  44%|████▍     | 438/1000 [03:06<03:58,  2.35it/s, loss=0.39] \u001b[A\n",
            "Training:  44%|████▍     | 439/1000 [03:06<03:58,  2.35it/s, loss=0.39]\u001b[A\n",
            "Training:  44%|████▍     | 439/1000 [03:06<03:58,  2.35it/s, loss=0.369]\u001b[A\n",
            "Training:  44%|████▍     | 440/1000 [03:07<03:58,  2.35it/s, loss=0.369]\u001b[A\n",
            "Training:  44%|████▍     | 440/1000 [03:07<03:58,  2.35it/s, loss=0.295]\u001b[A\n",
            "Training:  44%|████▍     | 441/1000 [03:07<03:57,  2.35it/s, loss=0.295]\u001b[A\n",
            "Training:  44%|████▍     | 441/1000 [03:07<03:57,  2.35it/s, loss=0.41] \u001b[A\n",
            "Training:  44%|████▍     | 442/1000 [03:08<03:57,  2.35it/s, loss=0.41]\u001b[A\n",
            "Training:  44%|████▍     | 442/1000 [03:08<03:57,  2.35it/s, loss=0.456]\u001b[A\n",
            "Training:  44%|████▍     | 443/1000 [03:08<03:56,  2.35it/s, loss=0.456]\u001b[A\n",
            "Training:  44%|████▍     | 443/1000 [03:08<03:56,  2.35it/s, loss=0.423]\u001b[A\n",
            "Training:  44%|████▍     | 444/1000 [03:08<03:56,  2.35it/s, loss=0.423]\u001b[A\n",
            "Training:  44%|████▍     | 444/1000 [03:08<03:56,  2.35it/s, loss=0.493]\u001b[A\n",
            "Training:  44%|████▍     | 445/1000 [03:09<03:55,  2.35it/s, loss=0.493]\u001b[A\n",
            "Training:  44%|████▍     | 445/1000 [03:09<03:55,  2.35it/s, loss=0.547]\u001b[A\n",
            "Training:  45%|████▍     | 446/1000 [03:09<03:55,  2.35it/s, loss=0.547]\u001b[A\n",
            "Training:  45%|████▍     | 446/1000 [03:09<03:55,  2.35it/s, loss=0.419]\u001b[A\n",
            "Training:  45%|████▍     | 447/1000 [03:10<03:55,  2.35it/s, loss=0.419]\u001b[A\n",
            "Training:  45%|████▍     | 447/1000 [03:10<03:55,  2.35it/s, loss=0.376]\u001b[A\n",
            "Training:  45%|████▍     | 448/1000 [03:10<03:54,  2.35it/s, loss=0.376]\u001b[A\n",
            "Training:  45%|████▍     | 448/1000 [03:10<03:54,  2.35it/s, loss=0.359]\u001b[A\n",
            "Training:  45%|████▍     | 449/1000 [03:11<03:54,  2.35it/s, loss=0.359]\u001b[A\n",
            "Training:  45%|████▍     | 449/1000 [03:11<03:54,  2.35it/s, loss=0.419]\u001b[A\n",
            "Training:  45%|████▌     | 450/1000 [03:11<03:53,  2.35it/s, loss=0.419]\u001b[A\n",
            "\n",
            "Training:  76%|███████▌  | 2278/3000 [19:15<05:03,  2.38it/s, loss=0.32]\n",
            "Training:  45%|████▌     | 450/1000 [03:11<03:53,  2.35it/s, loss=0.372]\u001b[A"
          ]
        },
        {
          "output_type": "stream",
          "name": "stdout",
          "text": [
            "Step 450: loss = 0.3718\n"
          ]
        },
        {
          "output_type": "stream",
          "name": "stderr",
          "text": [
            "\n",
            "Training:  45%|████▌     | 451/1000 [03:11<03:54,  2.34it/s, loss=0.372]\u001b[A\n",
            "Training:  45%|████▌     | 451/1000 [03:11<03:54,  2.34it/s, loss=0.361]\u001b[A\n",
            "Training:  45%|████▌     | 452/1000 [03:12<03:54,  2.34it/s, loss=0.361]\u001b[A\n",
            "Training:  45%|████▌     | 452/1000 [03:12<03:54,  2.34it/s, loss=0.388]\u001b[A\n",
            "Training:  45%|████▌     | 453/1000 [03:12<03:53,  2.35it/s, loss=0.388]\u001b[A\n",
            "Training:  45%|████▌     | 453/1000 [03:12<03:53,  2.35it/s, loss=0.372]\u001b[A\n",
            "Training:  45%|████▌     | 454/1000 [03:13<03:52,  2.35it/s, loss=0.372]\u001b[A\n",
            "Training:  45%|████▌     | 454/1000 [03:13<03:52,  2.35it/s, loss=0.47] \u001b[A\n",
            "Training:  46%|████▌     | 455/1000 [03:13<03:52,  2.35it/s, loss=0.47]\u001b[A\n",
            "Training:  46%|████▌     | 455/1000 [03:13<03:52,  2.35it/s, loss=0.392]\u001b[A\n",
            "Training:  46%|████▌     | 456/1000 [03:14<03:51,  2.35it/s, loss=0.392]\u001b[A\n",
            "Training:  46%|████▌     | 456/1000 [03:14<03:51,  2.35it/s, loss=0.387]\u001b[A\n",
            "Training:  46%|████▌     | 457/1000 [03:14<03:50,  2.35it/s, loss=0.387]\u001b[A\n",
            "Training:  46%|████▌     | 457/1000 [03:14<03:50,  2.35it/s, loss=0.457]\u001b[A\n",
            "Training:  46%|████▌     | 458/1000 [03:14<03:50,  2.35it/s, loss=0.457]\u001b[A\n",
            "Training:  46%|████▌     | 458/1000 [03:14<03:50,  2.35it/s, loss=0.385]\u001b[A\n",
            "Training:  46%|████▌     | 459/1000 [03:15<03:49,  2.35it/s, loss=0.385]\u001b[A\n",
            "Training:  46%|████▌     | 459/1000 [03:15<03:49,  2.35it/s, loss=0.41] \u001b[A\n",
            "Training:  46%|████▌     | 460/1000 [03:15<03:49,  2.35it/s, loss=0.41]\u001b[A\n",
            "Training:  46%|████▌     | 460/1000 [03:15<03:49,  2.35it/s, loss=0.37]\u001b[A\n",
            "Training:  46%|████▌     | 461/1000 [03:16<03:49,  2.35it/s, loss=0.37]\u001b[A\n",
            "Training:  46%|████▌     | 461/1000 [03:16<03:49,  2.35it/s, loss=0.484]\u001b[A\n",
            "Training:  46%|████▌     | 462/1000 [03:16<03:48,  2.35it/s, loss=0.484]\u001b[A\n",
            "Training:  46%|████▌     | 462/1000 [03:16<03:48,  2.35it/s, loss=0.338]\u001b[A\n",
            "Training:  46%|████▋     | 463/1000 [03:17<03:48,  2.35it/s, loss=0.338]\u001b[A\n",
            "Training:  46%|████▋     | 463/1000 [03:17<03:48,  2.35it/s, loss=0.426]\u001b[A\n",
            "Training:  46%|████▋     | 464/1000 [03:17<03:47,  2.35it/s, loss=0.426]\u001b[A\n",
            "Training:  46%|████▋     | 464/1000 [03:17<03:47,  2.35it/s, loss=0.451]\u001b[A\n",
            "Training:  46%|████▋     | 465/1000 [03:17<03:47,  2.35it/s, loss=0.451]\u001b[A\n",
            "Training:  46%|████▋     | 465/1000 [03:17<03:47,  2.35it/s, loss=0.485]\u001b[A\n",
            "Training:  47%|████▋     | 466/1000 [03:18<03:47,  2.35it/s, loss=0.485]\u001b[A\n",
            "Training:  47%|████▋     | 466/1000 [03:18<03:47,  2.35it/s, loss=0.494]\u001b[A\n",
            "Training:  47%|████▋     | 467/1000 [03:18<03:46,  2.35it/s, loss=0.494]\u001b[A\n",
            "Training:  47%|████▋     | 467/1000 [03:18<03:46,  2.35it/s, loss=0.382]\u001b[A\n",
            "Training:  47%|████▋     | 468/1000 [03:19<03:46,  2.35it/s, loss=0.382]\u001b[A\n",
            "Training:  47%|████▋     | 468/1000 [03:19<03:46,  2.35it/s, loss=0.449]\u001b[A\n",
            "Training:  47%|████▋     | 469/1000 [03:19<03:45,  2.35it/s, loss=0.449]\u001b[A\n",
            "Training:  47%|████▋     | 469/1000 [03:19<03:45,  2.35it/s, loss=0.44] \u001b[A\n",
            "Training:  47%|████▋     | 470/1000 [03:20<03:45,  2.35it/s, loss=0.44]\u001b[A\n",
            "Training:  47%|████▋     | 470/1000 [03:20<03:45,  2.35it/s, loss=0.346]\u001b[A\n",
            "Training:  47%|████▋     | 471/1000 [03:20<03:44,  2.35it/s, loss=0.346]\u001b[A\n",
            "Training:  47%|████▋     | 471/1000 [03:20<03:44,  2.35it/s, loss=0.49] \u001b[A\n",
            "Training:  47%|████▋     | 472/1000 [03:20<03:44,  2.35it/s, loss=0.49]\u001b[A\n",
            "Training:  47%|████▋     | 472/1000 [03:20<03:44,  2.35it/s, loss=0.399]\u001b[A\n",
            "Training:  47%|████▋     | 473/1000 [03:21<03:43,  2.35it/s, loss=0.399]\u001b[A\n",
            "Training:  47%|████▋     | 473/1000 [03:21<03:43,  2.35it/s, loss=0.348]\u001b[A\n",
            "Training:  47%|████▋     | 474/1000 [03:21<03:43,  2.35it/s, loss=0.348]\u001b[A\n",
            "Training:  47%|████▋     | 474/1000 [03:21<03:43,  2.35it/s, loss=0.234]\u001b[A\n",
            "Training:  48%|████▊     | 475/1000 [03:22<03:43,  2.35it/s, loss=0.234]\u001b[A\n",
            "Training:  48%|████▊     | 475/1000 [03:22<03:43,  2.35it/s, loss=0.383]\u001b[A\n",
            "Training:  48%|████▊     | 476/1000 [03:22<03:42,  2.35it/s, loss=0.383]\u001b[A\n",
            "Training:  48%|████▊     | 476/1000 [03:22<03:42,  2.35it/s, loss=0.402]\u001b[A\n",
            "Training:  48%|████▊     | 477/1000 [03:23<03:42,  2.35it/s, loss=0.402]\u001b[A\n",
            "Training:  48%|████▊     | 477/1000 [03:23<03:42,  2.35it/s, loss=0.45] \u001b[A\n",
            "Training:  48%|████▊     | 478/1000 [03:23<03:41,  2.35it/s, loss=0.45]\u001b[A\n",
            "Training:  48%|████▊     | 478/1000 [03:23<03:41,  2.35it/s, loss=0.421]\u001b[A\n",
            "Training:  48%|████▊     | 479/1000 [03:23<03:41,  2.36it/s, loss=0.421]\u001b[A\n",
            "Training:  48%|████▊     | 479/1000 [03:23<03:41,  2.36it/s, loss=0.38] \u001b[A\n",
            "Training:  48%|████▊     | 480/1000 [03:24<03:40,  2.36it/s, loss=0.38]\u001b[A\n",
            "Training:  48%|████▊     | 480/1000 [03:24<03:40,  2.36it/s, loss=0.364]\u001b[A\n",
            "Training:  48%|████▊     | 481/1000 [03:24<03:40,  2.35it/s, loss=0.364]\u001b[A\n",
            "Training:  48%|████▊     | 481/1000 [03:24<03:40,  2.35it/s, loss=0.437]\u001b[A\n",
            "Training:  48%|████▊     | 482/1000 [03:25<03:40,  2.35it/s, loss=0.437]\u001b[A\n",
            "Training:  48%|████▊     | 482/1000 [03:25<03:40,  2.35it/s, loss=0.431]\u001b[A\n",
            "Training:  48%|████▊     | 483/1000 [03:25<03:39,  2.35it/s, loss=0.431]\u001b[A\n",
            "Training:  48%|████▊     | 483/1000 [03:25<03:39,  2.35it/s, loss=0.403]\u001b[A\n",
            "Training:  48%|████▊     | 484/1000 [03:25<03:39,  2.35it/s, loss=0.403]\u001b[A\n",
            "Training:  48%|████▊     | 484/1000 [03:25<03:39,  2.35it/s, loss=0.45] \u001b[A\n",
            "Training:  48%|████▊     | 485/1000 [03:26<03:38,  2.35it/s, loss=0.45]\u001b[A\n",
            "Training:  48%|████▊     | 485/1000 [03:26<03:38,  2.35it/s, loss=0.432]\u001b[A\n",
            "Training:  49%|████▊     | 486/1000 [03:26<03:38,  2.35it/s, loss=0.432]\u001b[A\n",
            "Training:  49%|████▊     | 486/1000 [03:26<03:38,  2.35it/s, loss=0.367]\u001b[A\n",
            "Training:  49%|████▊     | 487/1000 [03:27<03:38,  2.35it/s, loss=0.367]\u001b[A\n",
            "Training:  49%|████▊     | 487/1000 [03:27<03:38,  2.35it/s, loss=0.335]\u001b[A\n",
            "Training:  49%|████▉     | 488/1000 [03:27<03:37,  2.35it/s, loss=0.335]\u001b[A\n",
            "Training:  49%|████▉     | 488/1000 [03:27<03:37,  2.35it/s, loss=0.4]  \u001b[A\n",
            "Training:  49%|████▉     | 489/1000 [03:28<03:37,  2.35it/s, loss=0.4]\u001b[A\n",
            "Training:  49%|████▉     | 489/1000 [03:28<03:37,  2.35it/s, loss=0.375]\u001b[A\n",
            "Training:  49%|████▉     | 490/1000 [03:28<03:37,  2.35it/s, loss=0.375]\u001b[A\n",
            "Training:  49%|████▉     | 490/1000 [03:28<03:37,  2.35it/s, loss=0.306]\u001b[A\n",
            "Training:  49%|████▉     | 491/1000 [03:28<03:36,  2.35it/s, loss=0.306]\u001b[A\n",
            "Training:  49%|████▉     | 491/1000 [03:28<03:36,  2.35it/s, loss=0.368]\u001b[A\n",
            "Training:  49%|████▉     | 492/1000 [03:29<03:36,  2.35it/s, loss=0.368]\u001b[A\n",
            "Training:  49%|████▉     | 492/1000 [03:29<03:36,  2.35it/s, loss=0.326]\u001b[A\n",
            "Training:  49%|████▉     | 493/1000 [03:29<03:35,  2.35it/s, loss=0.326]\u001b[A\n",
            "Training:  49%|████▉     | 493/1000 [03:29<03:35,  2.35it/s, loss=0.405]\u001b[A\n",
            "Training:  49%|████▉     | 494/1000 [03:30<03:35,  2.35it/s, loss=0.405]\u001b[A\n",
            "Training:  49%|████▉     | 494/1000 [03:30<03:35,  2.35it/s, loss=0.448]\u001b[A\n",
            "Training:  50%|████▉     | 495/1000 [03:30<03:34,  2.35it/s, loss=0.448]\u001b[A\n",
            "Training:  50%|████▉     | 495/1000 [03:30<03:34,  2.35it/s, loss=0.451]\u001b[A\n",
            "Training:  50%|████▉     | 496/1000 [03:31<03:34,  2.35it/s, loss=0.451]\u001b[A\n",
            "Training:  50%|████▉     | 496/1000 [03:31<03:34,  2.35it/s, loss=0.347]\u001b[A\n",
            "Training:  50%|████▉     | 497/1000 [03:31<03:33,  2.35it/s, loss=0.347]\u001b[A\n",
            "Training:  50%|████▉     | 497/1000 [03:31<03:33,  2.35it/s, loss=0.35] \u001b[A\n",
            "Training:  50%|████▉     | 498/1000 [03:31<03:33,  2.35it/s, loss=0.35]\u001b[A\n",
            "Training:  50%|████▉     | 498/1000 [03:31<03:33,  2.35it/s, loss=0.36]\u001b[A\n",
            "Training:  50%|████▉     | 499/1000 [03:32<03:33,  2.35it/s, loss=0.36]\u001b[A\n",
            "Training:  50%|████▉     | 499/1000 [03:32<03:33,  2.35it/s, loss=0.44]\u001b[A\n",
            "Training:  50%|█████     | 500/1000 [03:32<03:32,  2.35it/s, loss=0.44]\u001b[A\n",
            "\n",
            "Training:  76%|███████▌  | 2278/3000 [19:37<05:03,  2.38it/s, loss=0.32]\n",
            "Training:  50%|█████     | 500/1000 [03:32<03:32,  2.35it/s, loss=0.379]\u001b[A"
          ]
        },
        {
          "output_type": "stream",
          "name": "stdout",
          "text": [
            "Step 500: loss = 0.3787\n"
          ]
        },
        {
          "output_type": "stream",
          "name": "stderr",
          "text": [
            "\n",
            "Training:  50%|█████     | 501/1000 [03:33<03:33,  2.34it/s, loss=0.379]\u001b[A\n",
            "Training:  50%|█████     | 501/1000 [03:33<03:33,  2.34it/s, loss=0.251]\u001b[A\n",
            "Training:  50%|█████     | 502/1000 [03:33<03:32,  2.34it/s, loss=0.251]\u001b[A\n",
            "Training:  50%|█████     | 502/1000 [03:33<03:32,  2.34it/s, loss=0.441]\u001b[A\n",
            "Training:  50%|█████     | 503/1000 [03:34<03:31,  2.34it/s, loss=0.441]\u001b[A\n",
            "Training:  50%|█████     | 503/1000 [03:34<03:31,  2.34it/s, loss=0.431]\u001b[A\n",
            "Training:  50%|█████     | 504/1000 [03:34<03:31,  2.35it/s, loss=0.431]\u001b[A\n",
            "Training:  50%|█████     | 504/1000 [03:34<03:31,  2.35it/s, loss=0.396]\u001b[A\n",
            "Training:  50%|█████     | 505/1000 [03:34<03:30,  2.35it/s, loss=0.396]\u001b[A\n",
            "Training:  50%|█████     | 505/1000 [03:34<03:30,  2.35it/s, loss=0.445]\u001b[A\n",
            "Training:  51%|█████     | 506/1000 [03:35<03:30,  2.35it/s, loss=0.445]\u001b[A\n",
            "Training:  51%|█████     | 506/1000 [03:35<03:30,  2.35it/s, loss=0.383]\u001b[A\n",
            "Training:  51%|█████     | 507/1000 [03:35<03:29,  2.35it/s, loss=0.383]\u001b[A\n",
            "Training:  51%|█████     | 507/1000 [03:35<03:29,  2.35it/s, loss=0.427]\u001b[A\n",
            "Training:  51%|█████     | 508/1000 [03:36<03:29,  2.35it/s, loss=0.427]\u001b[A\n",
            "Training:  51%|█████     | 508/1000 [03:36<03:29,  2.35it/s, loss=0.414]\u001b[A\n",
            "Training:  51%|█████     | 509/1000 [03:36<03:28,  2.35it/s, loss=0.414]\u001b[A\n",
            "Training:  51%|█████     | 509/1000 [03:36<03:28,  2.35it/s, loss=0.397]\u001b[A\n",
            "Training:  51%|█████     | 510/1000 [03:37<03:28,  2.35it/s, loss=0.397]\u001b[A\n",
            "Training:  51%|█████     | 510/1000 [03:37<03:28,  2.35it/s, loss=0.411]\u001b[A\n",
            "Training:  51%|█████     | 511/1000 [03:37<03:27,  2.35it/s, loss=0.411]\u001b[A\n",
            "Training:  51%|█████     | 511/1000 [03:37<03:27,  2.35it/s, loss=0.306]\u001b[A\n",
            "Training:  51%|█████     | 512/1000 [03:37<03:27,  2.35it/s, loss=0.306]\u001b[A\n",
            "Training:  51%|█████     | 512/1000 [03:37<03:27,  2.35it/s, loss=0.399]\u001b[A\n",
            "Training:  51%|█████▏    | 513/1000 [03:38<03:26,  2.35it/s, loss=0.399]\u001b[A\n",
            "Training:  51%|█████▏    | 513/1000 [03:38<03:26,  2.35it/s, loss=0.42] \u001b[A\n",
            "Training:  51%|█████▏    | 514/1000 [03:38<03:26,  2.35it/s, loss=0.42]\u001b[A\n",
            "Training:  51%|█████▏    | 514/1000 [03:38<03:26,  2.35it/s, loss=0.425]\u001b[A\n",
            "Training:  52%|█████▏    | 515/1000 [03:39<03:26,  2.35it/s, loss=0.425]\u001b[A\n",
            "Training:  52%|█████▏    | 515/1000 [03:39<03:26,  2.35it/s, loss=0.433]\u001b[A\n",
            "Training:  52%|█████▏    | 516/1000 [03:39<03:25,  2.35it/s, loss=0.433]\u001b[A\n",
            "Training:  52%|█████▏    | 516/1000 [03:39<03:25,  2.35it/s, loss=0.458]\u001b[A\n",
            "Training:  52%|█████▏    | 517/1000 [03:40<03:25,  2.35it/s, loss=0.458]\u001b[A\n",
            "Training:  52%|█████▏    | 517/1000 [03:40<03:25,  2.35it/s, loss=0.399]\u001b[A\n",
            "Training:  52%|█████▏    | 518/1000 [03:40<03:24,  2.35it/s, loss=0.399]\u001b[A\n",
            "Training:  52%|█████▏    | 518/1000 [03:40<03:24,  2.35it/s, loss=0.381]\u001b[A\n",
            "Training:  52%|█████▏    | 519/1000 [03:40<03:24,  2.35it/s, loss=0.381]\u001b[A\n",
            "Training:  52%|█████▏    | 519/1000 [03:40<03:24,  2.35it/s, loss=0.354]\u001b[A\n",
            "Training:  52%|█████▏    | 520/1000 [03:41<03:23,  2.35it/s, loss=0.354]\u001b[A\n",
            "Training:  52%|█████▏    | 520/1000 [03:41<03:23,  2.35it/s, loss=0.383]\u001b[A\n",
            "Training:  52%|█████▏    | 521/1000 [03:41<03:23,  2.35it/s, loss=0.383]\u001b[A\n",
            "Training:  52%|█████▏    | 521/1000 [03:41<03:23,  2.35it/s, loss=0.424]\u001b[A\n",
            "Training:  52%|█████▏    | 522/1000 [03:42<03:23,  2.35it/s, loss=0.424]\u001b[A\n",
            "Training:  52%|█████▏    | 522/1000 [03:42<03:23,  2.35it/s, loss=0.297]\u001b[A\n",
            "Training:  52%|█████▏    | 523/1000 [03:42<03:22,  2.36it/s, loss=0.297]\u001b[A\n",
            "Training:  52%|█████▏    | 523/1000 [03:42<03:22,  2.36it/s, loss=0.451]\u001b[A\n",
            "Training:  52%|█████▏    | 524/1000 [03:42<03:22,  2.36it/s, loss=0.451]\u001b[A\n",
            "Training:  52%|█████▏    | 524/1000 [03:42<03:22,  2.36it/s, loss=0.445]\u001b[A\n",
            "Training:  52%|█████▎    | 525/1000 [03:43<03:21,  2.35it/s, loss=0.445]\u001b[A\n",
            "Training:  52%|█████▎    | 525/1000 [03:43<03:21,  2.35it/s, loss=0.359]\u001b[A\n",
            "Training:  53%|█████▎    | 526/1000 [03:43<03:21,  2.36it/s, loss=0.359]\u001b[A\n",
            "Training:  53%|█████▎    | 526/1000 [03:43<03:21,  2.36it/s, loss=0.458]\u001b[A\n",
            "Training:  53%|█████▎    | 527/1000 [03:44<03:20,  2.35it/s, loss=0.458]\u001b[A\n",
            "Training:  53%|█████▎    | 527/1000 [03:44<03:20,  2.35it/s, loss=0.402]\u001b[A\n",
            "Training:  53%|█████▎    | 528/1000 [03:44<03:20,  2.35it/s, loss=0.402]\u001b[A\n",
            "Training:  53%|█████▎    | 528/1000 [03:44<03:20,  2.35it/s, loss=0.344]\u001b[A\n",
            "Training:  53%|█████▎    | 529/1000 [03:45<03:20,  2.35it/s, loss=0.344]\u001b[A\n",
            "Training:  53%|█████▎    | 529/1000 [03:45<03:20,  2.35it/s, loss=0.398]\u001b[A\n",
            "Training:  53%|█████▎    | 530/1000 [03:45<03:19,  2.35it/s, loss=0.398]\u001b[A\n",
            "Training:  53%|█████▎    | 530/1000 [03:45<03:19,  2.35it/s, loss=0.538]\u001b[A\n",
            "Training:  53%|█████▎    | 531/1000 [03:45<03:19,  2.35it/s, loss=0.538]\u001b[A\n",
            "Training:  53%|█████▎    | 531/1000 [03:45<03:19,  2.35it/s, loss=0.456]\u001b[A\n",
            "Training:  53%|█████▎    | 532/1000 [03:46<03:19,  2.35it/s, loss=0.456]\u001b[A\n",
            "Training:  53%|█████▎    | 532/1000 [03:46<03:19,  2.35it/s, loss=0.34] \u001b[A\n",
            "Training:  53%|█████▎    | 533/1000 [03:46<03:18,  2.35it/s, loss=0.34]\u001b[A\n",
            "Training:  53%|█████▎    | 533/1000 [03:46<03:18,  2.35it/s, loss=0.461]\u001b[A\n",
            "Training:  53%|█████▎    | 534/1000 [03:47<03:18,  2.35it/s, loss=0.461]\u001b[A\n",
            "Training:  53%|█████▎    | 534/1000 [03:47<03:18,  2.35it/s, loss=0.436]\u001b[A\n",
            "Training:  54%|█████▎    | 535/1000 [03:47<03:17,  2.35it/s, loss=0.436]\u001b[A\n",
            "Training:  54%|█████▎    | 535/1000 [03:47<03:17,  2.35it/s, loss=0.286]\u001b[A\n",
            "Training:  54%|█████▎    | 536/1000 [03:48<03:17,  2.35it/s, loss=0.286]\u001b[A\n",
            "Training:  54%|█████▎    | 536/1000 [03:48<03:17,  2.35it/s, loss=0.388]\u001b[A\n",
            "Training:  54%|█████▎    | 537/1000 [03:48<03:17,  2.35it/s, loss=0.388]\u001b[A\n",
            "Training:  54%|█████▎    | 537/1000 [03:48<03:17,  2.35it/s, loss=0.401]\u001b[A\n",
            "Training:  54%|█████▍    | 538/1000 [03:48<03:16,  2.35it/s, loss=0.401]\u001b[A\n",
            "Training:  54%|█████▍    | 538/1000 [03:48<03:16,  2.35it/s, loss=0.373]\u001b[A\n",
            "Training:  54%|█████▍    | 539/1000 [03:49<03:16,  2.35it/s, loss=0.373]\u001b[A\n",
            "Training:  54%|█████▍    | 539/1000 [03:49<03:16,  2.35it/s, loss=0.401]\u001b[A\n",
            "Training:  54%|█████▍    | 540/1000 [03:49<03:15,  2.35it/s, loss=0.401]\u001b[A\n",
            "Training:  54%|█████▍    | 540/1000 [03:49<03:15,  2.35it/s, loss=0.291]\u001b[A\n",
            "Training:  54%|█████▍    | 541/1000 [03:50<03:15,  2.35it/s, loss=0.291]\u001b[A\n",
            "Training:  54%|█████▍    | 541/1000 [03:50<03:15,  2.35it/s, loss=0.405]\u001b[A\n",
            "Training:  54%|█████▍    | 542/1000 [03:50<03:14,  2.35it/s, loss=0.405]\u001b[A\n",
            "Training:  54%|█████▍    | 542/1000 [03:50<03:14,  2.35it/s, loss=0.406]\u001b[A\n",
            "Training:  54%|█████▍    | 543/1000 [03:51<03:14,  2.35it/s, loss=0.406]\u001b[A\n",
            "Training:  54%|█████▍    | 543/1000 [03:51<03:14,  2.35it/s, loss=0.436]\u001b[A\n",
            "Training:  54%|█████▍    | 544/1000 [03:51<03:13,  2.35it/s, loss=0.436]\u001b[A\n",
            "Training:  54%|█████▍    | 544/1000 [03:51<03:13,  2.35it/s, loss=0.36] \u001b[A\n",
            "Training:  55%|█████▍    | 545/1000 [03:51<03:13,  2.35it/s, loss=0.36]\u001b[A\n",
            "Training:  55%|█████▍    | 545/1000 [03:51<03:13,  2.35it/s, loss=0.437]\u001b[A\n",
            "Training:  55%|█████▍    | 546/1000 [03:52<03:12,  2.35it/s, loss=0.437]\u001b[A\n",
            "Training:  55%|█████▍    | 546/1000 [03:52<03:12,  2.35it/s, loss=0.393]\u001b[A\n",
            "Training:  55%|█████▍    | 547/1000 [03:52<03:12,  2.35it/s, loss=0.393]\u001b[A\n",
            "Training:  55%|█████▍    | 547/1000 [03:52<03:12,  2.35it/s, loss=0.391]\u001b[A\n",
            "Training:  55%|█████▍    | 548/1000 [03:53<03:12,  2.35it/s, loss=0.391]\u001b[A\n",
            "Training:  55%|█████▍    | 548/1000 [03:53<03:12,  2.35it/s, loss=0.543]\u001b[A\n",
            "Training:  55%|█████▍    | 549/1000 [03:53<03:11,  2.35it/s, loss=0.543]\u001b[A\n",
            "Training:  55%|█████▍    | 549/1000 [03:53<03:11,  2.35it/s, loss=0.412]\u001b[A\n",
            "Training:  55%|█████▌    | 550/1000 [03:54<03:11,  2.35it/s, loss=0.412]\u001b[A\n",
            "\n",
            "Training:  76%|███████▌  | 2278/3000 [19:58<05:03,  2.38it/s, loss=0.32]\n",
            "Training:  55%|█████▌    | 550/1000 [03:54<03:11,  2.35it/s, loss=0.346]\u001b[A"
          ]
        },
        {
          "output_type": "stream",
          "name": "stdout",
          "text": [
            "Step 550: loss = 0.3465\n"
          ]
        },
        {
          "output_type": "stream",
          "name": "stderr",
          "text": [
            "\n",
            "Training:  55%|█████▌    | 551/1000 [03:54<03:12,  2.34it/s, loss=0.346]\u001b[A\n",
            "Training:  55%|█████▌    | 551/1000 [03:54<03:12,  2.34it/s, loss=0.368]\u001b[A\n",
            "Training:  55%|█████▌    | 552/1000 [03:54<03:11,  2.34it/s, loss=0.368]\u001b[A\n",
            "Training:  55%|█████▌    | 552/1000 [03:54<03:11,  2.34it/s, loss=0.413]\u001b[A\n",
            "Training:  55%|█████▌    | 553/1000 [03:55<03:10,  2.34it/s, loss=0.413]\u001b[A\n",
            "Training:  55%|█████▌    | 553/1000 [03:55<03:10,  2.34it/s, loss=0.356]\u001b[A\n",
            "Training:  55%|█████▌    | 554/1000 [03:55<03:10,  2.34it/s, loss=0.356]\u001b[A\n",
            "Training:  55%|█████▌    | 554/1000 [03:55<03:10,  2.34it/s, loss=0.365]\u001b[A\n",
            "Training:  56%|█████▌    | 555/1000 [03:56<03:09,  2.34it/s, loss=0.365]\u001b[A\n",
            "Training:  56%|█████▌    | 555/1000 [03:56<03:09,  2.34it/s, loss=0.378]\u001b[A\n",
            "Training:  56%|█████▌    | 556/1000 [03:56<03:09,  2.35it/s, loss=0.378]\u001b[A\n",
            "Training:  56%|█████▌    | 556/1000 [03:56<03:09,  2.35it/s, loss=0.372]\u001b[A\n",
            "Training:  56%|█████▌    | 557/1000 [03:57<03:08,  2.34it/s, loss=0.372]\u001b[A\n",
            "Training:  56%|█████▌    | 557/1000 [03:57<03:08,  2.34it/s, loss=0.396]\u001b[A\n",
            "Training:  56%|█████▌    | 558/1000 [03:57<03:08,  2.35it/s, loss=0.396]\u001b[A\n",
            "Training:  56%|█████▌    | 558/1000 [03:57<03:08,  2.35it/s, loss=0.444]\u001b[A\n",
            "Training:  56%|█████▌    | 559/1000 [03:57<03:07,  2.35it/s, loss=0.444]\u001b[A\n",
            "Training:  56%|█████▌    | 559/1000 [03:57<03:07,  2.35it/s, loss=0.458]\u001b[A\n",
            "Training:  56%|█████▌    | 560/1000 [03:58<03:07,  2.35it/s, loss=0.458]\u001b[A\n",
            "Training:  56%|█████▌    | 560/1000 [03:58<03:07,  2.35it/s, loss=0.376]\u001b[A\n",
            "Training:  56%|█████▌    | 561/1000 [03:58<03:07,  2.35it/s, loss=0.376]\u001b[A\n",
            "Training:  56%|█████▌    | 561/1000 [03:58<03:07,  2.35it/s, loss=0.459]\u001b[A\n",
            "Training:  56%|█████▌    | 562/1000 [03:59<03:06,  2.35it/s, loss=0.459]\u001b[A\n",
            "Training:  56%|█████▌    | 562/1000 [03:59<03:06,  2.35it/s, loss=0.412]\u001b[A\n",
            "Training:  56%|█████▋    | 563/1000 [03:59<03:06,  2.35it/s, loss=0.412]\u001b[A\n",
            "Training:  56%|█████▋    | 563/1000 [03:59<03:06,  2.35it/s, loss=0.379]\u001b[A\n",
            "Training:  56%|█████▋    | 564/1000 [04:00<03:05,  2.35it/s, loss=0.379]\u001b[A\n",
            "Training:  56%|█████▋    | 564/1000 [04:00<03:05,  2.35it/s, loss=0.328]\u001b[A\n",
            "Training:  56%|█████▋    | 565/1000 [04:00<03:05,  2.35it/s, loss=0.328]\u001b[A\n",
            "Training:  56%|█████▋    | 565/1000 [04:00<03:05,  2.35it/s, loss=0.366]\u001b[A\n",
            "Training:  57%|█████▋    | 566/1000 [04:00<03:04,  2.35it/s, loss=0.366]\u001b[A\n",
            "Training:  57%|█████▋    | 566/1000 [04:00<03:04,  2.35it/s, loss=0.41] \u001b[A\n",
            "Training:  57%|█████▋    | 567/1000 [04:01<03:04,  2.35it/s, loss=0.41]\u001b[A\n",
            "Training:  57%|█████▋    | 567/1000 [04:01<03:04,  2.35it/s, loss=0.485]\u001b[A\n",
            "Training:  57%|█████▋    | 568/1000 [04:01<03:03,  2.35it/s, loss=0.485]\u001b[A\n",
            "Training:  57%|█████▋    | 568/1000 [04:01<03:03,  2.35it/s, loss=0.42] \u001b[A\n",
            "Training:  57%|█████▋    | 569/1000 [04:02<03:03,  2.35it/s, loss=0.42]\u001b[A\n",
            "Training:  57%|█████▋    | 569/1000 [04:02<03:03,  2.35it/s, loss=0.435]\u001b[A\n",
            "Training:  57%|█████▋    | 570/1000 [04:02<03:02,  2.35it/s, loss=0.435]\u001b[A\n",
            "Training:  57%|█████▋    | 570/1000 [04:02<03:02,  2.35it/s, loss=0.36] \u001b[A\n",
            "Training:  57%|█████▋    | 571/1000 [04:02<03:02,  2.35it/s, loss=0.36]\u001b[A\n",
            "Training:  57%|█████▋    | 571/1000 [04:02<03:02,  2.35it/s, loss=0.37]\u001b[A\n",
            "Training:  57%|█████▋    | 572/1000 [04:03<03:01,  2.35it/s, loss=0.37]\u001b[A\n",
            "Training:  57%|█████▋    | 572/1000 [04:03<03:01,  2.35it/s, loss=0.389]\u001b[A\n",
            "Training:  57%|█████▋    | 573/1000 [04:03<03:01,  2.35it/s, loss=0.389]\u001b[A\n",
            "Training:  57%|█████▋    | 573/1000 [04:03<03:01,  2.35it/s, loss=0.363]\u001b[A\n",
            "Training:  57%|█████▋    | 574/1000 [04:04<03:00,  2.35it/s, loss=0.363]\u001b[A\n",
            "Training:  57%|█████▋    | 574/1000 [04:04<03:00,  2.35it/s, loss=0.363]\u001b[A\n",
            "Training:  57%|█████▊    | 575/1000 [04:04<03:00,  2.36it/s, loss=0.363]\u001b[A\n",
            "Training:  57%|█████▊    | 575/1000 [04:04<03:00,  2.36it/s, loss=0.321]\u001b[A\n",
            "Training:  58%|█████▊    | 576/1000 [04:05<02:59,  2.36it/s, loss=0.321]\u001b[A\n",
            "Training:  58%|█████▊    | 576/1000 [04:05<02:59,  2.36it/s, loss=0.366]\u001b[A\n",
            "Training:  58%|█████▊    | 577/1000 [04:05<02:59,  2.35it/s, loss=0.366]\u001b[A\n",
            "Training:  58%|█████▊    | 577/1000 [04:05<02:59,  2.35it/s, loss=0.31] \u001b[A\n",
            "Training:  58%|█████▊    | 578/1000 [04:05<02:59,  2.35it/s, loss=0.31]\u001b[A\n",
            "Training:  58%|█████▊    | 578/1000 [04:05<02:59,  2.35it/s, loss=0.42]\u001b[A\n",
            "Training:  58%|█████▊    | 579/1000 [04:06<02:58,  2.35it/s, loss=0.42]\u001b[A\n",
            "Training:  58%|█████▊    | 579/1000 [04:06<02:58,  2.35it/s, loss=0.431]\u001b[A\n",
            "Training:  58%|█████▊    | 580/1000 [04:06<02:58,  2.35it/s, loss=0.431]\u001b[A\n",
            "Training:  58%|█████▊    | 580/1000 [04:06<02:58,  2.35it/s, loss=0.399]\u001b[A\n",
            "Training:  58%|█████▊    | 581/1000 [04:07<02:57,  2.35it/s, loss=0.399]\u001b[A\n",
            "Training:  58%|█████▊    | 581/1000 [04:07<02:57,  2.35it/s, loss=0.459]\u001b[A\n",
            "Training:  58%|█████▊    | 582/1000 [04:07<02:57,  2.35it/s, loss=0.459]\u001b[A\n",
            "Training:  58%|█████▊    | 582/1000 [04:07<02:57,  2.35it/s, loss=0.323]\u001b[A\n",
            "Training:  58%|█████▊    | 583/1000 [04:08<02:57,  2.35it/s, loss=0.323]\u001b[A\n",
            "Training:  58%|█████▊    | 583/1000 [04:08<02:57,  2.35it/s, loss=0.407]\u001b[A\n",
            "Training:  58%|█████▊    | 584/1000 [04:08<02:57,  2.35it/s, loss=0.407]\u001b[A\n",
            "Training:  58%|█████▊    | 584/1000 [04:08<02:57,  2.35it/s, loss=0.354]\u001b[A\n",
            "Training:  58%|█████▊    | 585/1000 [04:08<02:56,  2.35it/s, loss=0.354]\u001b[A\n",
            "Training:  58%|█████▊    | 585/1000 [04:08<02:56,  2.35it/s, loss=0.398]\u001b[A\n",
            "Training:  59%|█████▊    | 586/1000 [04:09<02:55,  2.35it/s, loss=0.398]\u001b[A\n",
            "Training:  59%|█████▊    | 586/1000 [04:09<02:55,  2.35it/s, loss=0.429]\u001b[A\n",
            "Training:  59%|█████▊    | 587/1000 [04:09<02:55,  2.35it/s, loss=0.429]\u001b[A\n",
            "Training:  59%|█████▊    | 587/1000 [04:09<02:55,  2.35it/s, loss=0.415]\u001b[A\n",
            "Training:  59%|█████▉    | 588/1000 [04:10<02:55,  2.35it/s, loss=0.415]\u001b[A\n",
            "Training:  59%|█████▉    | 588/1000 [04:10<02:55,  2.35it/s, loss=0.442]\u001b[A\n",
            "Training:  59%|█████▉    | 589/1000 [04:10<02:54,  2.35it/s, loss=0.442]\u001b[A\n",
            "Training:  59%|█████▉    | 589/1000 [04:10<02:54,  2.35it/s, loss=0.385]\u001b[A\n",
            "Training:  59%|█████▉    | 590/1000 [04:11<02:54,  2.35it/s, loss=0.385]\u001b[A\n",
            "Training:  59%|█████▉    | 590/1000 [04:11<02:54,  2.35it/s, loss=0.43] \u001b[A\n",
            "Training:  59%|█████▉    | 591/1000 [04:11<02:54,  2.35it/s, loss=0.43]\u001b[A\n",
            "Training:  59%|█████▉    | 591/1000 [04:11<02:54,  2.35it/s, loss=0.309]\u001b[A\n",
            "Training:  59%|█████▉    | 592/1000 [04:11<02:53,  2.35it/s, loss=0.309]\u001b[A\n",
            "Training:  59%|█████▉    | 592/1000 [04:11<02:53,  2.35it/s, loss=0.333]\u001b[A\n",
            "Training:  59%|█████▉    | 593/1000 [04:12<02:53,  2.35it/s, loss=0.333]\u001b[A\n",
            "Training:  59%|█████▉    | 593/1000 [04:12<02:53,  2.35it/s, loss=0.386]\u001b[A\n",
            "Training:  59%|█████▉    | 594/1000 [04:12<02:52,  2.35it/s, loss=0.386]\u001b[A\n",
            "Training:  59%|█████▉    | 594/1000 [04:12<02:52,  2.35it/s, loss=0.494]\u001b[A\n",
            "Training:  60%|█████▉    | 595/1000 [04:13<02:52,  2.35it/s, loss=0.494]\u001b[A\n",
            "Training:  60%|█████▉    | 595/1000 [04:13<02:52,  2.35it/s, loss=0.374]\u001b[A\n",
            "Training:  60%|█████▉    | 596/1000 [04:13<02:51,  2.35it/s, loss=0.374]\u001b[A\n",
            "Training:  60%|█████▉    | 596/1000 [04:13<02:51,  2.35it/s, loss=0.335]\u001b[A\n",
            "Training:  60%|█████▉    | 597/1000 [04:14<02:51,  2.35it/s, loss=0.335]\u001b[A\n",
            "Training:  60%|█████▉    | 597/1000 [04:14<02:51,  2.35it/s, loss=0.376]\u001b[A\n",
            "Training:  60%|█████▉    | 598/1000 [04:14<02:51,  2.35it/s, loss=0.376]\u001b[A\n",
            "Training:  60%|█████▉    | 598/1000 [04:14<02:51,  2.35it/s, loss=0.413]\u001b[A\n",
            "Training:  60%|█████▉    | 599/1000 [04:14<02:50,  2.35it/s, loss=0.413]\u001b[A\n",
            "Training:  60%|█████▉    | 599/1000 [04:14<02:50,  2.35it/s, loss=0.37] \u001b[A\n",
            "Training:  60%|██████    | 600/1000 [04:15<02:50,  2.35it/s, loss=0.37]\u001b[A\n",
            "\n",
            "Training:  76%|███████▌  | 2278/3000 [20:19<05:03,  2.38it/s, loss=0.32]\n",
            "Training:  60%|██████    | 600/1000 [04:15<02:50,  2.35it/s, loss=0.356]\u001b[A"
          ]
        },
        {
          "output_type": "stream",
          "name": "stdout",
          "text": [
            "Step 600: loss = 0.3561\n"
          ]
        },
        {
          "output_type": "stream",
          "name": "stderr",
          "text": [
            "\n",
            "Training:  60%|██████    | 601/1000 [04:15<02:50,  2.34it/s, loss=0.356]\u001b[A\n",
            "Training:  60%|██████    | 601/1000 [04:15<02:50,  2.34it/s, loss=0.43] \u001b[A\n",
            "Training:  60%|██████    | 602/1000 [04:16<02:50,  2.34it/s, loss=0.43]\u001b[A\n",
            "Training:  60%|██████    | 602/1000 [04:16<02:50,  2.34it/s, loss=0.312]\u001b[A\n",
            "Training:  60%|██████    | 603/1000 [04:16<02:49,  2.34it/s, loss=0.312]\u001b[A\n",
            "Training:  60%|██████    | 603/1000 [04:16<02:49,  2.34it/s, loss=0.429]\u001b[A\n",
            "Training:  60%|██████    | 604/1000 [04:17<02:48,  2.35it/s, loss=0.429]\u001b[A\n",
            "Training:  60%|██████    | 604/1000 [04:17<02:48,  2.35it/s, loss=0.439]\u001b[A\n",
            "Training:  60%|██████    | 605/1000 [04:17<02:48,  2.35it/s, loss=0.439]\u001b[A\n",
            "Training:  60%|██████    | 605/1000 [04:17<02:48,  2.35it/s, loss=0.296]\u001b[A\n",
            "Training:  61%|██████    | 606/1000 [04:17<02:47,  2.35it/s, loss=0.296]\u001b[A\n",
            "Training:  61%|██████    | 606/1000 [04:17<02:47,  2.35it/s, loss=0.34] \u001b[A\n",
            "Training:  61%|██████    | 607/1000 [04:18<02:47,  2.35it/s, loss=0.34]\u001b[A\n",
            "Training:  61%|██████    | 607/1000 [04:18<02:47,  2.35it/s, loss=0.301]\u001b[A\n",
            "Training:  61%|██████    | 608/1000 [04:18<02:46,  2.35it/s, loss=0.301]\u001b[A\n",
            "Training:  61%|██████    | 608/1000 [04:18<02:46,  2.35it/s, loss=0.397]\u001b[A\n",
            "Training:  61%|██████    | 609/1000 [04:19<02:46,  2.35it/s, loss=0.397]\u001b[A\n",
            "Training:  61%|██████    | 609/1000 [04:19<02:46,  2.35it/s, loss=0.375]\u001b[A\n",
            "Training:  61%|██████    | 610/1000 [04:19<02:45,  2.35it/s, loss=0.375]\u001b[A\n",
            "Training:  61%|██████    | 610/1000 [04:19<02:45,  2.35it/s, loss=0.422]\u001b[A\n",
            "Training:  61%|██████    | 611/1000 [04:20<02:45,  2.35it/s, loss=0.422]\u001b[A\n",
            "Training:  61%|██████    | 611/1000 [04:20<02:45,  2.35it/s, loss=0.466]\u001b[A\n",
            "Training:  61%|██████    | 612/1000 [04:20<02:44,  2.35it/s, loss=0.466]\u001b[A\n",
            "Training:  61%|██████    | 612/1000 [04:20<02:44,  2.35it/s, loss=0.379]\u001b[A\n",
            "Training:  61%|██████▏   | 613/1000 [04:20<02:44,  2.35it/s, loss=0.379]\u001b[A\n",
            "Training:  61%|██████▏   | 613/1000 [04:20<02:44,  2.35it/s, loss=0.441]\u001b[A\n",
            "Training:  61%|██████▏   | 614/1000 [04:21<02:44,  2.35it/s, loss=0.441]\u001b[A\n",
            "Training:  61%|██████▏   | 614/1000 [04:21<02:44,  2.35it/s, loss=0.364]\u001b[A\n",
            "Training:  62%|██████▏   | 615/1000 [04:21<02:44,  2.35it/s, loss=0.364]\u001b[A\n",
            "Training:  62%|██████▏   | 615/1000 [04:21<02:44,  2.35it/s, loss=0.392]\u001b[A\n",
            "Training:  62%|██████▏   | 616/1000 [04:22<02:43,  2.35it/s, loss=0.392]\u001b[A\n",
            "Training:  62%|██████▏   | 616/1000 [04:22<02:43,  2.35it/s, loss=0.362]\u001b[A\n",
            "Training:  62%|██████▏   | 617/1000 [04:22<02:43,  2.35it/s, loss=0.362]\u001b[A\n",
            "Training:  62%|██████▏   | 617/1000 [04:22<02:43,  2.35it/s, loss=0.347]\u001b[A\n",
            "Training:  62%|██████▏   | 618/1000 [04:22<02:42,  2.35it/s, loss=0.347]\u001b[A\n",
            "Training:  62%|██████▏   | 618/1000 [04:23<02:42,  2.35it/s, loss=0.355]\u001b[A\n",
            "Training:  62%|██████▏   | 619/1000 [04:23<02:42,  2.35it/s, loss=0.355]\u001b[A\n",
            "Training:  62%|██████▏   | 619/1000 [04:23<02:42,  2.35it/s, loss=0.422]\u001b[A\n",
            "Training:  62%|██████▏   | 620/1000 [04:23<02:41,  2.35it/s, loss=0.422]\u001b[A\n",
            "Training:  62%|██████▏   | 620/1000 [04:23<02:41,  2.35it/s, loss=0.375]\u001b[A\n",
            "Training:  62%|██████▏   | 621/1000 [04:24<02:41,  2.35it/s, loss=0.375]\u001b[A\n",
            "Training:  62%|██████▏   | 621/1000 [04:24<02:41,  2.35it/s, loss=0.345]\u001b[A\n",
            "Training:  62%|██████▏   | 622/1000 [04:24<02:40,  2.35it/s, loss=0.345]\u001b[A\n",
            "Training:  62%|██████▏   | 622/1000 [04:24<02:40,  2.35it/s, loss=0.428]\u001b[A\n",
            "Training:  62%|██████▏   | 623/1000 [04:25<02:40,  2.35it/s, loss=0.428]\u001b[A\n",
            "Training:  62%|██████▏   | 623/1000 [04:25<02:40,  2.35it/s, loss=0.338]\u001b[A\n",
            "Training:  62%|██████▏   | 624/1000 [04:25<02:39,  2.35it/s, loss=0.338]\u001b[A\n",
            "Training:  62%|██████▏   | 624/1000 [04:25<02:39,  2.35it/s, loss=0.386]\u001b[A\n",
            "Training:  62%|██████▎   | 625/1000 [04:25<02:39,  2.35it/s, loss=0.386]\u001b[A\n",
            "Training:  62%|██████▎   | 625/1000 [04:25<02:39,  2.35it/s, loss=0.37] \u001b[A\n",
            "Training:  63%|██████▎   | 626/1000 [04:26<02:38,  2.35it/s, loss=0.37]\u001b[A\n",
            "Training:  63%|██████▎   | 626/1000 [04:26<02:38,  2.35it/s, loss=0.364]\u001b[A\n",
            "Training:  63%|██████▎   | 627/1000 [04:26<02:38,  2.35it/s, loss=0.364]\u001b[A\n",
            "Training:  63%|██████▎   | 627/1000 [04:26<02:38,  2.35it/s, loss=0.363]\u001b[A\n",
            "Training:  63%|██████▎   | 628/1000 [04:27<02:38,  2.35it/s, loss=0.363]\u001b[A\n",
            "Training:  63%|██████▎   | 628/1000 [04:27<02:38,  2.35it/s, loss=0.376]\u001b[A\n",
            "Training:  63%|██████▎   | 629/1000 [04:27<02:37,  2.35it/s, loss=0.376]\u001b[A\n",
            "Training:  63%|██████▎   | 629/1000 [04:27<02:37,  2.35it/s, loss=0.248]\u001b[A\n",
            "Training:  63%|██████▎   | 630/1000 [04:28<02:37,  2.35it/s, loss=0.248]\u001b[A\n",
            "Training:  63%|██████▎   | 630/1000 [04:28<02:37,  2.35it/s, loss=0.461]\u001b[A\n",
            "Training:  63%|██████▎   | 631/1000 [04:28<02:36,  2.36it/s, loss=0.461]\u001b[A\n",
            "Training:  63%|██████▎   | 631/1000 [04:28<02:36,  2.36it/s, loss=0.356]\u001b[A\n",
            "Training:  63%|██████▎   | 632/1000 [04:28<02:36,  2.36it/s, loss=0.356]\u001b[A\n",
            "Training:  63%|██████▎   | 632/1000 [04:28<02:36,  2.36it/s, loss=0.393]\u001b[A\n",
            "Training:  63%|██████▎   | 633/1000 [04:29<02:35,  2.36it/s, loss=0.393]\u001b[A\n",
            "Training:  63%|██████▎   | 633/1000 [04:29<02:35,  2.36it/s, loss=0.458]\u001b[A\n",
            "Training:  63%|██████▎   | 634/1000 [04:29<02:35,  2.36it/s, loss=0.458]\u001b[A\n",
            "Training:  63%|██████▎   | 634/1000 [04:29<02:35,  2.36it/s, loss=0.328]\u001b[A\n",
            "Training:  64%|██████▎   | 635/1000 [04:30<02:34,  2.36it/s, loss=0.328]\u001b[A\n",
            "Training:  64%|██████▎   | 635/1000 [04:30<02:34,  2.36it/s, loss=0.387]\u001b[A\n",
            "Training:  64%|██████▎   | 636/1000 [04:30<02:34,  2.35it/s, loss=0.387]\u001b[A\n",
            "Training:  64%|██████▎   | 636/1000 [04:30<02:34,  2.35it/s, loss=0.309]\u001b[A\n",
            "Training:  64%|██████▎   | 637/1000 [04:31<02:34,  2.36it/s, loss=0.309]\u001b[A\n",
            "Training:  64%|██████▎   | 637/1000 [04:31<02:34,  2.36it/s, loss=0.284]\u001b[A\n",
            "Training:  64%|██████▍   | 638/1000 [04:31<02:33,  2.35it/s, loss=0.284]\u001b[A\n",
            "Training:  64%|██████▍   | 638/1000 [04:31<02:33,  2.35it/s, loss=0.396]\u001b[A\n",
            "Training:  64%|██████▍   | 639/1000 [04:31<02:33,  2.35it/s, loss=0.396]\u001b[A\n",
            "Training:  64%|██████▍   | 639/1000 [04:31<02:33,  2.35it/s, loss=0.393]\u001b[A\n",
            "Training:  64%|██████▍   | 640/1000 [04:32<02:33,  2.35it/s, loss=0.393]\u001b[A\n",
            "Training:  64%|██████▍   | 640/1000 [04:32<02:33,  2.35it/s, loss=0.336]\u001b[A\n",
            "Training:  64%|██████▍   | 641/1000 [04:32<02:32,  2.35it/s, loss=0.336]\u001b[A\n",
            "Training:  64%|██████▍   | 641/1000 [04:32<02:32,  2.35it/s, loss=0.4]  \u001b[A\n",
            "Training:  64%|██████▍   | 642/1000 [04:33<02:32,  2.35it/s, loss=0.4]\u001b[A\n",
            "Training:  64%|██████▍   | 642/1000 [04:33<02:32,  2.35it/s, loss=0.368]\u001b[A\n",
            "Training:  64%|██████▍   | 643/1000 [04:33<02:31,  2.35it/s, loss=0.368]\u001b[A\n",
            "Training:  64%|██████▍   | 643/1000 [04:33<02:31,  2.35it/s, loss=0.33] \u001b[A\n",
            "Training:  64%|██████▍   | 644/1000 [04:34<02:31,  2.35it/s, loss=0.33]\u001b[A\n",
            "Training:  64%|██████▍   | 644/1000 [04:34<02:31,  2.35it/s, loss=0.374]\u001b[A\n",
            "Training:  64%|██████▍   | 645/1000 [04:34<02:31,  2.35it/s, loss=0.374]\u001b[A\n",
            "Training:  64%|██████▍   | 645/1000 [04:34<02:31,  2.35it/s, loss=0.426]\u001b[A\n",
            "Training:  65%|██████▍   | 646/1000 [04:34<02:30,  2.35it/s, loss=0.426]\u001b[A\n",
            "Training:  65%|██████▍   | 646/1000 [04:34<02:30,  2.35it/s, loss=0.461]\u001b[A\n",
            "Training:  65%|██████▍   | 647/1000 [04:35<02:30,  2.35it/s, loss=0.461]\u001b[A\n",
            "Training:  65%|██████▍   | 647/1000 [04:35<02:30,  2.35it/s, loss=0.435]\u001b[A\n",
            "Training:  65%|██████▍   | 648/1000 [04:35<02:29,  2.35it/s, loss=0.435]\u001b[A\n",
            "Training:  65%|██████▍   | 648/1000 [04:35<02:29,  2.35it/s, loss=0.336]\u001b[A\n",
            "Training:  65%|██████▍   | 649/1000 [04:36<02:29,  2.35it/s, loss=0.336]\u001b[A\n",
            "Training:  65%|██████▍   | 649/1000 [04:36<02:29,  2.35it/s, loss=0.368]\u001b[A\n",
            "Training:  65%|██████▌   | 650/1000 [04:36<02:29,  2.35it/s, loss=0.368]\u001b[A\n",
            "\n",
            "Training:  76%|███████▌  | 2278/3000 [20:41<05:03,  2.38it/s, loss=0.32]\n",
            "Training:  65%|██████▌   | 650/1000 [04:36<02:29,  2.35it/s, loss=0.422]\u001b[A"
          ]
        },
        {
          "output_type": "stream",
          "name": "stdout",
          "text": [
            "Step 650: loss = 0.4217\n"
          ]
        },
        {
          "output_type": "stream",
          "name": "stderr",
          "text": [
            "\n",
            "Training:  65%|██████▌   | 651/1000 [04:37<02:29,  2.34it/s, loss=0.422]\u001b[A\n",
            "Training:  65%|██████▌   | 651/1000 [04:37<02:29,  2.34it/s, loss=0.372]\u001b[A\n",
            "Training:  65%|██████▌   | 652/1000 [04:37<02:28,  2.34it/s, loss=0.372]\u001b[A\n",
            "Training:  65%|██████▌   | 652/1000 [04:37<02:28,  2.34it/s, loss=0.434]\u001b[A\n",
            "Training:  65%|██████▌   | 653/1000 [04:37<02:28,  2.34it/s, loss=0.434]\u001b[A\n",
            "Training:  65%|██████▌   | 653/1000 [04:37<02:28,  2.34it/s, loss=0.446]\u001b[A\n",
            "Training:  65%|██████▌   | 654/1000 [04:38<02:27,  2.35it/s, loss=0.446]\u001b[A\n",
            "Training:  65%|██████▌   | 654/1000 [04:38<02:27,  2.35it/s, loss=0.368]\u001b[A\n",
            "Training:  66%|██████▌   | 655/1000 [04:38<02:26,  2.35it/s, loss=0.368]\u001b[A\n",
            "Training:  66%|██████▌   | 655/1000 [04:38<02:26,  2.35it/s, loss=0.454]\u001b[A\n",
            "Training:  66%|██████▌   | 656/1000 [04:39<02:26,  2.35it/s, loss=0.454]\u001b[A\n",
            "Training:  66%|██████▌   | 656/1000 [04:39<02:26,  2.35it/s, loss=0.45] \u001b[A\n",
            "Training:  66%|██████▌   | 657/1000 [04:39<02:25,  2.35it/s, loss=0.45]\u001b[A\n",
            "Training:  66%|██████▌   | 657/1000 [04:39<02:25,  2.35it/s, loss=0.414]\u001b[A\n",
            "Training:  66%|██████▌   | 658/1000 [04:40<02:25,  2.35it/s, loss=0.414]\u001b[A\n",
            "Training:  66%|██████▌   | 658/1000 [04:40<02:25,  2.35it/s, loss=0.373]\u001b[A\n",
            "Training:  66%|██████▌   | 659/1000 [04:40<02:25,  2.35it/s, loss=0.373]\u001b[A\n",
            "Training:  66%|██████▌   | 659/1000 [04:40<02:25,  2.35it/s, loss=0.376]\u001b[A\n",
            "Training:  66%|██████▌   | 660/1000 [04:40<02:24,  2.35it/s, loss=0.376]\u001b[A\n",
            "Training:  66%|██████▌   | 660/1000 [04:40<02:24,  2.35it/s, loss=0.36] \u001b[A\n",
            "Training:  66%|██████▌   | 661/1000 [04:41<02:24,  2.35it/s, loss=0.36]\u001b[A\n",
            "Training:  66%|██████▌   | 661/1000 [04:41<02:24,  2.35it/s, loss=0.343]\u001b[A\n",
            "Training:  66%|██████▌   | 662/1000 [04:41<02:24,  2.35it/s, loss=0.343]\u001b[A\n",
            "Training:  66%|██████▌   | 662/1000 [04:41<02:24,  2.35it/s, loss=0.346]\u001b[A\n",
            "Training:  66%|██████▋   | 663/1000 [04:42<02:23,  2.35it/s, loss=0.346]\u001b[A\n",
            "Training:  66%|██████▋   | 663/1000 [04:42<02:23,  2.35it/s, loss=0.428]\u001b[A\n",
            "Training:  66%|██████▋   | 664/1000 [04:42<02:22,  2.35it/s, loss=0.428]\u001b[A\n",
            "Training:  66%|██████▋   | 664/1000 [04:42<02:22,  2.35it/s, loss=0.399]\u001b[A\n",
            "Training:  66%|██████▋   | 665/1000 [04:42<02:22,  2.35it/s, loss=0.399]\u001b[A\n",
            "Training:  66%|██████▋   | 665/1000 [04:42<02:22,  2.35it/s, loss=0.309]\u001b[A\n",
            "Training:  67%|██████▋   | 666/1000 [04:43<02:22,  2.35it/s, loss=0.309]\u001b[A\n",
            "Training:  67%|██████▋   | 666/1000 [04:43<02:22,  2.35it/s, loss=0.367]\u001b[A\n",
            "Training:  67%|██████▋   | 667/1000 [04:43<02:21,  2.35it/s, loss=0.367]\u001b[A\n",
            "Training:  67%|██████▋   | 667/1000 [04:43<02:21,  2.35it/s, loss=0.395]\u001b[A\n",
            "Training:  67%|██████▋   | 668/1000 [04:44<02:21,  2.35it/s, loss=0.395]\u001b[A\n",
            "Training:  67%|██████▋   | 668/1000 [04:44<02:21,  2.35it/s, loss=0.369]\u001b[A\n",
            "Training:  67%|██████▋   | 669/1000 [04:44<02:20,  2.35it/s, loss=0.369]\u001b[A\n",
            "Training:  67%|██████▋   | 669/1000 [04:44<02:20,  2.35it/s, loss=0.372]\u001b[A\n",
            "Training:  67%|██████▋   | 670/1000 [04:45<02:20,  2.35it/s, loss=0.372]\u001b[A\n",
            "Training:  67%|██████▋   | 670/1000 [04:45<02:20,  2.35it/s, loss=0.419]\u001b[A\n",
            "Training:  67%|██████▋   | 671/1000 [04:45<02:19,  2.35it/s, loss=0.419]\u001b[A\n",
            "Training:  67%|██████▋   | 671/1000 [04:45<02:19,  2.35it/s, loss=0.375]\u001b[A\n",
            "Training:  67%|██████▋   | 672/1000 [04:45<02:19,  2.35it/s, loss=0.375]\u001b[A\n",
            "Training:  67%|██████▋   | 672/1000 [04:45<02:19,  2.35it/s, loss=0.414]\u001b[A\n",
            "Training:  67%|██████▋   | 673/1000 [04:46<02:19,  2.35it/s, loss=0.414]\u001b[A\n",
            "Training:  67%|██████▋   | 673/1000 [04:46<02:19,  2.35it/s, loss=0.375]\u001b[A\n",
            "Training:  67%|██████▋   | 674/1000 [04:46<02:18,  2.35it/s, loss=0.375]\u001b[A\n",
            "Training:  67%|██████▋   | 674/1000 [04:46<02:18,  2.35it/s, loss=0.489]\u001b[A\n",
            "Training:  68%|██████▊   | 675/1000 [04:47<02:18,  2.35it/s, loss=0.489]\u001b[A\n",
            "Training:  68%|██████▊   | 675/1000 [04:47<02:18,  2.35it/s, loss=0.362]\u001b[A\n",
            "Training:  68%|██████▊   | 676/1000 [04:47<02:17,  2.35it/s, loss=0.362]\u001b[A\n",
            "Training:  68%|██████▊   | 676/1000 [04:47<02:17,  2.35it/s, loss=0.344]\u001b[A\n",
            "Training:  68%|██████▊   | 677/1000 [04:48<02:17,  2.35it/s, loss=0.344]\u001b[A\n",
            "Training:  68%|██████▊   | 677/1000 [04:48<02:17,  2.35it/s, loss=0.449]\u001b[A\n",
            "Training:  68%|██████▊   | 678/1000 [04:48<02:16,  2.35it/s, loss=0.449]\u001b[A\n",
            "Training:  68%|██████▊   | 678/1000 [04:48<02:16,  2.35it/s, loss=0.404]\u001b[A\n",
            "Training:  68%|██████▊   | 679/1000 [04:48<02:16,  2.35it/s, loss=0.404]\u001b[A\n",
            "Training:  68%|██████▊   | 679/1000 [04:48<02:16,  2.35it/s, loss=0.393]\u001b[A\n",
            "Training:  68%|██████▊   | 680/1000 [04:49<02:15,  2.35it/s, loss=0.393]\u001b[A\n",
            "Training:  68%|██████▊   | 680/1000 [04:49<02:15,  2.35it/s, loss=0.332]\u001b[A\n",
            "Training:  68%|██████▊   | 681/1000 [04:49<02:15,  2.35it/s, loss=0.332]\u001b[A\n",
            "Training:  68%|██████▊   | 681/1000 [04:49<02:15,  2.35it/s, loss=0.4]  \u001b[A\n",
            "Training:  68%|██████▊   | 682/1000 [04:50<02:15,  2.35it/s, loss=0.4]\u001b[A\n",
            "Training:  68%|██████▊   | 682/1000 [04:50<02:15,  2.35it/s, loss=0.407]\u001b[A\n",
            "Training:  68%|██████▊   | 683/1000 [04:50<02:14,  2.35it/s, loss=0.407]\u001b[A\n",
            "Training:  68%|██████▊   | 683/1000 [04:50<02:14,  2.35it/s, loss=0.319]\u001b[A\n",
            "Training:  68%|██████▊   | 684/1000 [04:51<02:14,  2.35it/s, loss=0.319]\u001b[A\n",
            "Training:  68%|██████▊   | 684/1000 [04:51<02:14,  2.35it/s, loss=0.401]\u001b[A\n",
            "Training:  68%|██████▊   | 685/1000 [04:51<02:13,  2.35it/s, loss=0.401]\u001b[A\n",
            "Training:  68%|██████▊   | 685/1000 [04:51<02:13,  2.35it/s, loss=0.329]\u001b[A\n",
            "Training:  69%|██████▊   | 686/1000 [04:51<02:13,  2.35it/s, loss=0.329]\u001b[A\n",
            "Training:  69%|██████▊   | 686/1000 [04:51<02:13,  2.35it/s, loss=0.561]\u001b[A\n",
            "Training:  69%|██████▊   | 687/1000 [04:52<02:13,  2.35it/s, loss=0.561]\u001b[A\n",
            "Training:  69%|██████▊   | 687/1000 [04:52<02:13,  2.35it/s, loss=0.414]\u001b[A\n",
            "Training:  69%|██████▉   | 688/1000 [04:52<02:12,  2.35it/s, loss=0.414]\u001b[A\n",
            "Training:  69%|██████▉   | 688/1000 [04:52<02:12,  2.35it/s, loss=0.453]\u001b[A\n",
            "Training:  69%|██████▉   | 689/1000 [04:53<02:12,  2.35it/s, loss=0.453]\u001b[A\n",
            "Training:  69%|██████▉   | 689/1000 [04:53<02:12,  2.35it/s, loss=0.349]\u001b[A\n",
            "Training:  69%|██████▉   | 690/1000 [04:53<02:11,  2.35it/s, loss=0.349]\u001b[A\n",
            "Training:  69%|██████▉   | 690/1000 [04:53<02:11,  2.35it/s, loss=0.425]\u001b[A\n",
            "Training:  69%|██████▉   | 691/1000 [04:54<02:11,  2.35it/s, loss=0.425]\u001b[A\n",
            "Training:  69%|██████▉   | 691/1000 [04:54<02:11,  2.35it/s, loss=0.487]\u001b[A\n",
            "Training:  69%|██████▉   | 692/1000 [04:54<02:10,  2.35it/s, loss=0.487]\u001b[A\n",
            "Training:  69%|██████▉   | 692/1000 [04:54<02:10,  2.35it/s, loss=0.47] \u001b[A\n",
            "Training:  69%|██████▉   | 693/1000 [04:54<02:10,  2.35it/s, loss=0.47]\u001b[A\n",
            "Training:  69%|██████▉   | 693/1000 [04:54<02:10,  2.35it/s, loss=0.377]\u001b[A\n",
            "Training:  69%|██████▉   | 694/1000 [04:55<02:10,  2.35it/s, loss=0.377]\u001b[A\n",
            "Training:  69%|██████▉   | 694/1000 [04:55<02:10,  2.35it/s, loss=0.445]\u001b[A\n",
            "Training:  70%|██████▉   | 695/1000 [04:55<02:09,  2.35it/s, loss=0.445]\u001b[A\n",
            "Training:  70%|██████▉   | 695/1000 [04:55<02:09,  2.35it/s, loss=0.352]\u001b[A\n",
            "Training:  70%|██████▉   | 696/1000 [04:56<02:09,  2.35it/s, loss=0.352]\u001b[A\n",
            "Training:  70%|██████▉   | 696/1000 [04:56<02:09,  2.35it/s, loss=0.412]\u001b[A\n",
            "Training:  70%|██████▉   | 697/1000 [04:56<02:08,  2.35it/s, loss=0.412]\u001b[A\n",
            "Training:  70%|██████▉   | 697/1000 [04:56<02:08,  2.35it/s, loss=0.35] \u001b[A\n",
            "Training:  70%|██████▉   | 698/1000 [04:57<02:08,  2.35it/s, loss=0.35]\u001b[A\n",
            "Training:  70%|██████▉   | 698/1000 [04:57<02:08,  2.35it/s, loss=0.372]\u001b[A\n",
            "Training:  70%|██████▉   | 699/1000 [04:57<02:08,  2.35it/s, loss=0.372]\u001b[A\n",
            "Training:  70%|██████▉   | 699/1000 [04:57<02:08,  2.35it/s, loss=0.374]\u001b[A\n",
            "Training:  70%|███████   | 700/1000 [04:57<02:07,  2.35it/s, loss=0.374]\u001b[A\n",
            "\n",
            "Training:  76%|███████▌  | 2278/3000 [21:02<05:03,  2.38it/s, loss=0.32]\n",
            "Training:  70%|███████   | 700/1000 [04:57<02:07,  2.35it/s, loss=0.369]\u001b[A"
          ]
        },
        {
          "output_type": "stream",
          "name": "stdout",
          "text": [
            "Step 700: loss = 0.3694\n"
          ]
        },
        {
          "output_type": "stream",
          "name": "stderr",
          "text": [
            "\n",
            "Training:  70%|███████   | 701/1000 [04:58<02:08,  2.33it/s, loss=0.369]\u001b[A\n",
            "Training:  70%|███████   | 701/1000 [04:58<02:08,  2.33it/s, loss=0.468]\u001b[A\n",
            "Training:  70%|███████   | 702/1000 [04:58<02:07,  2.34it/s, loss=0.468]\u001b[A\n",
            "Training:  70%|███████   | 702/1000 [04:58<02:07,  2.34it/s, loss=0.374]\u001b[A\n",
            "Training:  70%|███████   | 703/1000 [04:59<02:06,  2.35it/s, loss=0.374]\u001b[A\n",
            "Training:  70%|███████   | 703/1000 [04:59<02:06,  2.35it/s, loss=0.438]\u001b[A\n",
            "Training:  70%|███████   | 704/1000 [04:59<02:06,  2.35it/s, loss=0.438]\u001b[A\n",
            "Training:  70%|███████   | 704/1000 [04:59<02:06,  2.35it/s, loss=0.396]\u001b[A\n",
            "Training:  70%|███████   | 705/1000 [05:00<02:05,  2.35it/s, loss=0.396]\u001b[A\n",
            "Training:  70%|███████   | 705/1000 [05:00<02:05,  2.35it/s, loss=0.511]\u001b[A\n",
            "Training:  71%|███████   | 706/1000 [05:00<02:05,  2.35it/s, loss=0.511]\u001b[A\n",
            "Training:  71%|███████   | 706/1000 [05:00<02:05,  2.35it/s, loss=0.475]\u001b[A\n",
            "Training:  71%|███████   | 707/1000 [05:00<02:04,  2.35it/s, loss=0.475]\u001b[A\n",
            "Training:  71%|███████   | 707/1000 [05:00<02:04,  2.35it/s, loss=0.339]\u001b[A\n",
            "Training:  71%|███████   | 708/1000 [05:01<02:04,  2.35it/s, loss=0.339]\u001b[A\n",
            "Training:  71%|███████   | 708/1000 [05:01<02:04,  2.35it/s, loss=0.374]\u001b[A\n",
            "Training:  71%|███████   | 709/1000 [05:01<02:03,  2.35it/s, loss=0.374]\u001b[A\n",
            "Training:  71%|███████   | 709/1000 [05:01<02:03,  2.35it/s, loss=0.357]\u001b[A\n",
            "Training:  71%|███████   | 710/1000 [05:02<02:03,  2.35it/s, loss=0.357]\u001b[A\n",
            "Training:  71%|███████   | 710/1000 [05:02<02:03,  2.35it/s, loss=0.369]\u001b[A\n",
            "Training:  71%|███████   | 711/1000 [05:02<02:02,  2.35it/s, loss=0.369]\u001b[A\n",
            "Training:  71%|███████   | 711/1000 [05:02<02:02,  2.35it/s, loss=0.455]\u001b[A\n",
            "Training:  71%|███████   | 712/1000 [05:02<02:02,  2.35it/s, loss=0.455]\u001b[A\n",
            "Training:  71%|███████   | 712/1000 [05:02<02:02,  2.35it/s, loss=0.409]\u001b[A\n",
            "Training:  71%|███████▏  | 713/1000 [05:03<02:02,  2.35it/s, loss=0.409]\u001b[A\n",
            "Training:  71%|███████▏  | 713/1000 [05:03<02:02,  2.35it/s, loss=0.352]\u001b[A\n",
            "Training:  71%|███████▏  | 714/1000 [05:03<02:01,  2.35it/s, loss=0.352]\u001b[A\n",
            "Training:  71%|███████▏  | 714/1000 [05:03<02:01,  2.35it/s, loss=0.344]\u001b[A\n",
            "Training:  72%|███████▏  | 715/1000 [05:04<02:01,  2.35it/s, loss=0.344]\u001b[A\n",
            "Training:  72%|███████▏  | 715/1000 [05:04<02:01,  2.35it/s, loss=0.373]\u001b[A\n",
            "Training:  72%|███████▏  | 716/1000 [05:04<02:00,  2.35it/s, loss=0.373]\u001b[A\n",
            "Training:  72%|███████▏  | 716/1000 [05:04<02:00,  2.35it/s, loss=0.39] \u001b[A\n",
            "Training:  72%|███████▏  | 717/1000 [05:05<02:00,  2.35it/s, loss=0.39]\u001b[A\n",
            "Training:  72%|███████▏  | 717/1000 [05:05<02:00,  2.35it/s, loss=0.322]\u001b[A\n",
            "Training:  72%|███████▏  | 718/1000 [05:05<02:00,  2.35it/s, loss=0.322]\u001b[A\n",
            "Training:  72%|███████▏  | 718/1000 [05:05<02:00,  2.35it/s, loss=0.415]\u001b[A\n",
            "Training:  72%|███████▏  | 719/1000 [05:05<01:59,  2.35it/s, loss=0.415]\u001b[A\n",
            "Training:  72%|███████▏  | 719/1000 [05:05<01:59,  2.35it/s, loss=0.507]\u001b[A\n",
            "Training:  72%|███████▏  | 720/1000 [05:06<01:59,  2.35it/s, loss=0.507]\u001b[A\n",
            "Training:  72%|███████▏  | 720/1000 [05:06<01:59,  2.35it/s, loss=0.444]\u001b[A\n",
            "Training:  72%|███████▏  | 721/1000 [05:06<01:58,  2.35it/s, loss=0.444]\u001b[A\n",
            "Training:  72%|███████▏  | 721/1000 [05:06<01:58,  2.35it/s, loss=0.354]\u001b[A\n",
            "Training:  72%|███████▏  | 722/1000 [05:07<01:58,  2.35it/s, loss=0.354]\u001b[A\n",
            "Training:  72%|███████▏  | 722/1000 [05:07<01:58,  2.35it/s, loss=0.4]  \u001b[A\n",
            "Training:  72%|███████▏  | 723/1000 [05:07<01:57,  2.35it/s, loss=0.4]\u001b[A\n",
            "Training:  72%|███████▏  | 723/1000 [05:07<01:57,  2.35it/s, loss=0.37]\u001b[A\n",
            "Training:  72%|███████▏  | 724/1000 [05:08<01:57,  2.35it/s, loss=0.37]\u001b[A\n",
            "Training:  72%|███████▏  | 724/1000 [05:08<01:57,  2.35it/s, loss=0.428]\u001b[A\n",
            "Training:  72%|███████▎  | 725/1000 [05:08<01:57,  2.35it/s, loss=0.428]\u001b[A\n",
            "Training:  72%|███████▎  | 725/1000 [05:08<01:57,  2.35it/s, loss=0.354]\u001b[A\n",
            "Training:  73%|███████▎  | 726/1000 [05:08<01:56,  2.35it/s, loss=0.354]\u001b[A\n",
            "Training:  73%|███████▎  | 726/1000 [05:08<01:56,  2.35it/s, loss=0.339]\u001b[A\n",
            "Training:  73%|███████▎  | 727/1000 [05:09<01:56,  2.35it/s, loss=0.339]\u001b[A\n",
            "Training:  73%|███████▎  | 727/1000 [05:09<01:56,  2.35it/s, loss=0.499]\u001b[A\n",
            "Training:  73%|███████▎  | 728/1000 [05:09<01:55,  2.35it/s, loss=0.499]\u001b[A\n",
            "Training:  73%|███████▎  | 728/1000 [05:09<01:55,  2.35it/s, loss=0.287]\u001b[A\n",
            "Training:  73%|███████▎  | 729/1000 [05:10<01:55,  2.35it/s, loss=0.287]\u001b[A\n",
            "Training:  73%|███████▎  | 729/1000 [05:10<01:55,  2.35it/s, loss=0.323]\u001b[A\n",
            "Training:  73%|███████▎  | 730/1000 [05:10<01:54,  2.35it/s, loss=0.323]\u001b[A\n",
            "Training:  73%|███████▎  | 730/1000 [05:10<01:54,  2.35it/s, loss=0.36] \u001b[A\n",
            "Training:  73%|███████▎  | 731/1000 [05:11<01:54,  2.35it/s, loss=0.36]\u001b[A\n",
            "Training:  73%|███████▎  | 731/1000 [05:11<01:54,  2.35it/s, loss=0.411]\u001b[A\n",
            "Training:  73%|███████▎  | 732/1000 [05:11<01:54,  2.35it/s, loss=0.411]\u001b[A\n",
            "Training:  73%|███████▎  | 732/1000 [05:11<01:54,  2.35it/s, loss=0.409]\u001b[A\n",
            "Training:  73%|███████▎  | 733/1000 [05:11<01:53,  2.35it/s, loss=0.409]\u001b[A\n",
            "Training:  73%|███████▎  | 733/1000 [05:11<01:53,  2.35it/s, loss=0.352]\u001b[A\n",
            "Training:  73%|███████▎  | 734/1000 [05:12<01:53,  2.35it/s, loss=0.352]\u001b[A\n",
            "Training:  73%|███████▎  | 734/1000 [05:12<01:53,  2.35it/s, loss=0.314]\u001b[A\n",
            "Training:  74%|███████▎  | 735/1000 [05:12<01:52,  2.35it/s, loss=0.314]\u001b[A\n",
            "Training:  74%|███████▎  | 735/1000 [05:12<01:52,  2.35it/s, loss=0.336]\u001b[A\n",
            "Training:  74%|███████▎  | 736/1000 [05:13<01:52,  2.35it/s, loss=0.336]\u001b[A\n",
            "Training:  74%|███████▎  | 736/1000 [05:13<01:52,  2.35it/s, loss=0.342]\u001b[A\n",
            "Training:  74%|███████▎  | 737/1000 [05:13<01:51,  2.35it/s, loss=0.342]\u001b[A\n",
            "Training:  74%|███████▎  | 737/1000 [05:13<01:51,  2.35it/s, loss=0.292]\u001b[A\n",
            "Training:  74%|███████▍  | 738/1000 [05:14<01:51,  2.35it/s, loss=0.292]\u001b[A\n",
            "Training:  74%|███████▍  | 738/1000 [05:14<01:51,  2.35it/s, loss=0.34] \u001b[A\n",
            "Training:  74%|███████▍  | 739/1000 [05:14<01:51,  2.35it/s, loss=0.34]\u001b[A\n",
            "Training:  74%|███████▍  | 739/1000 [05:14<01:51,  2.35it/s, loss=0.391]\u001b[A\n",
            "Training:  74%|███████▍  | 740/1000 [05:14<01:50,  2.35it/s, loss=0.391]\u001b[A\n",
            "Training:  74%|███████▍  | 740/1000 [05:14<01:50,  2.35it/s, loss=0.32] \u001b[A\n",
            "Training:  74%|███████▍  | 741/1000 [05:15<01:50,  2.35it/s, loss=0.32]\u001b[A\n",
            "Training:  74%|███████▍  | 741/1000 [05:15<01:50,  2.35it/s, loss=0.362]\u001b[A\n",
            "Training:  74%|███████▍  | 742/1000 [05:15<01:49,  2.35it/s, loss=0.362]\u001b[A\n",
            "Training:  74%|███████▍  | 742/1000 [05:15<01:49,  2.35it/s, loss=0.414]\u001b[A\n",
            "Training:  74%|███████▍  | 743/1000 [05:16<01:49,  2.35it/s, loss=0.414]\u001b[A\n",
            "Training:  74%|███████▍  | 743/1000 [05:16<01:49,  2.35it/s, loss=0.352]\u001b[A\n",
            "Training:  74%|███████▍  | 744/1000 [05:16<01:48,  2.35it/s, loss=0.352]\u001b[A\n",
            "Training:  74%|███████▍  | 744/1000 [05:16<01:48,  2.35it/s, loss=0.385]\u001b[A\n",
            "Training:  74%|███████▍  | 745/1000 [05:17<01:48,  2.35it/s, loss=0.385]\u001b[A\n",
            "Training:  74%|███████▍  | 745/1000 [05:17<01:48,  2.35it/s, loss=0.371]\u001b[A\n",
            "Training:  75%|███████▍  | 746/1000 [05:17<01:47,  2.35it/s, loss=0.371]\u001b[A\n",
            "Training:  75%|███████▍  | 746/1000 [05:17<01:47,  2.35it/s, loss=0.302]\u001b[A\n",
            "Training:  75%|███████▍  | 747/1000 [05:17<01:47,  2.35it/s, loss=0.302]\u001b[A\n",
            "Training:  75%|███████▍  | 747/1000 [05:17<01:47,  2.35it/s, loss=0.365]\u001b[A\n",
            "Training:  75%|███████▍  | 748/1000 [05:18<01:47,  2.35it/s, loss=0.365]\u001b[A\n",
            "Training:  75%|███████▍  | 748/1000 [05:18<01:47,  2.35it/s, loss=0.354]\u001b[A\n",
            "Training:  75%|███████▍  | 749/1000 [05:18<01:46,  2.35it/s, loss=0.354]\u001b[A\n",
            "Training:  75%|███████▍  | 749/1000 [05:18<01:46,  2.35it/s, loss=0.336]\u001b[A\n",
            "Training:  75%|███████▌  | 750/1000 [05:19<01:46,  2.35it/s, loss=0.336]\u001b[A\n",
            "\n",
            "Training:  76%|███████▌  | 2278/3000 [21:23<05:03,  2.38it/s, loss=0.32]\n",
            "Training:  75%|███████▌  | 750/1000 [05:19<01:46,  2.35it/s, loss=0.343]\u001b[A"
          ]
        },
        {
          "output_type": "stream",
          "name": "stdout",
          "text": [
            "Step 750: loss = 0.3433\n"
          ]
        },
        {
          "output_type": "stream",
          "name": "stderr",
          "text": [
            "\n",
            "Training:  75%|███████▌  | 751/1000 [05:19<01:46,  2.34it/s, loss=0.343]\u001b[A\n",
            "Training:  75%|███████▌  | 751/1000 [05:19<01:46,  2.34it/s, loss=0.363]\u001b[A\n",
            "Training:  75%|███████▌  | 752/1000 [05:20<01:45,  2.34it/s, loss=0.363]\u001b[A\n",
            "Training:  75%|███████▌  | 752/1000 [05:20<01:45,  2.34it/s, loss=0.36] \u001b[A\n",
            "Training:  75%|███████▌  | 753/1000 [05:20<01:45,  2.34it/s, loss=0.36]\u001b[A\n",
            "Training:  75%|███████▌  | 753/1000 [05:20<01:45,  2.34it/s, loss=0.376]\u001b[A\n",
            "Training:  75%|███████▌  | 754/1000 [05:20<01:44,  2.35it/s, loss=0.376]\u001b[A\n",
            "Training:  75%|███████▌  | 754/1000 [05:20<01:44,  2.35it/s, loss=0.329]\u001b[A\n",
            "Training:  76%|███████▌  | 755/1000 [05:21<01:44,  2.35it/s, loss=0.329]\u001b[A\n",
            "Training:  76%|███████▌  | 755/1000 [05:21<01:44,  2.35it/s, loss=0.368]\u001b[A\n",
            "Training:  76%|███████▌  | 756/1000 [05:21<01:43,  2.35it/s, loss=0.368]\u001b[A\n",
            "Training:  76%|███████▌  | 756/1000 [05:21<01:43,  2.35it/s, loss=0.465]\u001b[A\n",
            "Training:  76%|███████▌  | 757/1000 [05:22<01:43,  2.35it/s, loss=0.465]\u001b[A\n",
            "Training:  76%|███████▌  | 757/1000 [05:22<01:43,  2.35it/s, loss=0.39] \u001b[A\n",
            "Training:  76%|███████▌  | 758/1000 [05:22<01:43,  2.35it/s, loss=0.39]\u001b[A\n",
            "Training:  76%|███████▌  | 758/1000 [05:22<01:43,  2.35it/s, loss=0.337]\u001b[A\n",
            "Training:  76%|███████▌  | 759/1000 [05:22<01:42,  2.35it/s, loss=0.337]\u001b[A\n",
            "Training:  76%|███████▌  | 759/1000 [05:22<01:42,  2.35it/s, loss=0.371]\u001b[A\n",
            "Training:  76%|███████▌  | 760/1000 [05:23<01:42,  2.35it/s, loss=0.371]\u001b[A\n",
            "Training:  76%|███████▌  | 760/1000 [05:23<01:42,  2.35it/s, loss=0.327]\u001b[A\n",
            "Training:  76%|███████▌  | 761/1000 [05:23<01:41,  2.35it/s, loss=0.327]\u001b[A\n",
            "Training:  76%|███████▌  | 761/1000 [05:23<01:41,  2.35it/s, loss=0.369]\u001b[A\n",
            "Training:  76%|███████▌  | 762/1000 [05:24<01:41,  2.35it/s, loss=0.369]\u001b[A\n",
            "Training:  76%|███████▌  | 762/1000 [05:24<01:41,  2.35it/s, loss=0.441]\u001b[A\n",
            "Training:  76%|███████▋  | 763/1000 [05:24<01:40,  2.35it/s, loss=0.441]\u001b[A\n",
            "Training:  76%|███████▋  | 763/1000 [05:24<01:40,  2.35it/s, loss=0.314]\u001b[A\n",
            "Training:  76%|███████▋  | 764/1000 [05:25<01:40,  2.35it/s, loss=0.314]\u001b[A\n",
            "Training:  76%|███████▋  | 764/1000 [05:25<01:40,  2.35it/s, loss=0.326]\u001b[A\n",
            "Training:  76%|███████▋  | 765/1000 [05:25<01:40,  2.35it/s, loss=0.326]\u001b[A\n",
            "Training:  76%|███████▋  | 765/1000 [05:25<01:40,  2.35it/s, loss=0.363]\u001b[A\n",
            "Training:  77%|███████▋  | 766/1000 [05:25<01:39,  2.35it/s, loss=0.363]\u001b[A\n",
            "Training:  77%|███████▋  | 766/1000 [05:25<01:39,  2.35it/s, loss=0.343]\u001b[A\n",
            "Training:  77%|███████▋  | 767/1000 [05:26<01:39,  2.35it/s, loss=0.343]\u001b[A\n",
            "Training:  77%|███████▋  | 767/1000 [05:26<01:39,  2.35it/s, loss=0.415]\u001b[A\n",
            "Training:  77%|███████▋  | 768/1000 [05:26<01:38,  2.35it/s, loss=0.415]\u001b[A\n",
            "Training:  77%|███████▋  | 768/1000 [05:26<01:38,  2.35it/s, loss=0.409]\u001b[A\n",
            "Training:  77%|███████▋  | 769/1000 [05:27<01:38,  2.35it/s, loss=0.409]\u001b[A\n",
            "Training:  77%|███████▋  | 769/1000 [05:27<01:38,  2.35it/s, loss=0.326]\u001b[A\n",
            "Training:  77%|███████▋  | 770/1000 [05:27<01:37,  2.35it/s, loss=0.326]\u001b[A\n",
            "Training:  77%|███████▋  | 770/1000 [05:27<01:37,  2.35it/s, loss=0.301]\u001b[A\n",
            "Training:  77%|███████▋  | 771/1000 [05:28<01:37,  2.35it/s, loss=0.301]\u001b[A\n",
            "Training:  77%|███████▋  | 771/1000 [05:28<01:37,  2.35it/s, loss=0.351]\u001b[A\n",
            "Training:  77%|███████▋  | 772/1000 [05:28<01:37,  2.35it/s, loss=0.351]\u001b[A\n",
            "Training:  77%|███████▋  | 772/1000 [05:28<01:37,  2.35it/s, loss=0.349]\u001b[A\n",
            "Training:  77%|███████▋  | 773/1000 [05:28<01:36,  2.35it/s, loss=0.349]\u001b[A\n",
            "Training:  77%|███████▋  | 773/1000 [05:28<01:36,  2.35it/s, loss=0.447]\u001b[A\n",
            "Training:  77%|███████▋  | 774/1000 [05:29<01:36,  2.35it/s, loss=0.447]\u001b[A\n",
            "Training:  77%|███████▋  | 774/1000 [05:29<01:36,  2.35it/s, loss=0.423]\u001b[A\n",
            "Training:  78%|███████▊  | 775/1000 [05:29<01:35,  2.35it/s, loss=0.423]\u001b[A\n",
            "Training:  78%|███████▊  | 775/1000 [05:29<01:35,  2.35it/s, loss=0.301]\u001b[A\n",
            "Training:  78%|███████▊  | 776/1000 [05:30<01:35,  2.35it/s, loss=0.301]\u001b[A\n",
            "Training:  78%|███████▊  | 776/1000 [05:30<01:35,  2.35it/s, loss=0.437]\u001b[A\n",
            "Training:  78%|███████▊  | 777/1000 [05:30<01:34,  2.35it/s, loss=0.437]\u001b[A\n",
            "Training:  78%|███████▊  | 777/1000 [05:30<01:34,  2.35it/s, loss=0.391]\u001b[A\n",
            "Training:  78%|███████▊  | 778/1000 [05:31<01:34,  2.35it/s, loss=0.391]\u001b[A\n",
            "Training:  78%|███████▊  | 778/1000 [05:31<01:34,  2.35it/s, loss=0.386]\u001b[A\n",
            "Training:  78%|███████▊  | 779/1000 [05:31<01:33,  2.35it/s, loss=0.386]\u001b[A\n",
            "Training:  78%|███████▊  | 779/1000 [05:31<01:33,  2.35it/s, loss=0.477]\u001b[A\n",
            "Training:  78%|███████▊  | 780/1000 [05:31<01:33,  2.35it/s, loss=0.477]\u001b[A\n",
            "Training:  78%|███████▊  | 780/1000 [05:31<01:33,  2.35it/s, loss=0.444]\u001b[A\n",
            "Training:  78%|███████▊  | 781/1000 [05:32<01:33,  2.35it/s, loss=0.444]\u001b[A\n",
            "Training:  78%|███████▊  | 781/1000 [05:32<01:33,  2.35it/s, loss=0.387]\u001b[A\n",
            "Training:  78%|███████▊  | 782/1000 [05:32<01:32,  2.35it/s, loss=0.387]\u001b[A\n",
            "Training:  78%|███████▊  | 782/1000 [05:32<01:32,  2.35it/s, loss=0.37] \u001b[A\n",
            "Training:  78%|███████▊  | 783/1000 [05:33<01:32,  2.35it/s, loss=0.37]\u001b[A\n",
            "Training:  78%|███████▊  | 783/1000 [05:33<01:32,  2.35it/s, loss=0.391]\u001b[A\n",
            "Training:  78%|███████▊  | 784/1000 [05:33<01:31,  2.35it/s, loss=0.391]\u001b[A\n",
            "Training:  78%|███████▊  | 784/1000 [05:33<01:31,  2.35it/s, loss=0.3]  \u001b[A\n",
            "Training:  78%|███████▊  | 785/1000 [05:34<01:31,  2.35it/s, loss=0.3]\u001b[A\n",
            "Training:  78%|███████▊  | 785/1000 [05:34<01:31,  2.35it/s, loss=0.368]\u001b[A\n",
            "Training:  79%|███████▊  | 786/1000 [05:34<01:31,  2.35it/s, loss=0.368]\u001b[A\n",
            "Training:  79%|███████▊  | 786/1000 [05:34<01:31,  2.35it/s, loss=0.303]\u001b[A\n",
            "Training:  79%|███████▊  | 787/1000 [05:34<01:30,  2.35it/s, loss=0.303]\u001b[A\n",
            "Training:  79%|███████▊  | 787/1000 [05:34<01:30,  2.35it/s, loss=0.339]\u001b[A\n",
            "Training:  79%|███████▉  | 788/1000 [05:35<01:30,  2.35it/s, loss=0.339]\u001b[A\n",
            "Training:  79%|███████▉  | 788/1000 [05:35<01:30,  2.35it/s, loss=0.403]\u001b[A\n",
            "Training:  79%|███████▉  | 789/1000 [05:35<01:29,  2.35it/s, loss=0.403]\u001b[A\n",
            "Training:  79%|███████▉  | 789/1000 [05:35<01:29,  2.35it/s, loss=0.36] \u001b[A\n",
            "Training:  79%|███████▉  | 790/1000 [05:36<01:29,  2.35it/s, loss=0.36]\u001b[A\n",
            "Training:  79%|███████▉  | 790/1000 [05:36<01:29,  2.35it/s, loss=0.449]\u001b[A\n",
            "Training:  79%|███████▉  | 791/1000 [05:36<01:29,  2.35it/s, loss=0.449]\u001b[A\n",
            "Training:  79%|███████▉  | 791/1000 [05:36<01:29,  2.35it/s, loss=0.401]\u001b[A\n",
            "Training:  79%|███████▉  | 792/1000 [05:37<01:28,  2.35it/s, loss=0.401]\u001b[A\n",
            "Training:  79%|███████▉  | 792/1000 [05:37<01:28,  2.35it/s, loss=0.387]\u001b[A\n",
            "Training:  79%|███████▉  | 793/1000 [05:37<01:28,  2.35it/s, loss=0.387]\u001b[A\n",
            "Training:  79%|███████▉  | 793/1000 [05:37<01:28,  2.35it/s, loss=0.377]\u001b[A\n",
            "Training:  79%|███████▉  | 794/1000 [05:37<01:27,  2.35it/s, loss=0.377]\u001b[A\n",
            "Training:  79%|███████▉  | 794/1000 [05:37<01:27,  2.35it/s, loss=0.477]\u001b[A\n",
            "Training:  80%|███████▉  | 795/1000 [05:38<01:27,  2.35it/s, loss=0.477]\u001b[A\n",
            "Training:  80%|███████▉  | 795/1000 [05:38<01:27,  2.35it/s, loss=0.403]\u001b[A\n",
            "Training:  80%|███████▉  | 796/1000 [05:38<01:26,  2.35it/s, loss=0.403]\u001b[A\n",
            "Training:  80%|███████▉  | 796/1000 [05:38<01:26,  2.35it/s, loss=0.358]\u001b[A\n",
            "Training:  80%|███████▉  | 797/1000 [05:39<01:26,  2.35it/s, loss=0.358]\u001b[A\n",
            "Training:  80%|███████▉  | 797/1000 [05:39<01:26,  2.35it/s, loss=0.356]\u001b[A\n",
            "Training:  80%|███████▉  | 798/1000 [05:39<01:25,  2.35it/s, loss=0.356]\u001b[A\n",
            "Training:  80%|███████▉  | 798/1000 [05:39<01:25,  2.35it/s, loss=0.305]\u001b[A\n",
            "Training:  80%|███████▉  | 799/1000 [05:40<01:25,  2.35it/s, loss=0.305]\u001b[A\n",
            "Training:  80%|███████▉  | 799/1000 [05:40<01:25,  2.35it/s, loss=0.384]\u001b[A\n",
            "Training:  80%|████████  | 800/1000 [05:40<01:25,  2.35it/s, loss=0.384]\u001b[A\n",
            "\n",
            "Training:  76%|███████▌  | 2278/3000 [21:44<05:03,  2.38it/s, loss=0.32]\n",
            "Training:  80%|████████  | 800/1000 [05:40<01:25,  2.35it/s, loss=0.433]\u001b[A"
          ]
        },
        {
          "output_type": "stream",
          "name": "stdout",
          "text": [
            "Step 800: loss = 0.4328\n"
          ]
        },
        {
          "output_type": "stream",
          "name": "stderr",
          "text": [
            "\n",
            "Training:  80%|████████  | 801/1000 [05:40<01:25,  2.34it/s, loss=0.433]\u001b[A\n",
            "Training:  80%|████████  | 801/1000 [05:40<01:25,  2.34it/s, loss=0.328]\u001b[A\n",
            "Training:  80%|████████  | 802/1000 [05:41<01:24,  2.34it/s, loss=0.328]\u001b[A\n",
            "Training:  80%|████████  | 802/1000 [05:41<01:24,  2.34it/s, loss=0.349]\u001b[A\n",
            "Training:  80%|████████  | 803/1000 [05:41<01:24,  2.34it/s, loss=0.349]\u001b[A\n",
            "Training:  80%|████████  | 803/1000 [05:41<01:24,  2.34it/s, loss=0.395]\u001b[A\n",
            "Training:  80%|████████  | 804/1000 [05:42<01:23,  2.35it/s, loss=0.395]\u001b[A\n",
            "Training:  80%|████████  | 804/1000 [05:42<01:23,  2.35it/s, loss=0.388]\u001b[A\n",
            "Training:  80%|████████  | 805/1000 [05:42<01:23,  2.35it/s, loss=0.388]\u001b[A\n",
            "Training:  80%|████████  | 805/1000 [05:42<01:23,  2.35it/s, loss=0.39] \u001b[A\n",
            "Training:  81%|████████  | 806/1000 [05:42<01:22,  2.35it/s, loss=0.39]\u001b[A\n",
            "Training:  81%|████████  | 806/1000 [05:42<01:22,  2.35it/s, loss=0.327]\u001b[A\n",
            "Training:  81%|████████  | 807/1000 [05:43<01:22,  2.35it/s, loss=0.327]\u001b[A\n",
            "Training:  81%|████████  | 807/1000 [05:43<01:22,  2.35it/s, loss=0.306]\u001b[A\n",
            "Training:  81%|████████  | 808/1000 [05:43<01:21,  2.35it/s, loss=0.306]\u001b[A\n",
            "Training:  81%|████████  | 808/1000 [05:43<01:21,  2.35it/s, loss=0.313]\u001b[A\n",
            "Training:  81%|████████  | 809/1000 [05:44<01:21,  2.35it/s, loss=0.313]\u001b[A\n",
            "Training:  81%|████████  | 809/1000 [05:44<01:21,  2.35it/s, loss=0.388]\u001b[A\n",
            "Training:  81%|████████  | 810/1000 [05:44<01:20,  2.35it/s, loss=0.388]\u001b[A\n",
            "Training:  81%|████████  | 810/1000 [05:44<01:20,  2.35it/s, loss=0.398]\u001b[A\n",
            "Training:  81%|████████  | 811/1000 [05:45<01:20,  2.35it/s, loss=0.398]\u001b[A\n",
            "Training:  81%|████████  | 811/1000 [05:45<01:20,  2.35it/s, loss=0.328]\u001b[A\n",
            "Training:  81%|████████  | 812/1000 [05:45<01:19,  2.35it/s, loss=0.328]\u001b[A\n",
            "Training:  81%|████████  | 812/1000 [05:45<01:19,  2.35it/s, loss=0.343]\u001b[A\n",
            "Training:  81%|████████▏ | 813/1000 [05:45<01:19,  2.35it/s, loss=0.343]\u001b[A\n",
            "Training:  81%|████████▏ | 813/1000 [05:45<01:19,  2.35it/s, loss=0.436]\u001b[A\n",
            "Training:  81%|████████▏ | 814/1000 [05:46<01:19,  2.35it/s, loss=0.436]\u001b[A\n",
            "Training:  81%|████████▏ | 814/1000 [05:46<01:19,  2.35it/s, loss=0.423]\u001b[A\n",
            "Training:  82%|████████▏ | 815/1000 [05:46<01:18,  2.35it/s, loss=0.423]\u001b[A\n",
            "Training:  82%|████████▏ | 815/1000 [05:46<01:18,  2.35it/s, loss=0.444]\u001b[A\n",
            "Training:  82%|████████▏ | 816/1000 [05:47<01:18,  2.35it/s, loss=0.444]\u001b[A\n",
            "Training:  82%|████████▏ | 816/1000 [05:47<01:18,  2.35it/s, loss=0.454]\u001b[A\n",
            "Training:  82%|████████▏ | 817/1000 [05:47<01:17,  2.35it/s, loss=0.454]\u001b[A\n",
            "Training:  82%|████████▏ | 817/1000 [05:47<01:17,  2.35it/s, loss=0.354]\u001b[A\n",
            "Training:  82%|████████▏ | 818/1000 [05:48<01:17,  2.35it/s, loss=0.354]\u001b[A\n",
            "Training:  82%|████████▏ | 818/1000 [05:48<01:17,  2.35it/s, loss=0.355]\u001b[A\n",
            "Training:  82%|████████▏ | 819/1000 [05:48<01:17,  2.35it/s, loss=0.355]\u001b[A\n",
            "Training:  82%|████████▏ | 819/1000 [05:48<01:17,  2.35it/s, loss=0.345]\u001b[A\n",
            "Training:  82%|████████▏ | 820/1000 [05:48<01:16,  2.35it/s, loss=0.345]\u001b[A\n",
            "Training:  82%|████████▏ | 820/1000 [05:48<01:16,  2.35it/s, loss=0.303]\u001b[A\n",
            "Training:  82%|████████▏ | 821/1000 [05:49<01:16,  2.35it/s, loss=0.303]\u001b[A\n",
            "Training:  82%|████████▏ | 821/1000 [05:49<01:16,  2.35it/s, loss=0.344]\u001b[A\n",
            "Training:  82%|████████▏ | 822/1000 [05:49<01:15,  2.35it/s, loss=0.344]\u001b[A\n",
            "Training:  82%|████████▏ | 822/1000 [05:49<01:15,  2.35it/s, loss=0.402]\u001b[A\n",
            "Training:  82%|████████▏ | 823/1000 [05:50<01:15,  2.35it/s, loss=0.402]\u001b[A\n",
            "Training:  82%|████████▏ | 823/1000 [05:50<01:15,  2.35it/s, loss=0.347]\u001b[A\n",
            "Training:  82%|████████▏ | 824/1000 [05:50<01:14,  2.35it/s, loss=0.347]\u001b[A\n",
            "Training:  82%|████████▏ | 824/1000 [05:50<01:14,  2.35it/s, loss=0.321]\u001b[A\n",
            "Training:  82%|████████▎ | 825/1000 [05:51<01:14,  2.35it/s, loss=0.321]\u001b[A\n",
            "Training:  82%|████████▎ | 825/1000 [05:51<01:14,  2.35it/s, loss=0.4]  \u001b[A\n",
            "Training:  83%|████████▎ | 826/1000 [05:51<01:14,  2.35it/s, loss=0.4]\u001b[A\n",
            "Training:  83%|████████▎ | 826/1000 [05:51<01:14,  2.35it/s, loss=0.481]\u001b[A\n",
            "Training:  83%|████████▎ | 827/1000 [05:51<01:13,  2.35it/s, loss=0.481]\u001b[A\n",
            "Training:  83%|████████▎ | 827/1000 [05:51<01:13,  2.35it/s, loss=0.3]  \u001b[A\n",
            "Training:  83%|████████▎ | 828/1000 [05:52<01:13,  2.35it/s, loss=0.3]\u001b[A\n",
            "Training:  83%|████████▎ | 828/1000 [05:52<01:13,  2.35it/s, loss=0.404]\u001b[A\n",
            "Training:  83%|████████▎ | 829/1000 [05:52<01:12,  2.35it/s, loss=0.404]\u001b[A\n",
            "Training:  83%|████████▎ | 829/1000 [05:52<01:12,  2.35it/s, loss=0.415]\u001b[A\n",
            "Training:  83%|████████▎ | 830/1000 [05:53<01:12,  2.35it/s, loss=0.415]\u001b[A\n",
            "Training:  83%|████████▎ | 830/1000 [05:53<01:12,  2.35it/s, loss=0.319]\u001b[A\n",
            "Training:  83%|████████▎ | 831/1000 [05:53<01:11,  2.35it/s, loss=0.319]\u001b[A\n",
            "Training:  83%|████████▎ | 831/1000 [05:53<01:11,  2.35it/s, loss=0.414]\u001b[A\n",
            "Training:  83%|████████▎ | 832/1000 [05:54<01:11,  2.35it/s, loss=0.414]\u001b[A\n",
            "Training:  83%|████████▎ | 832/1000 [05:54<01:11,  2.35it/s, loss=0.321]\u001b[A\n",
            "Training:  83%|████████▎ | 833/1000 [05:54<01:11,  2.35it/s, loss=0.321]\u001b[A\n",
            "Training:  83%|████████▎ | 833/1000 [05:54<01:11,  2.35it/s, loss=0.367]\u001b[A\n",
            "Training:  83%|████████▎ | 834/1000 [05:54<01:10,  2.35it/s, loss=0.367]\u001b[A\n",
            "Training:  83%|████████▎ | 834/1000 [05:54<01:10,  2.35it/s, loss=0.374]\u001b[A\n",
            "Training:  84%|████████▎ | 835/1000 [05:55<01:10,  2.35it/s, loss=0.374]\u001b[A\n",
            "Training:  84%|████████▎ | 835/1000 [05:55<01:10,  2.35it/s, loss=0.371]\u001b[A\n",
            "Training:  84%|████████▎ | 836/1000 [05:55<01:09,  2.35it/s, loss=0.371]\u001b[A\n",
            "Training:  84%|████████▎ | 836/1000 [05:55<01:09,  2.35it/s, loss=0.335]\u001b[A\n",
            "Training:  84%|████████▎ | 837/1000 [05:56<01:09,  2.35it/s, loss=0.335]\u001b[A\n",
            "Training:  84%|████████▎ | 837/1000 [05:56<01:09,  2.35it/s, loss=0.33] \u001b[A\n",
            "Training:  84%|████████▍ | 838/1000 [05:56<01:08,  2.35it/s, loss=0.33]\u001b[A\n",
            "Training:  84%|████████▍ | 838/1000 [05:56<01:08,  2.35it/s, loss=0.411]\u001b[A\n",
            "Training:  84%|████████▍ | 839/1000 [05:57<01:08,  2.35it/s, loss=0.411]\u001b[A\n",
            "Training:  84%|████████▍ | 839/1000 [05:57<01:08,  2.35it/s, loss=0.323]\u001b[A\n",
            "Training:  84%|████████▍ | 840/1000 [05:57<01:08,  2.35it/s, loss=0.323]\u001b[A\n",
            "Training:  84%|████████▍ | 840/1000 [05:57<01:08,  2.35it/s, loss=0.426]\u001b[A\n",
            "Training:  84%|████████▍ | 841/1000 [05:57<01:07,  2.35it/s, loss=0.426]\u001b[A\n",
            "Training:  84%|████████▍ | 841/1000 [05:57<01:07,  2.35it/s, loss=0.303]\u001b[A\n",
            "Training:  84%|████████▍ | 842/1000 [05:58<01:07,  2.35it/s, loss=0.303]\u001b[A\n",
            "Training:  84%|████████▍ | 842/1000 [05:58<01:07,  2.35it/s, loss=0.292]\u001b[A\n",
            "Training:  84%|████████▍ | 843/1000 [05:58<01:06,  2.35it/s, loss=0.292]\u001b[A\n",
            "Training:  84%|████████▍ | 843/1000 [05:58<01:06,  2.35it/s, loss=0.406]\u001b[A\n",
            "Training:  84%|████████▍ | 844/1000 [05:59<01:06,  2.35it/s, loss=0.406]\u001b[A\n",
            "Training:  84%|████████▍ | 844/1000 [05:59<01:06,  2.35it/s, loss=0.321]\u001b[A\n",
            "Training:  84%|████████▍ | 845/1000 [05:59<01:05,  2.35it/s, loss=0.321]\u001b[A\n",
            "Training:  84%|████████▍ | 845/1000 [05:59<01:05,  2.35it/s, loss=0.323]\u001b[A\n",
            "Training:  85%|████████▍ | 846/1000 [06:00<01:05,  2.35it/s, loss=0.323]\u001b[A\n",
            "Training:  85%|████████▍ | 846/1000 [06:00<01:05,  2.35it/s, loss=0.37] \u001b[A\n",
            "Training:  85%|████████▍ | 847/1000 [06:00<01:05,  2.35it/s, loss=0.37]\u001b[A\n",
            "Training:  85%|████████▍ | 847/1000 [06:00<01:05,  2.35it/s, loss=0.391]\u001b[A\n",
            "Training:  85%|████████▍ | 848/1000 [06:00<01:04,  2.35it/s, loss=0.391]\u001b[A\n",
            "Training:  85%|████████▍ | 848/1000 [06:00<01:04,  2.35it/s, loss=0.353]\u001b[A\n",
            "Training:  85%|████████▍ | 849/1000 [06:01<01:04,  2.35it/s, loss=0.353]\u001b[A\n",
            "Training:  85%|████████▍ | 849/1000 [06:01<01:04,  2.35it/s, loss=0.411]\u001b[A\n",
            "Training:  85%|████████▌ | 850/1000 [06:01<01:03,  2.35it/s, loss=0.411]\u001b[A\n",
            "\n",
            "Training:  76%|███████▌  | 2278/3000 [22:06<05:03,  2.38it/s, loss=0.32]\n",
            "Training:  85%|████████▌ | 850/1000 [06:01<01:03,  2.35it/s, loss=0.249]\u001b[A"
          ]
        },
        {
          "output_type": "stream",
          "name": "stdout",
          "text": [
            "Step 850: loss = 0.2488\n"
          ]
        },
        {
          "output_type": "stream",
          "name": "stderr",
          "text": [
            "\n",
            "Training:  85%|████████▌ | 851/1000 [06:02<01:03,  2.34it/s, loss=0.249]\u001b[A\n",
            "Training:  85%|████████▌ | 851/1000 [06:02<01:03,  2.34it/s, loss=0.349]\u001b[A\n",
            "Training:  85%|████████▌ | 852/1000 [06:02<01:03,  2.34it/s, loss=0.349]\u001b[A\n",
            "Training:  85%|████████▌ | 852/1000 [06:02<01:03,  2.34it/s, loss=0.313]\u001b[A\n",
            "Training:  85%|████████▌ | 853/1000 [06:03<01:02,  2.34it/s, loss=0.313]\u001b[A\n",
            "Training:  85%|████████▌ | 853/1000 [06:03<01:02,  2.34it/s, loss=0.339]\u001b[A\n",
            "Training:  85%|████████▌ | 854/1000 [06:03<01:02,  2.34it/s, loss=0.339]\u001b[A\n",
            "Training:  85%|████████▌ | 854/1000 [06:03<01:02,  2.34it/s, loss=0.425]\u001b[A\n",
            "Training:  86%|████████▌ | 855/1000 [06:03<01:01,  2.34it/s, loss=0.425]\u001b[A\n",
            "Training:  86%|████████▌ | 855/1000 [06:03<01:01,  2.34it/s, loss=0.381]\u001b[A\n",
            "Training:  86%|████████▌ | 856/1000 [06:04<01:01,  2.35it/s, loss=0.381]\u001b[A\n",
            "Training:  86%|████████▌ | 856/1000 [06:04<01:01,  2.35it/s, loss=0.437]\u001b[A\n",
            "Training:  86%|████████▌ | 857/1000 [06:04<01:00,  2.35it/s, loss=0.437]\u001b[A\n",
            "Training:  86%|████████▌ | 857/1000 [06:04<01:00,  2.35it/s, loss=0.302]\u001b[A\n",
            "Training:  86%|████████▌ | 858/1000 [06:05<01:00,  2.35it/s, loss=0.302]\u001b[A\n",
            "Training:  86%|████████▌ | 858/1000 [06:05<01:00,  2.35it/s, loss=0.398]\u001b[A\n",
            "Training:  86%|████████▌ | 859/1000 [06:05<01:00,  2.35it/s, loss=0.398]\u001b[A\n",
            "Training:  86%|████████▌ | 859/1000 [06:05<01:00,  2.35it/s, loss=0.387]\u001b[A\n",
            "Training:  86%|████████▌ | 860/1000 [06:05<00:59,  2.35it/s, loss=0.387]\u001b[A\n",
            "Training:  86%|████████▌ | 860/1000 [06:05<00:59,  2.35it/s, loss=0.357]\u001b[A\n",
            "Training:  86%|████████▌ | 861/1000 [06:06<00:59,  2.35it/s, loss=0.357]\u001b[A\n",
            "Training:  86%|████████▌ | 861/1000 [06:06<00:59,  2.35it/s, loss=0.371]\u001b[A\n",
            "Training:  86%|████████▌ | 862/1000 [06:06<00:58,  2.35it/s, loss=0.371]\u001b[A\n",
            "Training:  86%|████████▌ | 862/1000 [06:06<00:58,  2.35it/s, loss=0.315]\u001b[A\n",
            "Training:  86%|████████▋ | 863/1000 [06:07<00:58,  2.35it/s, loss=0.315]\u001b[A\n",
            "Training:  86%|████████▋ | 863/1000 [06:07<00:58,  2.35it/s, loss=0.261]\u001b[A\n",
            "Training:  86%|████████▋ | 864/1000 [06:07<00:57,  2.35it/s, loss=0.261]\u001b[A\n",
            "Training:  86%|████████▋ | 864/1000 [06:07<00:57,  2.35it/s, loss=0.312]\u001b[A\n",
            "Training:  86%|████████▋ | 865/1000 [06:08<00:57,  2.35it/s, loss=0.312]\u001b[A\n",
            "Training:  86%|████████▋ | 865/1000 [06:08<00:57,  2.35it/s, loss=0.373]\u001b[A\n",
            "Training:  87%|████████▋ | 866/1000 [06:08<00:56,  2.35it/s, loss=0.373]\u001b[A\n",
            "Training:  87%|████████▋ | 866/1000 [06:08<00:56,  2.35it/s, loss=0.382]\u001b[A\n",
            "Training:  87%|████████▋ | 867/1000 [06:08<00:56,  2.35it/s, loss=0.382]\u001b[A\n",
            "Training:  87%|████████▋ | 867/1000 [06:08<00:56,  2.35it/s, loss=0.356]\u001b[A\n",
            "Training:  87%|████████▋ | 868/1000 [06:09<00:56,  2.35it/s, loss=0.356]\u001b[A\n",
            "Training:  87%|████████▋ | 868/1000 [06:09<00:56,  2.35it/s, loss=0.341]\u001b[A\n",
            "Training:  87%|████████▋ | 869/1000 [06:09<00:55,  2.35it/s, loss=0.341]\u001b[A\n",
            "Training:  87%|████████▋ | 869/1000 [06:09<00:55,  2.35it/s, loss=0.486]\u001b[A\n",
            "Training:  87%|████████▋ | 870/1000 [06:10<00:55,  2.35it/s, loss=0.486]\u001b[A\n",
            "Training:  87%|████████▋ | 870/1000 [06:10<00:55,  2.35it/s, loss=0.332]\u001b[A\n",
            "Training:  87%|████████▋ | 871/1000 [06:10<00:54,  2.35it/s, loss=0.332]\u001b[A\n",
            "Training:  87%|████████▋ | 871/1000 [06:10<00:54,  2.35it/s, loss=0.454]\u001b[A\n",
            "Training:  87%|████████▋ | 872/1000 [06:11<00:54,  2.35it/s, loss=0.454]\u001b[A\n",
            "Training:  87%|████████▋ | 872/1000 [06:11<00:54,  2.35it/s, loss=0.392]\u001b[A\n",
            "Training:  87%|████████▋ | 873/1000 [06:11<00:53,  2.36it/s, loss=0.392]\u001b[A\n",
            "Training:  87%|████████▋ | 873/1000 [06:11<00:53,  2.36it/s, loss=0.356]\u001b[A\n",
            "Training:  87%|████████▋ | 874/1000 [06:11<00:53,  2.35it/s, loss=0.356]\u001b[A\n",
            "Training:  87%|████████▋ | 874/1000 [06:11<00:53,  2.35it/s, loss=0.37] \u001b[A\n",
            "Training:  88%|████████▊ | 875/1000 [06:12<00:53,  2.35it/s, loss=0.37]\u001b[A\n",
            "Training:  88%|████████▊ | 875/1000 [06:12<00:53,  2.35it/s, loss=0.39]\u001b[A\n",
            "Training:  88%|████████▊ | 876/1000 [06:12<00:52,  2.35it/s, loss=0.39]\u001b[A\n",
            "Training:  88%|████████▊ | 876/1000 [06:12<00:52,  2.35it/s, loss=0.349]\u001b[A\n",
            "Training:  88%|████████▊ | 877/1000 [06:13<00:52,  2.35it/s, loss=0.349]\u001b[A\n",
            "Training:  88%|████████▊ | 877/1000 [06:13<00:52,  2.35it/s, loss=0.341]\u001b[A\n",
            "Training:  88%|████████▊ | 878/1000 [06:13<00:51,  2.35it/s, loss=0.341]\u001b[A\n",
            "Training:  88%|████████▊ | 878/1000 [06:13<00:51,  2.35it/s, loss=0.436]\u001b[A\n",
            "Training:  88%|████████▊ | 879/1000 [06:14<00:51,  2.35it/s, loss=0.436]\u001b[A\n",
            "Training:  88%|████████▊ | 879/1000 [06:14<00:51,  2.35it/s, loss=0.434]\u001b[A\n",
            "Training:  88%|████████▊ | 880/1000 [06:14<00:51,  2.35it/s, loss=0.434]\u001b[A\n",
            "Training:  88%|████████▊ | 880/1000 [06:14<00:51,  2.35it/s, loss=0.357]\u001b[A\n",
            "Training:  88%|████████▊ | 881/1000 [06:14<00:50,  2.35it/s, loss=0.357]\u001b[A\n",
            "Training:  88%|████████▊ | 881/1000 [06:14<00:50,  2.35it/s, loss=0.351]\u001b[A\n",
            "Training:  88%|████████▊ | 882/1000 [06:15<00:50,  2.35it/s, loss=0.351]\u001b[A\n",
            "Training:  88%|████████▊ | 882/1000 [06:15<00:50,  2.35it/s, loss=0.342]\u001b[A\n",
            "Training:  88%|████████▊ | 883/1000 [06:15<00:49,  2.35it/s, loss=0.342]\u001b[A\n",
            "Training:  88%|████████▊ | 883/1000 [06:15<00:49,  2.35it/s, loss=0.321]\u001b[A\n",
            "Training:  88%|████████▊ | 884/1000 [06:16<00:49,  2.35it/s, loss=0.321]\u001b[A\n",
            "Training:  88%|████████▊ | 884/1000 [06:16<00:49,  2.35it/s, loss=0.339]\u001b[A\n",
            "Training:  88%|████████▊ | 885/1000 [06:16<00:48,  2.35it/s, loss=0.339]\u001b[A\n",
            "Training:  88%|████████▊ | 885/1000 [06:16<00:48,  2.35it/s, loss=0.33] \u001b[A\n",
            "Training:  89%|████████▊ | 886/1000 [06:17<00:48,  2.35it/s, loss=0.33]\u001b[A\n",
            "Training:  89%|████████▊ | 886/1000 [06:17<00:48,  2.35it/s, loss=0.315]\u001b[A\n",
            "Training:  89%|████████▊ | 887/1000 [06:17<00:48,  2.35it/s, loss=0.315]\u001b[A\n",
            "Training:  89%|████████▊ | 887/1000 [06:17<00:48,  2.35it/s, loss=0.447]\u001b[A\n",
            "Training:  89%|████████▉ | 888/1000 [06:17<00:47,  2.35it/s, loss=0.447]\u001b[A\n",
            "Training:  89%|████████▉ | 888/1000 [06:17<00:47,  2.35it/s, loss=0.319]\u001b[A\n",
            "Training:  89%|████████▉ | 889/1000 [06:18<00:47,  2.35it/s, loss=0.319]\u001b[A\n",
            "Training:  89%|████████▉ | 889/1000 [06:18<00:47,  2.35it/s, loss=0.388]\u001b[A\n",
            "Training:  89%|████████▉ | 890/1000 [06:18<00:46,  2.35it/s, loss=0.388]\u001b[A\n",
            "Training:  89%|████████▉ | 890/1000 [06:18<00:46,  2.35it/s, loss=0.416]\u001b[A\n",
            "Training:  89%|████████▉ | 891/1000 [06:19<00:46,  2.35it/s, loss=0.416]\u001b[A\n",
            "Training:  89%|████████▉ | 891/1000 [06:19<00:46,  2.35it/s, loss=0.351]\u001b[A\n",
            "Training:  89%|████████▉ | 892/1000 [06:19<00:45,  2.35it/s, loss=0.351]\u001b[A\n",
            "Training:  89%|████████▉ | 892/1000 [06:19<00:45,  2.35it/s, loss=0.399]\u001b[A\n",
            "Training:  89%|████████▉ | 893/1000 [06:20<00:45,  2.35it/s, loss=0.399]\u001b[A\n",
            "Training:  89%|████████▉ | 893/1000 [06:20<00:45,  2.35it/s, loss=0.245]\u001b[A\n",
            "Training:  89%|████████▉ | 894/1000 [06:20<00:45,  2.35it/s, loss=0.245]\u001b[A\n",
            "Training:  89%|████████▉ | 894/1000 [06:20<00:45,  2.35it/s, loss=0.349]\u001b[A\n",
            "Training:  90%|████████▉ | 895/1000 [06:20<00:44,  2.35it/s, loss=0.349]\u001b[A\n",
            "Training:  90%|████████▉ | 895/1000 [06:20<00:44,  2.35it/s, loss=0.476]\u001b[A\n",
            "Training:  90%|████████▉ | 896/1000 [06:21<00:44,  2.35it/s, loss=0.476]\u001b[A\n",
            "Training:  90%|████████▉ | 896/1000 [06:21<00:44,  2.35it/s, loss=0.336]\u001b[A\n",
            "Training:  90%|████████▉ | 897/1000 [06:21<00:43,  2.35it/s, loss=0.336]\u001b[A\n",
            "Training:  90%|████████▉ | 897/1000 [06:21<00:43,  2.35it/s, loss=0.458]\u001b[A\n",
            "Training:  90%|████████▉ | 898/1000 [06:22<00:43,  2.35it/s, loss=0.458]\u001b[A\n",
            "Training:  90%|████████▉ | 898/1000 [06:22<00:43,  2.35it/s, loss=0.364]\u001b[A\n",
            "Training:  90%|████████▉ | 899/1000 [06:22<00:42,  2.35it/s, loss=0.364]\u001b[A\n",
            "Training:  90%|████████▉ | 899/1000 [06:22<00:42,  2.35it/s, loss=0.372]\u001b[A\n",
            "Training:  90%|█████████ | 900/1000 [06:22<00:42,  2.35it/s, loss=0.372]\u001b[A\n",
            "\n",
            "Training:  76%|███████▌  | 2278/3000 [22:27<05:03,  2.38it/s, loss=0.32]\n",
            "Training:  90%|█████████ | 900/1000 [06:22<00:42,  2.35it/s, loss=0.363]\u001b[A"
          ]
        },
        {
          "output_type": "stream",
          "name": "stdout",
          "text": [
            "Step 900: loss = 0.3626\n"
          ]
        },
        {
          "output_type": "stream",
          "name": "stderr",
          "text": [
            "\n",
            "Training:  90%|█████████ | 901/1000 [06:23<00:42,  2.34it/s, loss=0.363]\u001b[A\n",
            "Training:  90%|█████████ | 901/1000 [06:23<00:42,  2.34it/s, loss=0.352]\u001b[A\n",
            "Training:  90%|█████████ | 902/1000 [06:23<00:41,  2.34it/s, loss=0.352]\u001b[A\n",
            "Training:  90%|█████████ | 902/1000 [06:23<00:41,  2.34it/s, loss=0.305]\u001b[A\n",
            "Training:  90%|█████████ | 903/1000 [06:24<00:41,  2.35it/s, loss=0.305]\u001b[A\n",
            "Training:  90%|█████████ | 903/1000 [06:24<00:41,  2.35it/s, loss=0.313]\u001b[A\n",
            "Training:  90%|█████████ | 904/1000 [06:24<00:40,  2.35it/s, loss=0.313]\u001b[A\n",
            "Training:  90%|█████████ | 904/1000 [06:24<00:40,  2.35it/s, loss=0.357]\u001b[A\n",
            "Training:  90%|█████████ | 905/1000 [06:25<00:40,  2.35it/s, loss=0.357]\u001b[A\n",
            "Training:  90%|█████████ | 905/1000 [06:25<00:40,  2.35it/s, loss=0.342]\u001b[A\n",
            "Training:  91%|█████████ | 906/1000 [06:25<00:39,  2.35it/s, loss=0.342]\u001b[A\n",
            "Training:  91%|█████████ | 906/1000 [06:25<00:39,  2.35it/s, loss=0.34] \u001b[A\n",
            "Training:  91%|█████████ | 907/1000 [06:25<00:39,  2.35it/s, loss=0.34]\u001b[A\n",
            "Training:  91%|█████████ | 907/1000 [06:25<00:39,  2.35it/s, loss=0.411]\u001b[A\n",
            "Training:  91%|█████████ | 908/1000 [06:26<00:39,  2.35it/s, loss=0.411]\u001b[A\n",
            "Training:  91%|█████████ | 908/1000 [06:26<00:39,  2.35it/s, loss=0.404]\u001b[A\n",
            "Training:  91%|█████████ | 909/1000 [06:26<00:38,  2.35it/s, loss=0.404]\u001b[A\n",
            "Training:  91%|█████████ | 909/1000 [06:26<00:38,  2.35it/s, loss=0.392]\u001b[A\n",
            "Training:  91%|█████████ | 910/1000 [06:27<00:38,  2.35it/s, loss=0.392]\u001b[A\n",
            "Training:  91%|█████████ | 910/1000 [06:27<00:38,  2.35it/s, loss=0.346]\u001b[A\n",
            "Training:  91%|█████████ | 911/1000 [06:27<00:37,  2.35it/s, loss=0.346]\u001b[A\n",
            "Training:  91%|█████████ | 911/1000 [06:27<00:37,  2.35it/s, loss=0.44] \u001b[A\n",
            "Training:  91%|█████████ | 912/1000 [06:28<00:37,  2.35it/s, loss=0.44]\u001b[A\n",
            "Training:  91%|█████████ | 912/1000 [06:28<00:37,  2.35it/s, loss=0.371]\u001b[A\n",
            "Training:  91%|█████████▏| 913/1000 [06:28<00:37,  2.35it/s, loss=0.371]\u001b[A\n",
            "Training:  91%|█████████▏| 913/1000 [06:28<00:37,  2.35it/s, loss=0.39] \u001b[A\n",
            "Training:  91%|█████████▏| 914/1000 [06:28<00:36,  2.35it/s, loss=0.39]\u001b[A\n",
            "Training:  91%|█████████▏| 914/1000 [06:28<00:36,  2.35it/s, loss=0.313]\u001b[A\n",
            "Training:  92%|█████████▏| 915/1000 [06:29<00:36,  2.35it/s, loss=0.313]\u001b[A\n",
            "Training:  92%|█████████▏| 915/1000 [06:29<00:36,  2.35it/s, loss=0.311]\u001b[A\n",
            "Training:  92%|█████████▏| 916/1000 [06:29<00:35,  2.35it/s, loss=0.311]\u001b[A\n",
            "Training:  92%|█████████▏| 916/1000 [06:29<00:35,  2.35it/s, loss=0.289]\u001b[A\n",
            "Training:  92%|█████████▏| 917/1000 [06:30<00:35,  2.35it/s, loss=0.289]\u001b[A\n",
            "Training:  92%|█████████▏| 917/1000 [06:30<00:35,  2.35it/s, loss=0.33] \u001b[A\n",
            "Training:  92%|█████████▏| 918/1000 [06:30<00:34,  2.35it/s, loss=0.33]\u001b[A\n",
            "Training:  92%|█████████▏| 918/1000 [06:30<00:34,  2.35it/s, loss=0.265]\u001b[A\n",
            "Training:  92%|█████████▏| 919/1000 [06:31<00:34,  2.35it/s, loss=0.265]\u001b[A\n",
            "Training:  92%|█████████▏| 919/1000 [06:31<00:34,  2.35it/s, loss=0.364]\u001b[A\n",
            "Training:  92%|█████████▏| 920/1000 [06:31<00:34,  2.35it/s, loss=0.364]\u001b[A\n",
            "Training:  92%|█████████▏| 920/1000 [06:31<00:34,  2.35it/s, loss=0.372]\u001b[A\n",
            "Training:  92%|█████████▏| 921/1000 [06:31<00:33,  2.35it/s, loss=0.372]\u001b[A\n",
            "Training:  92%|█████████▏| 921/1000 [06:31<00:33,  2.35it/s, loss=0.38] \u001b[A\n",
            "Training:  92%|█████████▏| 922/1000 [06:32<00:33,  2.35it/s, loss=0.38]\u001b[A\n",
            "Training:  92%|█████████▏| 922/1000 [06:32<00:33,  2.35it/s, loss=0.379]\u001b[A\n",
            "Training:  92%|█████████▏| 923/1000 [06:32<00:32,  2.35it/s, loss=0.379]\u001b[A\n",
            "Training:  92%|█████████▏| 923/1000 [06:32<00:32,  2.35it/s, loss=0.279]\u001b[A\n",
            "Training:  92%|█████████▏| 924/1000 [06:33<00:32,  2.35it/s, loss=0.279]\u001b[A\n",
            "Training:  92%|█████████▏| 924/1000 [06:33<00:32,  2.35it/s, loss=0.445]\u001b[A\n",
            "Training:  92%|█████████▎| 925/1000 [06:33<00:31,  2.35it/s, loss=0.445]\u001b[A\n",
            "Training:  92%|█████████▎| 925/1000 [06:33<00:31,  2.35it/s, loss=0.362]\u001b[A\n",
            "Training:  93%|█████████▎| 926/1000 [06:34<00:31,  2.35it/s, loss=0.362]\u001b[A\n",
            "Training:  93%|█████████▎| 926/1000 [06:34<00:31,  2.35it/s, loss=0.359]\u001b[A\n",
            "Training:  93%|█████████▎| 927/1000 [06:34<00:31,  2.35it/s, loss=0.359]\u001b[A\n",
            "Training:  93%|█████████▎| 927/1000 [06:34<00:31,  2.35it/s, loss=0.291]\u001b[A\n",
            "Training:  93%|█████████▎| 928/1000 [06:34<00:30,  2.35it/s, loss=0.291]\u001b[A\n",
            "Training:  93%|█████████▎| 928/1000 [06:34<00:30,  2.35it/s, loss=0.271]\u001b[A\n",
            "Training:  93%|█████████▎| 929/1000 [06:35<00:30,  2.35it/s, loss=0.271]\u001b[A\n",
            "Training:  93%|█████████▎| 929/1000 [06:35<00:30,  2.35it/s, loss=0.348]\u001b[A\n",
            "Training:  93%|█████████▎| 930/1000 [06:35<00:29,  2.35it/s, loss=0.348]\u001b[A\n",
            "Training:  93%|█████████▎| 930/1000 [06:35<00:29,  2.35it/s, loss=0.211]\u001b[A\n",
            "Training:  93%|█████████▎| 931/1000 [06:36<00:29,  2.35it/s, loss=0.211]\u001b[A\n",
            "Training:  93%|█████████▎| 931/1000 [06:36<00:29,  2.35it/s, loss=0.455]\u001b[A\n",
            "Training:  93%|█████████▎| 932/1000 [06:36<00:28,  2.35it/s, loss=0.455]\u001b[A\n",
            "Training:  93%|█████████▎| 932/1000 [06:36<00:28,  2.35it/s, loss=0.395]\u001b[A\n",
            "Training:  93%|█████████▎| 933/1000 [06:37<00:28,  2.35it/s, loss=0.395]\u001b[A\n",
            "Training:  93%|█████████▎| 933/1000 [06:37<00:28,  2.35it/s, loss=0.379]\u001b[A\n",
            "Training:  93%|█████████▎| 934/1000 [06:37<00:28,  2.35it/s, loss=0.379]\u001b[A\n",
            "Training:  93%|█████████▎| 934/1000 [06:37<00:28,  2.35it/s, loss=0.401]\u001b[A\n",
            "Training:  94%|█████████▎| 935/1000 [06:37<00:27,  2.35it/s, loss=0.401]\u001b[A\n",
            "Training:  94%|█████████▎| 935/1000 [06:37<00:27,  2.35it/s, loss=0.327]\u001b[A\n",
            "Training:  94%|█████████▎| 936/1000 [06:38<00:27,  2.35it/s, loss=0.327]\u001b[A\n",
            "Training:  94%|█████████▎| 936/1000 [06:38<00:27,  2.35it/s, loss=0.434]\u001b[A\n",
            "Training:  94%|█████████▎| 937/1000 [06:38<00:26,  2.35it/s, loss=0.434]\u001b[A\n",
            "Training:  94%|█████████▎| 937/1000 [06:38<00:26,  2.35it/s, loss=0.276]\u001b[A\n",
            "Training:  94%|█████████▍| 938/1000 [06:39<00:26,  2.35it/s, loss=0.276]\u001b[A\n",
            "Training:  94%|█████████▍| 938/1000 [06:39<00:26,  2.35it/s, loss=0.44] \u001b[A\n",
            "Training:  94%|█████████▍| 939/1000 [06:39<00:25,  2.35it/s, loss=0.44]\u001b[A\n",
            "Training:  94%|█████████▍| 939/1000 [06:39<00:25,  2.35it/s, loss=0.351]\u001b[A\n",
            "Training:  94%|█████████▍| 940/1000 [06:40<00:25,  2.35it/s, loss=0.351]\u001b[A\n",
            "Training:  94%|█████████▍| 940/1000 [06:40<00:25,  2.35it/s, loss=0.559]\u001b[A\n",
            "Training:  94%|█████████▍| 941/1000 [06:40<00:25,  2.35it/s, loss=0.559]\u001b[A\n",
            "Training:  94%|█████████▍| 941/1000 [06:40<00:25,  2.35it/s, loss=0.411]\u001b[A\n",
            "Training:  94%|█████████▍| 942/1000 [06:40<00:24,  2.35it/s, loss=0.411]\u001b[A\n",
            "Training:  94%|█████████▍| 942/1000 [06:40<00:24,  2.35it/s, loss=0.381]\u001b[A\n",
            "Training:  94%|█████████▍| 943/1000 [06:41<00:24,  2.35it/s, loss=0.381]\u001b[A\n",
            "Training:  94%|█████████▍| 943/1000 [06:41<00:24,  2.35it/s, loss=0.31] \u001b[A\n",
            "Training:  94%|█████████▍| 944/1000 [06:41<00:23,  2.35it/s, loss=0.31]\u001b[A\n",
            "Training:  94%|█████████▍| 944/1000 [06:41<00:23,  2.35it/s, loss=0.407]\u001b[A\n",
            "Training:  94%|█████████▍| 945/1000 [06:42<00:23,  2.35it/s, loss=0.407]\u001b[A\n",
            "Training:  94%|█████████▍| 945/1000 [06:42<00:23,  2.35it/s, loss=0.422]\u001b[A\n",
            "Training:  95%|█████████▍| 946/1000 [06:42<00:22,  2.35it/s, loss=0.422]\u001b[A\n",
            "Training:  95%|█████████▍| 946/1000 [06:42<00:22,  2.35it/s, loss=0.365]\u001b[A\n",
            "Training:  95%|█████████▍| 947/1000 [06:42<00:22,  2.35it/s, loss=0.365]\u001b[A\n",
            "Training:  95%|█████████▍| 947/1000 [06:42<00:22,  2.35it/s, loss=0.315]\u001b[A\n",
            "Training:  95%|█████████▍| 948/1000 [06:43<00:22,  2.35it/s, loss=0.315]\u001b[A\n",
            "Training:  95%|█████████▍| 948/1000 [06:43<00:22,  2.35it/s, loss=0.45] \u001b[A\n",
            "Training:  95%|█████████▍| 949/1000 [06:43<00:21,  2.35it/s, loss=0.45]\u001b[A\n",
            "Training:  95%|█████████▍| 949/1000 [06:43<00:21,  2.35it/s, loss=0.455]\u001b[A\n",
            "Training:  95%|█████████▌| 950/1000 [06:44<00:21,  2.35it/s, loss=0.455]\u001b[A\n",
            "\n",
            "Training:  76%|███████▌  | 2278/3000 [22:48<05:03,  2.38it/s, loss=0.32]\n",
            "Training:  95%|█████████▌| 950/1000 [06:44<00:21,  2.35it/s, loss=0.351]\u001b[A"
          ]
        },
        {
          "output_type": "stream",
          "name": "stdout",
          "text": [
            "Step 950: loss = 0.3510\n"
          ]
        },
        {
          "output_type": "stream",
          "name": "stderr",
          "text": [
            "\n",
            "Training:  95%|█████████▌| 951/1000 [06:44<00:20,  2.34it/s, loss=0.351]\u001b[A\n",
            "Training:  95%|█████████▌| 951/1000 [06:44<00:20,  2.34it/s, loss=0.43] \u001b[A\n",
            "Training:  95%|█████████▌| 952/1000 [06:45<00:20,  2.34it/s, loss=0.43]\u001b[A\n",
            "Training:  95%|█████████▌| 952/1000 [06:45<00:20,  2.34it/s, loss=0.372]\u001b[A\n",
            "Training:  95%|█████████▌| 953/1000 [06:45<00:20,  2.34it/s, loss=0.372]\u001b[A\n",
            "Training:  95%|█████████▌| 953/1000 [06:45<00:20,  2.34it/s, loss=0.301]\u001b[A\n",
            "Training:  95%|█████████▌| 954/1000 [06:45<00:19,  2.35it/s, loss=0.301]\u001b[A\n",
            "Training:  95%|█████████▌| 954/1000 [06:45<00:19,  2.35it/s, loss=0.365]\u001b[A\n",
            "Training:  96%|█████████▌| 955/1000 [06:46<00:19,  2.35it/s, loss=0.365]\u001b[A\n",
            "Training:  96%|█████████▌| 955/1000 [06:46<00:19,  2.35it/s, loss=0.327]\u001b[A\n",
            "Training:  96%|█████████▌| 956/1000 [06:46<00:18,  2.35it/s, loss=0.327]\u001b[A\n",
            "Training:  96%|█████████▌| 956/1000 [06:46<00:18,  2.35it/s, loss=0.317]\u001b[A\n",
            "Training:  96%|█████████▌| 957/1000 [06:47<00:18,  2.35it/s, loss=0.317]\u001b[A\n",
            "Training:  96%|█████████▌| 957/1000 [06:47<00:18,  2.35it/s, loss=0.41] \u001b[A\n",
            "Training:  96%|█████████▌| 958/1000 [06:47<00:17,  2.35it/s, loss=0.41]\u001b[A\n",
            "Training:  96%|█████████▌| 958/1000 [06:47<00:17,  2.35it/s, loss=0.372]\u001b[A\n",
            "Training:  96%|█████████▌| 959/1000 [06:48<00:17,  2.34it/s, loss=0.372]\u001b[A\n",
            "Training:  96%|█████████▌| 959/1000 [06:48<00:17,  2.34it/s, loss=0.389]\u001b[A\n",
            "Training:  96%|█████████▌| 960/1000 [06:48<00:17,  2.35it/s, loss=0.389]\u001b[A\n",
            "Training:  96%|█████████▌| 960/1000 [06:48<00:17,  2.35it/s, loss=0.398]\u001b[A\n",
            "Training:  96%|█████████▌| 961/1000 [06:48<00:16,  2.35it/s, loss=0.398]\u001b[A\n",
            "Training:  96%|█████████▌| 961/1000 [06:48<00:16,  2.35it/s, loss=0.383]\u001b[A\n",
            "Training:  96%|█████████▌| 962/1000 [06:49<00:16,  2.35it/s, loss=0.383]\u001b[A\n",
            "Training:  96%|█████████▌| 962/1000 [06:49<00:16,  2.35it/s, loss=0.346]\u001b[A\n",
            "Training:  96%|█████████▋| 963/1000 [06:49<00:15,  2.35it/s, loss=0.346]\u001b[A\n",
            "Training:  96%|█████████▋| 963/1000 [06:49<00:15,  2.35it/s, loss=0.254]\u001b[A\n",
            "Training:  96%|█████████▋| 964/1000 [06:50<00:15,  2.35it/s, loss=0.254]\u001b[A\n",
            "Training:  96%|█████████▋| 964/1000 [06:50<00:15,  2.35it/s, loss=0.275]\u001b[A\n",
            "Training:  96%|█████████▋| 965/1000 [06:50<00:14,  2.35it/s, loss=0.275]\u001b[A\n",
            "Training:  96%|█████████▋| 965/1000 [06:50<00:14,  2.35it/s, loss=0.393]\u001b[A\n",
            "Training:  97%|█████████▋| 966/1000 [06:51<00:14,  2.35it/s, loss=0.393]\u001b[A\n",
            "Training:  97%|█████████▋| 966/1000 [06:51<00:14,  2.35it/s, loss=0.336]\u001b[A\n",
            "Training:  97%|█████████▋| 967/1000 [06:51<00:14,  2.35it/s, loss=0.336]\u001b[A\n",
            "Training:  97%|█████████▋| 967/1000 [06:51<00:14,  2.35it/s, loss=0.357]\u001b[A\n",
            "Training:  97%|█████████▋| 968/1000 [06:51<00:13,  2.35it/s, loss=0.357]\u001b[A\n",
            "Training:  97%|█████████▋| 968/1000 [06:51<00:13,  2.35it/s, loss=0.442]\u001b[A\n",
            "Training:  97%|█████████▋| 969/1000 [06:52<00:13,  2.35it/s, loss=0.442]\u001b[A\n",
            "Training:  97%|█████████▋| 969/1000 [06:52<00:13,  2.35it/s, loss=0.324]\u001b[A\n",
            "Training:  97%|█████████▋| 970/1000 [06:52<00:12,  2.35it/s, loss=0.324]\u001b[A\n",
            "Training:  97%|█████████▋| 970/1000 [06:52<00:12,  2.35it/s, loss=0.348]\u001b[A\n",
            "Training:  97%|█████████▋| 971/1000 [06:53<00:12,  2.35it/s, loss=0.348]\u001b[A\n",
            "Training:  97%|█████████▋| 971/1000 [06:53<00:12,  2.35it/s, loss=0.328]\u001b[A\n",
            "Training:  97%|█████████▋| 972/1000 [06:53<00:11,  2.35it/s, loss=0.328]\u001b[A\n",
            "Training:  97%|█████████▋| 972/1000 [06:53<00:11,  2.35it/s, loss=0.322]\u001b[A\n",
            "Training:  97%|█████████▋| 973/1000 [06:54<00:11,  2.35it/s, loss=0.322]\u001b[A\n",
            "Training:  97%|█████████▋| 973/1000 [06:54<00:11,  2.35it/s, loss=0.387]\u001b[A\n",
            "Training:  97%|█████████▋| 974/1000 [06:54<00:11,  2.35it/s, loss=0.387]\u001b[A\n",
            "Training:  97%|█████████▋| 974/1000 [06:54<00:11,  2.35it/s, loss=0.349]\u001b[A\n",
            "Training:  98%|█████████▊| 975/1000 [06:54<00:10,  2.35it/s, loss=0.349]\u001b[A\n",
            "Training:  98%|█████████▊| 975/1000 [06:54<00:10,  2.35it/s, loss=0.382]\u001b[A\n",
            "Training:  98%|█████████▊| 976/1000 [06:55<00:10,  2.35it/s, loss=0.382]\u001b[A\n",
            "Training:  98%|█████████▊| 976/1000 [06:55<00:10,  2.35it/s, loss=0.376]\u001b[A\n",
            "Training:  98%|█████████▊| 977/1000 [06:55<00:09,  2.35it/s, loss=0.376]\u001b[A\n",
            "Training:  98%|█████████▊| 977/1000 [06:55<00:09,  2.35it/s, loss=0.336]\u001b[A\n",
            "Training:  98%|█████████▊| 978/1000 [06:56<00:09,  2.35it/s, loss=0.336]\u001b[A\n",
            "Training:  98%|█████████▊| 978/1000 [06:56<00:09,  2.35it/s, loss=0.333]\u001b[A\n",
            "Training:  98%|█████████▊| 979/1000 [06:56<00:08,  2.35it/s, loss=0.333]\u001b[A\n",
            "Training:  98%|█████████▊| 979/1000 [06:56<00:08,  2.35it/s, loss=0.313]\u001b[A\n",
            "Training:  98%|█████████▊| 980/1000 [06:57<00:08,  2.35it/s, loss=0.313]\u001b[A\n",
            "Training:  98%|█████████▊| 980/1000 [06:57<00:08,  2.35it/s, loss=0.422]\u001b[A\n",
            "Training:  98%|█████████▊| 981/1000 [06:57<00:08,  2.35it/s, loss=0.422]\u001b[A\n",
            "Training:  98%|█████████▊| 981/1000 [06:57<00:08,  2.35it/s, loss=0.292]\u001b[A\n",
            "Training:  98%|█████████▊| 982/1000 [06:57<00:07,  2.35it/s, loss=0.292]\u001b[A\n",
            "Training:  98%|█████████▊| 982/1000 [06:57<00:07,  2.35it/s, loss=0.264]\u001b[A\n",
            "Training:  98%|█████████▊| 983/1000 [06:58<00:07,  2.35it/s, loss=0.264]\u001b[A\n",
            "Training:  98%|█████████▊| 983/1000 [06:58<00:07,  2.35it/s, loss=0.343]\u001b[A\n",
            "Training:  98%|█████████▊| 984/1000 [06:58<00:06,  2.35it/s, loss=0.343]\u001b[A\n",
            "Training:  98%|█████████▊| 984/1000 [06:58<00:06,  2.35it/s, loss=0.415]\u001b[A\n",
            "Training:  98%|█████████▊| 985/1000 [06:59<00:06,  2.35it/s, loss=0.415]\u001b[A\n",
            "Training:  98%|█████████▊| 985/1000 [06:59<00:06,  2.35it/s, loss=0.323]\u001b[A\n",
            "Training:  99%|█████████▊| 986/1000 [06:59<00:05,  2.35it/s, loss=0.323]\u001b[A\n",
            "Training:  99%|█████████▊| 986/1000 [06:59<00:05,  2.35it/s, loss=0.393]\u001b[A\n",
            "Training:  99%|█████████▊| 987/1000 [07:00<00:05,  2.35it/s, loss=0.393]\u001b[A\n",
            "Training:  99%|█████████▊| 987/1000 [07:00<00:05,  2.35it/s, loss=0.317]\u001b[A\n",
            "Training:  99%|█████████▉| 988/1000 [07:00<00:05,  2.35it/s, loss=0.317]\u001b[A\n",
            "Training:  99%|█████████▉| 988/1000 [07:00<00:05,  2.35it/s, loss=0.388]\u001b[A\n",
            "Training:  99%|█████████▉| 989/1000 [07:00<00:04,  2.35it/s, loss=0.388]\u001b[A\n",
            "Training:  99%|█████████▉| 989/1000 [07:00<00:04,  2.35it/s, loss=0.373]\u001b[A\n",
            "Training:  99%|█████████▉| 990/1000 [07:01<00:04,  2.35it/s, loss=0.373]\u001b[A\n",
            "Training:  99%|█████████▉| 990/1000 [07:01<00:04,  2.35it/s, loss=0.339]\u001b[A\n",
            "Training:  99%|█████████▉| 991/1000 [07:01<00:03,  2.35it/s, loss=0.339]\u001b[A\n",
            "Training:  99%|█████████▉| 991/1000 [07:01<00:03,  2.35it/s, loss=0.417]\u001b[A\n",
            "Training:  99%|█████████▉| 992/1000 [07:02<00:03,  2.35it/s, loss=0.417]\u001b[A\n",
            "Training:  99%|█████████▉| 992/1000 [07:02<00:03,  2.35it/s, loss=0.324]\u001b[A\n",
            "Training:  99%|█████████▉| 993/1000 [07:02<00:02,  2.35it/s, loss=0.324]\u001b[A\n",
            "Training:  99%|█████████▉| 993/1000 [07:02<00:02,  2.35it/s, loss=0.353]\u001b[A\n",
            "Training:  99%|█████████▉| 994/1000 [07:02<00:02,  2.35it/s, loss=0.353]\u001b[A\n",
            "Training:  99%|█████████▉| 994/1000 [07:02<00:02,  2.35it/s, loss=0.329]\u001b[A\n",
            "Training: 100%|█████████▉| 995/1000 [07:03<00:02,  2.35it/s, loss=0.329]\u001b[A\n",
            "Training: 100%|█████████▉| 995/1000 [07:03<00:02,  2.35it/s, loss=0.325]\u001b[A\n",
            "Training: 100%|█████████▉| 996/1000 [07:03<00:01,  2.35it/s, loss=0.325]\u001b[A\n",
            "Training: 100%|█████████▉| 996/1000 [07:03<00:01,  2.35it/s, loss=0.278]\u001b[A\n",
            "Training: 100%|█████████▉| 997/1000 [07:04<00:01,  2.35it/s, loss=0.278]\u001b[A\n",
            "Training: 100%|█████████▉| 997/1000 [07:04<00:01,  2.35it/s, loss=0.37] \u001b[A\n",
            "Training: 100%|█████████▉| 998/1000 [07:04<00:00,  2.35it/s, loss=0.37]\u001b[A\n",
            "Training: 100%|█████████▉| 998/1000 [07:04<00:00,  2.35it/s, loss=0.416]\u001b[A\n",
            "Training: 100%|█████████▉| 999/1000 [07:05<00:00,  2.35it/s, loss=0.416]\u001b[A\n",
            "Training: 100%|█████████▉| 999/1000 [07:05<00:00,  2.35it/s, loss=0.415]\u001b[A\n",
            "Training: 100%|██████████| 1000/1000 [07:05<00:00,  2.35it/s, loss=0.415]\u001b[A\n",
            "\n",
            "Training:  76%|███████▌  | 2278/3000 [23:09<05:03,  2.38it/s, loss=0.32]\n",
            "Training: 100%|██████████| 1000/1000 [07:05<00:00,  2.35it/s, loss=0.355]"
          ]
        },
        {
          "output_type": "stream",
          "name": "stdout",
          "text": [
            "Step 1000: loss = 0.3547\n"
          ]
        },
        {
          "output_type": "stream",
          "name": "stderr",
          "text": [
            "\n"
          ]
        },
        {
          "output_type": "display_data",
          "data": {
            "text/plain": [
              "<IPython.core.display.HTML object>"
            ],
            "text/html": []
          },
          "metadata": {}
        },
        {
          "output_type": "display_data",
          "data": {
            "text/plain": [
              "<IPython.core.display.HTML object>"
            ],
            "text/html": [
              "<br>    <style><br>        .wandb-row {<br>            display: flex;<br>            flex-direction: row;<br>            flex-wrap: wrap;<br>            justify-content: flex-start;<br>            width: 100%;<br>        }<br>        .wandb-col {<br>            display: flex;<br>            flex-direction: column;<br>            flex-basis: 100%;<br>            flex: 1;<br>            padding: 10px;<br>        }<br>    </style><br><div class=\"wandb-row\"><div class=\"wandb-col\"><h3>Run history:</h3><br/><table class=\"wandb\"><tr><td>loss</td><td>█▇▅▆▄▆▄▄▄▄▄▄▄▃▃▄▄▃▁▃▄▃▅▄▃▄▃▃▂▃▃▂▃▄▂▃▃▂▃▂</td></tr><tr><td>step</td><td>▁▁▁▂▂▂▂▃▃▃▃▃▃▄▄▄▄▄▄▄▄▅▅▅▅▅▆▆▆▆▆▇▇▇▇▇▇███</td></tr></table><br/></div><div class=\"wandb-col\"><h3>Run summary:</h3><br/><table class=\"wandb\"><tr><td>loss</td><td>0.35471</td></tr><tr><td>step</td><td>999</td></tr></table><br/></div></div>"
            ]
          },
          "metadata": {}
        },
        {
          "output_type": "display_data",
          "data": {
            "text/plain": [
              "<IPython.core.display.HTML object>"
            ],
            "text/html": [
              " View run <strong style=\"color:#cdcd00\">rank2_lr1e-4_train_2</strong> at: <a href='https://wandb.ai/liuyihao649-university-of-cambridge/m2-lora-grid-search/runs/irbb77mc' target=\"_blank\">https://wandb.ai/liuyihao649-university-of-cambridge/m2-lora-grid-search/runs/irbb77mc</a><br> View project at: <a href='https://wandb.ai/liuyihao649-university-of-cambridge/m2-lora-grid-search' target=\"_blank\">https://wandb.ai/liuyihao649-university-of-cambridge/m2-lora-grid-search</a><br>Synced 5 W&B file(s), 1 media file(s), 0 artifact file(s) and 0 other file(s)"
            ]
          },
          "metadata": {}
        },
        {
          "output_type": "display_data",
          "data": {
            "text/plain": [
              "<IPython.core.display.HTML object>"
            ],
            "text/html": [
              "Find logs at: <code>./wandb/run-20250330_003319-irbb77mc/logs</code>"
            ]
          },
          "metadata": {}
        },
        {
          "output_type": "display_data",
          "data": {
            "text/plain": [
              "<IPython.core.display.HTML object>"
            ],
            "text/html": [
              "Tracking run with wandb version 0.19.8"
            ]
          },
          "metadata": {}
        },
        {
          "output_type": "display_data",
          "data": {
            "text/plain": [
              "<IPython.core.display.HTML object>"
            ],
            "text/html": [
              "Run data is saved locally in <code>/content/drive/MyDrive/m2cw/wandb/run-20250330_004028-g3y1x6t9</code>"
            ]
          },
          "metadata": {}
        },
        {
          "output_type": "display_data",
          "data": {
            "text/plain": [
              "<IPython.core.display.HTML object>"
            ],
            "text/html": [
              "Syncing run <strong><a href='https://wandb.ai/liuyihao649-university-of-cambridge/m2-lora-grid-search/runs/g3y1x6t9' target=\"_blank\">rank2_lr1e-4_evaluation</a></strong> to <a href='https://wandb.ai/liuyihao649-university-of-cambridge/m2-lora-grid-search' target=\"_blank\">Weights & Biases</a> (<a href='https://wandb.me/developer-guide' target=\"_blank\">docs</a>)<br>"
            ]
          },
          "metadata": {}
        },
        {
          "output_type": "display_data",
          "data": {
            "text/plain": [
              "<IPython.core.display.HTML object>"
            ],
            "text/html": [
              " View project at <a href='https://wandb.ai/liuyihao649-university-of-cambridge/m2-lora-grid-search' target=\"_blank\">https://wandb.ai/liuyihao649-university-of-cambridge/m2-lora-grid-search</a>"
            ]
          },
          "metadata": {}
        },
        {
          "output_type": "display_data",
          "data": {
            "text/plain": [
              "<IPython.core.display.HTML object>"
            ],
            "text/html": [
              " View run at <a href='https://wandb.ai/liuyihao649-university-of-cambridge/m2-lora-grid-search/runs/g3y1x6t9' target=\"_blank\">https://wandb.ai/liuyihao649-university-of-cambridge/m2-lora-grid-search/runs/g3y1x6t9</a>"
            ]
          },
          "metadata": {}
        },
        {
          "output_type": "stream",
          "name": "stderr",
          "text": [
            "/usr/local/lib/python3.11/dist-packages/transformers/generation/configuration_utils.py:628: UserWarning: `do_sample` is set to `False`. However, `temperature` is set to `0.7` -- this flag is only used in sample-based generation modes. You should set `do_sample=True` or unset `temperature`.\n",
            "  warnings.warn(\n",
            "/usr/local/lib/python3.11/dist-packages/transformers/generation/configuration_utils.py:633: UserWarning: `do_sample` is set to `False`. However, `top_p` is set to `0.8` -- this flag is only used in sample-based generation modes. You should set `do_sample=True` or unset `top_p`.\n",
            "  warnings.warn(\n",
            "/usr/local/lib/python3.11/dist-packages/transformers/generation/configuration_utils.py:650: UserWarning: `do_sample` is set to `False`. However, `top_k` is set to `20` -- this flag is only used in sample-based generation modes. You should set `do_sample=True` or unset `top_k`.\n",
            "  warnings.warn(\n",
            "\u001b[34m\u001b[1mwandb\u001b[0m: \u001b[33mWARNING\u001b[0m Tried to log to step 1 that is less than the current step 2. Steps must be monotonically increasing, so this data will be ignored. See https://wandb.me/define-metric to log data out of order.\n",
            "\u001b[34m\u001b[1mwandb\u001b[0m: \u001b[33mWARNING\u001b[0m Tried to log to step 2 that is less than the current step 4. Steps must be monotonically increasing, so this data will be ignored. See https://wandb.me/define-metric to log data out of order.\n",
            "\u001b[34m\u001b[1mwandb\u001b[0m: \u001b[33mWARNING\u001b[0m Tried to log to step 3 that is less than the current step 6. Steps must be monotonically increasing, so this data will be ignored. See https://wandb.me/define-metric to log data out of order.\n",
            "\u001b[34m\u001b[1mwandb\u001b[0m: \u001b[33mWARNING\u001b[0m Tried to log to step 4 that is less than the current step 8. Steps must be monotonically increasing, so this data will be ignored. See https://wandb.me/define-metric to log data out of order.\n",
            "\u001b[34m\u001b[1mwandb\u001b[0m: \u001b[33mWARNING\u001b[0m Tried to log to step 5 that is less than the current step 10. Steps must be monotonically increasing, so this data will be ignored. See https://wandb.me/define-metric to log data out of order.\n",
            "\u001b[34m\u001b[1mwandb\u001b[0m: \u001b[33mWARNING\u001b[0m Tried to log to step 6 that is less than the current step 12. Steps must be monotonically increasing, so this data will be ignored. See https://wandb.me/define-metric to log data out of order.\n",
            "\u001b[34m\u001b[1mwandb\u001b[0m: \u001b[33mWARNING\u001b[0m Tried to log to step 7 that is less than the current step 14. Steps must be monotonically increasing, so this data will be ignored. See https://wandb.me/define-metric to log data out of order.\n"
          ]
        },
        {
          "output_type": "stream",
          "name": "stdout",
          "text": [
            "rank8,lr0.0001,evalaution results:\n",
            "Average Cross-Entropy Loss: 1.5033\n",
            "Average MSE (Forecast):  0.0103\n"
          ]
        }
      ]
    },
    {
      "cell_type": "code",
      "source": [],
      "metadata": {
        "id": "4g6f4bMod6AC"
      },
      "execution_count": null,
      "outputs": []
    }
  ]
}